{
  "cells": [
    {
      "cell_type": "markdown",
      "metadata": {
        "id": "view-in-github",
        "colab_type": "text"
      },
      "source": [
        "<a href=\"https://colab.research.google.com/github/AnweshaC21/Air-quality-analysis-and-forecasting/blob/main/Hourly_PM2.5_forecasting.ipynb\" target=\"_parent\"><img src=\"https://colab.research.google.com/assets/colab-badge.svg\" alt=\"Open In Colab\"/></a>"
      ]
    },
    {
      "cell_type": "markdown",
      "metadata": {
        "id": "lT3dFGXlXZK7"
      },
      "source": [
        "#Data Processing (aqi)"
      ]
    },
    {
      "cell_type": "code",
      "execution_count": null,
      "metadata": {
        "id": "H3Omp6OFKLpr"
      },
      "outputs": [],
      "source": [
        "import pandas as pd\n",
        "import numpy as np\n",
        "import time\n",
        "import datetime\n",
        "import matplotlib.pyplot as plt\n",
        "%matplotlib notebook"
      ]
    },
    {
      "cell_type": "code",
      "execution_count": null,
      "metadata": {
        "colab": {
          "base_uri": "https://localhost:8080/",
          "height": 891,
          "resources": {
            "http://localhost:8080/nbextensions/google.colab/files.js": {
              "data": "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",
              "headers": [
                [
                  "content-type",
                  "application/javascript"
                ]
              ],
              "ok": true,
              "status": 200,
              "status_text": ""
            }
          }
        },
        "id": "qPG08_fKYjgS",
        "outputId": "df8d88a6-887a-4d44-f384-a2c9855f4d82"
      },
      "outputs": [
        {
          "output_type": "display_data",
          "data": {
            "text/plain": [
              "<IPython.core.display.HTML object>"
            ],
            "text/html": [
              "\n",
              "     <input type=\"file\" id=\"files-40f1f065-f894-401b-bbdd-bac981c0bfe3\" name=\"files[]\" multiple disabled\n",
              "        style=\"border:none\" />\n",
              "     <output id=\"result-40f1f065-f894-401b-bbdd-bac981c0bfe3\">\n",
              "      Upload widget is only available when the cell has been executed in the\n",
              "      current browser session. Please rerun this cell to enable.\n",
              "      </output>\n",
              "      <script src=\"/nbextensions/google.colab/files.js\"></script> "
            ]
          },
          "metadata": {}
        },
        {
          "output_type": "stream",
          "name": "stdout",
          "text": [
            "Saving aqi_all.csv to aqi_all.csv\n"
          ]
        },
        {
          "output_type": "execute_result",
          "data": {
            "text/plain": [
              "             Unnamed: 0        Unnamed: 1      Alipur      AnandVihar  \\\n",
              "0             From Date           To Date  aqi_Alipur  aqi_AnandVihar   \n",
              "1      01-01-2019 00:00  01-01-2019 01:00       361.5          517.25   \n",
              "2      01-01-2019 01:00  01-01-2019 02:00         348          531.25   \n",
              "3      01-01-2019 02:00  01-01-2019 03:00         298             542   \n",
              "4      01-01-2019 03:00  01-01-2019 04:00       276.5           547.5   \n",
              "...                 ...               ...         ...             ...   \n",
              "17540  31-12-2020 19:00  31-12-2020 20:00       342.5          304.75   \n",
              "17541  31-12-2020 20:00  31-12-2020 21:00       354.5          324.75   \n",
              "17542  31-12-2020 21:00  31-12-2020 22:00         402           361.5   \n",
              "17543  31-12-2020 22:00  31-12-2020 23:00       454.5             415   \n",
              "17544  31-12-2020 23:00  31-12-2020 23:59         512             481   \n",
              "\n",
              "           AshokVihar      Bawana      DrKarniShootingRange      DTU  \\\n",
              "0      aqi_AshokVihar  aqi_Bawana  aqi_DrKarniShootingRange  aqi_DTU   \n",
              "1              408.25         128                       360      349   \n",
              "2              466.75         138                       312   374.75   \n",
              "3                 496         123                       291      383   \n",
              "4              467.25         125                       287   337.75   \n",
              "...               ...         ...                       ...      ...   \n",
              "17540             351         311                    306.75   422.58   \n",
              "17541           415.5         401                    308.75    424.3   \n",
              "17542           448.5         490                    358.25   388.82   \n",
              "17543           494.5         464                    371.75   523.62   \n",
              "17544             564         437                    365.75   607.07   \n",
              "\n",
              "           DwarkaSector8      IHBASDilshadGarden  ...      PunjabiBagh  \\\n",
              "0      aqi_DwarkaSector8  aqi_IHBASDilshadGarden  ...  aqi_PunjabiBagh   \n",
              "1                    486                  330.65  ...           501.25   \n",
              "2                 401.75                  316.53  ...           521.25   \n",
              "3                 333.75                  297.23  ...            538.5   \n",
              "4                 256.75                   279.3  ...           465.25   \n",
              "...                  ...                     ...  ...              ...   \n",
              "17540             268.25                  216.05  ...           348.75   \n",
              "17541                276                  260.95  ...           415.75   \n",
              "17542                339                     260  ...           490.75   \n",
              "17543             353.75                   257.7  ...           532.75   \n",
              "17544             353.25                  297.67  ...           519.75   \n",
              "\n",
              "           Pusa      RKPuram      Rohini      Shadipur      Sirifort  \\\n",
              "0      aqi_Pusa  aqi_RKPuram  aqi_Rohini  aqi_Shadipur  aqi_Sirifort   \n",
              "1        420.25        655.5         406        291.55        432.75   \n",
              "2        475.75        583.5         401        371.05        401.75   \n",
              "3        515.75       435.75         376        468.18        398.75   \n",
              "4        487.25        351.5         340         458.3        364.75   \n",
              "...         ...          ...         ...           ...           ...   \n",
              "17540     341.5        286.5         494        119.07         239.5   \n",
              "17541     329.5          301         563        122.14           242   \n",
              "17542     336.5       357.75       548.5        148.99        300.25   \n",
              "17543       359       386.25       510.5        182.59           302   \n",
              "17544     391.5        425.5       501.5        206.08         297.5   \n",
              "\n",
              "           SoniaVihar      SriAurobindoMarg      VivekVihar      Wazirpur  \n",
              "0      aqi_SoniaVihar  aqi_SriAurobindoMarg  aqi_VivekVihar  aqi_Wazirpur  \n",
              "1                 415                 252.5           347.5           467  \n",
              "2                 533                 289.5             307           483  \n",
              "3                 431                 292.5           288.5         473.5  \n",
              "4                 414                 283.5             294           496  \n",
              "...               ...                   ...             ...           ...  \n",
              "17540          308.75                   250          343.75        221.75  \n",
              "17541          382.25                   259          363.75        269.75  \n",
              "17542             420                281.75           377.5           272  \n",
              "17543           417.5                   313          401.75           301  \n",
              "17544           543.5                282.25             436        318.75  \n",
              "\n",
              "[17545 rows x 30 columns]"
            ],
            "text/html": [
              "\n",
              "  <div id=\"df-653e5ec4-1d17-4824-8a7b-9604ee5c42af\">\n",
              "    <div class=\"colab-df-container\">\n",
              "      <div>\n",
              "<style scoped>\n",
              "    .dataframe tbody tr th:only-of-type {\n",
              "        vertical-align: middle;\n",
              "    }\n",
              "\n",
              "    .dataframe tbody tr th {\n",
              "        vertical-align: top;\n",
              "    }\n",
              "\n",
              "    .dataframe thead th {\n",
              "        text-align: right;\n",
              "    }\n",
              "</style>\n",
              "<table border=\"1\" class=\"dataframe\">\n",
              "  <thead>\n",
              "    <tr style=\"text-align: right;\">\n",
              "      <th></th>\n",
              "      <th>Unnamed: 0</th>\n",
              "      <th>Unnamed: 1</th>\n",
              "      <th>Alipur</th>\n",
              "      <th>AnandVihar</th>\n",
              "      <th>AshokVihar</th>\n",
              "      <th>Bawana</th>\n",
              "      <th>DrKarniShootingRange</th>\n",
              "      <th>DTU</th>\n",
              "      <th>DwarkaSector8</th>\n",
              "      <th>IHBASDilshadGarden</th>\n",
              "      <th>...</th>\n",
              "      <th>PunjabiBagh</th>\n",
              "      <th>Pusa</th>\n",
              "      <th>RKPuram</th>\n",
              "      <th>Rohini</th>\n",
              "      <th>Shadipur</th>\n",
              "      <th>Sirifort</th>\n",
              "      <th>SoniaVihar</th>\n",
              "      <th>SriAurobindoMarg</th>\n",
              "      <th>VivekVihar</th>\n",
              "      <th>Wazirpur</th>\n",
              "    </tr>\n",
              "  </thead>\n",
              "  <tbody>\n",
              "    <tr>\n",
              "      <th>0</th>\n",
              "      <td>From Date</td>\n",
              "      <td>To Date</td>\n",
              "      <td>aqi_Alipur</td>\n",
              "      <td>aqi_AnandVihar</td>\n",
              "      <td>aqi_AshokVihar</td>\n",
              "      <td>aqi_Bawana</td>\n",
              "      <td>aqi_DrKarniShootingRange</td>\n",
              "      <td>aqi_DTU</td>\n",
              "      <td>aqi_DwarkaSector8</td>\n",
              "      <td>aqi_IHBASDilshadGarden</td>\n",
              "      <td>...</td>\n",
              "      <td>aqi_PunjabiBagh</td>\n",
              "      <td>aqi_Pusa</td>\n",
              "      <td>aqi_RKPuram</td>\n",
              "      <td>aqi_Rohini</td>\n",
              "      <td>aqi_Shadipur</td>\n",
              "      <td>aqi_Sirifort</td>\n",
              "      <td>aqi_SoniaVihar</td>\n",
              "      <td>aqi_SriAurobindoMarg</td>\n",
              "      <td>aqi_VivekVihar</td>\n",
              "      <td>aqi_Wazirpur</td>\n",
              "    </tr>\n",
              "    <tr>\n",
              "      <th>1</th>\n",
              "      <td>01-01-2019 00:00</td>\n",
              "      <td>01-01-2019 01:00</td>\n",
              "      <td>361.5</td>\n",
              "      <td>517.25</td>\n",
              "      <td>408.25</td>\n",
              "      <td>128</td>\n",
              "      <td>360</td>\n",
              "      <td>349</td>\n",
              "      <td>486</td>\n",
              "      <td>330.65</td>\n",
              "      <td>...</td>\n",
              "      <td>501.25</td>\n",
              "      <td>420.25</td>\n",
              "      <td>655.5</td>\n",
              "      <td>406</td>\n",
              "      <td>291.55</td>\n",
              "      <td>432.75</td>\n",
              "      <td>415</td>\n",
              "      <td>252.5</td>\n",
              "      <td>347.5</td>\n",
              "      <td>467</td>\n",
              "    </tr>\n",
              "    <tr>\n",
              "      <th>2</th>\n",
              "      <td>01-01-2019 01:00</td>\n",
              "      <td>01-01-2019 02:00</td>\n",
              "      <td>348</td>\n",
              "      <td>531.25</td>\n",
              "      <td>466.75</td>\n",
              "      <td>138</td>\n",
              "      <td>312</td>\n",
              "      <td>374.75</td>\n",
              "      <td>401.75</td>\n",
              "      <td>316.53</td>\n",
              "      <td>...</td>\n",
              "      <td>521.25</td>\n",
              "      <td>475.75</td>\n",
              "      <td>583.5</td>\n",
              "      <td>401</td>\n",
              "      <td>371.05</td>\n",
              "      <td>401.75</td>\n",
              "      <td>533</td>\n",
              "      <td>289.5</td>\n",
              "      <td>307</td>\n",
              "      <td>483</td>\n",
              "    </tr>\n",
              "    <tr>\n",
              "      <th>3</th>\n",
              "      <td>01-01-2019 02:00</td>\n",
              "      <td>01-01-2019 03:00</td>\n",
              "      <td>298</td>\n",
              "      <td>542</td>\n",
              "      <td>496</td>\n",
              "      <td>123</td>\n",
              "      <td>291</td>\n",
              "      <td>383</td>\n",
              "      <td>333.75</td>\n",
              "      <td>297.23</td>\n",
              "      <td>...</td>\n",
              "      <td>538.5</td>\n",
              "      <td>515.75</td>\n",
              "      <td>435.75</td>\n",
              "      <td>376</td>\n",
              "      <td>468.18</td>\n",
              "      <td>398.75</td>\n",
              "      <td>431</td>\n",
              "      <td>292.5</td>\n",
              "      <td>288.5</td>\n",
              "      <td>473.5</td>\n",
              "    </tr>\n",
              "    <tr>\n",
              "      <th>4</th>\n",
              "      <td>01-01-2019 03:00</td>\n",
              "      <td>01-01-2019 04:00</td>\n",
              "      <td>276.5</td>\n",
              "      <td>547.5</td>\n",
              "      <td>467.25</td>\n",
              "      <td>125</td>\n",
              "      <td>287</td>\n",
              "      <td>337.75</td>\n",
              "      <td>256.75</td>\n",
              "      <td>279.3</td>\n",
              "      <td>...</td>\n",
              "      <td>465.25</td>\n",
              "      <td>487.25</td>\n",
              "      <td>351.5</td>\n",
              "      <td>340</td>\n",
              "      <td>458.3</td>\n",
              "      <td>364.75</td>\n",
              "      <td>414</td>\n",
              "      <td>283.5</td>\n",
              "      <td>294</td>\n",
              "      <td>496</td>\n",
              "    </tr>\n",
              "    <tr>\n",
              "      <th>...</th>\n",
              "      <td>...</td>\n",
              "      <td>...</td>\n",
              "      <td>...</td>\n",
              "      <td>...</td>\n",
              "      <td>...</td>\n",
              "      <td>...</td>\n",
              "      <td>...</td>\n",
              "      <td>...</td>\n",
              "      <td>...</td>\n",
              "      <td>...</td>\n",
              "      <td>...</td>\n",
              "      <td>...</td>\n",
              "      <td>...</td>\n",
              "      <td>...</td>\n",
              "      <td>...</td>\n",
              "      <td>...</td>\n",
              "      <td>...</td>\n",
              "      <td>...</td>\n",
              "      <td>...</td>\n",
              "      <td>...</td>\n",
              "      <td>...</td>\n",
              "    </tr>\n",
              "    <tr>\n",
              "      <th>17540</th>\n",
              "      <td>31-12-2020 19:00</td>\n",
              "      <td>31-12-2020 20:00</td>\n",
              "      <td>342.5</td>\n",
              "      <td>304.75</td>\n",
              "      <td>351</td>\n",
              "      <td>311</td>\n",
              "      <td>306.75</td>\n",
              "      <td>422.58</td>\n",
              "      <td>268.25</td>\n",
              "      <td>216.05</td>\n",
              "      <td>...</td>\n",
              "      <td>348.75</td>\n",
              "      <td>341.5</td>\n",
              "      <td>286.5</td>\n",
              "      <td>494</td>\n",
              "      <td>119.07</td>\n",
              "      <td>239.5</td>\n",
              "      <td>308.75</td>\n",
              "      <td>250</td>\n",
              "      <td>343.75</td>\n",
              "      <td>221.75</td>\n",
              "    </tr>\n",
              "    <tr>\n",
              "      <th>17541</th>\n",
              "      <td>31-12-2020 20:00</td>\n",
              "      <td>31-12-2020 21:00</td>\n",
              "      <td>354.5</td>\n",
              "      <td>324.75</td>\n",
              "      <td>415.5</td>\n",
              "      <td>401</td>\n",
              "      <td>308.75</td>\n",
              "      <td>424.3</td>\n",
              "      <td>276</td>\n",
              "      <td>260.95</td>\n",
              "      <td>...</td>\n",
              "      <td>415.75</td>\n",
              "      <td>329.5</td>\n",
              "      <td>301</td>\n",
              "      <td>563</td>\n",
              "      <td>122.14</td>\n",
              "      <td>242</td>\n",
              "      <td>382.25</td>\n",
              "      <td>259</td>\n",
              "      <td>363.75</td>\n",
              "      <td>269.75</td>\n",
              "    </tr>\n",
              "    <tr>\n",
              "      <th>17542</th>\n",
              "      <td>31-12-2020 21:00</td>\n",
              "      <td>31-12-2020 22:00</td>\n",
              "      <td>402</td>\n",
              "      <td>361.5</td>\n",
              "      <td>448.5</td>\n",
              "      <td>490</td>\n",
              "      <td>358.25</td>\n",
              "      <td>388.82</td>\n",
              "      <td>339</td>\n",
              "      <td>260</td>\n",
              "      <td>...</td>\n",
              "      <td>490.75</td>\n",
              "      <td>336.5</td>\n",
              "      <td>357.75</td>\n",
              "      <td>548.5</td>\n",
              "      <td>148.99</td>\n",
              "      <td>300.25</td>\n",
              "      <td>420</td>\n",
              "      <td>281.75</td>\n",
              "      <td>377.5</td>\n",
              "      <td>272</td>\n",
              "    </tr>\n",
              "    <tr>\n",
              "      <th>17543</th>\n",
              "      <td>31-12-2020 22:00</td>\n",
              "      <td>31-12-2020 23:00</td>\n",
              "      <td>454.5</td>\n",
              "      <td>415</td>\n",
              "      <td>494.5</td>\n",
              "      <td>464</td>\n",
              "      <td>371.75</td>\n",
              "      <td>523.62</td>\n",
              "      <td>353.75</td>\n",
              "      <td>257.7</td>\n",
              "      <td>...</td>\n",
              "      <td>532.75</td>\n",
              "      <td>359</td>\n",
              "      <td>386.25</td>\n",
              "      <td>510.5</td>\n",
              "      <td>182.59</td>\n",
              "      <td>302</td>\n",
              "      <td>417.5</td>\n",
              "      <td>313</td>\n",
              "      <td>401.75</td>\n",
              "      <td>301</td>\n",
              "    </tr>\n",
              "    <tr>\n",
              "      <th>17544</th>\n",
              "      <td>31-12-2020 23:00</td>\n",
              "      <td>31-12-2020 23:59</td>\n",
              "      <td>512</td>\n",
              "      <td>481</td>\n",
              "      <td>564</td>\n",
              "      <td>437</td>\n",
              "      <td>365.75</td>\n",
              "      <td>607.07</td>\n",
              "      <td>353.25</td>\n",
              "      <td>297.67</td>\n",
              "      <td>...</td>\n",
              "      <td>519.75</td>\n",
              "      <td>391.5</td>\n",
              "      <td>425.5</td>\n",
              "      <td>501.5</td>\n",
              "      <td>206.08</td>\n",
              "      <td>297.5</td>\n",
              "      <td>543.5</td>\n",
              "      <td>282.25</td>\n",
              "      <td>436</td>\n",
              "      <td>318.75</td>\n",
              "    </tr>\n",
              "  </tbody>\n",
              "</table>\n",
              "<p>17545 rows × 30 columns</p>\n",
              "</div>\n",
              "      <button class=\"colab-df-convert\" onclick=\"convertToInteractive('df-653e5ec4-1d17-4824-8a7b-9604ee5c42af')\"\n",
              "              title=\"Convert this dataframe to an interactive table.\"\n",
              "              style=\"display:none;\">\n",
              "        \n",
              "  <svg xmlns=\"http://www.w3.org/2000/svg\" height=\"24px\"viewBox=\"0 0 24 24\"\n",
              "       width=\"24px\">\n",
              "    <path d=\"M0 0h24v24H0V0z\" fill=\"none\"/>\n",
              "    <path d=\"M18.56 5.44l.94 2.06.94-2.06 2.06-.94-2.06-.94-.94-2.06-.94 2.06-2.06.94zm-11 1L8.5 8.5l.94-2.06 2.06-.94-2.06-.94L8.5 2.5l-.94 2.06-2.06.94zm10 10l.94 2.06.94-2.06 2.06-.94-2.06-.94-.94-2.06-.94 2.06-2.06.94z\"/><path d=\"M17.41 7.96l-1.37-1.37c-.4-.4-.92-.59-1.43-.59-.52 0-1.04.2-1.43.59L10.3 9.45l-7.72 7.72c-.78.78-.78 2.05 0 2.83L4 21.41c.39.39.9.59 1.41.59.51 0 1.02-.2 1.41-.59l7.78-7.78 2.81-2.81c.8-.78.8-2.07 0-2.86zM5.41 20L4 18.59l7.72-7.72 1.47 1.35L5.41 20z\"/>\n",
              "  </svg>\n",
              "      </button>\n",
              "      \n",
              "  <style>\n",
              "    .colab-df-container {\n",
              "      display:flex;\n",
              "      flex-wrap:wrap;\n",
              "      gap: 12px;\n",
              "    }\n",
              "\n",
              "    .colab-df-convert {\n",
              "      background-color: #E8F0FE;\n",
              "      border: none;\n",
              "      border-radius: 50%;\n",
              "      cursor: pointer;\n",
              "      display: none;\n",
              "      fill: #1967D2;\n",
              "      height: 32px;\n",
              "      padding: 0 0 0 0;\n",
              "      width: 32px;\n",
              "    }\n",
              "\n",
              "    .colab-df-convert:hover {\n",
              "      background-color: #E2EBFA;\n",
              "      box-shadow: 0px 1px 2px rgba(60, 64, 67, 0.3), 0px 1px 3px 1px rgba(60, 64, 67, 0.15);\n",
              "      fill: #174EA6;\n",
              "    }\n",
              "\n",
              "    [theme=dark] .colab-df-convert {\n",
              "      background-color: #3B4455;\n",
              "      fill: #D2E3FC;\n",
              "    }\n",
              "\n",
              "    [theme=dark] .colab-df-convert:hover {\n",
              "      background-color: #434B5C;\n",
              "      box-shadow: 0px 1px 3px 1px rgba(0, 0, 0, 0.15);\n",
              "      filter: drop-shadow(0px 1px 2px rgba(0, 0, 0, 0.3));\n",
              "      fill: #FFFFFF;\n",
              "    }\n",
              "  </style>\n",
              "\n",
              "      <script>\n",
              "        const buttonEl =\n",
              "          document.querySelector('#df-653e5ec4-1d17-4824-8a7b-9604ee5c42af button.colab-df-convert');\n",
              "        buttonEl.style.display =\n",
              "          google.colab.kernel.accessAllowed ? 'block' : 'none';\n",
              "\n",
              "        async function convertToInteractive(key) {\n",
              "          const element = document.querySelector('#df-653e5ec4-1d17-4824-8a7b-9604ee5c42af');\n",
              "          const dataTable =\n",
              "            await google.colab.kernel.invokeFunction('convertToInteractive',\n",
              "                                                     [key], {});\n",
              "          if (!dataTable) return;\n",
              "\n",
              "          const docLinkHtml = 'Like what you see? Visit the ' +\n",
              "            '<a target=\"_blank\" href=https://colab.research.google.com/notebooks/data_table.ipynb>data table notebook</a>'\n",
              "            + ' to learn more about interactive tables.';\n",
              "          element.innerHTML = '';\n",
              "          dataTable['output_type'] = 'display_data';\n",
              "          await google.colab.output.renderOutput(dataTable, element);\n",
              "          const docLink = document.createElement('div');\n",
              "          docLink.innerHTML = docLinkHtml;\n",
              "          element.appendChild(docLink);\n",
              "        }\n",
              "      </script>\n",
              "    </div>\n",
              "  </div>\n",
              "  "
            ]
          },
          "metadata": {},
          "execution_count": 2
        }
      ],
      "source": [
        "from google.colab import files\n",
        "data = files.upload()\n",
        "df = pd.read_csv('aqi_all.csv', na_values=['None'])\n",
        "df"
      ]
    },
    {
      "cell_type": "code",
      "execution_count": null,
      "metadata": {
        "colab": {
          "base_uri": "https://localhost:8080/",
          "height": 577
        },
        "id": "jZsKJDiBRqz2",
        "outputId": "965a9fef-4e48-4b6b-93b4-5cb7c9210ead"
      },
      "outputs": [
        {
          "data": {
            "text/html": [
              "\n",
              "  <div id=\"df-c710704b-b31b-48be-a6f2-e34794465235\">\n",
              "    <div class=\"colab-df-container\">\n",
              "      <div>\n",
              "<style scoped>\n",
              "    .dataframe tbody tr th:only-of-type {\n",
              "        vertical-align: middle;\n",
              "    }\n",
              "\n",
              "    .dataframe tbody tr th {\n",
              "        vertical-align: top;\n",
              "    }\n",
              "\n",
              "    .dataframe thead th {\n",
              "        text-align: right;\n",
              "    }\n",
              "</style>\n",
              "<table border=\"1\" class=\"dataframe\">\n",
              "  <thead>\n",
              "    <tr style=\"text-align: right;\">\n",
              "      <th></th>\n",
              "      <th>From Date</th>\n",
              "      <th>To Date</th>\n",
              "      <th>Alipur</th>\n",
              "      <th>AnandVihar</th>\n",
              "      <th>AshokVihar</th>\n",
              "      <th>Bawana</th>\n",
              "      <th>DrKarniShootingRange</th>\n",
              "      <th>DTU</th>\n",
              "      <th>DwarkaSector8</th>\n",
              "      <th>IHBASDilshadGarden</th>\n",
              "      <th>...</th>\n",
              "      <th>PunjabiBagh</th>\n",
              "      <th>Pusa</th>\n",
              "      <th>RKPuram</th>\n",
              "      <th>Rohini</th>\n",
              "      <th>Shadipur</th>\n",
              "      <th>Sirifort</th>\n",
              "      <th>SoniaVihar</th>\n",
              "      <th>SriAurobindoMarg</th>\n",
              "      <th>VivekVihar</th>\n",
              "      <th>Wazirpur</th>\n",
              "    </tr>\n",
              "  </thead>\n",
              "  <tbody>\n",
              "    <tr>\n",
              "      <th>0</th>\n",
              "      <td>01-01-2019 00:00</td>\n",
              "      <td>01-01-2019 01:00</td>\n",
              "      <td>361.5</td>\n",
              "      <td>517.25</td>\n",
              "      <td>408.25</td>\n",
              "      <td>128.0</td>\n",
              "      <td>360.0</td>\n",
              "      <td>349.00</td>\n",
              "      <td>486.00</td>\n",
              "      <td>330.65</td>\n",
              "      <td>...</td>\n",
              "      <td>501.25</td>\n",
              "      <td>420.25</td>\n",
              "      <td>655.50</td>\n",
              "      <td>406.0</td>\n",
              "      <td>291.55</td>\n",
              "      <td>432.75</td>\n",
              "      <td>415.0</td>\n",
              "      <td>252.5</td>\n",
              "      <td>347.5</td>\n",
              "      <td>467.0</td>\n",
              "    </tr>\n",
              "    <tr>\n",
              "      <th>1</th>\n",
              "      <td>01-01-2019 01:00</td>\n",
              "      <td>01-01-2019 02:00</td>\n",
              "      <td>348.0</td>\n",
              "      <td>531.25</td>\n",
              "      <td>466.75</td>\n",
              "      <td>138.0</td>\n",
              "      <td>312.0</td>\n",
              "      <td>374.75</td>\n",
              "      <td>401.75</td>\n",
              "      <td>316.53</td>\n",
              "      <td>...</td>\n",
              "      <td>521.25</td>\n",
              "      <td>475.75</td>\n",
              "      <td>583.50</td>\n",
              "      <td>401.0</td>\n",
              "      <td>371.05</td>\n",
              "      <td>401.75</td>\n",
              "      <td>533.0</td>\n",
              "      <td>289.5</td>\n",
              "      <td>307.0</td>\n",
              "      <td>483.0</td>\n",
              "    </tr>\n",
              "    <tr>\n",
              "      <th>2</th>\n",
              "      <td>01-01-2019 02:00</td>\n",
              "      <td>01-01-2019 03:00</td>\n",
              "      <td>298.0</td>\n",
              "      <td>542.00</td>\n",
              "      <td>496.00</td>\n",
              "      <td>123.0</td>\n",
              "      <td>291.0</td>\n",
              "      <td>383.00</td>\n",
              "      <td>333.75</td>\n",
              "      <td>297.23</td>\n",
              "      <td>...</td>\n",
              "      <td>538.50</td>\n",
              "      <td>515.75</td>\n",
              "      <td>435.75</td>\n",
              "      <td>376.0</td>\n",
              "      <td>468.18</td>\n",
              "      <td>398.75</td>\n",
              "      <td>431.0</td>\n",
              "      <td>292.5</td>\n",
              "      <td>288.5</td>\n",
              "      <td>473.5</td>\n",
              "    </tr>\n",
              "    <tr>\n",
              "      <th>3</th>\n",
              "      <td>01-01-2019 03:00</td>\n",
              "      <td>01-01-2019 04:00</td>\n",
              "      <td>276.5</td>\n",
              "      <td>547.50</td>\n",
              "      <td>467.25</td>\n",
              "      <td>125.0</td>\n",
              "      <td>287.0</td>\n",
              "      <td>337.75</td>\n",
              "      <td>256.75</td>\n",
              "      <td>279.30</td>\n",
              "      <td>...</td>\n",
              "      <td>465.25</td>\n",
              "      <td>487.25</td>\n",
              "      <td>351.50</td>\n",
              "      <td>340.0</td>\n",
              "      <td>458.30</td>\n",
              "      <td>364.75</td>\n",
              "      <td>414.0</td>\n",
              "      <td>283.5</td>\n",
              "      <td>294.0</td>\n",
              "      <td>496.0</td>\n",
              "    </tr>\n",
              "    <tr>\n",
              "      <th>4</th>\n",
              "      <td>01-01-2019 04:00</td>\n",
              "      <td>01-01-2019 05:00</td>\n",
              "      <td>295.0</td>\n",
              "      <td>497.00</td>\n",
              "      <td>453.25</td>\n",
              "      <td>130.0</td>\n",
              "      <td>289.0</td>\n",
              "      <td>387.00</td>\n",
              "      <td>222.25</td>\n",
              "      <td>258.45</td>\n",
              "      <td>...</td>\n",
              "      <td>361.00</td>\n",
              "      <td>454.50</td>\n",
              "      <td>319.75</td>\n",
              "      <td>371.0</td>\n",
              "      <td>417.15</td>\n",
              "      <td>327.75</td>\n",
              "      <td>381.0</td>\n",
              "      <td>264.5</td>\n",
              "      <td>334.0</td>\n",
              "      <td>513.0</td>\n",
              "    </tr>\n",
              "  </tbody>\n",
              "</table>\n",
              "<p>5 rows × 30 columns</p>\n",
              "</div>\n",
              "      <button class=\"colab-df-convert\" onclick=\"convertToInteractive('df-c710704b-b31b-48be-a6f2-e34794465235')\"\n",
              "              title=\"Convert this dataframe to an interactive table.\"\n",
              "              style=\"display:none;\">\n",
              "        \n",
              "  <svg xmlns=\"http://www.w3.org/2000/svg\" height=\"24px\"viewBox=\"0 0 24 24\"\n",
              "       width=\"24px\">\n",
              "    <path d=\"M0 0h24v24H0V0z\" fill=\"none\"/>\n",
              "    <path d=\"M18.56 5.44l.94 2.06.94-2.06 2.06-.94-2.06-.94-.94-2.06-.94 2.06-2.06.94zm-11 1L8.5 8.5l.94-2.06 2.06-.94-2.06-.94L8.5 2.5l-.94 2.06-2.06.94zm10 10l.94 2.06.94-2.06 2.06-.94-2.06-.94-.94-2.06-.94 2.06-2.06.94z\"/><path d=\"M17.41 7.96l-1.37-1.37c-.4-.4-.92-.59-1.43-.59-.52 0-1.04.2-1.43.59L10.3 9.45l-7.72 7.72c-.78.78-.78 2.05 0 2.83L4 21.41c.39.39.9.59 1.41.59.51 0 1.02-.2 1.41-.59l7.78-7.78 2.81-2.81c.8-.78.8-2.07 0-2.86zM5.41 20L4 18.59l7.72-7.72 1.47 1.35L5.41 20z\"/>\n",
              "  </svg>\n",
              "      </button>\n",
              "      \n",
              "  <style>\n",
              "    .colab-df-container {\n",
              "      display:flex;\n",
              "      flex-wrap:wrap;\n",
              "      gap: 12px;\n",
              "    }\n",
              "\n",
              "    .colab-df-convert {\n",
              "      background-color: #E8F0FE;\n",
              "      border: none;\n",
              "      border-radius: 50%;\n",
              "      cursor: pointer;\n",
              "      display: none;\n",
              "      fill: #1967D2;\n",
              "      height: 32px;\n",
              "      padding: 0 0 0 0;\n",
              "      width: 32px;\n",
              "    }\n",
              "\n",
              "    .colab-df-convert:hover {\n",
              "      background-color: #E2EBFA;\n",
              "      box-shadow: 0px 1px 2px rgba(60, 64, 67, 0.3), 0px 1px 3px 1px rgba(60, 64, 67, 0.15);\n",
              "      fill: #174EA6;\n",
              "    }\n",
              "\n",
              "    [theme=dark] .colab-df-convert {\n",
              "      background-color: #3B4455;\n",
              "      fill: #D2E3FC;\n",
              "    }\n",
              "\n",
              "    [theme=dark] .colab-df-convert:hover {\n",
              "      background-color: #434B5C;\n",
              "      box-shadow: 0px 1px 3px 1px rgba(0, 0, 0, 0.15);\n",
              "      filter: drop-shadow(0px 1px 2px rgba(0, 0, 0, 0.3));\n",
              "      fill: #FFFFFF;\n",
              "    }\n",
              "  </style>\n",
              "\n",
              "      <script>\n",
              "        const buttonEl =\n",
              "          document.querySelector('#df-c710704b-b31b-48be-a6f2-e34794465235 button.colab-df-convert');\n",
              "        buttonEl.style.display =\n",
              "          google.colab.kernel.accessAllowed ? 'block' : 'none';\n",
              "\n",
              "        async function convertToInteractive(key) {\n",
              "          const element = document.querySelector('#df-c710704b-b31b-48be-a6f2-e34794465235');\n",
              "          const dataTable =\n",
              "            await google.colab.kernel.invokeFunction('convertToInteractive',\n",
              "                                                     [key], {});\n",
              "          if (!dataTable) return;\n",
              "\n",
              "          const docLinkHtml = 'Like what you see? Visit the ' +\n",
              "            '<a target=\"_blank\" href=https://colab.research.google.com/notebooks/data_table.ipynb>data table notebook</a>'\n",
              "            + ' to learn more about interactive tables.';\n",
              "          element.innerHTML = '';\n",
              "          dataTable['output_type'] = 'display_data';\n",
              "          await google.colab.output.renderOutput(dataTable, element);\n",
              "          const docLink = document.createElement('div');\n",
              "          docLink.innerHTML = docLinkHtml;\n",
              "          element.appendChild(docLink);\n",
              "        }\n",
              "      </script>\n",
              "    </div>\n",
              "  </div>\n",
              "  "
            ],
            "text/plain": [
              "          From Date           To Date  Alipur  AnandVihar  AshokVihar  Bawana  \\\n",
              "0  01-01-2019 00:00  01-01-2019 01:00   361.5      517.25      408.25   128.0   \n",
              "1  01-01-2019 01:00  01-01-2019 02:00   348.0      531.25      466.75   138.0   \n",
              "2  01-01-2019 02:00  01-01-2019 03:00   298.0      542.00      496.00   123.0   \n",
              "3  01-01-2019 03:00  01-01-2019 04:00   276.5      547.50      467.25   125.0   \n",
              "4  01-01-2019 04:00  01-01-2019 05:00   295.0      497.00      453.25   130.0   \n",
              "\n",
              "   DrKarniShootingRange     DTU  DwarkaSector8  IHBASDilshadGarden  ...  \\\n",
              "0                 360.0  349.00         486.00              330.65  ...   \n",
              "1                 312.0  374.75         401.75              316.53  ...   \n",
              "2                 291.0  383.00         333.75              297.23  ...   \n",
              "3                 287.0  337.75         256.75              279.30  ...   \n",
              "4                 289.0  387.00         222.25              258.45  ...   \n",
              "\n",
              "   PunjabiBagh    Pusa  RKPuram  Rohini  Shadipur  Sirifort  SoniaVihar  \\\n",
              "0       501.25  420.25   655.50   406.0    291.55    432.75       415.0   \n",
              "1       521.25  475.75   583.50   401.0    371.05    401.75       533.0   \n",
              "2       538.50  515.75   435.75   376.0    468.18    398.75       431.0   \n",
              "3       465.25  487.25   351.50   340.0    458.30    364.75       414.0   \n",
              "4       361.00  454.50   319.75   371.0    417.15    327.75       381.0   \n",
              "\n",
              "   SriAurobindoMarg  VivekVihar  Wazirpur  \n",
              "0             252.5       347.5     467.0  \n",
              "1             289.5       307.0     483.0  \n",
              "2             292.5       288.5     473.5  \n",
              "3             283.5       294.0     496.0  \n",
              "4             264.5       334.0     513.0  \n",
              "\n",
              "[5 rows x 30 columns]"
            ]
          },
          "execution_count": 3,
          "metadata": {},
          "output_type": "execute_result"
        }
      ],
      "source": [
        "df.head()"
      ]
    },
    {
      "cell_type": "code",
      "execution_count": null,
      "metadata": {
        "colab": {
          "base_uri": "https://localhost:8080/"
        },
        "id": "o4qgd7bbY-xA",
        "outputId": "e6f446e9-5c14-41aa-f7c7-5845444ddbd3"
      },
      "outputs": [
        {
          "data": {
            "text/plain": [
              "From Date                            0\n",
              "To Date                              0\n",
              "Alipur                             965\n",
              "AnandVihar                        1687\n",
              "AshokVihar                         826\n",
              "Bawana                             604\n",
              "DrKarniShootingRange              1429\n",
              "DTU                                914\n",
              "DwarkaSector8                      296\n",
              "IHBASDilshadGarden                 515\n",
              "Jahangirpuri                       423\n",
              "JawaharlalNehruStadium             528\n",
              "MajorDhyanChandNationalStadium     277\n",
              "MandirMarg                         914\n",
              "Mundka                             698\n",
              "Najafnagar                        1384\n",
              "Narela                             660\n",
              "NehruNagar                         227\n",
              "OkhlaPhase2                        339\n",
              "Patparganj                         347\n",
              "PunjabiBagh                        768\n",
              "Pusa                              1173\n",
              "RKPuram                           2345\n",
              "Rohini                             453\n",
              "Shadipur                           619\n",
              "Sirifort                           782\n",
              "SoniaVihar                         642\n",
              "SriAurobindoMarg                   246\n",
              "VivekVihar                         434\n",
              "Wazirpur                           467\n",
              "dtype: int64"
            ]
          },
          "execution_count": 4,
          "metadata": {},
          "output_type": "execute_result"
        }
      ],
      "source": [
        "df.isnull().sum()"
      ]
    },
    {
      "cell_type": "code",
      "execution_count": null,
      "metadata": {
        "id": "_RsNcXyCZj-w"
      },
      "outputs": [],
      "source": [
        "df.fillna(-1.0, inplace=True)"
      ]
    },
    {
      "cell_type": "code",
      "execution_count": null,
      "metadata": {
        "colab": {
          "base_uri": "https://localhost:8080/"
        },
        "id": "gqwW7sSBZzIG",
        "outputId": "e41e8854-9ba1-49b8-b514-2b98e9274114"
      },
      "outputs": [
        {
          "name": "stdout",
          "output_type": "stream",
          "text": [
            "<class 'pandas.core.frame.DataFrame'>\n",
            "RangeIndex: 17544 entries, 0 to 17543\n",
            "Data columns (total 30 columns):\n",
            " #   Column                          Non-Null Count  Dtype  \n",
            "---  ------                          --------------  -----  \n",
            " 0   From Date                       17544 non-null  object \n",
            " 1   To Date                         17544 non-null  object \n",
            " 2   Alipur                          17544 non-null  float64\n",
            " 3   AnandVihar                      17544 non-null  float64\n",
            " 4   AshokVihar                      17544 non-null  float64\n",
            " 5   Bawana                          17544 non-null  float64\n",
            " 6   DrKarniShootingRange            17544 non-null  float64\n",
            " 7   DTU                             17544 non-null  float64\n",
            " 8   DwarkaSector8                   17544 non-null  float64\n",
            " 9   IHBASDilshadGarden              17544 non-null  float64\n",
            " 10  Jahangirpuri                    17544 non-null  float64\n",
            " 11  JawaharlalNehruStadium          17544 non-null  float64\n",
            " 12  MajorDhyanChandNationalStadium  17544 non-null  float64\n",
            " 13  MandirMarg                      17544 non-null  float64\n",
            " 14  Mundka                          17544 non-null  float64\n",
            " 15  Najafnagar                      17544 non-null  float64\n",
            " 16  Narela                          17544 non-null  float64\n",
            " 17  NehruNagar                      17544 non-null  float64\n",
            " 18  OkhlaPhase2                     17544 non-null  float64\n",
            " 19  Patparganj                      17544 non-null  float64\n",
            " 20  PunjabiBagh                     17544 non-null  float64\n",
            " 21  Pusa                            17544 non-null  float64\n",
            " 22  RKPuram                         17544 non-null  float64\n",
            " 23  Rohini                          17544 non-null  float64\n",
            " 24  Shadipur                        17544 non-null  float64\n",
            " 25  Sirifort                        17544 non-null  float64\n",
            " 26  SoniaVihar                      17544 non-null  float64\n",
            " 27  SriAurobindoMarg                17544 non-null  float64\n",
            " 28  VivekVihar                      17544 non-null  float64\n",
            " 29  Wazirpur                        17544 non-null  float64\n",
            "dtypes: float64(28), object(2)\n",
            "memory usage: 4.0+ MB\n"
          ]
        }
      ],
      "source": [
        "df.info()"
      ]
    },
    {
      "cell_type": "code",
      "execution_count": null,
      "metadata": {
        "id": "2ccQv1ACyRJC"
      },
      "outputs": [],
      "source": [
        "df['From Date'] = df['From Date'].apply(lambda x: x[:-3])"
      ]
    },
    {
      "cell_type": "code",
      "execution_count": null,
      "metadata": {
        "id": "a-mhxatLatNb"
      },
      "outputs": [],
      "source": [
        "df['Timestamp'] = df['From Date'].apply(pd.Timestamp)"
      ]
    },
    {
      "cell_type": "code",
      "execution_count": null,
      "metadata": {
        "id": "Nxi70Z-5y0Wu"
      },
      "outputs": [],
      "source": [
        "df.drop(columns=['To Date','From Date'],inplace=True)"
      ]
    },
    {
      "cell_type": "code",
      "execution_count": null,
      "metadata": {
        "id": "iMhj95eUa3zX"
      },
      "outputs": [],
      "source": [
        "df.index = df['Timestamp']"
      ]
    },
    {
      "cell_type": "code",
      "execution_count": null,
      "metadata": {
        "id": "T55bEKwx1AgB"
      },
      "outputs": [],
      "source": [
        "del df['Timestamp']"
      ]
    },
    {
      "cell_type": "code",
      "execution_count": null,
      "metadata": {
        "colab": {
          "base_uri": "https://localhost:8080/"
        },
        "id": "TqYKajqcSIxV",
        "outputId": "e76f69ce-2b9f-4267-cd9f-3d57680aab7f"
      },
      "outputs": [
        {
          "data": {
            "text/plain": [
              "Index(['Alipur', 'AnandVihar', 'AshokVihar', 'Bawana', 'DrKarniShootingRange',\n",
              "       'DTU', 'DwarkaSector8', 'IHBASDilshadGarden', 'Jahangirpuri',\n",
              "       'JawaharlalNehruStadium', 'MajorDhyanChandNationalStadium',\n",
              "       'MandirMarg', 'Mundka', 'Najafnagar', 'Narela', 'NehruNagar',\n",
              "       'OkhlaPhase2', 'Patparganj', 'PunjabiBagh', 'Pusa', 'RKPuram', 'Rohini',\n",
              "       'Shadipur', 'Sirifort', 'SoniaVihar', 'SriAurobindoMarg', 'VivekVihar',\n",
              "       'Wazirpur'],\n",
              "      dtype='object')"
            ]
          },
          "execution_count": 12,
          "metadata": {},
          "output_type": "execute_result"
        }
      ],
      "source": [
        "df.columns"
      ]
    },
    {
      "cell_type": "code",
      "execution_count": null,
      "metadata": {
        "id": "xFGMOyie3X8E"
      },
      "outputs": [],
      "source": [
        "df.sort_index(inplace=True)"
      ]
    },
    {
      "cell_type": "code",
      "execution_count": null,
      "metadata": {
        "id": "abqVsfP_7WB0"
      },
      "outputs": [],
      "source": [
        "df.reset_index(inplace=True)"
      ]
    },
    {
      "cell_type": "code",
      "execution_count": null,
      "metadata": {
        "id": "b5sxb7If76ie"
      },
      "outputs": [],
      "source": [
        "df.drop_duplicates(inplace=True)"
      ]
    },
    {
      "cell_type": "code",
      "execution_count": null,
      "metadata": {
        "id": "swqGpGuZ5o87"
      },
      "outputs": [],
      "source": [
        "sensors = ['Alipur', 'AnandVihar', 'AshokVihar', 'Bawana', 'DrKarniShootingRange',\n",
        "       'DTU', 'DwarkaSector8', 'IHBASDilshadGarden', 'Jahangirpuri',\n",
        "       'JawaharlalNehruStadium', 'MajorDhyanChandNationalStadium',\n",
        "       'MandirMarg', 'Mundka', 'Najafnagar', 'Narela', 'NehruNagar',\n",
        "       'OkhlaPhase2', 'Patparganj', 'PunjabiBagh', 'Pusa', 'RKPuram', 'Rohini',\n",
        "       'Shadipur', 'Sirifort', 'SoniaVihar', 'SriAurobindoMarg', 'VivekVihar',\n",
        "       'Wazirpur']"
      ]
    },
    {
      "cell_type": "code",
      "execution_count": null,
      "metadata": {
        "colab": {
          "base_uri": "https://localhost:8080/",
          "height": 473
        },
        "id": "MmsXLG8sJE-_",
        "outputId": "70ee67ed-8eb4-4556-8b13-76745bcab8e2"
      },
      "outputs": [
        {
          "data": {
            "text/html": [
              "\n",
              "  <div id=\"df-b8926553-489f-4706-8d5f-357fca0a9ab9\">\n",
              "    <div class=\"colab-df-container\">\n",
              "      <div>\n",
              "<style scoped>\n",
              "    .dataframe tbody tr th:only-of-type {\n",
              "        vertical-align: middle;\n",
              "    }\n",
              "\n",
              "    .dataframe tbody tr th {\n",
              "        vertical-align: top;\n",
              "    }\n",
              "\n",
              "    .dataframe thead th {\n",
              "        text-align: right;\n",
              "    }\n",
              "</style>\n",
              "<table border=\"1\" class=\"dataframe\">\n",
              "  <thead>\n",
              "    <tr style=\"text-align: right;\">\n",
              "      <th></th>\n",
              "      <th>Timestamp</th>\n",
              "      <th>Alipur</th>\n",
              "      <th>AnandVihar</th>\n",
              "      <th>AshokVihar</th>\n",
              "      <th>Bawana</th>\n",
              "      <th>DrKarniShootingRange</th>\n",
              "      <th>DTU</th>\n",
              "      <th>DwarkaSector8</th>\n",
              "      <th>IHBASDilshadGarden</th>\n",
              "      <th>Jahangirpuri</th>\n",
              "      <th>...</th>\n",
              "      <th>PunjabiBagh</th>\n",
              "      <th>Pusa</th>\n",
              "      <th>RKPuram</th>\n",
              "      <th>Rohini</th>\n",
              "      <th>Shadipur</th>\n",
              "      <th>Sirifort</th>\n",
              "      <th>SoniaVihar</th>\n",
              "      <th>SriAurobindoMarg</th>\n",
              "      <th>VivekVihar</th>\n",
              "      <th>Wazirpur</th>\n",
              "    </tr>\n",
              "  </thead>\n",
              "  <tbody>\n",
              "    <tr>\n",
              "      <th>0</th>\n",
              "      <td>2019-01-01 00:00:00</td>\n",
              "      <td>361.5</td>\n",
              "      <td>517.25</td>\n",
              "      <td>408.25</td>\n",
              "      <td>128.0</td>\n",
              "      <td>360.0</td>\n",
              "      <td>349.00</td>\n",
              "      <td>486.00</td>\n",
              "      <td>330.65</td>\n",
              "      <td>414.25</td>\n",
              "      <td>...</td>\n",
              "      <td>501.25</td>\n",
              "      <td>420.25</td>\n",
              "      <td>655.50</td>\n",
              "      <td>406.0</td>\n",
              "      <td>291.55</td>\n",
              "      <td>432.75</td>\n",
              "      <td>415.0</td>\n",
              "      <td>252.5</td>\n",
              "      <td>347.5</td>\n",
              "      <td>467.0</td>\n",
              "    </tr>\n",
              "    <tr>\n",
              "      <th>1</th>\n",
              "      <td>2019-01-01 01:00:00</td>\n",
              "      <td>348.0</td>\n",
              "      <td>531.25</td>\n",
              "      <td>466.75</td>\n",
              "      <td>138.0</td>\n",
              "      <td>312.0</td>\n",
              "      <td>374.75</td>\n",
              "      <td>401.75</td>\n",
              "      <td>316.53</td>\n",
              "      <td>402.00</td>\n",
              "      <td>...</td>\n",
              "      <td>521.25</td>\n",
              "      <td>475.75</td>\n",
              "      <td>583.50</td>\n",
              "      <td>401.0</td>\n",
              "      <td>371.05</td>\n",
              "      <td>401.75</td>\n",
              "      <td>533.0</td>\n",
              "      <td>289.5</td>\n",
              "      <td>307.0</td>\n",
              "      <td>483.0</td>\n",
              "    </tr>\n",
              "    <tr>\n",
              "      <th>2</th>\n",
              "      <td>2019-01-01 02:00:00</td>\n",
              "      <td>298.0</td>\n",
              "      <td>542.00</td>\n",
              "      <td>496.00</td>\n",
              "      <td>123.0</td>\n",
              "      <td>291.0</td>\n",
              "      <td>383.00</td>\n",
              "      <td>333.75</td>\n",
              "      <td>297.23</td>\n",
              "      <td>361.75</td>\n",
              "      <td>...</td>\n",
              "      <td>538.50</td>\n",
              "      <td>515.75</td>\n",
              "      <td>435.75</td>\n",
              "      <td>376.0</td>\n",
              "      <td>468.18</td>\n",
              "      <td>398.75</td>\n",
              "      <td>431.0</td>\n",
              "      <td>292.5</td>\n",
              "      <td>288.5</td>\n",
              "      <td>473.5</td>\n",
              "    </tr>\n",
              "    <tr>\n",
              "      <th>3</th>\n",
              "      <td>2019-01-01 03:00:00</td>\n",
              "      <td>276.5</td>\n",
              "      <td>547.50</td>\n",
              "      <td>467.25</td>\n",
              "      <td>125.0</td>\n",
              "      <td>287.0</td>\n",
              "      <td>337.75</td>\n",
              "      <td>256.75</td>\n",
              "      <td>279.30</td>\n",
              "      <td>329.75</td>\n",
              "      <td>...</td>\n",
              "      <td>465.25</td>\n",
              "      <td>487.25</td>\n",
              "      <td>351.50</td>\n",
              "      <td>340.0</td>\n",
              "      <td>458.30</td>\n",
              "      <td>364.75</td>\n",
              "      <td>414.0</td>\n",
              "      <td>283.5</td>\n",
              "      <td>294.0</td>\n",
              "      <td>496.0</td>\n",
              "    </tr>\n",
              "    <tr>\n",
              "      <th>4</th>\n",
              "      <td>2019-01-01 04:00:00</td>\n",
              "      <td>295.0</td>\n",
              "      <td>497.00</td>\n",
              "      <td>453.25</td>\n",
              "      <td>130.0</td>\n",
              "      <td>289.0</td>\n",
              "      <td>387.00</td>\n",
              "      <td>222.25</td>\n",
              "      <td>258.45</td>\n",
              "      <td>346.00</td>\n",
              "      <td>...</td>\n",
              "      <td>361.00</td>\n",
              "      <td>454.50</td>\n",
              "      <td>319.75</td>\n",
              "      <td>371.0</td>\n",
              "      <td>417.15</td>\n",
              "      <td>327.75</td>\n",
              "      <td>381.0</td>\n",
              "      <td>264.5</td>\n",
              "      <td>334.0</td>\n",
              "      <td>513.0</td>\n",
              "    </tr>\n",
              "  </tbody>\n",
              "</table>\n",
              "<p>5 rows × 29 columns</p>\n",
              "</div>\n",
              "      <button class=\"colab-df-convert\" onclick=\"convertToInteractive('df-b8926553-489f-4706-8d5f-357fca0a9ab9')\"\n",
              "              title=\"Convert this dataframe to an interactive table.\"\n",
              "              style=\"display:none;\">\n",
              "        \n",
              "  <svg xmlns=\"http://www.w3.org/2000/svg\" height=\"24px\"viewBox=\"0 0 24 24\"\n",
              "       width=\"24px\">\n",
              "    <path d=\"M0 0h24v24H0V0z\" fill=\"none\"/>\n",
              "    <path d=\"M18.56 5.44l.94 2.06.94-2.06 2.06-.94-2.06-.94-.94-2.06-.94 2.06-2.06.94zm-11 1L8.5 8.5l.94-2.06 2.06-.94-2.06-.94L8.5 2.5l-.94 2.06-2.06.94zm10 10l.94 2.06.94-2.06 2.06-.94-2.06-.94-.94-2.06-.94 2.06-2.06.94z\"/><path d=\"M17.41 7.96l-1.37-1.37c-.4-.4-.92-.59-1.43-.59-.52 0-1.04.2-1.43.59L10.3 9.45l-7.72 7.72c-.78.78-.78 2.05 0 2.83L4 21.41c.39.39.9.59 1.41.59.51 0 1.02-.2 1.41-.59l7.78-7.78 2.81-2.81c.8-.78.8-2.07 0-2.86zM5.41 20L4 18.59l7.72-7.72 1.47 1.35L5.41 20z\"/>\n",
              "  </svg>\n",
              "      </button>\n",
              "      \n",
              "  <style>\n",
              "    .colab-df-container {\n",
              "      display:flex;\n",
              "      flex-wrap:wrap;\n",
              "      gap: 12px;\n",
              "    }\n",
              "\n",
              "    .colab-df-convert {\n",
              "      background-color: #E8F0FE;\n",
              "      border: none;\n",
              "      border-radius: 50%;\n",
              "      cursor: pointer;\n",
              "      display: none;\n",
              "      fill: #1967D2;\n",
              "      height: 32px;\n",
              "      padding: 0 0 0 0;\n",
              "      width: 32px;\n",
              "    }\n",
              "\n",
              "    .colab-df-convert:hover {\n",
              "      background-color: #E2EBFA;\n",
              "      box-shadow: 0px 1px 2px rgba(60, 64, 67, 0.3), 0px 1px 3px 1px rgba(60, 64, 67, 0.15);\n",
              "      fill: #174EA6;\n",
              "    }\n",
              "\n",
              "    [theme=dark] .colab-df-convert {\n",
              "      background-color: #3B4455;\n",
              "      fill: #D2E3FC;\n",
              "    }\n",
              "\n",
              "    [theme=dark] .colab-df-convert:hover {\n",
              "      background-color: #434B5C;\n",
              "      box-shadow: 0px 1px 3px 1px rgba(0, 0, 0, 0.15);\n",
              "      filter: drop-shadow(0px 1px 2px rgba(0, 0, 0, 0.3));\n",
              "      fill: #FFFFFF;\n",
              "    }\n",
              "  </style>\n",
              "\n",
              "      <script>\n",
              "        const buttonEl =\n",
              "          document.querySelector('#df-b8926553-489f-4706-8d5f-357fca0a9ab9 button.colab-df-convert');\n",
              "        buttonEl.style.display =\n",
              "          google.colab.kernel.accessAllowed ? 'block' : 'none';\n",
              "\n",
              "        async function convertToInteractive(key) {\n",
              "          const element = document.querySelector('#df-b8926553-489f-4706-8d5f-357fca0a9ab9');\n",
              "          const dataTable =\n",
              "            await google.colab.kernel.invokeFunction('convertToInteractive',\n",
              "                                                     [key], {});\n",
              "          if (!dataTable) return;\n",
              "\n",
              "          const docLinkHtml = 'Like what you see? Visit the ' +\n",
              "            '<a target=\"_blank\" href=https://colab.research.google.com/notebooks/data_table.ipynb>data table notebook</a>'\n",
              "            + ' to learn more about interactive tables.';\n",
              "          element.innerHTML = '';\n",
              "          dataTable['output_type'] = 'display_data';\n",
              "          await google.colab.output.renderOutput(dataTable, element);\n",
              "          const docLink = document.createElement('div');\n",
              "          docLink.innerHTML = docLinkHtml;\n",
              "          element.appendChild(docLink);\n",
              "        }\n",
              "      </script>\n",
              "    </div>\n",
              "  </div>\n",
              "  "
            ],
            "text/plain": [
              "            Timestamp  Alipur  AnandVihar  AshokVihar  Bawana  \\\n",
              "0 2019-01-01 00:00:00   361.5      517.25      408.25   128.0   \n",
              "1 2019-01-01 01:00:00   348.0      531.25      466.75   138.0   \n",
              "2 2019-01-01 02:00:00   298.0      542.00      496.00   123.0   \n",
              "3 2019-01-01 03:00:00   276.5      547.50      467.25   125.0   \n",
              "4 2019-01-01 04:00:00   295.0      497.00      453.25   130.0   \n",
              "\n",
              "   DrKarniShootingRange     DTU  DwarkaSector8  IHBASDilshadGarden  \\\n",
              "0                 360.0  349.00         486.00              330.65   \n",
              "1                 312.0  374.75         401.75              316.53   \n",
              "2                 291.0  383.00         333.75              297.23   \n",
              "3                 287.0  337.75         256.75              279.30   \n",
              "4                 289.0  387.00         222.25              258.45   \n",
              "\n",
              "   Jahangirpuri  ...  PunjabiBagh    Pusa  RKPuram  Rohini  Shadipur  \\\n",
              "0        414.25  ...       501.25  420.25   655.50   406.0    291.55   \n",
              "1        402.00  ...       521.25  475.75   583.50   401.0    371.05   \n",
              "2        361.75  ...       538.50  515.75   435.75   376.0    468.18   \n",
              "3        329.75  ...       465.25  487.25   351.50   340.0    458.30   \n",
              "4        346.00  ...       361.00  454.50   319.75   371.0    417.15   \n",
              "\n",
              "   Sirifort  SoniaVihar  SriAurobindoMarg  VivekVihar  Wazirpur  \n",
              "0    432.75       415.0             252.5       347.5     467.0  \n",
              "1    401.75       533.0             289.5       307.0     483.0  \n",
              "2    398.75       431.0             292.5       288.5     473.5  \n",
              "3    364.75       414.0             283.5       294.0     496.0  \n",
              "4    327.75       381.0             264.5       334.0     513.0  \n",
              "\n",
              "[5 rows x 29 columns]"
            ]
          },
          "execution_count": 17,
          "metadata": {},
          "output_type": "execute_result"
        }
      ],
      "source": [
        "df.head()"
      ]
    },
    {
      "cell_type": "code",
      "execution_count": null,
      "metadata": {
        "id": "uiGr42CjMxvD"
      },
      "outputs": [],
      "source": [
        "#df = df[df.columns.isin(sensors)]"
      ]
    },
    {
      "cell_type": "code",
      "execution_count": null,
      "metadata": {
        "id": "VijeJg9mlWsz"
      },
      "outputs": [],
      "source": [
        "df_final = df.copy()\n",
        "#[['From Timestamp', 'Alipur', 'Anand_Vihar', 'Ashok_Vihar']]"
      ]
    },
    {
      "cell_type": "code",
      "execution_count": null,
      "metadata": {
        "colab": {
          "base_uri": "https://localhost:8080/",
          "height": 473
        },
        "id": "YgwlddS6bqdh",
        "outputId": "2fc4c474-8f2c-4d9b-8110-3bf5205784a5"
      },
      "outputs": [
        {
          "data": {
            "text/html": [
              "\n",
              "  <div id=\"df-6cf32f29-640d-455f-8a5e-89c950bccc57\">\n",
              "    <div class=\"colab-df-container\">\n",
              "      <div>\n",
              "<style scoped>\n",
              "    .dataframe tbody tr th:only-of-type {\n",
              "        vertical-align: middle;\n",
              "    }\n",
              "\n",
              "    .dataframe tbody tr th {\n",
              "        vertical-align: top;\n",
              "    }\n",
              "\n",
              "    .dataframe thead th {\n",
              "        text-align: right;\n",
              "    }\n",
              "</style>\n",
              "<table border=\"1\" class=\"dataframe\">\n",
              "  <thead>\n",
              "    <tr style=\"text-align: right;\">\n",
              "      <th></th>\n",
              "      <th>Timestamp</th>\n",
              "      <th>Alipur</th>\n",
              "      <th>AnandVihar</th>\n",
              "      <th>AshokVihar</th>\n",
              "      <th>Bawana</th>\n",
              "      <th>DrKarniShootingRange</th>\n",
              "      <th>DTU</th>\n",
              "      <th>DwarkaSector8</th>\n",
              "      <th>IHBASDilshadGarden</th>\n",
              "      <th>Jahangirpuri</th>\n",
              "      <th>...</th>\n",
              "      <th>PunjabiBagh</th>\n",
              "      <th>Pusa</th>\n",
              "      <th>RKPuram</th>\n",
              "      <th>Rohini</th>\n",
              "      <th>Shadipur</th>\n",
              "      <th>Sirifort</th>\n",
              "      <th>SoniaVihar</th>\n",
              "      <th>SriAurobindoMarg</th>\n",
              "      <th>VivekVihar</th>\n",
              "      <th>Wazirpur</th>\n",
              "    </tr>\n",
              "  </thead>\n",
              "  <tbody>\n",
              "    <tr>\n",
              "      <th>0</th>\n",
              "      <td>2019-01-01 00:00:00</td>\n",
              "      <td>361.5</td>\n",
              "      <td>517.25</td>\n",
              "      <td>408.25</td>\n",
              "      <td>128.0</td>\n",
              "      <td>360.0</td>\n",
              "      <td>349.00</td>\n",
              "      <td>486.00</td>\n",
              "      <td>330.65</td>\n",
              "      <td>414.25</td>\n",
              "      <td>...</td>\n",
              "      <td>501.25</td>\n",
              "      <td>420.25</td>\n",
              "      <td>655.50</td>\n",
              "      <td>406.0</td>\n",
              "      <td>291.55</td>\n",
              "      <td>432.75</td>\n",
              "      <td>415.0</td>\n",
              "      <td>252.5</td>\n",
              "      <td>347.5</td>\n",
              "      <td>467.0</td>\n",
              "    </tr>\n",
              "    <tr>\n",
              "      <th>1</th>\n",
              "      <td>2019-01-01 01:00:00</td>\n",
              "      <td>348.0</td>\n",
              "      <td>531.25</td>\n",
              "      <td>466.75</td>\n",
              "      <td>138.0</td>\n",
              "      <td>312.0</td>\n",
              "      <td>374.75</td>\n",
              "      <td>401.75</td>\n",
              "      <td>316.53</td>\n",
              "      <td>402.00</td>\n",
              "      <td>...</td>\n",
              "      <td>521.25</td>\n",
              "      <td>475.75</td>\n",
              "      <td>583.50</td>\n",
              "      <td>401.0</td>\n",
              "      <td>371.05</td>\n",
              "      <td>401.75</td>\n",
              "      <td>533.0</td>\n",
              "      <td>289.5</td>\n",
              "      <td>307.0</td>\n",
              "      <td>483.0</td>\n",
              "    </tr>\n",
              "    <tr>\n",
              "      <th>2</th>\n",
              "      <td>2019-01-01 02:00:00</td>\n",
              "      <td>298.0</td>\n",
              "      <td>542.00</td>\n",
              "      <td>496.00</td>\n",
              "      <td>123.0</td>\n",
              "      <td>291.0</td>\n",
              "      <td>383.00</td>\n",
              "      <td>333.75</td>\n",
              "      <td>297.23</td>\n",
              "      <td>361.75</td>\n",
              "      <td>...</td>\n",
              "      <td>538.50</td>\n",
              "      <td>515.75</td>\n",
              "      <td>435.75</td>\n",
              "      <td>376.0</td>\n",
              "      <td>468.18</td>\n",
              "      <td>398.75</td>\n",
              "      <td>431.0</td>\n",
              "      <td>292.5</td>\n",
              "      <td>288.5</td>\n",
              "      <td>473.5</td>\n",
              "    </tr>\n",
              "    <tr>\n",
              "      <th>3</th>\n",
              "      <td>2019-01-01 03:00:00</td>\n",
              "      <td>276.5</td>\n",
              "      <td>547.50</td>\n",
              "      <td>467.25</td>\n",
              "      <td>125.0</td>\n",
              "      <td>287.0</td>\n",
              "      <td>337.75</td>\n",
              "      <td>256.75</td>\n",
              "      <td>279.30</td>\n",
              "      <td>329.75</td>\n",
              "      <td>...</td>\n",
              "      <td>465.25</td>\n",
              "      <td>487.25</td>\n",
              "      <td>351.50</td>\n",
              "      <td>340.0</td>\n",
              "      <td>458.30</td>\n",
              "      <td>364.75</td>\n",
              "      <td>414.0</td>\n",
              "      <td>283.5</td>\n",
              "      <td>294.0</td>\n",
              "      <td>496.0</td>\n",
              "    </tr>\n",
              "    <tr>\n",
              "      <th>4</th>\n",
              "      <td>2019-01-01 04:00:00</td>\n",
              "      <td>295.0</td>\n",
              "      <td>497.00</td>\n",
              "      <td>453.25</td>\n",
              "      <td>130.0</td>\n",
              "      <td>289.0</td>\n",
              "      <td>387.00</td>\n",
              "      <td>222.25</td>\n",
              "      <td>258.45</td>\n",
              "      <td>346.00</td>\n",
              "      <td>...</td>\n",
              "      <td>361.00</td>\n",
              "      <td>454.50</td>\n",
              "      <td>319.75</td>\n",
              "      <td>371.0</td>\n",
              "      <td>417.15</td>\n",
              "      <td>327.75</td>\n",
              "      <td>381.0</td>\n",
              "      <td>264.5</td>\n",
              "      <td>334.0</td>\n",
              "      <td>513.0</td>\n",
              "    </tr>\n",
              "  </tbody>\n",
              "</table>\n",
              "<p>5 rows × 29 columns</p>\n",
              "</div>\n",
              "      <button class=\"colab-df-convert\" onclick=\"convertToInteractive('df-6cf32f29-640d-455f-8a5e-89c950bccc57')\"\n",
              "              title=\"Convert this dataframe to an interactive table.\"\n",
              "              style=\"display:none;\">\n",
              "        \n",
              "  <svg xmlns=\"http://www.w3.org/2000/svg\" height=\"24px\"viewBox=\"0 0 24 24\"\n",
              "       width=\"24px\">\n",
              "    <path d=\"M0 0h24v24H0V0z\" fill=\"none\"/>\n",
              "    <path d=\"M18.56 5.44l.94 2.06.94-2.06 2.06-.94-2.06-.94-.94-2.06-.94 2.06-2.06.94zm-11 1L8.5 8.5l.94-2.06 2.06-.94-2.06-.94L8.5 2.5l-.94 2.06-2.06.94zm10 10l.94 2.06.94-2.06 2.06-.94-2.06-.94-.94-2.06-.94 2.06-2.06.94z\"/><path d=\"M17.41 7.96l-1.37-1.37c-.4-.4-.92-.59-1.43-.59-.52 0-1.04.2-1.43.59L10.3 9.45l-7.72 7.72c-.78.78-.78 2.05 0 2.83L4 21.41c.39.39.9.59 1.41.59.51 0 1.02-.2 1.41-.59l7.78-7.78 2.81-2.81c.8-.78.8-2.07 0-2.86zM5.41 20L4 18.59l7.72-7.72 1.47 1.35L5.41 20z\"/>\n",
              "  </svg>\n",
              "      </button>\n",
              "      \n",
              "  <style>\n",
              "    .colab-df-container {\n",
              "      display:flex;\n",
              "      flex-wrap:wrap;\n",
              "      gap: 12px;\n",
              "    }\n",
              "\n",
              "    .colab-df-convert {\n",
              "      background-color: #E8F0FE;\n",
              "      border: none;\n",
              "      border-radius: 50%;\n",
              "      cursor: pointer;\n",
              "      display: none;\n",
              "      fill: #1967D2;\n",
              "      height: 32px;\n",
              "      padding: 0 0 0 0;\n",
              "      width: 32px;\n",
              "    }\n",
              "\n",
              "    .colab-df-convert:hover {\n",
              "      background-color: #E2EBFA;\n",
              "      box-shadow: 0px 1px 2px rgba(60, 64, 67, 0.3), 0px 1px 3px 1px rgba(60, 64, 67, 0.15);\n",
              "      fill: #174EA6;\n",
              "    }\n",
              "\n",
              "    [theme=dark] .colab-df-convert {\n",
              "      background-color: #3B4455;\n",
              "      fill: #D2E3FC;\n",
              "    }\n",
              "\n",
              "    [theme=dark] .colab-df-convert:hover {\n",
              "      background-color: #434B5C;\n",
              "      box-shadow: 0px 1px 3px 1px rgba(0, 0, 0, 0.15);\n",
              "      filter: drop-shadow(0px 1px 2px rgba(0, 0, 0, 0.3));\n",
              "      fill: #FFFFFF;\n",
              "    }\n",
              "  </style>\n",
              "\n",
              "      <script>\n",
              "        const buttonEl =\n",
              "          document.querySelector('#df-6cf32f29-640d-455f-8a5e-89c950bccc57 button.colab-df-convert');\n",
              "        buttonEl.style.display =\n",
              "          google.colab.kernel.accessAllowed ? 'block' : 'none';\n",
              "\n",
              "        async function convertToInteractive(key) {\n",
              "          const element = document.querySelector('#df-6cf32f29-640d-455f-8a5e-89c950bccc57');\n",
              "          const dataTable =\n",
              "            await google.colab.kernel.invokeFunction('convertToInteractive',\n",
              "                                                     [key], {});\n",
              "          if (!dataTable) return;\n",
              "\n",
              "          const docLinkHtml = 'Like what you see? Visit the ' +\n",
              "            '<a target=\"_blank\" href=https://colab.research.google.com/notebooks/data_table.ipynb>data table notebook</a>'\n",
              "            + ' to learn more about interactive tables.';\n",
              "          element.innerHTML = '';\n",
              "          dataTable['output_type'] = 'display_data';\n",
              "          await google.colab.output.renderOutput(dataTable, element);\n",
              "          const docLink = document.createElement('div');\n",
              "          docLink.innerHTML = docLinkHtml;\n",
              "          element.appendChild(docLink);\n",
              "        }\n",
              "      </script>\n",
              "    </div>\n",
              "  </div>\n",
              "  "
            ],
            "text/plain": [
              "            Timestamp  Alipur  AnandVihar  AshokVihar  Bawana  \\\n",
              "0 2019-01-01 00:00:00   361.5      517.25      408.25   128.0   \n",
              "1 2019-01-01 01:00:00   348.0      531.25      466.75   138.0   \n",
              "2 2019-01-01 02:00:00   298.0      542.00      496.00   123.0   \n",
              "3 2019-01-01 03:00:00   276.5      547.50      467.25   125.0   \n",
              "4 2019-01-01 04:00:00   295.0      497.00      453.25   130.0   \n",
              "\n",
              "   DrKarniShootingRange     DTU  DwarkaSector8  IHBASDilshadGarden  \\\n",
              "0                 360.0  349.00         486.00              330.65   \n",
              "1                 312.0  374.75         401.75              316.53   \n",
              "2                 291.0  383.00         333.75              297.23   \n",
              "3                 287.0  337.75         256.75              279.30   \n",
              "4                 289.0  387.00         222.25              258.45   \n",
              "\n",
              "   Jahangirpuri  ...  PunjabiBagh    Pusa  RKPuram  Rohini  Shadipur  \\\n",
              "0        414.25  ...       501.25  420.25   655.50   406.0    291.55   \n",
              "1        402.00  ...       521.25  475.75   583.50   401.0    371.05   \n",
              "2        361.75  ...       538.50  515.75   435.75   376.0    468.18   \n",
              "3        329.75  ...       465.25  487.25   351.50   340.0    458.30   \n",
              "4        346.00  ...       361.00  454.50   319.75   371.0    417.15   \n",
              "\n",
              "   Sirifort  SoniaVihar  SriAurobindoMarg  VivekVihar  Wazirpur  \n",
              "0    432.75       415.0             252.5       347.5     467.0  \n",
              "1    401.75       533.0             289.5       307.0     483.0  \n",
              "2    398.75       431.0             292.5       288.5     473.5  \n",
              "3    364.75       414.0             283.5       294.0     496.0  \n",
              "4    327.75       381.0             264.5       334.0     513.0  \n",
              "\n",
              "[5 rows x 29 columns]"
            ]
          },
          "execution_count": 20,
          "metadata": {},
          "output_type": "execute_result"
        }
      ],
      "source": [
        "df_final.head()"
      ]
    },
    {
      "cell_type": "code",
      "execution_count": null,
      "metadata": {
        "colab": {
          "base_uri": "https://localhost:8080/"
        },
        "id": "IAotdF2JltbB",
        "outputId": "da52b489-cc4e-4996-b928-efa6c707dabc"
      },
      "outputs": [
        {
          "data": {
            "text/plain": [
              "(17544, 29)"
            ]
          },
          "execution_count": 21,
          "metadata": {},
          "output_type": "execute_result"
        }
      ],
      "source": [
        "df_final.shape"
      ]
    },
    {
      "cell_type": "code",
      "execution_count": null,
      "metadata": {
        "colab": {
          "base_uri": "https://localhost:8080/"
        },
        "id": "05DTh-1LkIFa",
        "outputId": "4f2c9936-2171-4cb0-99d1-fa6d27540468"
      },
      "outputs": [
        {
          "name": "stdout",
          "output_type": "stream",
          "text": [
            "<class 'pandas.core.frame.DataFrame'>\n",
            "Int64Index: 17544 entries, 0 to 17543\n",
            "Data columns (total 29 columns):\n",
            " #   Column                          Non-Null Count  Dtype         \n",
            "---  ------                          --------------  -----         \n",
            " 0   Timestamp                       17544 non-null  datetime64[ns]\n",
            " 1   Alipur                          17544 non-null  float64       \n",
            " 2   AnandVihar                      17544 non-null  float64       \n",
            " 3   AshokVihar                      17544 non-null  float64       \n",
            " 4   Bawana                          17544 non-null  float64       \n",
            " 5   DrKarniShootingRange            17544 non-null  float64       \n",
            " 6   DTU                             17544 non-null  float64       \n",
            " 7   DwarkaSector8                   17544 non-null  float64       \n",
            " 8   IHBASDilshadGarden              17544 non-null  float64       \n",
            " 9   Jahangirpuri                    17544 non-null  float64       \n",
            " 10  JawaharlalNehruStadium          17544 non-null  float64       \n",
            " 11  MajorDhyanChandNationalStadium  17544 non-null  float64       \n",
            " 12  MandirMarg                      17544 non-null  float64       \n",
            " 13  Mundka                          17544 non-null  float64       \n",
            " 14  Najafnagar                      17544 non-null  float64       \n",
            " 15  Narela                          17544 non-null  float64       \n",
            " 16  NehruNagar                      17544 non-null  float64       \n",
            " 17  OkhlaPhase2                     17544 non-null  float64       \n",
            " 18  Patparganj                      17544 non-null  float64       \n",
            " 19  PunjabiBagh                     17544 non-null  float64       \n",
            " 20  Pusa                            17544 non-null  float64       \n",
            " 21  RKPuram                         17544 non-null  float64       \n",
            " 22  Rohini                          17544 non-null  float64       \n",
            " 23  Shadipur                        17544 non-null  float64       \n",
            " 24  Sirifort                        17544 non-null  float64       \n",
            " 25  SoniaVihar                      17544 non-null  float64       \n",
            " 26  SriAurobindoMarg                17544 non-null  float64       \n",
            " 27  VivekVihar                      17544 non-null  float64       \n",
            " 28  Wazirpur                        17544 non-null  float64       \n",
            "dtypes: datetime64[ns](1), float64(28)\n",
            "memory usage: 4.0 MB\n"
          ]
        }
      ],
      "source": [
        "df_final.info()"
      ]
    },
    {
      "cell_type": "code",
      "execution_count": null,
      "metadata": {
        "id": "lXn2uQ-OKWq3"
      },
      "outputs": [],
      "source": [
        "df_final.index = df_final['Timestamp']"
      ]
    },
    {
      "cell_type": "code",
      "execution_count": null,
      "metadata": {
        "id": "I5X0LZvND9JP"
      },
      "outputs": [],
      "source": [
        "train = df_final.loc['2019-01-01 00:00:00':'2020-06-30 23:00:00',:]\n",
        "test = df_final.loc['2020-07-01 00:00:00':'2020-12-31 23:00:00',:]"
      ]
    },
    {
      "cell_type": "code",
      "execution_count": null,
      "metadata": {
        "colab": {
          "base_uri": "https://localhost:8080/"
        },
        "id": "d-AO1FoAGG6y",
        "outputId": "8464d225-95e5-4b06-d2a8-cc943c60ac91"
      },
      "outputs": [
        {
          "data": {
            "text/plain": [
              "Timestamp                         0\n",
              "Alipur                            0\n",
              "AnandVihar                        0\n",
              "AshokVihar                        0\n",
              "Bawana                            0\n",
              "DrKarniShootingRange              0\n",
              "DTU                               0\n",
              "DwarkaSector8                     0\n",
              "IHBASDilshadGarden                0\n",
              "Jahangirpuri                      0\n",
              "JawaharlalNehruStadium            0\n",
              "MajorDhyanChandNationalStadium    0\n",
              "MandirMarg                        0\n",
              "Mundka                            0\n",
              "Najafnagar                        0\n",
              "Narela                            0\n",
              "NehruNagar                        0\n",
              "OkhlaPhase2                       0\n",
              "Patparganj                        0\n",
              "PunjabiBagh                       0\n",
              "Pusa                              0\n",
              "RKPuram                           0\n",
              "Rohini                            0\n",
              "Shadipur                          0\n",
              "Sirifort                          0\n",
              "SoniaVihar                        0\n",
              "SriAurobindoMarg                  0\n",
              "VivekVihar                        0\n",
              "Wazirpur                          0\n",
              "dtype: int64"
            ]
          },
          "execution_count": 25,
          "metadata": {},
          "output_type": "execute_result"
        }
      ],
      "source": [
        "train.isnull().sum()"
      ]
    },
    {
      "cell_type": "code",
      "execution_count": null,
      "metadata": {
        "id": "h75hKPUzHcIX"
      },
      "outputs": [],
      "source": [
        "df_final = pd.concat([train,test],axis=0)"
      ]
    },
    {
      "cell_type": "code",
      "execution_count": null,
      "metadata": {
        "colab": {
          "base_uri": "https://localhost:8080/"
        },
        "id": "LjVJlC5UHiAc",
        "outputId": "14bb75e2-30ae-4966-c108-d8322f471ae7"
      },
      "outputs": [
        {
          "data": {
            "text/plain": [
              "(17544, 29)"
            ]
          },
          "execution_count": 27,
          "metadata": {},
          "output_type": "execute_result"
        }
      ],
      "source": [
        "df_final.shape"
      ]
    },
    {
      "cell_type": "code",
      "execution_count": null,
      "metadata": {
        "id": "IqIX-fbHNOOd"
      },
      "outputs": [],
      "source": [
        "del df_final['Timestamp']"
      ]
    },
    {
      "cell_type": "code",
      "execution_count": null,
      "metadata": {
        "id": "-zcWsaG2Xdak"
      },
      "outputs": [],
      "source": [
        "df_final = df_final.add_prefix('aqi_')"
      ]
    },
    {
      "cell_type": "code",
      "execution_count": null,
      "metadata": {
        "colab": {
          "base_uri": "https://localhost:8080/",
          "height": 504
        },
        "id": "aOJcyUKVLYX0",
        "outputId": "e8d58492-2e65-4184-e926-f0c44d07d2c5"
      },
      "outputs": [
        {
          "data": {
            "text/html": [
              "\n",
              "  <div id=\"df-2a1b01d0-020a-4576-82e1-8159b8414877\">\n",
              "    <div class=\"colab-df-container\">\n",
              "      <div>\n",
              "<style scoped>\n",
              "    .dataframe tbody tr th:only-of-type {\n",
              "        vertical-align: middle;\n",
              "    }\n",
              "\n",
              "    .dataframe tbody tr th {\n",
              "        vertical-align: top;\n",
              "    }\n",
              "\n",
              "    .dataframe thead th {\n",
              "        text-align: right;\n",
              "    }\n",
              "</style>\n",
              "<table border=\"1\" class=\"dataframe\">\n",
              "  <thead>\n",
              "    <tr style=\"text-align: right;\">\n",
              "      <th></th>\n",
              "      <th>aqi_Alipur</th>\n",
              "      <th>aqi_AnandVihar</th>\n",
              "      <th>aqi_AshokVihar</th>\n",
              "      <th>aqi_Bawana</th>\n",
              "      <th>aqi_DrKarniShootingRange</th>\n",
              "      <th>aqi_DTU</th>\n",
              "      <th>aqi_DwarkaSector8</th>\n",
              "      <th>aqi_IHBASDilshadGarden</th>\n",
              "      <th>aqi_Jahangirpuri</th>\n",
              "      <th>aqi_JawaharlalNehruStadium</th>\n",
              "      <th>...</th>\n",
              "      <th>aqi_PunjabiBagh</th>\n",
              "      <th>aqi_Pusa</th>\n",
              "      <th>aqi_RKPuram</th>\n",
              "      <th>aqi_Rohini</th>\n",
              "      <th>aqi_Shadipur</th>\n",
              "      <th>aqi_Sirifort</th>\n",
              "      <th>aqi_SoniaVihar</th>\n",
              "      <th>aqi_SriAurobindoMarg</th>\n",
              "      <th>aqi_VivekVihar</th>\n",
              "      <th>aqi_Wazirpur</th>\n",
              "    </tr>\n",
              "    <tr>\n",
              "      <th>Timestamp</th>\n",
              "      <th></th>\n",
              "      <th></th>\n",
              "      <th></th>\n",
              "      <th></th>\n",
              "      <th></th>\n",
              "      <th></th>\n",
              "      <th></th>\n",
              "      <th></th>\n",
              "      <th></th>\n",
              "      <th></th>\n",
              "      <th></th>\n",
              "      <th></th>\n",
              "      <th></th>\n",
              "      <th></th>\n",
              "      <th></th>\n",
              "      <th></th>\n",
              "      <th></th>\n",
              "      <th></th>\n",
              "      <th></th>\n",
              "      <th></th>\n",
              "      <th></th>\n",
              "    </tr>\n",
              "  </thead>\n",
              "  <tbody>\n",
              "    <tr>\n",
              "      <th>2019-01-01 00:00:00</th>\n",
              "      <td>361.5</td>\n",
              "      <td>517.25</td>\n",
              "      <td>408.25</td>\n",
              "      <td>128.0</td>\n",
              "      <td>360.0</td>\n",
              "      <td>349.00</td>\n",
              "      <td>486.00</td>\n",
              "      <td>330.65</td>\n",
              "      <td>414.25</td>\n",
              "      <td>608.5</td>\n",
              "      <td>...</td>\n",
              "      <td>501.25</td>\n",
              "      <td>420.25</td>\n",
              "      <td>655.50</td>\n",
              "      <td>406.0</td>\n",
              "      <td>291.55</td>\n",
              "      <td>432.75</td>\n",
              "      <td>415.0</td>\n",
              "      <td>252.5</td>\n",
              "      <td>347.5</td>\n",
              "      <td>467.0</td>\n",
              "    </tr>\n",
              "    <tr>\n",
              "      <th>2019-01-01 01:00:00</th>\n",
              "      <td>348.0</td>\n",
              "      <td>531.25</td>\n",
              "      <td>466.75</td>\n",
              "      <td>138.0</td>\n",
              "      <td>312.0</td>\n",
              "      <td>374.75</td>\n",
              "      <td>401.75</td>\n",
              "      <td>316.53</td>\n",
              "      <td>402.00</td>\n",
              "      <td>677.0</td>\n",
              "      <td>...</td>\n",
              "      <td>521.25</td>\n",
              "      <td>475.75</td>\n",
              "      <td>583.50</td>\n",
              "      <td>401.0</td>\n",
              "      <td>371.05</td>\n",
              "      <td>401.75</td>\n",
              "      <td>533.0</td>\n",
              "      <td>289.5</td>\n",
              "      <td>307.0</td>\n",
              "      <td>483.0</td>\n",
              "    </tr>\n",
              "    <tr>\n",
              "      <th>2019-01-01 02:00:00</th>\n",
              "      <td>298.0</td>\n",
              "      <td>542.00</td>\n",
              "      <td>496.00</td>\n",
              "      <td>123.0</td>\n",
              "      <td>291.0</td>\n",
              "      <td>383.00</td>\n",
              "      <td>333.75</td>\n",
              "      <td>297.23</td>\n",
              "      <td>361.75</td>\n",
              "      <td>655.0</td>\n",
              "      <td>...</td>\n",
              "      <td>538.50</td>\n",
              "      <td>515.75</td>\n",
              "      <td>435.75</td>\n",
              "      <td>376.0</td>\n",
              "      <td>468.18</td>\n",
              "      <td>398.75</td>\n",
              "      <td>431.0</td>\n",
              "      <td>292.5</td>\n",
              "      <td>288.5</td>\n",
              "      <td>473.5</td>\n",
              "    </tr>\n",
              "    <tr>\n",
              "      <th>2019-01-01 03:00:00</th>\n",
              "      <td>276.5</td>\n",
              "      <td>547.50</td>\n",
              "      <td>467.25</td>\n",
              "      <td>125.0</td>\n",
              "      <td>287.0</td>\n",
              "      <td>337.75</td>\n",
              "      <td>256.75</td>\n",
              "      <td>279.30</td>\n",
              "      <td>329.75</td>\n",
              "      <td>550.5</td>\n",
              "      <td>...</td>\n",
              "      <td>465.25</td>\n",
              "      <td>487.25</td>\n",
              "      <td>351.50</td>\n",
              "      <td>340.0</td>\n",
              "      <td>458.30</td>\n",
              "      <td>364.75</td>\n",
              "      <td>414.0</td>\n",
              "      <td>283.5</td>\n",
              "      <td>294.0</td>\n",
              "      <td>496.0</td>\n",
              "    </tr>\n",
              "    <tr>\n",
              "      <th>2019-01-01 04:00:00</th>\n",
              "      <td>295.0</td>\n",
              "      <td>497.00</td>\n",
              "      <td>453.25</td>\n",
              "      <td>130.0</td>\n",
              "      <td>289.0</td>\n",
              "      <td>387.00</td>\n",
              "      <td>222.25</td>\n",
              "      <td>258.45</td>\n",
              "      <td>346.00</td>\n",
              "      <td>441.0</td>\n",
              "      <td>...</td>\n",
              "      <td>361.00</td>\n",
              "      <td>454.50</td>\n",
              "      <td>319.75</td>\n",
              "      <td>371.0</td>\n",
              "      <td>417.15</td>\n",
              "      <td>327.75</td>\n",
              "      <td>381.0</td>\n",
              "      <td>264.5</td>\n",
              "      <td>334.0</td>\n",
              "      <td>513.0</td>\n",
              "    </tr>\n",
              "  </tbody>\n",
              "</table>\n",
              "<p>5 rows × 28 columns</p>\n",
              "</div>\n",
              "      <button class=\"colab-df-convert\" onclick=\"convertToInteractive('df-2a1b01d0-020a-4576-82e1-8159b8414877')\"\n",
              "              title=\"Convert this dataframe to an interactive table.\"\n",
              "              style=\"display:none;\">\n",
              "        \n",
              "  <svg xmlns=\"http://www.w3.org/2000/svg\" height=\"24px\"viewBox=\"0 0 24 24\"\n",
              "       width=\"24px\">\n",
              "    <path d=\"M0 0h24v24H0V0z\" fill=\"none\"/>\n",
              "    <path d=\"M18.56 5.44l.94 2.06.94-2.06 2.06-.94-2.06-.94-.94-2.06-.94 2.06-2.06.94zm-11 1L8.5 8.5l.94-2.06 2.06-.94-2.06-.94L8.5 2.5l-.94 2.06-2.06.94zm10 10l.94 2.06.94-2.06 2.06-.94-2.06-.94-.94-2.06-.94 2.06-2.06.94z\"/><path d=\"M17.41 7.96l-1.37-1.37c-.4-.4-.92-.59-1.43-.59-.52 0-1.04.2-1.43.59L10.3 9.45l-7.72 7.72c-.78.78-.78 2.05 0 2.83L4 21.41c.39.39.9.59 1.41.59.51 0 1.02-.2 1.41-.59l7.78-7.78 2.81-2.81c.8-.78.8-2.07 0-2.86zM5.41 20L4 18.59l7.72-7.72 1.47 1.35L5.41 20z\"/>\n",
              "  </svg>\n",
              "      </button>\n",
              "      \n",
              "  <style>\n",
              "    .colab-df-container {\n",
              "      display:flex;\n",
              "      flex-wrap:wrap;\n",
              "      gap: 12px;\n",
              "    }\n",
              "\n",
              "    .colab-df-convert {\n",
              "      background-color: #E8F0FE;\n",
              "      border: none;\n",
              "      border-radius: 50%;\n",
              "      cursor: pointer;\n",
              "      display: none;\n",
              "      fill: #1967D2;\n",
              "      height: 32px;\n",
              "      padding: 0 0 0 0;\n",
              "      width: 32px;\n",
              "    }\n",
              "\n",
              "    .colab-df-convert:hover {\n",
              "      background-color: #E2EBFA;\n",
              "      box-shadow: 0px 1px 2px rgba(60, 64, 67, 0.3), 0px 1px 3px 1px rgba(60, 64, 67, 0.15);\n",
              "      fill: #174EA6;\n",
              "    }\n",
              "\n",
              "    [theme=dark] .colab-df-convert {\n",
              "      background-color: #3B4455;\n",
              "      fill: #D2E3FC;\n",
              "    }\n",
              "\n",
              "    [theme=dark] .colab-df-convert:hover {\n",
              "      background-color: #434B5C;\n",
              "      box-shadow: 0px 1px 3px 1px rgba(0, 0, 0, 0.15);\n",
              "      filter: drop-shadow(0px 1px 2px rgba(0, 0, 0, 0.3));\n",
              "      fill: #FFFFFF;\n",
              "    }\n",
              "  </style>\n",
              "\n",
              "      <script>\n",
              "        const buttonEl =\n",
              "          document.querySelector('#df-2a1b01d0-020a-4576-82e1-8159b8414877 button.colab-df-convert');\n",
              "        buttonEl.style.display =\n",
              "          google.colab.kernel.accessAllowed ? 'block' : 'none';\n",
              "\n",
              "        async function convertToInteractive(key) {\n",
              "          const element = document.querySelector('#df-2a1b01d0-020a-4576-82e1-8159b8414877');\n",
              "          const dataTable =\n",
              "            await google.colab.kernel.invokeFunction('convertToInteractive',\n",
              "                                                     [key], {});\n",
              "          if (!dataTable) return;\n",
              "\n",
              "          const docLinkHtml = 'Like what you see? Visit the ' +\n",
              "            '<a target=\"_blank\" href=https://colab.research.google.com/notebooks/data_table.ipynb>data table notebook</a>'\n",
              "            + ' to learn more about interactive tables.';\n",
              "          element.innerHTML = '';\n",
              "          dataTable['output_type'] = 'display_data';\n",
              "          await google.colab.output.renderOutput(dataTable, element);\n",
              "          const docLink = document.createElement('div');\n",
              "          docLink.innerHTML = docLinkHtml;\n",
              "          element.appendChild(docLink);\n",
              "        }\n",
              "      </script>\n",
              "    </div>\n",
              "  </div>\n",
              "  "
            ],
            "text/plain": [
              "                     aqi_Alipur  aqi_AnandVihar  aqi_AshokVihar  aqi_Bawana  \\\n",
              "Timestamp                                                                     \n",
              "2019-01-01 00:00:00       361.5          517.25          408.25       128.0   \n",
              "2019-01-01 01:00:00       348.0          531.25          466.75       138.0   \n",
              "2019-01-01 02:00:00       298.0          542.00          496.00       123.0   \n",
              "2019-01-01 03:00:00       276.5          547.50          467.25       125.0   \n",
              "2019-01-01 04:00:00       295.0          497.00          453.25       130.0   \n",
              "\n",
              "                     aqi_DrKarniShootingRange  aqi_DTU  aqi_DwarkaSector8  \\\n",
              "Timestamp                                                                   \n",
              "2019-01-01 00:00:00                     360.0   349.00             486.00   \n",
              "2019-01-01 01:00:00                     312.0   374.75             401.75   \n",
              "2019-01-01 02:00:00                     291.0   383.00             333.75   \n",
              "2019-01-01 03:00:00                     287.0   337.75             256.75   \n",
              "2019-01-01 04:00:00                     289.0   387.00             222.25   \n",
              "\n",
              "                     aqi_IHBASDilshadGarden  aqi_Jahangirpuri  \\\n",
              "Timestamp                                                       \n",
              "2019-01-01 00:00:00                  330.65            414.25   \n",
              "2019-01-01 01:00:00                  316.53            402.00   \n",
              "2019-01-01 02:00:00                  297.23            361.75   \n",
              "2019-01-01 03:00:00                  279.30            329.75   \n",
              "2019-01-01 04:00:00                  258.45            346.00   \n",
              "\n",
              "                     aqi_JawaharlalNehruStadium  ...  aqi_PunjabiBagh  \\\n",
              "Timestamp                                        ...                    \n",
              "2019-01-01 00:00:00                       608.5  ...           501.25   \n",
              "2019-01-01 01:00:00                       677.0  ...           521.25   \n",
              "2019-01-01 02:00:00                       655.0  ...           538.50   \n",
              "2019-01-01 03:00:00                       550.5  ...           465.25   \n",
              "2019-01-01 04:00:00                       441.0  ...           361.00   \n",
              "\n",
              "                     aqi_Pusa  aqi_RKPuram  aqi_Rohini  aqi_Shadipur  \\\n",
              "Timestamp                                                              \n",
              "2019-01-01 00:00:00    420.25       655.50       406.0        291.55   \n",
              "2019-01-01 01:00:00    475.75       583.50       401.0        371.05   \n",
              "2019-01-01 02:00:00    515.75       435.75       376.0        468.18   \n",
              "2019-01-01 03:00:00    487.25       351.50       340.0        458.30   \n",
              "2019-01-01 04:00:00    454.50       319.75       371.0        417.15   \n",
              "\n",
              "                     aqi_Sirifort  aqi_SoniaVihar  aqi_SriAurobindoMarg  \\\n",
              "Timestamp                                                                 \n",
              "2019-01-01 00:00:00        432.75           415.0                 252.5   \n",
              "2019-01-01 01:00:00        401.75           533.0                 289.5   \n",
              "2019-01-01 02:00:00        398.75           431.0                 292.5   \n",
              "2019-01-01 03:00:00        364.75           414.0                 283.5   \n",
              "2019-01-01 04:00:00        327.75           381.0                 264.5   \n",
              "\n",
              "                     aqi_VivekVihar  aqi_Wazirpur  \n",
              "Timestamp                                          \n",
              "2019-01-01 00:00:00           347.5         467.0  \n",
              "2019-01-01 01:00:00           307.0         483.0  \n",
              "2019-01-01 02:00:00           288.5         473.5  \n",
              "2019-01-01 03:00:00           294.0         496.0  \n",
              "2019-01-01 04:00:00           334.0         513.0  \n",
              "\n",
              "[5 rows x 28 columns]"
            ]
          },
          "execution_count": 30,
          "metadata": {},
          "output_type": "execute_result"
        }
      ],
      "source": [
        "df_final.head()"
      ]
    },
    {
      "cell_type": "markdown",
      "metadata": {
        "id": "JIAeEvHxN07s"
      },
      "source": [
        "#Data Processing (meo)"
      ]
    },
    {
      "cell_type": "code",
      "execution_count": null,
      "metadata": {
        "colab": {
          "base_uri": "https://localhost:8080/",
          "height": 1000,
          "resources": {
            "http://localhost:8080/nbextensions/google.colab/files.js": {
              "data": "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",
              "headers": [
                [
                  "content-type",
                  "application/javascript"
                ]
              ],
              "ok": true,
              "status": 200,
              "status_text": ""
            }
          }
        },
        "id": "MIOnEnVlN07t",
        "outputId": "dd1ca784-ba91-468a-eb8f-9775f36cba82"
      },
      "outputs": [
        {
          "data": {
            "text/html": [
              "\n",
              "     <input type=\"file\" id=\"files-7c95232c-0a45-4960-8857-70a812f02492\" name=\"files[]\" multiple disabled\n",
              "        style=\"border:none\" />\n",
              "     <output id=\"result-7c95232c-0a45-4960-8857-70a812f02492\">\n",
              "      Upload widget is only available when the cell has been executed in the\n",
              "      current browser session. Please rerun this cell to enable.\n",
              "      </output>\n",
              "      <script src=\"/nbextensions/google.colab/files.js\"></script> "
            ],
            "text/plain": [
              "<IPython.core.display.HTML object>"
            ]
          },
          "metadata": {},
          "output_type": "display_data"
        },
        {
          "name": "stdout",
          "output_type": "stream",
          "text": [
            "Saving weather_all.csv to weather_all.csv\n"
          ]
        },
        {
          "data": {
            "text/html": [
              "\n",
              "  <div id=\"df-66ecff26-6517-439e-a159-fd5d14a386e1\">\n",
              "    <div class=\"colab-df-container\">\n",
              "      <div>\n",
              "<style scoped>\n",
              "    .dataframe tbody tr th:only-of-type {\n",
              "        vertical-align: middle;\n",
              "    }\n",
              "\n",
              "    .dataframe tbody tr th {\n",
              "        vertical-align: top;\n",
              "    }\n",
              "\n",
              "    .dataframe thead th {\n",
              "        text-align: right;\n",
              "    }\n",
              "</style>\n",
              "<table border=\"1\" class=\"dataframe\">\n",
              "  <thead>\n",
              "    <tr style=\"text-align: right;\">\n",
              "      <th></th>\n",
              "      <th>From Date</th>\n",
              "      <th>To Date</th>\n",
              "      <th>at_Alipur</th>\n",
              "      <th>at_AnandVihar</th>\n",
              "      <th>at_AshokVihar</th>\n",
              "      <th>at_Bawana</th>\n",
              "      <th>at_DrKarniShootingRange</th>\n",
              "      <th>at_DTU</th>\n",
              "      <th>at_DwarkaSector8</th>\n",
              "      <th>at_IHBASDilshadGarden</th>\n",
              "      <th>...</th>\n",
              "      <th>wd_PunjabiBagh</th>\n",
              "      <th>wd_Pusa</th>\n",
              "      <th>wd_RKPuram</th>\n",
              "      <th>wd_Rohini</th>\n",
              "      <th>wd_Shadipur</th>\n",
              "      <th>wd_Sirifort</th>\n",
              "      <th>wd_SoniaVihar</th>\n",
              "      <th>wd_SriAurobindoMarg</th>\n",
              "      <th>wd_VivekVihar</th>\n",
              "      <th>wd_Wazirpur</th>\n",
              "    </tr>\n",
              "  </thead>\n",
              "  <tbody>\n",
              "    <tr>\n",
              "      <th>0</th>\n",
              "      <td>01-01-2019 00:00</td>\n",
              "      <td>01-01-2019 01:00</td>\n",
              "      <td>7.00</td>\n",
              "      <td>10.48</td>\n",
              "      <td>9.45</td>\n",
              "      <td>8.18</td>\n",
              "      <td>9.17</td>\n",
              "      <td>9.45</td>\n",
              "      <td>8.25</td>\n",
              "      <td>15.09</td>\n",
              "      <td>...</td>\n",
              "      <td>197.50</td>\n",
              "      <td>27.88</td>\n",
              "      <td>226.00</td>\n",
              "      <td>234.62</td>\n",
              "      <td>169.14</td>\n",
              "      <td>249.74</td>\n",
              "      <td>60.80</td>\n",
              "      <td>251.35</td>\n",
              "      <td>217.20</td>\n",
              "      <td>308.88</td>\n",
              "    </tr>\n",
              "    <tr>\n",
              "      <th>1</th>\n",
              "      <td>01-01-2019 01:00</td>\n",
              "      <td>01-01-2019 02:00</td>\n",
              "      <td>6.43</td>\n",
              "      <td>9.90</td>\n",
              "      <td>8.90</td>\n",
              "      <td>7.68</td>\n",
              "      <td>8.95</td>\n",
              "      <td>9.10</td>\n",
              "      <td>8.08</td>\n",
              "      <td>15.44</td>\n",
              "      <td>...</td>\n",
              "      <td>228.75</td>\n",
              "      <td>29.45</td>\n",
              "      <td>197.25</td>\n",
              "      <td>259.38</td>\n",
              "      <td>177.94</td>\n",
              "      <td>273.25</td>\n",
              "      <td>92.10</td>\n",
              "      <td>236.77</td>\n",
              "      <td>175.20</td>\n",
              "      <td>289.20</td>\n",
              "    </tr>\n",
              "    <tr>\n",
              "      <th>2</th>\n",
              "      <td>01-01-2019 02:00</td>\n",
              "      <td>01-01-2019 03:00</td>\n",
              "      <td>6.68</td>\n",
              "      <td>9.53</td>\n",
              "      <td>8.62</td>\n",
              "      <td>7.45</td>\n",
              "      <td>8.43</td>\n",
              "      <td>8.95</td>\n",
              "      <td>8.15</td>\n",
              "      <td>14.77</td>\n",
              "      <td>...</td>\n",
              "      <td>158.25</td>\n",
              "      <td>31.00</td>\n",
              "      <td>202.00</td>\n",
              "      <td>286.40</td>\n",
              "      <td>171.80</td>\n",
              "      <td>250.03</td>\n",
              "      <td>122.65</td>\n",
              "      <td>243.70</td>\n",
              "      <td>250.62</td>\n",
              "      <td>273.15</td>\n",
              "    </tr>\n",
              "    <tr>\n",
              "      <th>3</th>\n",
              "      <td>01-01-2019 03:00</td>\n",
              "      <td>01-01-2019 04:00</td>\n",
              "      <td>6.15</td>\n",
              "      <td>9.20</td>\n",
              "      <td>8.15</td>\n",
              "      <td>6.70</td>\n",
              "      <td>7.98</td>\n",
              "      <td>8.45</td>\n",
              "      <td>7.62</td>\n",
              "      <td>14.02</td>\n",
              "      <td>...</td>\n",
              "      <td>91.00</td>\n",
              "      <td>21.85</td>\n",
              "      <td>197.75</td>\n",
              "      <td>279.88</td>\n",
              "      <td>174.45</td>\n",
              "      <td>223.37</td>\n",
              "      <td>41.62</td>\n",
              "      <td>207.57</td>\n",
              "      <td>251.33</td>\n",
              "      <td>267.30</td>\n",
              "    </tr>\n",
              "    <tr>\n",
              "      <th>4</th>\n",
              "      <td>01-01-2019 04:00</td>\n",
              "      <td>01-01-2019 05:00</td>\n",
              "      <td>5.77</td>\n",
              "      <td>9.13</td>\n",
              "      <td>7.60</td>\n",
              "      <td>6.45</td>\n",
              "      <td>7.80</td>\n",
              "      <td>8.28</td>\n",
              "      <td>7.10</td>\n",
              "      <td>13.38</td>\n",
              "      <td>...</td>\n",
              "      <td>213.25</td>\n",
              "      <td>27.32</td>\n",
              "      <td>230.50</td>\n",
              "      <td>261.15</td>\n",
              "      <td>185.57</td>\n",
              "      <td>252.47</td>\n",
              "      <td>95.32</td>\n",
              "      <td>162.85</td>\n",
              "      <td>265.75</td>\n",
              "      <td>261.98</td>\n",
              "    </tr>\n",
              "    <tr>\n",
              "      <th>...</th>\n",
              "      <td>...</td>\n",
              "      <td>...</td>\n",
              "      <td>...</td>\n",
              "      <td>...</td>\n",
              "      <td>...</td>\n",
              "      <td>...</td>\n",
              "      <td>...</td>\n",
              "      <td>...</td>\n",
              "      <td>...</td>\n",
              "      <td>...</td>\n",
              "      <td>...</td>\n",
              "      <td>...</td>\n",
              "      <td>...</td>\n",
              "      <td>...</td>\n",
              "      <td>...</td>\n",
              "      <td>...</td>\n",
              "      <td>...</td>\n",
              "      <td>...</td>\n",
              "      <td>...</td>\n",
              "      <td>...</td>\n",
              "      <td>...</td>\n",
              "    </tr>\n",
              "    <tr>\n",
              "      <th>17539</th>\n",
              "      <td>31-12-2020 19:00</td>\n",
              "      <td>31-12-2020 20:00</td>\n",
              "      <td>8.83</td>\n",
              "      <td>13.18</td>\n",
              "      <td>13.07</td>\n",
              "      <td>9.27</td>\n",
              "      <td>12.12</td>\n",
              "      <td>14.69</td>\n",
              "      <td>9.35</td>\n",
              "      <td>11.52</td>\n",
              "      <td>...</td>\n",
              "      <td>160.25</td>\n",
              "      <td>28.05</td>\n",
              "      <td>265.75</td>\n",
              "      <td>196.98</td>\n",
              "      <td>190.23</td>\n",
              "      <td>249.08</td>\n",
              "      <td>239.85</td>\n",
              "      <td>277.88</td>\n",
              "      <td>241.32</td>\n",
              "      <td>254.12</td>\n",
              "    </tr>\n",
              "    <tr>\n",
              "      <th>17540</th>\n",
              "      <td>31-12-2020 20:00</td>\n",
              "      <td>31-12-2020 21:00</td>\n",
              "      <td>8.10</td>\n",
              "      <td>12.25</td>\n",
              "      <td>12.50</td>\n",
              "      <td>8.55</td>\n",
              "      <td>11.38</td>\n",
              "      <td>14.36</td>\n",
              "      <td>8.55</td>\n",
              "      <td>9.86</td>\n",
              "      <td>...</td>\n",
              "      <td>183.75</td>\n",
              "      <td>29.83</td>\n",
              "      <td>224.75</td>\n",
              "      <td>202.47</td>\n",
              "      <td>176.38</td>\n",
              "      <td>239.87</td>\n",
              "      <td>185.65</td>\n",
              "      <td>289.68</td>\n",
              "      <td>239.35</td>\n",
              "      <td>279.07</td>\n",
              "    </tr>\n",
              "    <tr>\n",
              "      <th>17541</th>\n",
              "      <td>31-12-2020 21:00</td>\n",
              "      <td>31-12-2020 22:00</td>\n",
              "      <td>7.75</td>\n",
              "      <td>11.80</td>\n",
              "      <td>12.12</td>\n",
              "      <td>7.93</td>\n",
              "      <td>11.15</td>\n",
              "      <td>13.92</td>\n",
              "      <td>8.07</td>\n",
              "      <td>9.72</td>\n",
              "      <td>...</td>\n",
              "      <td>188.75</td>\n",
              "      <td>29.90</td>\n",
              "      <td>239.25</td>\n",
              "      <td>234.80</td>\n",
              "      <td>153.03</td>\n",
              "      <td>265.96</td>\n",
              "      <td>294.40</td>\n",
              "      <td>266.38</td>\n",
              "      <td>284.27</td>\n",
              "      <td>298.80</td>\n",
              "    </tr>\n",
              "    <tr>\n",
              "      <th>17542</th>\n",
              "      <td>31-12-2020 22:00</td>\n",
              "      <td>31-12-2020 23:00</td>\n",
              "      <td>7.08</td>\n",
              "      <td>11.47</td>\n",
              "      <td>11.93</td>\n",
              "      <td>7.60</td>\n",
              "      <td>10.77</td>\n",
              "      <td>13.62</td>\n",
              "      <td>7.70</td>\n",
              "      <td>9.20</td>\n",
              "      <td>...</td>\n",
              "      <td>139.75</td>\n",
              "      <td>29.98</td>\n",
              "      <td>215.25</td>\n",
              "      <td>232.93</td>\n",
              "      <td>183.93</td>\n",
              "      <td>226.92</td>\n",
              "      <td>229.20</td>\n",
              "      <td>249.62</td>\n",
              "      <td>219.80</td>\n",
              "      <td>237.90</td>\n",
              "    </tr>\n",
              "    <tr>\n",
              "      <th>17543</th>\n",
              "      <td>31-12-2020 23:00</td>\n",
              "      <td>31-12-2020 23:59</td>\n",
              "      <td>6.65</td>\n",
              "      <td>11.32</td>\n",
              "      <td>11.67</td>\n",
              "      <td>7.42</td>\n",
              "      <td>10.12</td>\n",
              "      <td>13.63</td>\n",
              "      <td>7.17</td>\n",
              "      <td>7.89</td>\n",
              "      <td>...</td>\n",
              "      <td>186.50</td>\n",
              "      <td>29.90</td>\n",
              "      <td>208.75</td>\n",
              "      <td>217.82</td>\n",
              "      <td>164.96</td>\n",
              "      <td>259.69</td>\n",
              "      <td>239.80</td>\n",
              "      <td>208.35</td>\n",
              "      <td>198.48</td>\n",
              "      <td>202.18</td>\n",
              "    </tr>\n",
              "  </tbody>\n",
              "</table>\n",
              "<p>17544 rows × 114 columns</p>\n",
              "</div>\n",
              "      <button class=\"colab-df-convert\" onclick=\"convertToInteractive('df-66ecff26-6517-439e-a159-fd5d14a386e1')\"\n",
              "              title=\"Convert this dataframe to an interactive table.\"\n",
              "              style=\"display:none;\">\n",
              "        \n",
              "  <svg xmlns=\"http://www.w3.org/2000/svg\" height=\"24px\"viewBox=\"0 0 24 24\"\n",
              "       width=\"24px\">\n",
              "    <path d=\"M0 0h24v24H0V0z\" fill=\"none\"/>\n",
              "    <path d=\"M18.56 5.44l.94 2.06.94-2.06 2.06-.94-2.06-.94-.94-2.06-.94 2.06-2.06.94zm-11 1L8.5 8.5l.94-2.06 2.06-.94-2.06-.94L8.5 2.5l-.94 2.06-2.06.94zm10 10l.94 2.06.94-2.06 2.06-.94-2.06-.94-.94-2.06-.94 2.06-2.06.94z\"/><path d=\"M17.41 7.96l-1.37-1.37c-.4-.4-.92-.59-1.43-.59-.52 0-1.04.2-1.43.59L10.3 9.45l-7.72 7.72c-.78.78-.78 2.05 0 2.83L4 21.41c.39.39.9.59 1.41.59.51 0 1.02-.2 1.41-.59l7.78-7.78 2.81-2.81c.8-.78.8-2.07 0-2.86zM5.41 20L4 18.59l7.72-7.72 1.47 1.35L5.41 20z\"/>\n",
              "  </svg>\n",
              "      </button>\n",
              "      \n",
              "  <style>\n",
              "    .colab-df-container {\n",
              "      display:flex;\n",
              "      flex-wrap:wrap;\n",
              "      gap: 12px;\n",
              "    }\n",
              "\n",
              "    .colab-df-convert {\n",
              "      background-color: #E8F0FE;\n",
              "      border: none;\n",
              "      border-radius: 50%;\n",
              "      cursor: pointer;\n",
              "      display: none;\n",
              "      fill: #1967D2;\n",
              "      height: 32px;\n",
              "      padding: 0 0 0 0;\n",
              "      width: 32px;\n",
              "    }\n",
              "\n",
              "    .colab-df-convert:hover {\n",
              "      background-color: #E2EBFA;\n",
              "      box-shadow: 0px 1px 2px rgba(60, 64, 67, 0.3), 0px 1px 3px 1px rgba(60, 64, 67, 0.15);\n",
              "      fill: #174EA6;\n",
              "    }\n",
              "\n",
              "    [theme=dark] .colab-df-convert {\n",
              "      background-color: #3B4455;\n",
              "      fill: #D2E3FC;\n",
              "    }\n",
              "\n",
              "    [theme=dark] .colab-df-convert:hover {\n",
              "      background-color: #434B5C;\n",
              "      box-shadow: 0px 1px 3px 1px rgba(0, 0, 0, 0.15);\n",
              "      filter: drop-shadow(0px 1px 2px rgba(0, 0, 0, 0.3));\n",
              "      fill: #FFFFFF;\n",
              "    }\n",
              "  </style>\n",
              "\n",
              "      <script>\n",
              "        const buttonEl =\n",
              "          document.querySelector('#df-66ecff26-6517-439e-a159-fd5d14a386e1 button.colab-df-convert');\n",
              "        buttonEl.style.display =\n",
              "          google.colab.kernel.accessAllowed ? 'block' : 'none';\n",
              "\n",
              "        async function convertToInteractive(key) {\n",
              "          const element = document.querySelector('#df-66ecff26-6517-439e-a159-fd5d14a386e1');\n",
              "          const dataTable =\n",
              "            await google.colab.kernel.invokeFunction('convertToInteractive',\n",
              "                                                     [key], {});\n",
              "          if (!dataTable) return;\n",
              "\n",
              "          const docLinkHtml = 'Like what you see? Visit the ' +\n",
              "            '<a target=\"_blank\" href=https://colab.research.google.com/notebooks/data_table.ipynb>data table notebook</a>'\n",
              "            + ' to learn more about interactive tables.';\n",
              "          element.innerHTML = '';\n",
              "          dataTable['output_type'] = 'display_data';\n",
              "          await google.colab.output.renderOutput(dataTable, element);\n",
              "          const docLink = document.createElement('div');\n",
              "          docLink.innerHTML = docLinkHtml;\n",
              "          element.appendChild(docLink);\n",
              "        }\n",
              "      </script>\n",
              "    </div>\n",
              "  </div>\n",
              "  "
            ],
            "text/plain": [
              "              From Date           To Date  at_Alipur  at_AnandVihar  \\\n",
              "0      01-01-2019 00:00  01-01-2019 01:00       7.00          10.48   \n",
              "1      01-01-2019 01:00  01-01-2019 02:00       6.43           9.90   \n",
              "2      01-01-2019 02:00  01-01-2019 03:00       6.68           9.53   \n",
              "3      01-01-2019 03:00  01-01-2019 04:00       6.15           9.20   \n",
              "4      01-01-2019 04:00  01-01-2019 05:00       5.77           9.13   \n",
              "...                 ...               ...        ...            ...   \n",
              "17539  31-12-2020 19:00  31-12-2020 20:00       8.83          13.18   \n",
              "17540  31-12-2020 20:00  31-12-2020 21:00       8.10          12.25   \n",
              "17541  31-12-2020 21:00  31-12-2020 22:00       7.75          11.80   \n",
              "17542  31-12-2020 22:00  31-12-2020 23:00       7.08          11.47   \n",
              "17543  31-12-2020 23:00  31-12-2020 23:59       6.65          11.32   \n",
              "\n",
              "       at_AshokVihar  at_Bawana  at_DrKarniShootingRange  at_DTU  \\\n",
              "0               9.45       8.18                     9.17    9.45   \n",
              "1               8.90       7.68                     8.95    9.10   \n",
              "2               8.62       7.45                     8.43    8.95   \n",
              "3               8.15       6.70                     7.98    8.45   \n",
              "4               7.60       6.45                     7.80    8.28   \n",
              "...              ...        ...                      ...     ...   \n",
              "17539          13.07       9.27                    12.12   14.69   \n",
              "17540          12.50       8.55                    11.38   14.36   \n",
              "17541          12.12       7.93                    11.15   13.92   \n",
              "17542          11.93       7.60                    10.77   13.62   \n",
              "17543          11.67       7.42                    10.12   13.63   \n",
              "\n",
              "       at_DwarkaSector8  at_IHBASDilshadGarden  ...  wd_PunjabiBagh  wd_Pusa  \\\n",
              "0                  8.25                  15.09  ...          197.50    27.88   \n",
              "1                  8.08                  15.44  ...          228.75    29.45   \n",
              "2                  8.15                  14.77  ...          158.25    31.00   \n",
              "3                  7.62                  14.02  ...           91.00    21.85   \n",
              "4                  7.10                  13.38  ...          213.25    27.32   \n",
              "...                 ...                    ...  ...             ...      ...   \n",
              "17539              9.35                  11.52  ...          160.25    28.05   \n",
              "17540              8.55                   9.86  ...          183.75    29.83   \n",
              "17541              8.07                   9.72  ...          188.75    29.90   \n",
              "17542              7.70                   9.20  ...          139.75    29.98   \n",
              "17543              7.17                   7.89  ...          186.50    29.90   \n",
              "\n",
              "       wd_RKPuram  wd_Rohini  wd_Shadipur  wd_Sirifort  wd_SoniaVihar  \\\n",
              "0          226.00     234.62       169.14       249.74          60.80   \n",
              "1          197.25     259.38       177.94       273.25          92.10   \n",
              "2          202.00     286.40       171.80       250.03         122.65   \n",
              "3          197.75     279.88       174.45       223.37          41.62   \n",
              "4          230.50     261.15       185.57       252.47          95.32   \n",
              "...           ...        ...          ...          ...            ...   \n",
              "17539      265.75     196.98       190.23       249.08         239.85   \n",
              "17540      224.75     202.47       176.38       239.87         185.65   \n",
              "17541      239.25     234.80       153.03       265.96         294.40   \n",
              "17542      215.25     232.93       183.93       226.92         229.20   \n",
              "17543      208.75     217.82       164.96       259.69         239.80   \n",
              "\n",
              "       wd_SriAurobindoMarg  wd_VivekVihar  wd_Wazirpur  \n",
              "0                   251.35         217.20       308.88  \n",
              "1                   236.77         175.20       289.20  \n",
              "2                   243.70         250.62       273.15  \n",
              "3                   207.57         251.33       267.30  \n",
              "4                   162.85         265.75       261.98  \n",
              "...                    ...            ...          ...  \n",
              "17539               277.88         241.32       254.12  \n",
              "17540               289.68         239.35       279.07  \n",
              "17541               266.38         284.27       298.80  \n",
              "17542               249.62         219.80       237.90  \n",
              "17543               208.35         198.48       202.18  \n",
              "\n",
              "[17544 rows x 114 columns]"
            ]
          },
          "execution_count": 31,
          "metadata": {},
          "output_type": "execute_result"
        }
      ],
      "source": [
        "from google.colab import files\n",
        "data = files.upload()\n",
        "df_at = pd.read_csv('weather_all.csv', na_values=['None'])\n",
        "df_at"
      ]
    },
    {
      "cell_type": "code",
      "execution_count": null,
      "metadata": {
        "colab": {
          "base_uri": "https://localhost:8080/",
          "height": 577
        },
        "id": "_0n4hXmBN07u",
        "outputId": "80be5bfa-3930-449c-9e4c-a5e66f8ee31f"
      },
      "outputs": [
        {
          "data": {
            "text/html": [
              "\n",
              "  <div id=\"df-50643f27-7629-4159-9d37-7a88115f2895\">\n",
              "    <div class=\"colab-df-container\">\n",
              "      <div>\n",
              "<style scoped>\n",
              "    .dataframe tbody tr th:only-of-type {\n",
              "        vertical-align: middle;\n",
              "    }\n",
              "\n",
              "    .dataframe tbody tr th {\n",
              "        vertical-align: top;\n",
              "    }\n",
              "\n",
              "    .dataframe thead th {\n",
              "        text-align: right;\n",
              "    }\n",
              "</style>\n",
              "<table border=\"1\" class=\"dataframe\">\n",
              "  <thead>\n",
              "    <tr style=\"text-align: right;\">\n",
              "      <th></th>\n",
              "      <th>From Date</th>\n",
              "      <th>To Date</th>\n",
              "      <th>at_Alipur</th>\n",
              "      <th>at_AnandVihar</th>\n",
              "      <th>at_AshokVihar</th>\n",
              "      <th>at_Bawana</th>\n",
              "      <th>at_DrKarniShootingRange</th>\n",
              "      <th>at_DTU</th>\n",
              "      <th>at_DwarkaSector8</th>\n",
              "      <th>at_IHBASDilshadGarden</th>\n",
              "      <th>...</th>\n",
              "      <th>wd_PunjabiBagh</th>\n",
              "      <th>wd_Pusa</th>\n",
              "      <th>wd_RKPuram</th>\n",
              "      <th>wd_Rohini</th>\n",
              "      <th>wd_Shadipur</th>\n",
              "      <th>wd_Sirifort</th>\n",
              "      <th>wd_SoniaVihar</th>\n",
              "      <th>wd_SriAurobindoMarg</th>\n",
              "      <th>wd_VivekVihar</th>\n",
              "      <th>wd_Wazirpur</th>\n",
              "    </tr>\n",
              "  </thead>\n",
              "  <tbody>\n",
              "    <tr>\n",
              "      <th>0</th>\n",
              "      <td>01-01-2019 00:00</td>\n",
              "      <td>01-01-2019 01:00</td>\n",
              "      <td>7.00</td>\n",
              "      <td>10.48</td>\n",
              "      <td>9.45</td>\n",
              "      <td>8.18</td>\n",
              "      <td>9.17</td>\n",
              "      <td>9.45</td>\n",
              "      <td>8.25</td>\n",
              "      <td>15.09</td>\n",
              "      <td>...</td>\n",
              "      <td>197.50</td>\n",
              "      <td>27.88</td>\n",
              "      <td>226.00</td>\n",
              "      <td>234.62</td>\n",
              "      <td>169.14</td>\n",
              "      <td>249.74</td>\n",
              "      <td>60.80</td>\n",
              "      <td>251.35</td>\n",
              "      <td>217.20</td>\n",
              "      <td>308.88</td>\n",
              "    </tr>\n",
              "    <tr>\n",
              "      <th>1</th>\n",
              "      <td>01-01-2019 01:00</td>\n",
              "      <td>01-01-2019 02:00</td>\n",
              "      <td>6.43</td>\n",
              "      <td>9.90</td>\n",
              "      <td>8.90</td>\n",
              "      <td>7.68</td>\n",
              "      <td>8.95</td>\n",
              "      <td>9.10</td>\n",
              "      <td>8.08</td>\n",
              "      <td>15.44</td>\n",
              "      <td>...</td>\n",
              "      <td>228.75</td>\n",
              "      <td>29.45</td>\n",
              "      <td>197.25</td>\n",
              "      <td>259.38</td>\n",
              "      <td>177.94</td>\n",
              "      <td>273.25</td>\n",
              "      <td>92.10</td>\n",
              "      <td>236.77</td>\n",
              "      <td>175.20</td>\n",
              "      <td>289.20</td>\n",
              "    </tr>\n",
              "    <tr>\n",
              "      <th>2</th>\n",
              "      <td>01-01-2019 02:00</td>\n",
              "      <td>01-01-2019 03:00</td>\n",
              "      <td>6.68</td>\n",
              "      <td>9.53</td>\n",
              "      <td>8.62</td>\n",
              "      <td>7.45</td>\n",
              "      <td>8.43</td>\n",
              "      <td>8.95</td>\n",
              "      <td>8.15</td>\n",
              "      <td>14.77</td>\n",
              "      <td>...</td>\n",
              "      <td>158.25</td>\n",
              "      <td>31.00</td>\n",
              "      <td>202.00</td>\n",
              "      <td>286.40</td>\n",
              "      <td>171.80</td>\n",
              "      <td>250.03</td>\n",
              "      <td>122.65</td>\n",
              "      <td>243.70</td>\n",
              "      <td>250.62</td>\n",
              "      <td>273.15</td>\n",
              "    </tr>\n",
              "    <tr>\n",
              "      <th>3</th>\n",
              "      <td>01-01-2019 03:00</td>\n",
              "      <td>01-01-2019 04:00</td>\n",
              "      <td>6.15</td>\n",
              "      <td>9.20</td>\n",
              "      <td>8.15</td>\n",
              "      <td>6.70</td>\n",
              "      <td>7.98</td>\n",
              "      <td>8.45</td>\n",
              "      <td>7.62</td>\n",
              "      <td>14.02</td>\n",
              "      <td>...</td>\n",
              "      <td>91.00</td>\n",
              "      <td>21.85</td>\n",
              "      <td>197.75</td>\n",
              "      <td>279.88</td>\n",
              "      <td>174.45</td>\n",
              "      <td>223.37</td>\n",
              "      <td>41.62</td>\n",
              "      <td>207.57</td>\n",
              "      <td>251.33</td>\n",
              "      <td>267.30</td>\n",
              "    </tr>\n",
              "    <tr>\n",
              "      <th>4</th>\n",
              "      <td>01-01-2019 04:00</td>\n",
              "      <td>01-01-2019 05:00</td>\n",
              "      <td>5.77</td>\n",
              "      <td>9.13</td>\n",
              "      <td>7.60</td>\n",
              "      <td>6.45</td>\n",
              "      <td>7.80</td>\n",
              "      <td>8.28</td>\n",
              "      <td>7.10</td>\n",
              "      <td>13.38</td>\n",
              "      <td>...</td>\n",
              "      <td>213.25</td>\n",
              "      <td>27.32</td>\n",
              "      <td>230.50</td>\n",
              "      <td>261.15</td>\n",
              "      <td>185.57</td>\n",
              "      <td>252.47</td>\n",
              "      <td>95.32</td>\n",
              "      <td>162.85</td>\n",
              "      <td>265.75</td>\n",
              "      <td>261.98</td>\n",
              "    </tr>\n",
              "  </tbody>\n",
              "</table>\n",
              "<p>5 rows × 114 columns</p>\n",
              "</div>\n",
              "      <button class=\"colab-df-convert\" onclick=\"convertToInteractive('df-50643f27-7629-4159-9d37-7a88115f2895')\"\n",
              "              title=\"Convert this dataframe to an interactive table.\"\n",
              "              style=\"display:none;\">\n",
              "        \n",
              "  <svg xmlns=\"http://www.w3.org/2000/svg\" height=\"24px\"viewBox=\"0 0 24 24\"\n",
              "       width=\"24px\">\n",
              "    <path d=\"M0 0h24v24H0V0z\" fill=\"none\"/>\n",
              "    <path d=\"M18.56 5.44l.94 2.06.94-2.06 2.06-.94-2.06-.94-.94-2.06-.94 2.06-2.06.94zm-11 1L8.5 8.5l.94-2.06 2.06-.94-2.06-.94L8.5 2.5l-.94 2.06-2.06.94zm10 10l.94 2.06.94-2.06 2.06-.94-2.06-.94-.94-2.06-.94 2.06-2.06.94z\"/><path d=\"M17.41 7.96l-1.37-1.37c-.4-.4-.92-.59-1.43-.59-.52 0-1.04.2-1.43.59L10.3 9.45l-7.72 7.72c-.78.78-.78 2.05 0 2.83L4 21.41c.39.39.9.59 1.41.59.51 0 1.02-.2 1.41-.59l7.78-7.78 2.81-2.81c.8-.78.8-2.07 0-2.86zM5.41 20L4 18.59l7.72-7.72 1.47 1.35L5.41 20z\"/>\n",
              "  </svg>\n",
              "      </button>\n",
              "      \n",
              "  <style>\n",
              "    .colab-df-container {\n",
              "      display:flex;\n",
              "      flex-wrap:wrap;\n",
              "      gap: 12px;\n",
              "    }\n",
              "\n",
              "    .colab-df-convert {\n",
              "      background-color: #E8F0FE;\n",
              "      border: none;\n",
              "      border-radius: 50%;\n",
              "      cursor: pointer;\n",
              "      display: none;\n",
              "      fill: #1967D2;\n",
              "      height: 32px;\n",
              "      padding: 0 0 0 0;\n",
              "      width: 32px;\n",
              "    }\n",
              "\n",
              "    .colab-df-convert:hover {\n",
              "      background-color: #E2EBFA;\n",
              "      box-shadow: 0px 1px 2px rgba(60, 64, 67, 0.3), 0px 1px 3px 1px rgba(60, 64, 67, 0.15);\n",
              "      fill: #174EA6;\n",
              "    }\n",
              "\n",
              "    [theme=dark] .colab-df-convert {\n",
              "      background-color: #3B4455;\n",
              "      fill: #D2E3FC;\n",
              "    }\n",
              "\n",
              "    [theme=dark] .colab-df-convert:hover {\n",
              "      background-color: #434B5C;\n",
              "      box-shadow: 0px 1px 3px 1px rgba(0, 0, 0, 0.15);\n",
              "      filter: drop-shadow(0px 1px 2px rgba(0, 0, 0, 0.3));\n",
              "      fill: #FFFFFF;\n",
              "    }\n",
              "  </style>\n",
              "\n",
              "      <script>\n",
              "        const buttonEl =\n",
              "          document.querySelector('#df-50643f27-7629-4159-9d37-7a88115f2895 button.colab-df-convert');\n",
              "        buttonEl.style.display =\n",
              "          google.colab.kernel.accessAllowed ? 'block' : 'none';\n",
              "\n",
              "        async function convertToInteractive(key) {\n",
              "          const element = document.querySelector('#df-50643f27-7629-4159-9d37-7a88115f2895');\n",
              "          const dataTable =\n",
              "            await google.colab.kernel.invokeFunction('convertToInteractive',\n",
              "                                                     [key], {});\n",
              "          if (!dataTable) return;\n",
              "\n",
              "          const docLinkHtml = 'Like what you see? Visit the ' +\n",
              "            '<a target=\"_blank\" href=https://colab.research.google.com/notebooks/data_table.ipynb>data table notebook</a>'\n",
              "            + ' to learn more about interactive tables.';\n",
              "          element.innerHTML = '';\n",
              "          dataTable['output_type'] = 'display_data';\n",
              "          await google.colab.output.renderOutput(dataTable, element);\n",
              "          const docLink = document.createElement('div');\n",
              "          docLink.innerHTML = docLinkHtml;\n",
              "          element.appendChild(docLink);\n",
              "        }\n",
              "      </script>\n",
              "    </div>\n",
              "  </div>\n",
              "  "
            ],
            "text/plain": [
              "          From Date           To Date  at_Alipur  at_AnandVihar  \\\n",
              "0  01-01-2019 00:00  01-01-2019 01:00       7.00          10.48   \n",
              "1  01-01-2019 01:00  01-01-2019 02:00       6.43           9.90   \n",
              "2  01-01-2019 02:00  01-01-2019 03:00       6.68           9.53   \n",
              "3  01-01-2019 03:00  01-01-2019 04:00       6.15           9.20   \n",
              "4  01-01-2019 04:00  01-01-2019 05:00       5.77           9.13   \n",
              "\n",
              "   at_AshokVihar  at_Bawana  at_DrKarniShootingRange  at_DTU  \\\n",
              "0           9.45       8.18                     9.17    9.45   \n",
              "1           8.90       7.68                     8.95    9.10   \n",
              "2           8.62       7.45                     8.43    8.95   \n",
              "3           8.15       6.70                     7.98    8.45   \n",
              "4           7.60       6.45                     7.80    8.28   \n",
              "\n",
              "   at_DwarkaSector8  at_IHBASDilshadGarden  ...  wd_PunjabiBagh  wd_Pusa  \\\n",
              "0              8.25                  15.09  ...          197.50    27.88   \n",
              "1              8.08                  15.44  ...          228.75    29.45   \n",
              "2              8.15                  14.77  ...          158.25    31.00   \n",
              "3              7.62                  14.02  ...           91.00    21.85   \n",
              "4              7.10                  13.38  ...          213.25    27.32   \n",
              "\n",
              "   wd_RKPuram  wd_Rohini  wd_Shadipur  wd_Sirifort  wd_SoniaVihar  \\\n",
              "0      226.00     234.62       169.14       249.74          60.80   \n",
              "1      197.25     259.38       177.94       273.25          92.10   \n",
              "2      202.00     286.40       171.80       250.03         122.65   \n",
              "3      197.75     279.88       174.45       223.37          41.62   \n",
              "4      230.50     261.15       185.57       252.47          95.32   \n",
              "\n",
              "   wd_SriAurobindoMarg  wd_VivekVihar  wd_Wazirpur  \n",
              "0               251.35         217.20       308.88  \n",
              "1               236.77         175.20       289.20  \n",
              "2               243.70         250.62       273.15  \n",
              "3               207.57         251.33       267.30  \n",
              "4               162.85         265.75       261.98  \n",
              "\n",
              "[5 rows x 114 columns]"
            ]
          },
          "execution_count": 32,
          "metadata": {},
          "output_type": "execute_result"
        }
      ],
      "source": [
        "df_at.head()"
      ]
    },
    {
      "cell_type": "code",
      "execution_count": null,
      "metadata": {
        "colab": {
          "base_uri": "https://localhost:8080/"
        },
        "id": "uPhhabFzN07v",
        "outputId": "b79677e3-2a0d-4806-bdb1-764dd8a84dc4"
      },
      "outputs": [
        {
          "data": {
            "text/plain": [
              "From Date                 0\n",
              "To Date                   0\n",
              "at_Alipur               731\n",
              "at_AnandVihar          1680\n",
              "at_AshokVihar           136\n",
              "                       ... \n",
              "wd_Sirifort             272\n",
              "wd_SoniaVihar           621\n",
              "wd_SriAurobindoMarg     272\n",
              "wd_VivekVihar           341\n",
              "wd_Wazirpur             761\n",
              "Length: 114, dtype: int64"
            ]
          },
          "execution_count": 33,
          "metadata": {},
          "output_type": "execute_result"
        }
      ],
      "source": [
        "df_at.isnull().sum()"
      ]
    },
    {
      "cell_type": "code",
      "execution_count": null,
      "metadata": {
        "id": "kz0LKNNAN07v"
      },
      "outputs": [],
      "source": [
        "df_at.fillna(0.0, inplace=True)"
      ]
    },
    {
      "cell_type": "code",
      "execution_count": null,
      "metadata": {
        "colab": {
          "base_uri": "https://localhost:8080/"
        },
        "id": "jeGbEUP1N07w",
        "outputId": "551c602e-65d4-4bbb-ddeb-37c852abdc7d"
      },
      "outputs": [
        {
          "name": "stdout",
          "output_type": "stream",
          "text": [
            "<class 'pandas.core.frame.DataFrame'>\n",
            "RangeIndex: 17544 entries, 0 to 17543\n",
            "Columns: 114 entries, From Date to wd_Wazirpur\n",
            "dtypes: float64(112), object(2)\n",
            "memory usage: 15.3+ MB\n"
          ]
        }
      ],
      "source": [
        "df_at.info()"
      ]
    },
    {
      "cell_type": "code",
      "execution_count": null,
      "metadata": {
        "id": "0Dlp7daqN07w"
      },
      "outputs": [],
      "source": [
        "df_at['Timestamp'] = df_at['From Date'].apply(pd.Timestamp)"
      ]
    },
    {
      "cell_type": "code",
      "execution_count": null,
      "metadata": {
        "id": "ZbdTvf6KN07w"
      },
      "outputs": [],
      "source": [
        "del df_at['To Date']"
      ]
    },
    {
      "cell_type": "code",
      "execution_count": null,
      "metadata": {
        "id": "uE_0XuBHdTyW"
      },
      "outputs": [],
      "source": [
        "del df_at['From Date']"
      ]
    },
    {
      "cell_type": "code",
      "execution_count": null,
      "metadata": {
        "colab": {
          "base_uri": "https://localhost:8080/"
        },
        "id": "xthZceNFN07x",
        "outputId": "7e086304-4679-4ffc-96a6-2f11e85b216b"
      },
      "outputs": [
        {
          "data": {
            "text/plain": [
              "Index(['at_Alipur', 'at_AnandVihar', 'at_AshokVihar', 'at_Bawana',\n",
              "       'at_DrKarniShootingRange', 'at_DTU', 'at_DwarkaSector8',\n",
              "       'at_IHBASDilshadGarden', 'at_Jahangirpuri', 'at_JawaharlalNehruStadium',\n",
              "       ...\n",
              "       'wd_Pusa', 'wd_RKPuram', 'wd_Rohini', 'wd_Shadipur', 'wd_Sirifort',\n",
              "       'wd_SoniaVihar', 'wd_SriAurobindoMarg', 'wd_VivekVihar', 'wd_Wazirpur',\n",
              "       'Timestamp'],\n",
              "      dtype='object', length=113)"
            ]
          },
          "execution_count": 39,
          "metadata": {},
          "output_type": "execute_result"
        }
      ],
      "source": [
        "df_at.columns"
      ]
    },
    {
      "cell_type": "code",
      "execution_count": null,
      "metadata": {
        "id": "s6Ji2nUrN07x"
      },
      "outputs": [],
      "source": [
        "df_meo = df_at.copy()"
      ]
    },
    {
      "cell_type": "code",
      "execution_count": null,
      "metadata": {
        "id": "2mZ-vxEDdu8z"
      },
      "outputs": [],
      "source": [
        "df_meo.index = df_meo['Timestamp']"
      ]
    },
    {
      "cell_type": "code",
      "execution_count": null,
      "metadata": {
        "id": "YbnJ3C_UeCnO"
      },
      "outputs": [],
      "source": [
        "del df_meo['Timestamp']"
      ]
    },
    {
      "cell_type": "code",
      "execution_count": null,
      "metadata": {
        "id": "fsWiOuiLN07x"
      },
      "outputs": [],
      "source": [
        "#df_final.sort_values(['From Timestamp','To Timestamp'])"
      ]
    },
    {
      "cell_type": "code",
      "execution_count": null,
      "metadata": {
        "colab": {
          "base_uri": "https://localhost:8080/",
          "height": 504
        },
        "id": "8XL6gQGZN07x",
        "outputId": "036b1df7-0ba5-4116-cf8b-ed940956f96c"
      },
      "outputs": [
        {
          "data": {
            "text/html": [
              "\n",
              "  <div id=\"df-06f03c05-7242-49d0-a67b-219018fb019c\">\n",
              "    <div class=\"colab-df-container\">\n",
              "      <div>\n",
              "<style scoped>\n",
              "    .dataframe tbody tr th:only-of-type {\n",
              "        vertical-align: middle;\n",
              "    }\n",
              "\n",
              "    .dataframe tbody tr th {\n",
              "        vertical-align: top;\n",
              "    }\n",
              "\n",
              "    .dataframe thead th {\n",
              "        text-align: right;\n",
              "    }\n",
              "</style>\n",
              "<table border=\"1\" class=\"dataframe\">\n",
              "  <thead>\n",
              "    <tr style=\"text-align: right;\">\n",
              "      <th></th>\n",
              "      <th>at_Alipur</th>\n",
              "      <th>at_AnandVihar</th>\n",
              "      <th>at_AshokVihar</th>\n",
              "      <th>at_Bawana</th>\n",
              "      <th>at_DrKarniShootingRange</th>\n",
              "      <th>at_DTU</th>\n",
              "      <th>at_DwarkaSector8</th>\n",
              "      <th>at_IHBASDilshadGarden</th>\n",
              "      <th>at_Jahangirpuri</th>\n",
              "      <th>at_JawaharlalNehruStadium</th>\n",
              "      <th>...</th>\n",
              "      <th>wd_PunjabiBagh</th>\n",
              "      <th>wd_Pusa</th>\n",
              "      <th>wd_RKPuram</th>\n",
              "      <th>wd_Rohini</th>\n",
              "      <th>wd_Shadipur</th>\n",
              "      <th>wd_Sirifort</th>\n",
              "      <th>wd_SoniaVihar</th>\n",
              "      <th>wd_SriAurobindoMarg</th>\n",
              "      <th>wd_VivekVihar</th>\n",
              "      <th>wd_Wazirpur</th>\n",
              "    </tr>\n",
              "    <tr>\n",
              "      <th>Timestamp</th>\n",
              "      <th></th>\n",
              "      <th></th>\n",
              "      <th></th>\n",
              "      <th></th>\n",
              "      <th></th>\n",
              "      <th></th>\n",
              "      <th></th>\n",
              "      <th></th>\n",
              "      <th></th>\n",
              "      <th></th>\n",
              "      <th></th>\n",
              "      <th></th>\n",
              "      <th></th>\n",
              "      <th></th>\n",
              "      <th></th>\n",
              "      <th></th>\n",
              "      <th></th>\n",
              "      <th></th>\n",
              "      <th></th>\n",
              "      <th></th>\n",
              "      <th></th>\n",
              "    </tr>\n",
              "  </thead>\n",
              "  <tbody>\n",
              "    <tr>\n",
              "      <th>2019-01-01 00:00:00</th>\n",
              "      <td>7.00</td>\n",
              "      <td>10.48</td>\n",
              "      <td>9.45</td>\n",
              "      <td>8.18</td>\n",
              "      <td>9.17</td>\n",
              "      <td>9.45</td>\n",
              "      <td>8.25</td>\n",
              "      <td>15.09</td>\n",
              "      <td>10.62</td>\n",
              "      <td>8.95</td>\n",
              "      <td>...</td>\n",
              "      <td>197.50</td>\n",
              "      <td>27.88</td>\n",
              "      <td>226.00</td>\n",
              "      <td>234.62</td>\n",
              "      <td>169.14</td>\n",
              "      <td>249.74</td>\n",
              "      <td>60.80</td>\n",
              "      <td>251.35</td>\n",
              "      <td>217.20</td>\n",
              "      <td>308.88</td>\n",
              "    </tr>\n",
              "    <tr>\n",
              "      <th>2019-01-01 01:00:00</th>\n",
              "      <td>6.43</td>\n",
              "      <td>9.90</td>\n",
              "      <td>8.90</td>\n",
              "      <td>7.68</td>\n",
              "      <td>8.95</td>\n",
              "      <td>9.10</td>\n",
              "      <td>8.08</td>\n",
              "      <td>15.44</td>\n",
              "      <td>10.30</td>\n",
              "      <td>8.20</td>\n",
              "      <td>...</td>\n",
              "      <td>228.75</td>\n",
              "      <td>29.45</td>\n",
              "      <td>197.25</td>\n",
              "      <td>259.38</td>\n",
              "      <td>177.94</td>\n",
              "      <td>273.25</td>\n",
              "      <td>92.10</td>\n",
              "      <td>236.77</td>\n",
              "      <td>175.20</td>\n",
              "      <td>289.20</td>\n",
              "    </tr>\n",
              "    <tr>\n",
              "      <th>2019-01-01 02:00:00</th>\n",
              "      <td>6.68</td>\n",
              "      <td>9.53</td>\n",
              "      <td>8.62</td>\n",
              "      <td>7.45</td>\n",
              "      <td>8.43</td>\n",
              "      <td>8.95</td>\n",
              "      <td>8.15</td>\n",
              "      <td>14.77</td>\n",
              "      <td>10.53</td>\n",
              "      <td>7.95</td>\n",
              "      <td>...</td>\n",
              "      <td>158.25</td>\n",
              "      <td>31.00</td>\n",
              "      <td>202.00</td>\n",
              "      <td>286.40</td>\n",
              "      <td>171.80</td>\n",
              "      <td>250.03</td>\n",
              "      <td>122.65</td>\n",
              "      <td>243.70</td>\n",
              "      <td>250.62</td>\n",
              "      <td>273.15</td>\n",
              "    </tr>\n",
              "    <tr>\n",
              "      <th>2019-01-01 03:00:00</th>\n",
              "      <td>6.15</td>\n",
              "      <td>9.20</td>\n",
              "      <td>8.15</td>\n",
              "      <td>6.70</td>\n",
              "      <td>7.98</td>\n",
              "      <td>8.45</td>\n",
              "      <td>7.62</td>\n",
              "      <td>14.02</td>\n",
              "      <td>10.50</td>\n",
              "      <td>7.90</td>\n",
              "      <td>...</td>\n",
              "      <td>91.00</td>\n",
              "      <td>21.85</td>\n",
              "      <td>197.75</td>\n",
              "      <td>279.88</td>\n",
              "      <td>174.45</td>\n",
              "      <td>223.37</td>\n",
              "      <td>41.62</td>\n",
              "      <td>207.57</td>\n",
              "      <td>251.33</td>\n",
              "      <td>267.30</td>\n",
              "    </tr>\n",
              "    <tr>\n",
              "      <th>2019-01-01 04:00:00</th>\n",
              "      <td>5.77</td>\n",
              "      <td>9.13</td>\n",
              "      <td>7.60</td>\n",
              "      <td>6.45</td>\n",
              "      <td>7.80</td>\n",
              "      <td>8.28</td>\n",
              "      <td>7.10</td>\n",
              "      <td>13.38</td>\n",
              "      <td>9.47</td>\n",
              "      <td>7.75</td>\n",
              "      <td>...</td>\n",
              "      <td>213.25</td>\n",
              "      <td>27.32</td>\n",
              "      <td>230.50</td>\n",
              "      <td>261.15</td>\n",
              "      <td>185.57</td>\n",
              "      <td>252.47</td>\n",
              "      <td>95.32</td>\n",
              "      <td>162.85</td>\n",
              "      <td>265.75</td>\n",
              "      <td>261.98</td>\n",
              "    </tr>\n",
              "  </tbody>\n",
              "</table>\n",
              "<p>5 rows × 112 columns</p>\n",
              "</div>\n",
              "      <button class=\"colab-df-convert\" onclick=\"convertToInteractive('df-06f03c05-7242-49d0-a67b-219018fb019c')\"\n",
              "              title=\"Convert this dataframe to an interactive table.\"\n",
              "              style=\"display:none;\">\n",
              "        \n",
              "  <svg xmlns=\"http://www.w3.org/2000/svg\" height=\"24px\"viewBox=\"0 0 24 24\"\n",
              "       width=\"24px\">\n",
              "    <path d=\"M0 0h24v24H0V0z\" fill=\"none\"/>\n",
              "    <path d=\"M18.56 5.44l.94 2.06.94-2.06 2.06-.94-2.06-.94-.94-2.06-.94 2.06-2.06.94zm-11 1L8.5 8.5l.94-2.06 2.06-.94-2.06-.94L8.5 2.5l-.94 2.06-2.06.94zm10 10l.94 2.06.94-2.06 2.06-.94-2.06-.94-.94-2.06-.94 2.06-2.06.94z\"/><path d=\"M17.41 7.96l-1.37-1.37c-.4-.4-.92-.59-1.43-.59-.52 0-1.04.2-1.43.59L10.3 9.45l-7.72 7.72c-.78.78-.78 2.05 0 2.83L4 21.41c.39.39.9.59 1.41.59.51 0 1.02-.2 1.41-.59l7.78-7.78 2.81-2.81c.8-.78.8-2.07 0-2.86zM5.41 20L4 18.59l7.72-7.72 1.47 1.35L5.41 20z\"/>\n",
              "  </svg>\n",
              "      </button>\n",
              "      \n",
              "  <style>\n",
              "    .colab-df-container {\n",
              "      display:flex;\n",
              "      flex-wrap:wrap;\n",
              "      gap: 12px;\n",
              "    }\n",
              "\n",
              "    .colab-df-convert {\n",
              "      background-color: #E8F0FE;\n",
              "      border: none;\n",
              "      border-radius: 50%;\n",
              "      cursor: pointer;\n",
              "      display: none;\n",
              "      fill: #1967D2;\n",
              "      height: 32px;\n",
              "      padding: 0 0 0 0;\n",
              "      width: 32px;\n",
              "    }\n",
              "\n",
              "    .colab-df-convert:hover {\n",
              "      background-color: #E2EBFA;\n",
              "      box-shadow: 0px 1px 2px rgba(60, 64, 67, 0.3), 0px 1px 3px 1px rgba(60, 64, 67, 0.15);\n",
              "      fill: #174EA6;\n",
              "    }\n",
              "\n",
              "    [theme=dark] .colab-df-convert {\n",
              "      background-color: #3B4455;\n",
              "      fill: #D2E3FC;\n",
              "    }\n",
              "\n",
              "    [theme=dark] .colab-df-convert:hover {\n",
              "      background-color: #434B5C;\n",
              "      box-shadow: 0px 1px 3px 1px rgba(0, 0, 0, 0.15);\n",
              "      filter: drop-shadow(0px 1px 2px rgba(0, 0, 0, 0.3));\n",
              "      fill: #FFFFFF;\n",
              "    }\n",
              "  </style>\n",
              "\n",
              "      <script>\n",
              "        const buttonEl =\n",
              "          document.querySelector('#df-06f03c05-7242-49d0-a67b-219018fb019c button.colab-df-convert');\n",
              "        buttonEl.style.display =\n",
              "          google.colab.kernel.accessAllowed ? 'block' : 'none';\n",
              "\n",
              "        async function convertToInteractive(key) {\n",
              "          const element = document.querySelector('#df-06f03c05-7242-49d0-a67b-219018fb019c');\n",
              "          const dataTable =\n",
              "            await google.colab.kernel.invokeFunction('convertToInteractive',\n",
              "                                                     [key], {});\n",
              "          if (!dataTable) return;\n",
              "\n",
              "          const docLinkHtml = 'Like what you see? Visit the ' +\n",
              "            '<a target=\"_blank\" href=https://colab.research.google.com/notebooks/data_table.ipynb>data table notebook</a>'\n",
              "            + ' to learn more about interactive tables.';\n",
              "          element.innerHTML = '';\n",
              "          dataTable['output_type'] = 'display_data';\n",
              "          await google.colab.output.renderOutput(dataTable, element);\n",
              "          const docLink = document.createElement('div');\n",
              "          docLink.innerHTML = docLinkHtml;\n",
              "          element.appendChild(docLink);\n",
              "        }\n",
              "      </script>\n",
              "    </div>\n",
              "  </div>\n",
              "  "
            ],
            "text/plain": [
              "                     at_Alipur  at_AnandVihar  at_AshokVihar  at_Bawana  \\\n",
              "Timestamp                                                                 \n",
              "2019-01-01 00:00:00       7.00          10.48           9.45       8.18   \n",
              "2019-01-01 01:00:00       6.43           9.90           8.90       7.68   \n",
              "2019-01-01 02:00:00       6.68           9.53           8.62       7.45   \n",
              "2019-01-01 03:00:00       6.15           9.20           8.15       6.70   \n",
              "2019-01-01 04:00:00       5.77           9.13           7.60       6.45   \n",
              "\n",
              "                     at_DrKarniShootingRange  at_DTU  at_DwarkaSector8  \\\n",
              "Timestamp                                                                \n",
              "2019-01-01 00:00:00                     9.17    9.45              8.25   \n",
              "2019-01-01 01:00:00                     8.95    9.10              8.08   \n",
              "2019-01-01 02:00:00                     8.43    8.95              8.15   \n",
              "2019-01-01 03:00:00                     7.98    8.45              7.62   \n",
              "2019-01-01 04:00:00                     7.80    8.28              7.10   \n",
              "\n",
              "                     at_IHBASDilshadGarden  at_Jahangirpuri  \\\n",
              "Timestamp                                                     \n",
              "2019-01-01 00:00:00                  15.09            10.62   \n",
              "2019-01-01 01:00:00                  15.44            10.30   \n",
              "2019-01-01 02:00:00                  14.77            10.53   \n",
              "2019-01-01 03:00:00                  14.02            10.50   \n",
              "2019-01-01 04:00:00                  13.38             9.47   \n",
              "\n",
              "                     at_JawaharlalNehruStadium  ...  wd_PunjabiBagh  wd_Pusa  \\\n",
              "Timestamp                                       ...                            \n",
              "2019-01-01 00:00:00                       8.95  ...          197.50    27.88   \n",
              "2019-01-01 01:00:00                       8.20  ...          228.75    29.45   \n",
              "2019-01-01 02:00:00                       7.95  ...          158.25    31.00   \n",
              "2019-01-01 03:00:00                       7.90  ...           91.00    21.85   \n",
              "2019-01-01 04:00:00                       7.75  ...          213.25    27.32   \n",
              "\n",
              "                     wd_RKPuram  wd_Rohini  wd_Shadipur  wd_Sirifort  \\\n",
              "Timestamp                                                              \n",
              "2019-01-01 00:00:00      226.00     234.62       169.14       249.74   \n",
              "2019-01-01 01:00:00      197.25     259.38       177.94       273.25   \n",
              "2019-01-01 02:00:00      202.00     286.40       171.80       250.03   \n",
              "2019-01-01 03:00:00      197.75     279.88       174.45       223.37   \n",
              "2019-01-01 04:00:00      230.50     261.15       185.57       252.47   \n",
              "\n",
              "                     wd_SoniaVihar  wd_SriAurobindoMarg  wd_VivekVihar  \\\n",
              "Timestamp                                                                \n",
              "2019-01-01 00:00:00          60.80               251.35         217.20   \n",
              "2019-01-01 01:00:00          92.10               236.77         175.20   \n",
              "2019-01-01 02:00:00         122.65               243.70         250.62   \n",
              "2019-01-01 03:00:00          41.62               207.57         251.33   \n",
              "2019-01-01 04:00:00          95.32               162.85         265.75   \n",
              "\n",
              "                     wd_Wazirpur  \n",
              "Timestamp                         \n",
              "2019-01-01 00:00:00       308.88  \n",
              "2019-01-01 01:00:00       289.20  \n",
              "2019-01-01 02:00:00       273.15  \n",
              "2019-01-01 03:00:00       267.30  \n",
              "2019-01-01 04:00:00       261.98  \n",
              "\n",
              "[5 rows x 112 columns]"
            ]
          },
          "execution_count": 44,
          "metadata": {},
          "output_type": "execute_result"
        }
      ],
      "source": [
        "df_meo.head()"
      ]
    },
    {
      "cell_type": "code",
      "execution_count": null,
      "metadata": {
        "colab": {
          "base_uri": "https://localhost:8080/"
        },
        "id": "kZ94y_bjN07x",
        "outputId": "3131aa0f-0a5f-4eb6-8c1f-6cc6f5f4536f"
      },
      "outputs": [
        {
          "data": {
            "text/plain": [
              "(17544, 112)"
            ]
          },
          "execution_count": 45,
          "metadata": {},
          "output_type": "execute_result"
        }
      ],
      "source": [
        "df_meo.shape"
      ]
    },
    {
      "cell_type": "code",
      "execution_count": null,
      "metadata": {
        "colab": {
          "base_uri": "https://localhost:8080/"
        },
        "id": "Mh547IYWN07x",
        "outputId": "7bf04e12-c1f6-4e7b-fc4e-80a9ed1f3ed6"
      },
      "outputs": [
        {
          "name": "stdout",
          "output_type": "stream",
          "text": [
            "<class 'pandas.core.frame.DataFrame'>\n",
            "DatetimeIndex: 17544 entries, 2019-01-01 00:00:00 to 2020-12-31 23:00:00\n",
            "Columns: 112 entries, at_Alipur to wd_Wazirpur\n",
            "dtypes: float64(112)\n",
            "memory usage: 15.1 MB\n"
          ]
        }
      ],
      "source": [
        "df_meo.info()"
      ]
    },
    {
      "cell_type": "code",
      "execution_count": null,
      "metadata": {
        "id": "dB_LQuuXN07y"
      },
      "outputs": [],
      "source": [
        "train2 = df_meo.loc['2019-01-01 00:00:00':'2020-06-30 23:00:00',:]\n",
        "test2 = df_meo.loc['2020-07-01 00:00:00':'2020-12-31 23:00:00',:]"
      ]
    },
    {
      "cell_type": "code",
      "execution_count": null,
      "metadata": {
        "colab": {
          "base_uri": "https://localhost:8080/"
        },
        "id": "WXKZBxqON07y",
        "outputId": "cc2517ea-291f-43fb-af2b-0830dc0496a5"
      },
      "outputs": [
        {
          "data": {
            "text/plain": [
              "at_Alipur                  0\n",
              "at_AnandVihar              0\n",
              "at_AshokVihar              0\n",
              "at_Bawana                  0\n",
              "at_DrKarniShootingRange    0\n",
              "                          ..\n",
              "wd_Sirifort                0\n",
              "wd_SoniaVihar              0\n",
              "wd_SriAurobindoMarg        0\n",
              "wd_VivekVihar              0\n",
              "wd_Wazirpur                0\n",
              "Length: 112, dtype: int64"
            ]
          },
          "execution_count": 48,
          "metadata": {},
          "output_type": "execute_result"
        }
      ],
      "source": [
        "train2.isnull().sum()"
      ]
    },
    {
      "cell_type": "code",
      "execution_count": null,
      "metadata": {
        "id": "1vR60Lx7N07y"
      },
      "outputs": [],
      "source": [
        "df_meo = pd.concat([train2,test2],axis=0)"
      ]
    },
    {
      "cell_type": "code",
      "execution_count": null,
      "metadata": {
        "colab": {
          "base_uri": "https://localhost:8080/"
        },
        "id": "lIAX32WWN07y",
        "outputId": "fbf69c88-d821-4529-ab54-94336572c834"
      },
      "outputs": [
        {
          "data": {
            "text/plain": [
              "(17544, 112)"
            ]
          },
          "execution_count": 50,
          "metadata": {},
          "output_type": "execute_result"
        }
      ],
      "source": [
        "df_meo.shape"
      ]
    },
    {
      "cell_type": "code",
      "execution_count": null,
      "metadata": {
        "id": "ll2GAAlIUDFI"
      },
      "outputs": [],
      "source": [
        "#df_meo = df_meo.add_prefix('at_')\n",
        "#df_meo.rename(columns = {'Alipur': 'meo_Alipur', 'Anand_Vihar': 'meo_Anand_Vihar', 'Ashok_Vihar': 'meo_Ashok_Vihar'}, inplace = True)"
      ]
    },
    {
      "cell_type": "code",
      "execution_count": null,
      "metadata": {
        "colab": {
          "base_uri": "https://localhost:8080/",
          "height": 504
        },
        "id": "UI3TkK8mN07y",
        "outputId": "dfe820a1-7345-4728-b0fa-f41263e9307c"
      },
      "outputs": [
        {
          "data": {
            "text/html": [
              "\n",
              "  <div id=\"df-e38ee68f-7494-419d-8ca1-5a5c8e4b1f92\">\n",
              "    <div class=\"colab-df-container\">\n",
              "      <div>\n",
              "<style scoped>\n",
              "    .dataframe tbody tr th:only-of-type {\n",
              "        vertical-align: middle;\n",
              "    }\n",
              "\n",
              "    .dataframe tbody tr th {\n",
              "        vertical-align: top;\n",
              "    }\n",
              "\n",
              "    .dataframe thead th {\n",
              "        text-align: right;\n",
              "    }\n",
              "</style>\n",
              "<table border=\"1\" class=\"dataframe\">\n",
              "  <thead>\n",
              "    <tr style=\"text-align: right;\">\n",
              "      <th></th>\n",
              "      <th>at_Alipur</th>\n",
              "      <th>at_AnandVihar</th>\n",
              "      <th>at_AshokVihar</th>\n",
              "      <th>at_Bawana</th>\n",
              "      <th>at_DrKarniShootingRange</th>\n",
              "      <th>at_DTU</th>\n",
              "      <th>at_DwarkaSector8</th>\n",
              "      <th>at_IHBASDilshadGarden</th>\n",
              "      <th>at_Jahangirpuri</th>\n",
              "      <th>at_JawaharlalNehruStadium</th>\n",
              "      <th>...</th>\n",
              "      <th>wd_PunjabiBagh</th>\n",
              "      <th>wd_Pusa</th>\n",
              "      <th>wd_RKPuram</th>\n",
              "      <th>wd_Rohini</th>\n",
              "      <th>wd_Shadipur</th>\n",
              "      <th>wd_Sirifort</th>\n",
              "      <th>wd_SoniaVihar</th>\n",
              "      <th>wd_SriAurobindoMarg</th>\n",
              "      <th>wd_VivekVihar</th>\n",
              "      <th>wd_Wazirpur</th>\n",
              "    </tr>\n",
              "    <tr>\n",
              "      <th>Timestamp</th>\n",
              "      <th></th>\n",
              "      <th></th>\n",
              "      <th></th>\n",
              "      <th></th>\n",
              "      <th></th>\n",
              "      <th></th>\n",
              "      <th></th>\n",
              "      <th></th>\n",
              "      <th></th>\n",
              "      <th></th>\n",
              "      <th></th>\n",
              "      <th></th>\n",
              "      <th></th>\n",
              "      <th></th>\n",
              "      <th></th>\n",
              "      <th></th>\n",
              "      <th></th>\n",
              "      <th></th>\n",
              "      <th></th>\n",
              "      <th></th>\n",
              "      <th></th>\n",
              "    </tr>\n",
              "  </thead>\n",
              "  <tbody>\n",
              "    <tr>\n",
              "      <th>2019-01-01 00:00:00</th>\n",
              "      <td>7.00</td>\n",
              "      <td>10.48</td>\n",
              "      <td>9.45</td>\n",
              "      <td>8.18</td>\n",
              "      <td>9.17</td>\n",
              "      <td>9.45</td>\n",
              "      <td>8.25</td>\n",
              "      <td>15.09</td>\n",
              "      <td>10.62</td>\n",
              "      <td>8.95</td>\n",
              "      <td>...</td>\n",
              "      <td>197.50</td>\n",
              "      <td>27.88</td>\n",
              "      <td>226.00</td>\n",
              "      <td>234.62</td>\n",
              "      <td>169.14</td>\n",
              "      <td>249.74</td>\n",
              "      <td>60.80</td>\n",
              "      <td>251.35</td>\n",
              "      <td>217.20</td>\n",
              "      <td>308.88</td>\n",
              "    </tr>\n",
              "    <tr>\n",
              "      <th>2019-01-01 01:00:00</th>\n",
              "      <td>6.43</td>\n",
              "      <td>9.90</td>\n",
              "      <td>8.90</td>\n",
              "      <td>7.68</td>\n",
              "      <td>8.95</td>\n",
              "      <td>9.10</td>\n",
              "      <td>8.08</td>\n",
              "      <td>15.44</td>\n",
              "      <td>10.30</td>\n",
              "      <td>8.20</td>\n",
              "      <td>...</td>\n",
              "      <td>228.75</td>\n",
              "      <td>29.45</td>\n",
              "      <td>197.25</td>\n",
              "      <td>259.38</td>\n",
              "      <td>177.94</td>\n",
              "      <td>273.25</td>\n",
              "      <td>92.10</td>\n",
              "      <td>236.77</td>\n",
              "      <td>175.20</td>\n",
              "      <td>289.20</td>\n",
              "    </tr>\n",
              "    <tr>\n",
              "      <th>2019-01-01 02:00:00</th>\n",
              "      <td>6.68</td>\n",
              "      <td>9.53</td>\n",
              "      <td>8.62</td>\n",
              "      <td>7.45</td>\n",
              "      <td>8.43</td>\n",
              "      <td>8.95</td>\n",
              "      <td>8.15</td>\n",
              "      <td>14.77</td>\n",
              "      <td>10.53</td>\n",
              "      <td>7.95</td>\n",
              "      <td>...</td>\n",
              "      <td>158.25</td>\n",
              "      <td>31.00</td>\n",
              "      <td>202.00</td>\n",
              "      <td>286.40</td>\n",
              "      <td>171.80</td>\n",
              "      <td>250.03</td>\n",
              "      <td>122.65</td>\n",
              "      <td>243.70</td>\n",
              "      <td>250.62</td>\n",
              "      <td>273.15</td>\n",
              "    </tr>\n",
              "    <tr>\n",
              "      <th>2019-01-01 03:00:00</th>\n",
              "      <td>6.15</td>\n",
              "      <td>9.20</td>\n",
              "      <td>8.15</td>\n",
              "      <td>6.70</td>\n",
              "      <td>7.98</td>\n",
              "      <td>8.45</td>\n",
              "      <td>7.62</td>\n",
              "      <td>14.02</td>\n",
              "      <td>10.50</td>\n",
              "      <td>7.90</td>\n",
              "      <td>...</td>\n",
              "      <td>91.00</td>\n",
              "      <td>21.85</td>\n",
              "      <td>197.75</td>\n",
              "      <td>279.88</td>\n",
              "      <td>174.45</td>\n",
              "      <td>223.37</td>\n",
              "      <td>41.62</td>\n",
              "      <td>207.57</td>\n",
              "      <td>251.33</td>\n",
              "      <td>267.30</td>\n",
              "    </tr>\n",
              "    <tr>\n",
              "      <th>2019-01-01 04:00:00</th>\n",
              "      <td>5.77</td>\n",
              "      <td>9.13</td>\n",
              "      <td>7.60</td>\n",
              "      <td>6.45</td>\n",
              "      <td>7.80</td>\n",
              "      <td>8.28</td>\n",
              "      <td>7.10</td>\n",
              "      <td>13.38</td>\n",
              "      <td>9.47</td>\n",
              "      <td>7.75</td>\n",
              "      <td>...</td>\n",
              "      <td>213.25</td>\n",
              "      <td>27.32</td>\n",
              "      <td>230.50</td>\n",
              "      <td>261.15</td>\n",
              "      <td>185.57</td>\n",
              "      <td>252.47</td>\n",
              "      <td>95.32</td>\n",
              "      <td>162.85</td>\n",
              "      <td>265.75</td>\n",
              "      <td>261.98</td>\n",
              "    </tr>\n",
              "  </tbody>\n",
              "</table>\n",
              "<p>5 rows × 112 columns</p>\n",
              "</div>\n",
              "      <button class=\"colab-df-convert\" onclick=\"convertToInteractive('df-e38ee68f-7494-419d-8ca1-5a5c8e4b1f92')\"\n",
              "              title=\"Convert this dataframe to an interactive table.\"\n",
              "              style=\"display:none;\">\n",
              "        \n",
              "  <svg xmlns=\"http://www.w3.org/2000/svg\" height=\"24px\"viewBox=\"0 0 24 24\"\n",
              "       width=\"24px\">\n",
              "    <path d=\"M0 0h24v24H0V0z\" fill=\"none\"/>\n",
              "    <path d=\"M18.56 5.44l.94 2.06.94-2.06 2.06-.94-2.06-.94-.94-2.06-.94 2.06-2.06.94zm-11 1L8.5 8.5l.94-2.06 2.06-.94-2.06-.94L8.5 2.5l-.94 2.06-2.06.94zm10 10l.94 2.06.94-2.06 2.06-.94-2.06-.94-.94-2.06-.94 2.06-2.06.94z\"/><path d=\"M17.41 7.96l-1.37-1.37c-.4-.4-.92-.59-1.43-.59-.52 0-1.04.2-1.43.59L10.3 9.45l-7.72 7.72c-.78.78-.78 2.05 0 2.83L4 21.41c.39.39.9.59 1.41.59.51 0 1.02-.2 1.41-.59l7.78-7.78 2.81-2.81c.8-.78.8-2.07 0-2.86zM5.41 20L4 18.59l7.72-7.72 1.47 1.35L5.41 20z\"/>\n",
              "  </svg>\n",
              "      </button>\n",
              "      \n",
              "  <style>\n",
              "    .colab-df-container {\n",
              "      display:flex;\n",
              "      flex-wrap:wrap;\n",
              "      gap: 12px;\n",
              "    }\n",
              "\n",
              "    .colab-df-convert {\n",
              "      background-color: #E8F0FE;\n",
              "      border: none;\n",
              "      border-radius: 50%;\n",
              "      cursor: pointer;\n",
              "      display: none;\n",
              "      fill: #1967D2;\n",
              "      height: 32px;\n",
              "      padding: 0 0 0 0;\n",
              "      width: 32px;\n",
              "    }\n",
              "\n",
              "    .colab-df-convert:hover {\n",
              "      background-color: #E2EBFA;\n",
              "      box-shadow: 0px 1px 2px rgba(60, 64, 67, 0.3), 0px 1px 3px 1px rgba(60, 64, 67, 0.15);\n",
              "      fill: #174EA6;\n",
              "    }\n",
              "\n",
              "    [theme=dark] .colab-df-convert {\n",
              "      background-color: #3B4455;\n",
              "      fill: #D2E3FC;\n",
              "    }\n",
              "\n",
              "    [theme=dark] .colab-df-convert:hover {\n",
              "      background-color: #434B5C;\n",
              "      box-shadow: 0px 1px 3px 1px rgba(0, 0, 0, 0.15);\n",
              "      filter: drop-shadow(0px 1px 2px rgba(0, 0, 0, 0.3));\n",
              "      fill: #FFFFFF;\n",
              "    }\n",
              "  </style>\n",
              "\n",
              "      <script>\n",
              "        const buttonEl =\n",
              "          document.querySelector('#df-e38ee68f-7494-419d-8ca1-5a5c8e4b1f92 button.colab-df-convert');\n",
              "        buttonEl.style.display =\n",
              "          google.colab.kernel.accessAllowed ? 'block' : 'none';\n",
              "\n",
              "        async function convertToInteractive(key) {\n",
              "          const element = document.querySelector('#df-e38ee68f-7494-419d-8ca1-5a5c8e4b1f92');\n",
              "          const dataTable =\n",
              "            await google.colab.kernel.invokeFunction('convertToInteractive',\n",
              "                                                     [key], {});\n",
              "          if (!dataTable) return;\n",
              "\n",
              "          const docLinkHtml = 'Like what you see? Visit the ' +\n",
              "            '<a target=\"_blank\" href=https://colab.research.google.com/notebooks/data_table.ipynb>data table notebook</a>'\n",
              "            + ' to learn more about interactive tables.';\n",
              "          element.innerHTML = '';\n",
              "          dataTable['output_type'] = 'display_data';\n",
              "          await google.colab.output.renderOutput(dataTable, element);\n",
              "          const docLink = document.createElement('div');\n",
              "          docLink.innerHTML = docLinkHtml;\n",
              "          element.appendChild(docLink);\n",
              "        }\n",
              "      </script>\n",
              "    </div>\n",
              "  </div>\n",
              "  "
            ],
            "text/plain": [
              "                     at_Alipur  at_AnandVihar  at_AshokVihar  at_Bawana  \\\n",
              "Timestamp                                                                 \n",
              "2019-01-01 00:00:00       7.00          10.48           9.45       8.18   \n",
              "2019-01-01 01:00:00       6.43           9.90           8.90       7.68   \n",
              "2019-01-01 02:00:00       6.68           9.53           8.62       7.45   \n",
              "2019-01-01 03:00:00       6.15           9.20           8.15       6.70   \n",
              "2019-01-01 04:00:00       5.77           9.13           7.60       6.45   \n",
              "\n",
              "                     at_DrKarniShootingRange  at_DTU  at_DwarkaSector8  \\\n",
              "Timestamp                                                                \n",
              "2019-01-01 00:00:00                     9.17    9.45              8.25   \n",
              "2019-01-01 01:00:00                     8.95    9.10              8.08   \n",
              "2019-01-01 02:00:00                     8.43    8.95              8.15   \n",
              "2019-01-01 03:00:00                     7.98    8.45              7.62   \n",
              "2019-01-01 04:00:00                     7.80    8.28              7.10   \n",
              "\n",
              "                     at_IHBASDilshadGarden  at_Jahangirpuri  \\\n",
              "Timestamp                                                     \n",
              "2019-01-01 00:00:00                  15.09            10.62   \n",
              "2019-01-01 01:00:00                  15.44            10.30   \n",
              "2019-01-01 02:00:00                  14.77            10.53   \n",
              "2019-01-01 03:00:00                  14.02            10.50   \n",
              "2019-01-01 04:00:00                  13.38             9.47   \n",
              "\n",
              "                     at_JawaharlalNehruStadium  ...  wd_PunjabiBagh  wd_Pusa  \\\n",
              "Timestamp                                       ...                            \n",
              "2019-01-01 00:00:00                       8.95  ...          197.50    27.88   \n",
              "2019-01-01 01:00:00                       8.20  ...          228.75    29.45   \n",
              "2019-01-01 02:00:00                       7.95  ...          158.25    31.00   \n",
              "2019-01-01 03:00:00                       7.90  ...           91.00    21.85   \n",
              "2019-01-01 04:00:00                       7.75  ...          213.25    27.32   \n",
              "\n",
              "                     wd_RKPuram  wd_Rohini  wd_Shadipur  wd_Sirifort  \\\n",
              "Timestamp                                                              \n",
              "2019-01-01 00:00:00      226.00     234.62       169.14       249.74   \n",
              "2019-01-01 01:00:00      197.25     259.38       177.94       273.25   \n",
              "2019-01-01 02:00:00      202.00     286.40       171.80       250.03   \n",
              "2019-01-01 03:00:00      197.75     279.88       174.45       223.37   \n",
              "2019-01-01 04:00:00      230.50     261.15       185.57       252.47   \n",
              "\n",
              "                     wd_SoniaVihar  wd_SriAurobindoMarg  wd_VivekVihar  \\\n",
              "Timestamp                                                                \n",
              "2019-01-01 00:00:00          60.80               251.35         217.20   \n",
              "2019-01-01 01:00:00          92.10               236.77         175.20   \n",
              "2019-01-01 02:00:00         122.65               243.70         250.62   \n",
              "2019-01-01 03:00:00          41.62               207.57         251.33   \n",
              "2019-01-01 04:00:00          95.32               162.85         265.75   \n",
              "\n",
              "                     wd_Wazirpur  \n",
              "Timestamp                         \n",
              "2019-01-01 00:00:00       308.88  \n",
              "2019-01-01 01:00:00       289.20  \n",
              "2019-01-01 02:00:00       273.15  \n",
              "2019-01-01 03:00:00       267.30  \n",
              "2019-01-01 04:00:00       261.98  \n",
              "\n",
              "[5 rows x 112 columns]"
            ]
          },
          "execution_count": 52,
          "metadata": {},
          "output_type": "execute_result"
        }
      ],
      "source": [
        "df_meo.head()"
      ]
    },
    {
      "cell_type": "markdown",
      "metadata": {
        "id": "OgsDYOblVeJS"
      },
      "source": [
        "#Combining datasets and function definitions"
      ]
    },
    {
      "cell_type": "code",
      "execution_count": null,
      "metadata": {
        "id": "sVyK8pEfVhWD"
      },
      "outputs": [],
      "source": [
        "from sklearn.model_selection import GridSearchCV\n",
        "from sklearn.linear_model import LinearRegression, RidgeCV, MultiTaskLassoCV, LassoCV\n",
        "from sklearn.metrics import mean_squared_error\n",
        "from sklearn.ensemble import RandomForestRegressor\n",
        "from sklearn.svm import SVR\n",
        "from sklearn.multioutput import MultiOutputRegressor\n",
        "from sklearn.ensemble import GradientBoostingRegressor\n",
        "import lightgbm as lgb\n",
        "import tensorflow as tf"
      ]
    },
    {
      "cell_type": "code",
      "execution_count": null,
      "metadata": {
        "id": "wl8xHR7ma4st"
      },
      "outputs": [],
      "source": [
        "df_aqi = pd.DataFrame(df_final)"
      ]
    },
    {
      "cell_type": "code",
      "execution_count": null,
      "metadata": {
        "colab": {
          "base_uri": "https://localhost:8080/",
          "height": 504
        },
        "id": "QxFQchCheRtw",
        "outputId": "8cba3069-c975-4722-8e99-4b3c23fb8762"
      },
      "outputs": [
        {
          "data": {
            "text/html": [
              "\n",
              "  <div id=\"df-8579648d-238a-4295-a959-003899ee9a65\">\n",
              "    <div class=\"colab-df-container\">\n",
              "      <div>\n",
              "<style scoped>\n",
              "    .dataframe tbody tr th:only-of-type {\n",
              "        vertical-align: middle;\n",
              "    }\n",
              "\n",
              "    .dataframe tbody tr th {\n",
              "        vertical-align: top;\n",
              "    }\n",
              "\n",
              "    .dataframe thead th {\n",
              "        text-align: right;\n",
              "    }\n",
              "</style>\n",
              "<table border=\"1\" class=\"dataframe\">\n",
              "  <thead>\n",
              "    <tr style=\"text-align: right;\">\n",
              "      <th></th>\n",
              "      <th>aqi_Alipur</th>\n",
              "      <th>aqi_AnandVihar</th>\n",
              "      <th>aqi_AshokVihar</th>\n",
              "      <th>aqi_Bawana</th>\n",
              "      <th>aqi_DrKarniShootingRange</th>\n",
              "      <th>aqi_DTU</th>\n",
              "      <th>aqi_DwarkaSector8</th>\n",
              "      <th>aqi_IHBASDilshadGarden</th>\n",
              "      <th>aqi_Jahangirpuri</th>\n",
              "      <th>aqi_JawaharlalNehruStadium</th>\n",
              "      <th>...</th>\n",
              "      <th>aqi_PunjabiBagh</th>\n",
              "      <th>aqi_Pusa</th>\n",
              "      <th>aqi_RKPuram</th>\n",
              "      <th>aqi_Rohini</th>\n",
              "      <th>aqi_Shadipur</th>\n",
              "      <th>aqi_Sirifort</th>\n",
              "      <th>aqi_SoniaVihar</th>\n",
              "      <th>aqi_SriAurobindoMarg</th>\n",
              "      <th>aqi_VivekVihar</th>\n",
              "      <th>aqi_Wazirpur</th>\n",
              "    </tr>\n",
              "    <tr>\n",
              "      <th>Timestamp</th>\n",
              "      <th></th>\n",
              "      <th></th>\n",
              "      <th></th>\n",
              "      <th></th>\n",
              "      <th></th>\n",
              "      <th></th>\n",
              "      <th></th>\n",
              "      <th></th>\n",
              "      <th></th>\n",
              "      <th></th>\n",
              "      <th></th>\n",
              "      <th></th>\n",
              "      <th></th>\n",
              "      <th></th>\n",
              "      <th></th>\n",
              "      <th></th>\n",
              "      <th></th>\n",
              "      <th></th>\n",
              "      <th></th>\n",
              "      <th></th>\n",
              "      <th></th>\n",
              "    </tr>\n",
              "  </thead>\n",
              "  <tbody>\n",
              "    <tr>\n",
              "      <th>2019-01-01 00:00:00</th>\n",
              "      <td>361.5</td>\n",
              "      <td>517.25</td>\n",
              "      <td>408.25</td>\n",
              "      <td>128.0</td>\n",
              "      <td>360.0</td>\n",
              "      <td>349.00</td>\n",
              "      <td>486.00</td>\n",
              "      <td>330.65</td>\n",
              "      <td>414.25</td>\n",
              "      <td>608.5</td>\n",
              "      <td>...</td>\n",
              "      <td>501.25</td>\n",
              "      <td>420.25</td>\n",
              "      <td>655.50</td>\n",
              "      <td>406.0</td>\n",
              "      <td>291.55</td>\n",
              "      <td>432.75</td>\n",
              "      <td>415.0</td>\n",
              "      <td>252.5</td>\n",
              "      <td>347.5</td>\n",
              "      <td>467.0</td>\n",
              "    </tr>\n",
              "    <tr>\n",
              "      <th>2019-01-01 01:00:00</th>\n",
              "      <td>348.0</td>\n",
              "      <td>531.25</td>\n",
              "      <td>466.75</td>\n",
              "      <td>138.0</td>\n",
              "      <td>312.0</td>\n",
              "      <td>374.75</td>\n",
              "      <td>401.75</td>\n",
              "      <td>316.53</td>\n",
              "      <td>402.00</td>\n",
              "      <td>677.0</td>\n",
              "      <td>...</td>\n",
              "      <td>521.25</td>\n",
              "      <td>475.75</td>\n",
              "      <td>583.50</td>\n",
              "      <td>401.0</td>\n",
              "      <td>371.05</td>\n",
              "      <td>401.75</td>\n",
              "      <td>533.0</td>\n",
              "      <td>289.5</td>\n",
              "      <td>307.0</td>\n",
              "      <td>483.0</td>\n",
              "    </tr>\n",
              "    <tr>\n",
              "      <th>2019-01-01 02:00:00</th>\n",
              "      <td>298.0</td>\n",
              "      <td>542.00</td>\n",
              "      <td>496.00</td>\n",
              "      <td>123.0</td>\n",
              "      <td>291.0</td>\n",
              "      <td>383.00</td>\n",
              "      <td>333.75</td>\n",
              "      <td>297.23</td>\n",
              "      <td>361.75</td>\n",
              "      <td>655.0</td>\n",
              "      <td>...</td>\n",
              "      <td>538.50</td>\n",
              "      <td>515.75</td>\n",
              "      <td>435.75</td>\n",
              "      <td>376.0</td>\n",
              "      <td>468.18</td>\n",
              "      <td>398.75</td>\n",
              "      <td>431.0</td>\n",
              "      <td>292.5</td>\n",
              "      <td>288.5</td>\n",
              "      <td>473.5</td>\n",
              "    </tr>\n",
              "    <tr>\n",
              "      <th>2019-01-01 03:00:00</th>\n",
              "      <td>276.5</td>\n",
              "      <td>547.50</td>\n",
              "      <td>467.25</td>\n",
              "      <td>125.0</td>\n",
              "      <td>287.0</td>\n",
              "      <td>337.75</td>\n",
              "      <td>256.75</td>\n",
              "      <td>279.30</td>\n",
              "      <td>329.75</td>\n",
              "      <td>550.5</td>\n",
              "      <td>...</td>\n",
              "      <td>465.25</td>\n",
              "      <td>487.25</td>\n",
              "      <td>351.50</td>\n",
              "      <td>340.0</td>\n",
              "      <td>458.30</td>\n",
              "      <td>364.75</td>\n",
              "      <td>414.0</td>\n",
              "      <td>283.5</td>\n",
              "      <td>294.0</td>\n",
              "      <td>496.0</td>\n",
              "    </tr>\n",
              "    <tr>\n",
              "      <th>2019-01-01 04:00:00</th>\n",
              "      <td>295.0</td>\n",
              "      <td>497.00</td>\n",
              "      <td>453.25</td>\n",
              "      <td>130.0</td>\n",
              "      <td>289.0</td>\n",
              "      <td>387.00</td>\n",
              "      <td>222.25</td>\n",
              "      <td>258.45</td>\n",
              "      <td>346.00</td>\n",
              "      <td>441.0</td>\n",
              "      <td>...</td>\n",
              "      <td>361.00</td>\n",
              "      <td>454.50</td>\n",
              "      <td>319.75</td>\n",
              "      <td>371.0</td>\n",
              "      <td>417.15</td>\n",
              "      <td>327.75</td>\n",
              "      <td>381.0</td>\n",
              "      <td>264.5</td>\n",
              "      <td>334.0</td>\n",
              "      <td>513.0</td>\n",
              "    </tr>\n",
              "  </tbody>\n",
              "</table>\n",
              "<p>5 rows × 28 columns</p>\n",
              "</div>\n",
              "      <button class=\"colab-df-convert\" onclick=\"convertToInteractive('df-8579648d-238a-4295-a959-003899ee9a65')\"\n",
              "              title=\"Convert this dataframe to an interactive table.\"\n",
              "              style=\"display:none;\">\n",
              "        \n",
              "  <svg xmlns=\"http://www.w3.org/2000/svg\" height=\"24px\"viewBox=\"0 0 24 24\"\n",
              "       width=\"24px\">\n",
              "    <path d=\"M0 0h24v24H0V0z\" fill=\"none\"/>\n",
              "    <path d=\"M18.56 5.44l.94 2.06.94-2.06 2.06-.94-2.06-.94-.94-2.06-.94 2.06-2.06.94zm-11 1L8.5 8.5l.94-2.06 2.06-.94-2.06-.94L8.5 2.5l-.94 2.06-2.06.94zm10 10l.94 2.06.94-2.06 2.06-.94-2.06-.94-.94-2.06-.94 2.06-2.06.94z\"/><path d=\"M17.41 7.96l-1.37-1.37c-.4-.4-.92-.59-1.43-.59-.52 0-1.04.2-1.43.59L10.3 9.45l-7.72 7.72c-.78.78-.78 2.05 0 2.83L4 21.41c.39.39.9.59 1.41.59.51 0 1.02-.2 1.41-.59l7.78-7.78 2.81-2.81c.8-.78.8-2.07 0-2.86zM5.41 20L4 18.59l7.72-7.72 1.47 1.35L5.41 20z\"/>\n",
              "  </svg>\n",
              "      </button>\n",
              "      \n",
              "  <style>\n",
              "    .colab-df-container {\n",
              "      display:flex;\n",
              "      flex-wrap:wrap;\n",
              "      gap: 12px;\n",
              "    }\n",
              "\n",
              "    .colab-df-convert {\n",
              "      background-color: #E8F0FE;\n",
              "      border: none;\n",
              "      border-radius: 50%;\n",
              "      cursor: pointer;\n",
              "      display: none;\n",
              "      fill: #1967D2;\n",
              "      height: 32px;\n",
              "      padding: 0 0 0 0;\n",
              "      width: 32px;\n",
              "    }\n",
              "\n",
              "    .colab-df-convert:hover {\n",
              "      background-color: #E2EBFA;\n",
              "      box-shadow: 0px 1px 2px rgba(60, 64, 67, 0.3), 0px 1px 3px 1px rgba(60, 64, 67, 0.15);\n",
              "      fill: #174EA6;\n",
              "    }\n",
              "\n",
              "    [theme=dark] .colab-df-convert {\n",
              "      background-color: #3B4455;\n",
              "      fill: #D2E3FC;\n",
              "    }\n",
              "\n",
              "    [theme=dark] .colab-df-convert:hover {\n",
              "      background-color: #434B5C;\n",
              "      box-shadow: 0px 1px 3px 1px rgba(0, 0, 0, 0.15);\n",
              "      filter: drop-shadow(0px 1px 2px rgba(0, 0, 0, 0.3));\n",
              "      fill: #FFFFFF;\n",
              "    }\n",
              "  </style>\n",
              "\n",
              "      <script>\n",
              "        const buttonEl =\n",
              "          document.querySelector('#df-8579648d-238a-4295-a959-003899ee9a65 button.colab-df-convert');\n",
              "        buttonEl.style.display =\n",
              "          google.colab.kernel.accessAllowed ? 'block' : 'none';\n",
              "\n",
              "        async function convertToInteractive(key) {\n",
              "          const element = document.querySelector('#df-8579648d-238a-4295-a959-003899ee9a65');\n",
              "          const dataTable =\n",
              "            await google.colab.kernel.invokeFunction('convertToInteractive',\n",
              "                                                     [key], {});\n",
              "          if (!dataTable) return;\n",
              "\n",
              "          const docLinkHtml = 'Like what you see? Visit the ' +\n",
              "            '<a target=\"_blank\" href=https://colab.research.google.com/notebooks/data_table.ipynb>data table notebook</a>'\n",
              "            + ' to learn more about interactive tables.';\n",
              "          element.innerHTML = '';\n",
              "          dataTable['output_type'] = 'display_data';\n",
              "          await google.colab.output.renderOutput(dataTable, element);\n",
              "          const docLink = document.createElement('div');\n",
              "          docLink.innerHTML = docLinkHtml;\n",
              "          element.appendChild(docLink);\n",
              "        }\n",
              "      </script>\n",
              "    </div>\n",
              "  </div>\n",
              "  "
            ],
            "text/plain": [
              "                     aqi_Alipur  aqi_AnandVihar  aqi_AshokVihar  aqi_Bawana  \\\n",
              "Timestamp                                                                     \n",
              "2019-01-01 00:00:00       361.5          517.25          408.25       128.0   \n",
              "2019-01-01 01:00:00       348.0          531.25          466.75       138.0   \n",
              "2019-01-01 02:00:00       298.0          542.00          496.00       123.0   \n",
              "2019-01-01 03:00:00       276.5          547.50          467.25       125.0   \n",
              "2019-01-01 04:00:00       295.0          497.00          453.25       130.0   \n",
              "\n",
              "                     aqi_DrKarniShootingRange  aqi_DTU  aqi_DwarkaSector8  \\\n",
              "Timestamp                                                                   \n",
              "2019-01-01 00:00:00                     360.0   349.00             486.00   \n",
              "2019-01-01 01:00:00                     312.0   374.75             401.75   \n",
              "2019-01-01 02:00:00                     291.0   383.00             333.75   \n",
              "2019-01-01 03:00:00                     287.0   337.75             256.75   \n",
              "2019-01-01 04:00:00                     289.0   387.00             222.25   \n",
              "\n",
              "                     aqi_IHBASDilshadGarden  aqi_Jahangirpuri  \\\n",
              "Timestamp                                                       \n",
              "2019-01-01 00:00:00                  330.65            414.25   \n",
              "2019-01-01 01:00:00                  316.53            402.00   \n",
              "2019-01-01 02:00:00                  297.23            361.75   \n",
              "2019-01-01 03:00:00                  279.30            329.75   \n",
              "2019-01-01 04:00:00                  258.45            346.00   \n",
              "\n",
              "                     aqi_JawaharlalNehruStadium  ...  aqi_PunjabiBagh  \\\n",
              "Timestamp                                        ...                    \n",
              "2019-01-01 00:00:00                       608.5  ...           501.25   \n",
              "2019-01-01 01:00:00                       677.0  ...           521.25   \n",
              "2019-01-01 02:00:00                       655.0  ...           538.50   \n",
              "2019-01-01 03:00:00                       550.5  ...           465.25   \n",
              "2019-01-01 04:00:00                       441.0  ...           361.00   \n",
              "\n",
              "                     aqi_Pusa  aqi_RKPuram  aqi_Rohini  aqi_Shadipur  \\\n",
              "Timestamp                                                              \n",
              "2019-01-01 00:00:00    420.25       655.50       406.0        291.55   \n",
              "2019-01-01 01:00:00    475.75       583.50       401.0        371.05   \n",
              "2019-01-01 02:00:00    515.75       435.75       376.0        468.18   \n",
              "2019-01-01 03:00:00    487.25       351.50       340.0        458.30   \n",
              "2019-01-01 04:00:00    454.50       319.75       371.0        417.15   \n",
              "\n",
              "                     aqi_Sirifort  aqi_SoniaVihar  aqi_SriAurobindoMarg  \\\n",
              "Timestamp                                                                 \n",
              "2019-01-01 00:00:00        432.75           415.0                 252.5   \n",
              "2019-01-01 01:00:00        401.75           533.0                 289.5   \n",
              "2019-01-01 02:00:00        398.75           431.0                 292.5   \n",
              "2019-01-01 03:00:00        364.75           414.0                 283.5   \n",
              "2019-01-01 04:00:00        327.75           381.0                 264.5   \n",
              "\n",
              "                     aqi_VivekVihar  aqi_Wazirpur  \n",
              "Timestamp                                          \n",
              "2019-01-01 00:00:00           347.5         467.0  \n",
              "2019-01-01 01:00:00           307.0         483.0  \n",
              "2019-01-01 02:00:00           288.5         473.5  \n",
              "2019-01-01 03:00:00           294.0         496.0  \n",
              "2019-01-01 04:00:00           334.0         513.0  \n",
              "\n",
              "[5 rows x 28 columns]"
            ]
          },
          "execution_count": 55,
          "metadata": {},
          "output_type": "execute_result"
        }
      ],
      "source": [
        "df_aqi.head()"
      ]
    },
    {
      "cell_type": "code",
      "execution_count": null,
      "metadata": {
        "id": "z7odk-Qifx8l"
      },
      "outputs": [],
      "source": [
        "sensors = ['Alipur', 'AnandVihar', 'AshokVihar', 'Bawana', 'DrKarniShootingRange',\n",
        "       'DTU', 'DwarkaSector8', 'IHBASDilshadGarden', 'Jahangirpuri',\n",
        "       'JawaharlalNehruStadium', 'MajorDhyanChandNationalStadium',\n",
        "       'MandirMarg', 'Mundka', 'Najafnagar', 'Narela', 'NehruNagar',\n",
        "       'OkhlaPhase2', 'Patparganj', 'PunjabiBagh', 'Pusa', 'RKPuram', 'Rohini',\n",
        "       'Shadipur', 'Sirifort', 'SoniaVihar', 'SriAurobindoMarg', 'VivekVihar',\n",
        "       'Wazirpur']"
      ]
    },
    {
      "cell_type": "code",
      "execution_count": null,
      "metadata": {
        "id": "lVsMQqXb-BqO"
      },
      "outputs": [],
      "source": [
        "df = pd.merge(df_aqi,df_meo,how='left',left_index=True,right_index=True)"
      ]
    },
    {
      "cell_type": "code",
      "execution_count": null,
      "metadata": {
        "id": "SrX4I9hQic24"
      },
      "outputs": [],
      "source": [
        "df.replace(0.0,np.NaN,inplace=True)"
      ]
    },
    {
      "cell_type": "code",
      "execution_count": null,
      "metadata": {
        "colab": {
          "base_uri": "https://localhost:8080/",
          "height": 504
        },
        "id": "7BE48zA8Rc0a",
        "outputId": "c5cd4d7c-498f-4fc1-a3a9-c5d5cabc9d5a"
      },
      "outputs": [
        {
          "data": {
            "text/html": [
              "\n",
              "  <div id=\"df-3de7f893-0b7b-4f3a-bf5b-baccefa95a70\">\n",
              "    <div class=\"colab-df-container\">\n",
              "      <div>\n",
              "<style scoped>\n",
              "    .dataframe tbody tr th:only-of-type {\n",
              "        vertical-align: middle;\n",
              "    }\n",
              "\n",
              "    .dataframe tbody tr th {\n",
              "        vertical-align: top;\n",
              "    }\n",
              "\n",
              "    .dataframe thead th {\n",
              "        text-align: right;\n",
              "    }\n",
              "</style>\n",
              "<table border=\"1\" class=\"dataframe\">\n",
              "  <thead>\n",
              "    <tr style=\"text-align: right;\">\n",
              "      <th></th>\n",
              "      <th>aqi_Alipur</th>\n",
              "      <th>aqi_AnandVihar</th>\n",
              "      <th>aqi_AshokVihar</th>\n",
              "      <th>aqi_Bawana</th>\n",
              "      <th>aqi_DrKarniShootingRange</th>\n",
              "      <th>aqi_DTU</th>\n",
              "      <th>aqi_DwarkaSector8</th>\n",
              "      <th>aqi_IHBASDilshadGarden</th>\n",
              "      <th>aqi_Jahangirpuri</th>\n",
              "      <th>aqi_JawaharlalNehruStadium</th>\n",
              "      <th>...</th>\n",
              "      <th>wd_PunjabiBagh</th>\n",
              "      <th>wd_Pusa</th>\n",
              "      <th>wd_RKPuram</th>\n",
              "      <th>wd_Rohini</th>\n",
              "      <th>wd_Shadipur</th>\n",
              "      <th>wd_Sirifort</th>\n",
              "      <th>wd_SoniaVihar</th>\n",
              "      <th>wd_SriAurobindoMarg</th>\n",
              "      <th>wd_VivekVihar</th>\n",
              "      <th>wd_Wazirpur</th>\n",
              "    </tr>\n",
              "    <tr>\n",
              "      <th>Timestamp</th>\n",
              "      <th></th>\n",
              "      <th></th>\n",
              "      <th></th>\n",
              "      <th></th>\n",
              "      <th></th>\n",
              "      <th></th>\n",
              "      <th></th>\n",
              "      <th></th>\n",
              "      <th></th>\n",
              "      <th></th>\n",
              "      <th></th>\n",
              "      <th></th>\n",
              "      <th></th>\n",
              "      <th></th>\n",
              "      <th></th>\n",
              "      <th></th>\n",
              "      <th></th>\n",
              "      <th></th>\n",
              "      <th></th>\n",
              "      <th></th>\n",
              "      <th></th>\n",
              "    </tr>\n",
              "  </thead>\n",
              "  <tbody>\n",
              "    <tr>\n",
              "      <th>2019-01-01 00:00:00</th>\n",
              "      <td>361.5</td>\n",
              "      <td>517.25</td>\n",
              "      <td>408.25</td>\n",
              "      <td>128.0</td>\n",
              "      <td>360.0</td>\n",
              "      <td>349.00</td>\n",
              "      <td>486.00</td>\n",
              "      <td>330.65</td>\n",
              "      <td>414.25</td>\n",
              "      <td>608.5</td>\n",
              "      <td>...</td>\n",
              "      <td>197.50</td>\n",
              "      <td>27.88</td>\n",
              "      <td>226.00</td>\n",
              "      <td>234.62</td>\n",
              "      <td>169.14</td>\n",
              "      <td>249.74</td>\n",
              "      <td>60.80</td>\n",
              "      <td>251.35</td>\n",
              "      <td>217.20</td>\n",
              "      <td>308.88</td>\n",
              "    </tr>\n",
              "    <tr>\n",
              "      <th>2019-01-01 01:00:00</th>\n",
              "      <td>348.0</td>\n",
              "      <td>531.25</td>\n",
              "      <td>466.75</td>\n",
              "      <td>138.0</td>\n",
              "      <td>312.0</td>\n",
              "      <td>374.75</td>\n",
              "      <td>401.75</td>\n",
              "      <td>316.53</td>\n",
              "      <td>402.00</td>\n",
              "      <td>677.0</td>\n",
              "      <td>...</td>\n",
              "      <td>228.75</td>\n",
              "      <td>29.45</td>\n",
              "      <td>197.25</td>\n",
              "      <td>259.38</td>\n",
              "      <td>177.94</td>\n",
              "      <td>273.25</td>\n",
              "      <td>92.10</td>\n",
              "      <td>236.77</td>\n",
              "      <td>175.20</td>\n",
              "      <td>289.20</td>\n",
              "    </tr>\n",
              "    <tr>\n",
              "      <th>2019-01-01 02:00:00</th>\n",
              "      <td>298.0</td>\n",
              "      <td>542.00</td>\n",
              "      <td>496.00</td>\n",
              "      <td>123.0</td>\n",
              "      <td>291.0</td>\n",
              "      <td>383.00</td>\n",
              "      <td>333.75</td>\n",
              "      <td>297.23</td>\n",
              "      <td>361.75</td>\n",
              "      <td>655.0</td>\n",
              "      <td>...</td>\n",
              "      <td>158.25</td>\n",
              "      <td>31.00</td>\n",
              "      <td>202.00</td>\n",
              "      <td>286.40</td>\n",
              "      <td>171.80</td>\n",
              "      <td>250.03</td>\n",
              "      <td>122.65</td>\n",
              "      <td>243.70</td>\n",
              "      <td>250.62</td>\n",
              "      <td>273.15</td>\n",
              "    </tr>\n",
              "    <tr>\n",
              "      <th>2019-01-01 03:00:00</th>\n",
              "      <td>276.5</td>\n",
              "      <td>547.50</td>\n",
              "      <td>467.25</td>\n",
              "      <td>125.0</td>\n",
              "      <td>287.0</td>\n",
              "      <td>337.75</td>\n",
              "      <td>256.75</td>\n",
              "      <td>279.30</td>\n",
              "      <td>329.75</td>\n",
              "      <td>550.5</td>\n",
              "      <td>...</td>\n",
              "      <td>91.00</td>\n",
              "      <td>21.85</td>\n",
              "      <td>197.75</td>\n",
              "      <td>279.88</td>\n",
              "      <td>174.45</td>\n",
              "      <td>223.37</td>\n",
              "      <td>41.62</td>\n",
              "      <td>207.57</td>\n",
              "      <td>251.33</td>\n",
              "      <td>267.30</td>\n",
              "    </tr>\n",
              "    <tr>\n",
              "      <th>2019-01-01 04:00:00</th>\n",
              "      <td>295.0</td>\n",
              "      <td>497.00</td>\n",
              "      <td>453.25</td>\n",
              "      <td>130.0</td>\n",
              "      <td>289.0</td>\n",
              "      <td>387.00</td>\n",
              "      <td>222.25</td>\n",
              "      <td>258.45</td>\n",
              "      <td>346.00</td>\n",
              "      <td>441.0</td>\n",
              "      <td>...</td>\n",
              "      <td>213.25</td>\n",
              "      <td>27.32</td>\n",
              "      <td>230.50</td>\n",
              "      <td>261.15</td>\n",
              "      <td>185.57</td>\n",
              "      <td>252.47</td>\n",
              "      <td>95.32</td>\n",
              "      <td>162.85</td>\n",
              "      <td>265.75</td>\n",
              "      <td>261.98</td>\n",
              "    </tr>\n",
              "  </tbody>\n",
              "</table>\n",
              "<p>5 rows × 140 columns</p>\n",
              "</div>\n",
              "      <button class=\"colab-df-convert\" onclick=\"convertToInteractive('df-3de7f893-0b7b-4f3a-bf5b-baccefa95a70')\"\n",
              "              title=\"Convert this dataframe to an interactive table.\"\n",
              "              style=\"display:none;\">\n",
              "        \n",
              "  <svg xmlns=\"http://www.w3.org/2000/svg\" height=\"24px\"viewBox=\"0 0 24 24\"\n",
              "       width=\"24px\">\n",
              "    <path d=\"M0 0h24v24H0V0z\" fill=\"none\"/>\n",
              "    <path d=\"M18.56 5.44l.94 2.06.94-2.06 2.06-.94-2.06-.94-.94-2.06-.94 2.06-2.06.94zm-11 1L8.5 8.5l.94-2.06 2.06-.94-2.06-.94L8.5 2.5l-.94 2.06-2.06.94zm10 10l.94 2.06.94-2.06 2.06-.94-2.06-.94-.94-2.06-.94 2.06-2.06.94z\"/><path d=\"M17.41 7.96l-1.37-1.37c-.4-.4-.92-.59-1.43-.59-.52 0-1.04.2-1.43.59L10.3 9.45l-7.72 7.72c-.78.78-.78 2.05 0 2.83L4 21.41c.39.39.9.59 1.41.59.51 0 1.02-.2 1.41-.59l7.78-7.78 2.81-2.81c.8-.78.8-2.07 0-2.86zM5.41 20L4 18.59l7.72-7.72 1.47 1.35L5.41 20z\"/>\n",
              "  </svg>\n",
              "      </button>\n",
              "      \n",
              "  <style>\n",
              "    .colab-df-container {\n",
              "      display:flex;\n",
              "      flex-wrap:wrap;\n",
              "      gap: 12px;\n",
              "    }\n",
              "\n",
              "    .colab-df-convert {\n",
              "      background-color: #E8F0FE;\n",
              "      border: none;\n",
              "      border-radius: 50%;\n",
              "      cursor: pointer;\n",
              "      display: none;\n",
              "      fill: #1967D2;\n",
              "      height: 32px;\n",
              "      padding: 0 0 0 0;\n",
              "      width: 32px;\n",
              "    }\n",
              "\n",
              "    .colab-df-convert:hover {\n",
              "      background-color: #E2EBFA;\n",
              "      box-shadow: 0px 1px 2px rgba(60, 64, 67, 0.3), 0px 1px 3px 1px rgba(60, 64, 67, 0.15);\n",
              "      fill: #174EA6;\n",
              "    }\n",
              "\n",
              "    [theme=dark] .colab-df-convert {\n",
              "      background-color: #3B4455;\n",
              "      fill: #D2E3FC;\n",
              "    }\n",
              "\n",
              "    [theme=dark] .colab-df-convert:hover {\n",
              "      background-color: #434B5C;\n",
              "      box-shadow: 0px 1px 3px 1px rgba(0, 0, 0, 0.15);\n",
              "      filter: drop-shadow(0px 1px 2px rgba(0, 0, 0, 0.3));\n",
              "      fill: #FFFFFF;\n",
              "    }\n",
              "  </style>\n",
              "\n",
              "      <script>\n",
              "        const buttonEl =\n",
              "          document.querySelector('#df-3de7f893-0b7b-4f3a-bf5b-baccefa95a70 button.colab-df-convert');\n",
              "        buttonEl.style.display =\n",
              "          google.colab.kernel.accessAllowed ? 'block' : 'none';\n",
              "\n",
              "        async function convertToInteractive(key) {\n",
              "          const element = document.querySelector('#df-3de7f893-0b7b-4f3a-bf5b-baccefa95a70');\n",
              "          const dataTable =\n",
              "            await google.colab.kernel.invokeFunction('convertToInteractive',\n",
              "                                                     [key], {});\n",
              "          if (!dataTable) return;\n",
              "\n",
              "          const docLinkHtml = 'Like what you see? Visit the ' +\n",
              "            '<a target=\"_blank\" href=https://colab.research.google.com/notebooks/data_table.ipynb>data table notebook</a>'\n",
              "            + ' to learn more about interactive tables.';\n",
              "          element.innerHTML = '';\n",
              "          dataTable['output_type'] = 'display_data';\n",
              "          await google.colab.output.renderOutput(dataTable, element);\n",
              "          const docLink = document.createElement('div');\n",
              "          docLink.innerHTML = docLinkHtml;\n",
              "          element.appendChild(docLink);\n",
              "        }\n",
              "      </script>\n",
              "    </div>\n",
              "  </div>\n",
              "  "
            ],
            "text/plain": [
              "                     aqi_Alipur  aqi_AnandVihar  aqi_AshokVihar  aqi_Bawana  \\\n",
              "Timestamp                                                                     \n",
              "2019-01-01 00:00:00       361.5          517.25          408.25       128.0   \n",
              "2019-01-01 01:00:00       348.0          531.25          466.75       138.0   \n",
              "2019-01-01 02:00:00       298.0          542.00          496.00       123.0   \n",
              "2019-01-01 03:00:00       276.5          547.50          467.25       125.0   \n",
              "2019-01-01 04:00:00       295.0          497.00          453.25       130.0   \n",
              "\n",
              "                     aqi_DrKarniShootingRange  aqi_DTU  aqi_DwarkaSector8  \\\n",
              "Timestamp                                                                   \n",
              "2019-01-01 00:00:00                     360.0   349.00             486.00   \n",
              "2019-01-01 01:00:00                     312.0   374.75             401.75   \n",
              "2019-01-01 02:00:00                     291.0   383.00             333.75   \n",
              "2019-01-01 03:00:00                     287.0   337.75             256.75   \n",
              "2019-01-01 04:00:00                     289.0   387.00             222.25   \n",
              "\n",
              "                     aqi_IHBASDilshadGarden  aqi_Jahangirpuri  \\\n",
              "Timestamp                                                       \n",
              "2019-01-01 00:00:00                  330.65            414.25   \n",
              "2019-01-01 01:00:00                  316.53            402.00   \n",
              "2019-01-01 02:00:00                  297.23            361.75   \n",
              "2019-01-01 03:00:00                  279.30            329.75   \n",
              "2019-01-01 04:00:00                  258.45            346.00   \n",
              "\n",
              "                     aqi_JawaharlalNehruStadium  ...  wd_PunjabiBagh  wd_Pusa  \\\n",
              "Timestamp                                        ...                            \n",
              "2019-01-01 00:00:00                       608.5  ...          197.50    27.88   \n",
              "2019-01-01 01:00:00                       677.0  ...          228.75    29.45   \n",
              "2019-01-01 02:00:00                       655.0  ...          158.25    31.00   \n",
              "2019-01-01 03:00:00                       550.5  ...           91.00    21.85   \n",
              "2019-01-01 04:00:00                       441.0  ...          213.25    27.32   \n",
              "\n",
              "                     wd_RKPuram  wd_Rohini  wd_Shadipur  wd_Sirifort  \\\n",
              "Timestamp                                                              \n",
              "2019-01-01 00:00:00      226.00     234.62       169.14       249.74   \n",
              "2019-01-01 01:00:00      197.25     259.38       177.94       273.25   \n",
              "2019-01-01 02:00:00      202.00     286.40       171.80       250.03   \n",
              "2019-01-01 03:00:00      197.75     279.88       174.45       223.37   \n",
              "2019-01-01 04:00:00      230.50     261.15       185.57       252.47   \n",
              "\n",
              "                     wd_SoniaVihar  wd_SriAurobindoMarg  wd_VivekVihar  \\\n",
              "Timestamp                                                                \n",
              "2019-01-01 00:00:00          60.80               251.35         217.20   \n",
              "2019-01-01 01:00:00          92.10               236.77         175.20   \n",
              "2019-01-01 02:00:00         122.65               243.70         250.62   \n",
              "2019-01-01 03:00:00          41.62               207.57         251.33   \n",
              "2019-01-01 04:00:00          95.32               162.85         265.75   \n",
              "\n",
              "                     wd_Wazirpur  \n",
              "Timestamp                         \n",
              "2019-01-01 00:00:00       308.88  \n",
              "2019-01-01 01:00:00       289.20  \n",
              "2019-01-01 02:00:00       273.15  \n",
              "2019-01-01 03:00:00       267.30  \n",
              "2019-01-01 04:00:00       261.98  \n",
              "\n",
              "[5 rows x 140 columns]"
            ]
          },
          "execution_count": 59,
          "metadata": {},
          "output_type": "execute_result"
        }
      ],
      "source": [
        "df.head()"
      ]
    },
    {
      "cell_type": "code",
      "execution_count": null,
      "metadata": {
        "id": "qSGIt3fQjWDv"
      },
      "outputs": [],
      "source": [
        "def masked_mse_tf(preds, labels, null_val=np.nan):\n",
        "    \"\"\"\n",
        "    Accuracy with masking.\n",
        "    :param preds:\n",
        "    :param labels:\n",
        "    :param null_val:\n",
        "    :return:\n",
        "    \"\"\"\n",
        "    if np.isnan(null_val):\n",
        "        mask = ~tf.is_nan(labels)\n",
        "    else:\n",
        "        mask = tf.not_equal(labels, null_val)\n",
        "    mask = tf.cast(mask, tf.float32)\n",
        "    mask /= tf.reduce_mean(mask)\n",
        "    mask = tf.where(tf.is_nan(mask), tf.zeros_like(mask), mask)\n",
        "    loss = tf.square(tf.subtract(preds, labels))\n",
        "    loss = loss * mask\n",
        "    loss = tf.where(tf.is_nan(loss), tf.zeros_like(loss), loss)\n",
        "    return tf.reduce_mean(loss)\n",
        "\n",
        "\n",
        "def masked_mae_tf(preds, labels, null_val=np.nan):\n",
        "    \"\"\"\n",
        "    Accuracy with masking.\n",
        "    :param preds:\n",
        "    :param labels:\n",
        "    :param null_val:\n",
        "    :return:\n",
        "    \"\"\"\n",
        "    if np.isnan(null_val):\n",
        "        mask = ~tf.is_nan(labels)\n",
        "    else:\n",
        "        mask = tf.not_equal(labels, null_val)\n",
        "    mask = tf.cast(mask, tf.float32)\n",
        "    mask /= tf.reduce_mean(mask)\n",
        "    mask = tf.where(tf.is_nan(mask), tf.zeros_like(mask), mask)\n",
        "    loss = tf.abs(tf.subtract(preds, labels))\n",
        "    loss = loss * mask\n",
        "    loss = tf.where(tf.is_nan(loss), tf.zeros_like(loss), loss)\n",
        "    return tf.reduce_mean(loss)\n",
        "\n",
        "\n",
        "def masked_rmse_tf(preds, labels, null_val=np.nan):\n",
        "    \"\"\"\n",
        "    Accuracy with masking.\n",
        "    :param preds:\n",
        "    :param labels:\n",
        "    :param null_val:\n",
        "    :return:\n",
        "    \"\"\"\n",
        "    return tf.sqrt(masked_mse_tf(preds=preds, labels=labels, null_val=null_val))\n",
        "\n",
        "\n",
        "def masked_rmse_np(preds, labels, null_val=np.nan):\n",
        "    return np.sqrt(masked_mse_np(preds=preds, labels=labels, null_val=null_val))\n",
        "\n",
        "\n",
        "def masked_mse_np(preds, labels, null_val=np.nan):\n",
        "    with np.errstate(divide='ignore', invalid='ignore'):\n",
        "        if np.isnan(null_val):\n",
        "            mask = ~np.isnan(labels)\n",
        "        else:\n",
        "            mask = np.not_equal(labels, null_val)\n",
        "        mask = mask.astype('float32')\n",
        "        mask /= np.mean(mask)\n",
        "        rmse = np.square(np.subtract(preds, labels)).astype('float32')\n",
        "        rmse = np.nan_to_num(rmse * mask)\n",
        "        return np.mean(rmse)\n",
        "\n",
        "\n",
        "def masked_mae_np(preds, labels, null_val=np.nan):\n",
        "    with np.errstate(divide='ignore', invalid='ignore'):\n",
        "        if np.isnan(null_val):\n",
        "            mask = ~np.isnan(labels)\n",
        "        else:\n",
        "            mask = np.not_equal(labels, null_val)\n",
        "        mask = mask.astype('float32')\n",
        "        mask /= np.mean(mask)\n",
        "        mae = np.abs(np.subtract(preds, labels)).astype('float32')\n",
        "        mae = np.nan_to_num(mae * mask)\n",
        "        return np.mean(mae)\n",
        "\n",
        "'''\n",
        "def masked_mape_np(preds, labels, null_val=np.nan):\n",
        "    with np.errstate(divide='ignore', invalid='ignore'):\n",
        "        if np.isnan(null_val):\n",
        "            mask = ~np.isnan(labels)\n",
        "        else:\n",
        "            mask = np.not_equal(labels, null_val)\n",
        "        mask = mask.astype('float32')\n",
        "        mask /= np.mean(mask)\n",
        "        mape = np.abs(np.divide(np.subtract(preds, labels).astype('float32'), labels))\n",
        "        mape = np.nan_to_num(mask * mape)\n",
        "        return np.mean(mape)\n",
        "'''\n",
        "def masked_mape_np(preds, labels, null_val=pd.NA):\n",
        "    with np.errstate(divide='ignore', invalid='ignore'):\n",
        "        if pd.isna(null_val):\n",
        "            mask = ~pd.isna(labels)\n",
        "        else:\n",
        "            mask = np.not_equal(labels, null_val)\n",
        "        mask = mask.astype('float32')\n",
        "        mask /= np.mean(mask)\n",
        "        mape = np.abs(np.divide(np.subtract(preds, labels).astype('float32'), labels))\n",
        "        mape = np.nan_to_num(mask * mape)\n",
        "        return np.mean(mape)\n",
        "\n",
        "\n",
        "# Builds loss function.\n",
        "def masked_mse_loss(scaler, null_val):\n",
        "    def loss(preds, labels):\n",
        "        if scaler:\n",
        "            preds = scaler.inverse_transform(preds)\n",
        "            labels = scaler.inverse_transform(labels)\n",
        "        return masked_mse_tf(preds=preds, labels=labels, null_val=null_val)\n",
        "\n",
        "    return loss\n",
        "\n",
        "\n",
        "def masked_rmse_loss(scaler, null_val):\n",
        "    def loss(preds, labels):\n",
        "        if scaler:\n",
        "            preds = scaler.inverse_transform(preds)\n",
        "            labels = scaler.inverse_transform(labels)\n",
        "        return masked_rmse_tf(preds=preds, labels=labels, null_val=null_val)\n",
        "\n",
        "    return loss\n",
        "\n",
        "\n",
        "def masked_mae_loss(scaler, null_val):\n",
        "    def loss(preds, labels):\n",
        "        if scaler:\n",
        "            preds = scaler.inverse_transform(preds)\n",
        "            labels = scaler.inverse_transform(labels)\n",
        "        mae = masked_mae_tf(preds=preds, labels=labels, null_val=null_val)\n",
        "        return mae\n",
        "\n",
        "    return loss\n",
        "\n",
        "\n",
        "def calculate_metrics(df_pred, df_test, null_val):\n",
        "    \"\"\"\n",
        "    Calculate the MAE, MAPE, RMSE\n",
        "    :param df_pred:\n",
        "    :param df_test:\n",
        "    :param null_val:\n",
        "    :return:\n",
        "    \"\"\"\n",
        "    mape = masked_mape_np(preds=df_pred.to_numpy(), labels=df_test.to_numpy(), null_val=null_val)\n",
        "    mae = masked_mae_np(preds=df_pred.to_numpy(), labels=df_test.to_numpy(), null_val=null_val)\n",
        "    rmse = masked_rmse_np(preds=df_pred.to_numpy(), labels=df_test.to_numpy(), null_val=null_val)\n",
        "    return [mae, mape, rmse]"
      ]
    },
    {
      "cell_type": "markdown",
      "metadata": {
        "id": "nrMM_4wPvhRR"
      },
      "source": [
        "#Baseline Algorithms"
      ]
    },
    {
      "cell_type": "markdown",
      "metadata": {
        "id": "3OMAUU7LkIJc"
      },
      "source": [
        "Lagged Variables\n",
        "Input - AQI(t), AQI(t-1),..., AQI(t-24) + Weather vars (t,....,t-24)\n",
        "\n",
        "Output - AQI(t+1), AQI(t+6), AQI(t+12), AQI(t+18), AQI(t+24) (Multi-output prediction)"
      ]
    },
    {
      "cell_type": "markdown",
      "metadata": {
        "id": "0yYpY2mEkLqP"
      },
      "source": [
        "###Linear Regression"
      ]
    },
    {
      "cell_type": "code",
      "execution_count": null,
      "metadata": {
        "colab": {
          "background_save": true,
          "base_uri": "https://localhost:8080/"
        },
        "id": "j1MuMHuGkEkK",
        "outputId": "34ace331-ffbb-48d1-dfb3-ef2d93e3faee"
      },
      "outputs": [
        {
          "name": "stderr",
          "output_type": "stream",
          "text": [
            "/usr/local/lib/python3.7/dist-packages/ipykernel_launcher.py:12: PerformanceWarning: DataFrame is highly fragmented.  This is usually the result of calling `frame.insert` many times, which has poor performance.  Consider joining all columns at once using pd.concat(axis=1) instead.  To get a de-fragmented frame, use `newframe = frame.copy()`\n",
            "  if sys.path[0] == '':\n",
            "/usr/local/lib/python3.7/dist-packages/ipykernel_launcher.py:16: PerformanceWarning: DataFrame is highly fragmented.  This is usually the result of calling `frame.insert` many times, which has poor performance.  Consider joining all columns at once using pd.concat(axis=1) instead.  To get a de-fragmented frame, use `newframe = frame.copy()`\n",
            "  app.launch_new_instance()\n",
            "/usr/local/lib/python3.7/dist-packages/pandas/core/generic.py:6392: SettingWithCopyWarning: \n",
            "A value is trying to be set on a copy of a slice from a DataFrame\n",
            "\n",
            "See the caveats in the documentation: https://pandas.pydata.org/pandas-docs/stable/user_guide/indexing.html#returning-a-view-versus-a-copy\n",
            "  return self._update_inplace(result)\n",
            "/usr/local/lib/python3.7/dist-packages/sklearn/linear_model/_coordinate_descent.py:626: ConvergenceWarning: Objective did not converge. You might want to increase the number of iterations. Duality gap: 24582.98639664054, tolerance: 24161.165841244972\n",
            "  coef_, l1_reg, l2_reg, X, y, max_iter, tol, rng, random\n"
          ]
        },
        {
          "name": "stdout",
          "output_type": "stream",
          "text": [
            "Alipur=22.88\n"
          ]
        },
        {
          "name": "stderr",
          "output_type": "stream",
          "text": [
            "/usr/local/lib/python3.7/dist-packages/ipykernel_launcher.py:12: PerformanceWarning: DataFrame is highly fragmented.  This is usually the result of calling `frame.insert` many times, which has poor performance.  Consider joining all columns at once using pd.concat(axis=1) instead.  To get a de-fragmented frame, use `newframe = frame.copy()`\n",
            "  if sys.path[0] == '':\n",
            "/usr/local/lib/python3.7/dist-packages/ipykernel_launcher.py:16: PerformanceWarning: DataFrame is highly fragmented.  This is usually the result of calling `frame.insert` many times, which has poor performance.  Consider joining all columns at once using pd.concat(axis=1) instead.  To get a de-fragmented frame, use `newframe = frame.copy()`\n",
            "  app.launch_new_instance()\n",
            "/usr/local/lib/python3.7/dist-packages/pandas/core/generic.py:6392: SettingWithCopyWarning: \n",
            "A value is trying to be set on a copy of a slice from a DataFrame\n",
            "\n",
            "See the caveats in the documentation: https://pandas.pydata.org/pandas-docs/stable/user_guide/indexing.html#returning-a-view-versus-a-copy\n",
            "  return self._update_inplace(result)\n",
            "/usr/local/lib/python3.7/dist-packages/sklearn/linear_model/_coordinate_descent.py:626: ConvergenceWarning: Objective did not converge. You might want to increase the number of iterations. Duality gap: 338625.0728492141, tolerance: 42612.402962003536\n",
            "  coef_, l1_reg, l2_reg, X, y, max_iter, tol, rng, random\n",
            "/usr/local/lib/python3.7/dist-packages/sklearn/linear_model/_coordinate_descent.py:626: ConvergenceWarning: Objective did not converge. You might want to increase the number of iterations. Duality gap: 1479301.9274624288, tolerance: 31179.921862713345\n",
            "  coef_, l1_reg, l2_reg, X, y, max_iter, tol, rng, random\n"
          ]
        },
        {
          "name": "stdout",
          "output_type": "stream",
          "text": [
            "AnandVihar=21.12\n"
          ]
        },
        {
          "name": "stderr",
          "output_type": "stream",
          "text": [
            "/usr/local/lib/python3.7/dist-packages/ipykernel_launcher.py:12: PerformanceWarning: DataFrame is highly fragmented.  This is usually the result of calling `frame.insert` many times, which has poor performance.  Consider joining all columns at once using pd.concat(axis=1) instead.  To get a de-fragmented frame, use `newframe = frame.copy()`\n",
            "  if sys.path[0] == '':\n",
            "/usr/local/lib/python3.7/dist-packages/ipykernel_launcher.py:16: PerformanceWarning: DataFrame is highly fragmented.  This is usually the result of calling `frame.insert` many times, which has poor performance.  Consider joining all columns at once using pd.concat(axis=1) instead.  To get a de-fragmented frame, use `newframe = frame.copy()`\n",
            "  app.launch_new_instance()\n",
            "/usr/local/lib/python3.7/dist-packages/pandas/core/generic.py:6392: SettingWithCopyWarning: \n",
            "A value is trying to be set on a copy of a slice from a DataFrame\n",
            "\n",
            "See the caveats in the documentation: https://pandas.pydata.org/pandas-docs/stable/user_guide/indexing.html#returning-a-view-versus-a-copy\n",
            "  return self._update_inplace(result)\n",
            "/usr/local/lib/python3.7/dist-packages/sklearn/linear_model/_coordinate_descent.py:626: ConvergenceWarning: Objective did not converge. You might want to increase the number of iterations. Duality gap: 89328.62308532, tolerance: 46923.74794163485\n",
            "  coef_, l1_reg, l2_reg, X, y, max_iter, tol, rng, random\n"
          ]
        },
        {
          "name": "stdout",
          "output_type": "stream",
          "text": [
            "AshokVihar=23.81\n"
          ]
        },
        {
          "name": "stderr",
          "output_type": "stream",
          "text": [
            "/usr/local/lib/python3.7/dist-packages/ipykernel_launcher.py:12: PerformanceWarning: DataFrame is highly fragmented.  This is usually the result of calling `frame.insert` many times, which has poor performance.  Consider joining all columns at once using pd.concat(axis=1) instead.  To get a de-fragmented frame, use `newframe = frame.copy()`\n",
            "  if sys.path[0] == '':\n",
            "/usr/local/lib/python3.7/dist-packages/ipykernel_launcher.py:16: PerformanceWarning: DataFrame is highly fragmented.  This is usually the result of calling `frame.insert` many times, which has poor performance.  Consider joining all columns at once using pd.concat(axis=1) instead.  To get a de-fragmented frame, use `newframe = frame.copy()`\n",
            "  app.launch_new_instance()\n",
            "/usr/local/lib/python3.7/dist-packages/pandas/core/generic.py:6392: SettingWithCopyWarning: \n",
            "A value is trying to be set on a copy of a slice from a DataFrame\n",
            "\n",
            "See the caveats in the documentation: https://pandas.pydata.org/pandas-docs/stable/user_guide/indexing.html#returning-a-view-versus-a-copy\n",
            "  return self._update_inplace(result)\n",
            "/usr/local/lib/python3.7/dist-packages/sklearn/linear_model/_coordinate_descent.py:626: ConvergenceWarning: Objective did not converge. You might want to increase the number of iterations. Duality gap: 300469.55814805627, tolerance: 49650.45415526981\n",
            "  coef_, l1_reg, l2_reg, X, y, max_iter, tol, rng, random\n"
          ]
        },
        {
          "name": "stdout",
          "output_type": "stream",
          "text": [
            "Bawana=23.98\n"
          ]
        },
        {
          "name": "stderr",
          "output_type": "stream",
          "text": [
            "/usr/local/lib/python3.7/dist-packages/ipykernel_launcher.py:12: PerformanceWarning: DataFrame is highly fragmented.  This is usually the result of calling `frame.insert` many times, which has poor performance.  Consider joining all columns at once using pd.concat(axis=1) instead.  To get a de-fragmented frame, use `newframe = frame.copy()`\n",
            "  if sys.path[0] == '':\n",
            "/usr/local/lib/python3.7/dist-packages/ipykernel_launcher.py:16: PerformanceWarning: DataFrame is highly fragmented.  This is usually the result of calling `frame.insert` many times, which has poor performance.  Consider joining all columns at once using pd.concat(axis=1) instead.  To get a de-fragmented frame, use `newframe = frame.copy()`\n",
            "  app.launch_new_instance()\n",
            "/usr/local/lib/python3.7/dist-packages/pandas/core/generic.py:6392: SettingWithCopyWarning: \n",
            "A value is trying to be set on a copy of a slice from a DataFrame\n",
            "\n",
            "See the caveats in the documentation: https://pandas.pydata.org/pandas-docs/stable/user_guide/indexing.html#returning-a-view-versus-a-copy\n",
            "  return self._update_inplace(result)\n",
            "/usr/local/lib/python3.7/dist-packages/sklearn/linear_model/_coordinate_descent.py:626: ConvergenceWarning: Objective did not converge. You might want to increase the number of iterations. Duality gap: 280211.1920553744, tolerance: 33557.9186133664\n",
            "  coef_, l1_reg, l2_reg, X, y, max_iter, tol, rng, random\n"
          ]
        },
        {
          "name": "stdout",
          "output_type": "stream",
          "text": [
            "DrKarniShootingRange=18.48\n"
          ]
        },
        {
          "name": "stderr",
          "output_type": "stream",
          "text": [
            "/usr/local/lib/python3.7/dist-packages/ipykernel_launcher.py:12: PerformanceWarning: DataFrame is highly fragmented.  This is usually the result of calling `frame.insert` many times, which has poor performance.  Consider joining all columns at once using pd.concat(axis=1) instead.  To get a de-fragmented frame, use `newframe = frame.copy()`\n",
            "  if sys.path[0] == '':\n",
            "/usr/local/lib/python3.7/dist-packages/ipykernel_launcher.py:16: PerformanceWarning: DataFrame is highly fragmented.  This is usually the result of calling `frame.insert` many times, which has poor performance.  Consider joining all columns at once using pd.concat(axis=1) instead.  To get a de-fragmented frame, use `newframe = frame.copy()`\n",
            "  app.launch_new_instance()\n",
            "/usr/local/lib/python3.7/dist-packages/pandas/core/generic.py:6392: SettingWithCopyWarning: \n",
            "A value is trying to be set on a copy of a slice from a DataFrame\n",
            "\n",
            "See the caveats in the documentation: https://pandas.pydata.org/pandas-docs/stable/user_guide/indexing.html#returning-a-view-versus-a-copy\n",
            "  return self._update_inplace(result)\n",
            "/usr/local/lib/python3.7/dist-packages/sklearn/linear_model/_coordinate_descent.py:626: ConvergenceWarning: Objective did not converge. You might want to increase the number of iterations. Duality gap: 188453.3478975147, tolerance: 29026.179451834807\n",
            "  coef_, l1_reg, l2_reg, X, y, max_iter, tol, rng, random\n",
            "/usr/local/lib/python3.7/dist-packages/sklearn/linear_model/_coordinate_descent.py:626: ConvergenceWarning: Objective did not converge. You might want to increase the number of iterations. Duality gap: 2744490.909155488, tolerance: 39438.55428120865\n",
            "  coef_, l1_reg, l2_reg, X, y, max_iter, tol, rng, random\n",
            "/usr/local/lib/python3.7/dist-packages/sklearn/linear_model/_coordinate_descent.py:626: ConvergenceWarning: Objective did not converge. You might want to increase the number of iterations. Duality gap: 485858.5578083098, tolerance: 28661.8523603238\n",
            "  coef_, l1_reg, l2_reg, X, y, max_iter, tol, rng, random\n"
          ]
        },
        {
          "name": "stdout",
          "output_type": "stream",
          "text": [
            "DTU=20.74\n"
          ]
        },
        {
          "name": "stderr",
          "output_type": "stream",
          "text": [
            "/usr/local/lib/python3.7/dist-packages/ipykernel_launcher.py:12: PerformanceWarning: DataFrame is highly fragmented.  This is usually the result of calling `frame.insert` many times, which has poor performance.  Consider joining all columns at once using pd.concat(axis=1) instead.  To get a de-fragmented frame, use `newframe = frame.copy()`\n",
            "  if sys.path[0] == '':\n",
            "/usr/local/lib/python3.7/dist-packages/ipykernel_launcher.py:16: PerformanceWarning: DataFrame is highly fragmented.  This is usually the result of calling `frame.insert` many times, which has poor performance.  Consider joining all columns at once using pd.concat(axis=1) instead.  To get a de-fragmented frame, use `newframe = frame.copy()`\n",
            "  app.launch_new_instance()\n",
            "/usr/local/lib/python3.7/dist-packages/pandas/core/generic.py:6392: SettingWithCopyWarning: \n",
            "A value is trying to be set on a copy of a slice from a DataFrame\n",
            "\n",
            "See the caveats in the documentation: https://pandas.pydata.org/pandas-docs/stable/user_guide/indexing.html#returning-a-view-versus-a-copy\n",
            "  return self._update_inplace(result)\n",
            "/usr/local/lib/python3.7/dist-packages/sklearn/linear_model/_coordinate_descent.py:626: ConvergenceWarning: Objective did not converge. You might want to increase the number of iterations. Duality gap: 463655.13151317835, tolerance: 36249.98440668258\n",
            "  coef_, l1_reg, l2_reg, X, y, max_iter, tol, rng, random\n",
            "/usr/local/lib/python3.7/dist-packages/sklearn/linear_model/_coordinate_descent.py:2450: ConvergenceWarning: Objective did not converge. You might want to increase the number of iterations. Duality gap: 94670.47329840064, tolerance: 44853.511634226044\n",
            "  random,\n",
            "/usr/local/lib/python3.7/dist-packages/ipykernel_launcher.py:12: PerformanceWarning: DataFrame is highly fragmented.  This is usually the result of calling `frame.insert` many times, which has poor performance.  Consider joining all columns at once using pd.concat(axis=1) instead.  To get a de-fragmented frame, use `newframe = frame.copy()`\n",
            "  if sys.path[0] == '':\n",
            "/usr/local/lib/python3.7/dist-packages/ipykernel_launcher.py:16: PerformanceWarning: DataFrame is highly fragmented.  This is usually the result of calling `frame.insert` many times, which has poor performance.  Consider joining all columns at once using pd.concat(axis=1) instead.  To get a de-fragmented frame, use `newframe = frame.copy()`\n",
            "  app.launch_new_instance()\n"
          ]
        },
        {
          "name": "stdout",
          "output_type": "stream",
          "text": [
            "DwarkaSector8=24.32\n"
          ]
        },
        {
          "name": "stderr",
          "output_type": "stream",
          "text": [
            "/usr/local/lib/python3.7/dist-packages/pandas/core/generic.py:6392: SettingWithCopyWarning: \n",
            "A value is trying to be set on a copy of a slice from a DataFrame\n",
            "\n",
            "See the caveats in the documentation: https://pandas.pydata.org/pandas-docs/stable/user_guide/indexing.html#returning-a-view-versus-a-copy\n",
            "  return self._update_inplace(result)\n",
            "/usr/local/lib/python3.7/dist-packages/sklearn/linear_model/_coordinate_descent.py:626: ConvergenceWarning: Objective did not converge. You might want to increase the number of iterations. Duality gap: 297930.49097275734, tolerance: 17845.522025811202\n",
            "  coef_, l1_reg, l2_reg, X, y, max_iter, tol, rng, random\n",
            "/usr/local/lib/python3.7/dist-packages/sklearn/linear_model/_coordinate_descent.py:626: ConvergenceWarning: Objective did not converge. You might want to increase the number of iterations. Duality gap: 1674781.1914437711, tolerance: 22987.11996281955\n",
            "  coef_, l1_reg, l2_reg, X, y, max_iter, tol, rng, random\n",
            "/usr/local/lib/python3.7/dist-packages/sklearn/linear_model/_coordinate_descent.py:626: ConvergenceWarning: Objective did not converge. You might want to increase the number of iterations. Duality gap: 245362.80994683504, tolerance: 16344.803756236231\n",
            "  coef_, l1_reg, l2_reg, X, y, max_iter, tol, rng, random\n"
          ]
        },
        {
          "name": "stdout",
          "output_type": "stream",
          "text": [
            "IHBASDilshadGarden=15.53\n"
          ]
        },
        {
          "name": "stderr",
          "output_type": "stream",
          "text": [
            "/usr/local/lib/python3.7/dist-packages/ipykernel_launcher.py:12: PerformanceWarning: DataFrame is highly fragmented.  This is usually the result of calling `frame.insert` many times, which has poor performance.  Consider joining all columns at once using pd.concat(axis=1) instead.  To get a de-fragmented frame, use `newframe = frame.copy()`\n",
            "  if sys.path[0] == '':\n",
            "/usr/local/lib/python3.7/dist-packages/ipykernel_launcher.py:16: PerformanceWarning: DataFrame is highly fragmented.  This is usually the result of calling `frame.insert` many times, which has poor performance.  Consider joining all columns at once using pd.concat(axis=1) instead.  To get a de-fragmented frame, use `newframe = frame.copy()`\n",
            "  app.launch_new_instance()\n",
            "/usr/local/lib/python3.7/dist-packages/pandas/core/generic.py:6392: SettingWithCopyWarning: \n",
            "A value is trying to be set on a copy of a slice from a DataFrame\n",
            "\n",
            "See the caveats in the documentation: https://pandas.pydata.org/pandas-docs/stable/user_guide/indexing.html#returning-a-view-versus-a-copy\n",
            "  return self._update_inplace(result)\n"
          ]
        },
        {
          "name": "stdout",
          "output_type": "stream",
          "text": [
            "Jahangirpuri=18.51\n"
          ]
        },
        {
          "name": "stderr",
          "output_type": "stream",
          "text": [
            "/usr/local/lib/python3.7/dist-packages/ipykernel_launcher.py:12: PerformanceWarning: DataFrame is highly fragmented.  This is usually the result of calling `frame.insert` many times, which has poor performance.  Consider joining all columns at once using pd.concat(axis=1) instead.  To get a de-fragmented frame, use `newframe = frame.copy()`\n",
            "  if sys.path[0] == '':\n",
            "/usr/local/lib/python3.7/dist-packages/ipykernel_launcher.py:16: PerformanceWarning: DataFrame is highly fragmented.  This is usually the result of calling `frame.insert` many times, which has poor performance.  Consider joining all columns at once using pd.concat(axis=1) instead.  To get a de-fragmented frame, use `newframe = frame.copy()`\n",
            "  app.launch_new_instance()\n",
            "/usr/local/lib/python3.7/dist-packages/pandas/core/generic.py:6392: SettingWithCopyWarning: \n",
            "A value is trying to be set on a copy of a slice from a DataFrame\n",
            "\n",
            "See the caveats in the documentation: https://pandas.pydata.org/pandas-docs/stable/user_guide/indexing.html#returning-a-view-versus-a-copy\n",
            "  return self._update_inplace(result)\n"
          ]
        },
        {
          "name": "stdout",
          "output_type": "stream",
          "text": [
            "JawaharlalNehruStadium=11.84\n"
          ]
        },
        {
          "name": "stderr",
          "output_type": "stream",
          "text": [
            "/usr/local/lib/python3.7/dist-packages/ipykernel_launcher.py:12: PerformanceWarning: DataFrame is highly fragmented.  This is usually the result of calling `frame.insert` many times, which has poor performance.  Consider joining all columns at once using pd.concat(axis=1) instead.  To get a de-fragmented frame, use `newframe = frame.copy()`\n",
            "  if sys.path[0] == '':\n",
            "/usr/local/lib/python3.7/dist-packages/ipykernel_launcher.py:16: PerformanceWarning: DataFrame is highly fragmented.  This is usually the result of calling `frame.insert` many times, which has poor performance.  Consider joining all columns at once using pd.concat(axis=1) instead.  To get a de-fragmented frame, use `newframe = frame.copy()`\n",
            "  app.launch_new_instance()\n",
            "/usr/local/lib/python3.7/dist-packages/pandas/core/generic.py:6392: SettingWithCopyWarning: \n",
            "A value is trying to be set on a copy of a slice from a DataFrame\n",
            "\n",
            "See the caveats in the documentation: https://pandas.pydata.org/pandas-docs/stable/user_guide/indexing.html#returning-a-view-versus-a-copy\n",
            "  return self._update_inplace(result)\n",
            "/usr/local/lib/python3.7/dist-packages/sklearn/linear_model/_coordinate_descent.py:626: ConvergenceWarning: Objective did not converge. You might want to increase the number of iterations. Duality gap: 463757.183361724, tolerance: 27592.865868813606\n",
            "  coef_, l1_reg, l2_reg, X, y, max_iter, tol, rng, random\n",
            "/usr/local/lib/python3.7/dist-packages/sklearn/linear_model/_coordinate_descent.py:626: ConvergenceWarning: Objective did not converge. You might want to increase the number of iterations. Duality gap: 494863.5914680809, tolerance: 17219.74793008615\n",
            "  coef_, l1_reg, l2_reg, X, y, max_iter, tol, rng, random\n"
          ]
        },
        {
          "name": "stdout",
          "output_type": "stream",
          "text": [
            "MajorDhyanChandNationalStadium=24.66\n"
          ]
        },
        {
          "name": "stderr",
          "output_type": "stream",
          "text": [
            "/usr/local/lib/python3.7/dist-packages/ipykernel_launcher.py:12: PerformanceWarning: DataFrame is highly fragmented.  This is usually the result of calling `frame.insert` many times, which has poor performance.  Consider joining all columns at once using pd.concat(axis=1) instead.  To get a de-fragmented frame, use `newframe = frame.copy()`\n",
            "  if sys.path[0] == '':\n",
            "/usr/local/lib/python3.7/dist-packages/ipykernel_launcher.py:16: PerformanceWarning: DataFrame is highly fragmented.  This is usually the result of calling `frame.insert` many times, which has poor performance.  Consider joining all columns at once using pd.concat(axis=1) instead.  To get a de-fragmented frame, use `newframe = frame.copy()`\n",
            "  app.launch_new_instance()\n",
            "/usr/local/lib/python3.7/dist-packages/pandas/core/generic.py:6392: SettingWithCopyWarning: \n",
            "A value is trying to be set on a copy of a slice from a DataFrame\n",
            "\n",
            "See the caveats in the documentation: https://pandas.pydata.org/pandas-docs/stable/user_guide/indexing.html#returning-a-view-versus-a-copy\n",
            "  return self._update_inplace(result)\n",
            "/usr/local/lib/python3.7/dist-packages/sklearn/linear_model/_coordinate_descent.py:626: ConvergenceWarning: Objective did not converge. You might want to increase the number of iterations. Duality gap: 296273.6534524709, tolerance: 24177.603180807506\n",
            "  coef_, l1_reg, l2_reg, X, y, max_iter, tol, rng, random\n",
            "/usr/local/lib/python3.7/dist-packages/sklearn/linear_model/_coordinate_descent.py:626: ConvergenceWarning: Objective did not converge. You might want to increase the number of iterations. Duality gap: 5677242.321003377, tolerance: 27964.076983243092\n",
            "  coef_, l1_reg, l2_reg, X, y, max_iter, tol, rng, random\n",
            "/usr/local/lib/python3.7/dist-packages/sklearn/linear_model/_coordinate_descent.py:626: ConvergenceWarning: Objective did not converge. You might want to increase the number of iterations. Duality gap: 1094110.1163279563, tolerance: 16710.898773547277\n",
            "  coef_, l1_reg, l2_reg, X, y, max_iter, tol, rng, random\n"
          ]
        },
        {
          "name": "stdout",
          "output_type": "stream",
          "text": [
            "MandirMarg=23.23\n"
          ]
        },
        {
          "name": "stderr",
          "output_type": "stream",
          "text": [
            "/usr/local/lib/python3.7/dist-packages/ipykernel_launcher.py:12: PerformanceWarning: DataFrame is highly fragmented.  This is usually the result of calling `frame.insert` many times, which has poor performance.  Consider joining all columns at once using pd.concat(axis=1) instead.  To get a de-fragmented frame, use `newframe = frame.copy()`\n",
            "  if sys.path[0] == '':\n",
            "/usr/local/lib/python3.7/dist-packages/ipykernel_launcher.py:16: PerformanceWarning: DataFrame is highly fragmented.  This is usually the result of calling `frame.insert` many times, which has poor performance.  Consider joining all columns at once using pd.concat(axis=1) instead.  To get a de-fragmented frame, use `newframe = frame.copy()`\n",
            "  app.launch_new_instance()\n",
            "/usr/local/lib/python3.7/dist-packages/pandas/core/generic.py:6392: SettingWithCopyWarning: \n",
            "A value is trying to be set on a copy of a slice from a DataFrame\n",
            "\n",
            "See the caveats in the documentation: https://pandas.pydata.org/pandas-docs/stable/user_guide/indexing.html#returning-a-view-versus-a-copy\n",
            "  return self._update_inplace(result)\n",
            "/usr/local/lib/python3.7/dist-packages/sklearn/linear_model/_coordinate_descent.py:626: ConvergenceWarning: Objective did not converge. You might want to increase the number of iterations. Duality gap: 5158666.486445576, tolerance: 50453.247326917146\n",
            "  coef_, l1_reg, l2_reg, X, y, max_iter, tol, rng, random\n",
            "/usr/local/lib/python3.7/dist-packages/sklearn/linear_model/_coordinate_descent.py:626: ConvergenceWarning: Objective did not converge. You might want to increase the number of iterations. Duality gap: 390332.6436063349, tolerance: 35277.28884299742\n",
            "  coef_, l1_reg, l2_reg, X, y, max_iter, tol, rng, random\n"
          ]
        },
        {
          "name": "stdout",
          "output_type": "stream",
          "text": [
            "Mundka=23.9\n"
          ]
        },
        {
          "name": "stderr",
          "output_type": "stream",
          "text": [
            "/usr/local/lib/python3.7/dist-packages/ipykernel_launcher.py:12: PerformanceWarning: DataFrame is highly fragmented.  This is usually the result of calling `frame.insert` many times, which has poor performance.  Consider joining all columns at once using pd.concat(axis=1) instead.  To get a de-fragmented frame, use `newframe = frame.copy()`\n",
            "  if sys.path[0] == '':\n",
            "/usr/local/lib/python3.7/dist-packages/ipykernel_launcher.py:16: PerformanceWarning: DataFrame is highly fragmented.  This is usually the result of calling `frame.insert` many times, which has poor performance.  Consider joining all columns at once using pd.concat(axis=1) instead.  To get a de-fragmented frame, use `newframe = frame.copy()`\n",
            "  app.launch_new_instance()\n",
            "/usr/local/lib/python3.7/dist-packages/pandas/core/generic.py:6392: SettingWithCopyWarning: \n",
            "A value is trying to be set on a copy of a slice from a DataFrame\n",
            "\n",
            "See the caveats in the documentation: https://pandas.pydata.org/pandas-docs/stable/user_guide/indexing.html#returning-a-view-versus-a-copy\n",
            "  return self._update_inplace(result)\n"
          ]
        },
        {
          "name": "stdout",
          "output_type": "stream",
          "text": [
            "Najafnagar=16.84\n"
          ]
        },
        {
          "name": "stderr",
          "output_type": "stream",
          "text": [
            "/usr/local/lib/python3.7/dist-packages/ipykernel_launcher.py:12: PerformanceWarning: DataFrame is highly fragmented.  This is usually the result of calling `frame.insert` many times, which has poor performance.  Consider joining all columns at once using pd.concat(axis=1) instead.  To get a de-fragmented frame, use `newframe = frame.copy()`\n",
            "  if sys.path[0] == '':\n",
            "/usr/local/lib/python3.7/dist-packages/ipykernel_launcher.py:16: PerformanceWarning: DataFrame is highly fragmented.  This is usually the result of calling `frame.insert` many times, which has poor performance.  Consider joining all columns at once using pd.concat(axis=1) instead.  To get a de-fragmented frame, use `newframe = frame.copy()`\n",
            "  app.launch_new_instance()\n",
            "/usr/local/lib/python3.7/dist-packages/pandas/core/generic.py:6392: SettingWithCopyWarning: \n",
            "A value is trying to be set on a copy of a slice from a DataFrame\n",
            "\n",
            "See the caveats in the documentation: https://pandas.pydata.org/pandas-docs/stable/user_guide/indexing.html#returning-a-view-versus-a-copy\n",
            "  return self._update_inplace(result)\n",
            "/usr/local/lib/python3.7/dist-packages/sklearn/linear_model/_coordinate_descent.py:626: ConvergenceWarning: Objective did not converge. You might want to increase the number of iterations. Duality gap: 412026.28886952996, tolerance: 24414.038541008424\n",
            "  coef_, l1_reg, l2_reg, X, y, max_iter, tol, rng, random\n",
            "/usr/local/lib/python3.7/dist-packages/sklearn/linear_model/_coordinate_descent.py:626: ConvergenceWarning: Objective did not converge. You might want to increase the number of iterations. Duality gap: 1293696.9342117608, tolerance: 31042.30843236145\n",
            "  coef_, l1_reg, l2_reg, X, y, max_iter, tol, rng, random\n",
            "/usr/local/lib/python3.7/dist-packages/sklearn/linear_model/_coordinate_descent.py:626: ConvergenceWarning: Objective did not converge. You might want to increase the number of iterations. Duality gap: 993897.6186936796, tolerance: 21755.759908541117\n",
            "  coef_, l1_reg, l2_reg, X, y, max_iter, tol, rng, random\n"
          ]
        },
        {
          "name": "stdout",
          "output_type": "stream",
          "text": [
            "Narela=32.75\n"
          ]
        },
        {
          "name": "stderr",
          "output_type": "stream",
          "text": [
            "/usr/local/lib/python3.7/dist-packages/ipykernel_launcher.py:12: PerformanceWarning: DataFrame is highly fragmented.  This is usually the result of calling `frame.insert` many times, which has poor performance.  Consider joining all columns at once using pd.concat(axis=1) instead.  To get a de-fragmented frame, use `newframe = frame.copy()`\n",
            "  if sys.path[0] == '':\n",
            "/usr/local/lib/python3.7/dist-packages/ipykernel_launcher.py:16: PerformanceWarning: DataFrame is highly fragmented.  This is usually the result of calling `frame.insert` many times, which has poor performance.  Consider joining all columns at once using pd.concat(axis=1) instead.  To get a de-fragmented frame, use `newframe = frame.copy()`\n",
            "  app.launch_new_instance()\n",
            "/usr/local/lib/python3.7/dist-packages/pandas/core/generic.py:6392: SettingWithCopyWarning: \n",
            "A value is trying to be set on a copy of a slice from a DataFrame\n",
            "\n",
            "See the caveats in the documentation: https://pandas.pydata.org/pandas-docs/stable/user_guide/indexing.html#returning-a-view-versus-a-copy\n",
            "  return self._update_inplace(result)\n",
            "/usr/local/lib/python3.7/dist-packages/sklearn/linear_model/_coordinate_descent.py:626: ConvergenceWarning: Objective did not converge. You might want to increase the number of iterations. Duality gap: 4673846.654304534, tolerance: 44586.98164086066\n",
            "  coef_, l1_reg, l2_reg, X, y, max_iter, tol, rng, random\n",
            "/usr/local/lib/python3.7/dist-packages/sklearn/linear_model/_coordinate_descent.py:626: ConvergenceWarning: Objective did not converge. You might want to increase the number of iterations. Duality gap: 39847181.702578604, tolerance: 53769.12941700059\n",
            "  coef_, l1_reg, l2_reg, X, y, max_iter, tol, rng, random\n",
            "/usr/local/lib/python3.7/dist-packages/sklearn/linear_model/_coordinate_descent.py:626: ConvergenceWarning: Objective did not converge. You might want to increase the number of iterations. Duality gap: 9259115.307732657, tolerance: 35726.167870303216\n",
            "  coef_, l1_reg, l2_reg, X, y, max_iter, tol, rng, random\n"
          ]
        },
        {
          "name": "stdout",
          "output_type": "stream",
          "text": [
            "NehruNagar=33.47\n"
          ]
        },
        {
          "name": "stderr",
          "output_type": "stream",
          "text": [
            "/usr/local/lib/python3.7/dist-packages/ipykernel_launcher.py:12: PerformanceWarning: DataFrame is highly fragmented.  This is usually the result of calling `frame.insert` many times, which has poor performance.  Consider joining all columns at once using pd.concat(axis=1) instead.  To get a de-fragmented frame, use `newframe = frame.copy()`\n",
            "  if sys.path[0] == '':\n",
            "/usr/local/lib/python3.7/dist-packages/ipykernel_launcher.py:16: PerformanceWarning: DataFrame is highly fragmented.  This is usually the result of calling `frame.insert` many times, which has poor performance.  Consider joining all columns at once using pd.concat(axis=1) instead.  To get a de-fragmented frame, use `newframe = frame.copy()`\n",
            "  app.launch_new_instance()\n",
            "/usr/local/lib/python3.7/dist-packages/pandas/core/generic.py:6392: SettingWithCopyWarning: \n",
            "A value is trying to be set on a copy of a slice from a DataFrame\n",
            "\n",
            "See the caveats in the documentation: https://pandas.pydata.org/pandas-docs/stable/user_guide/indexing.html#returning-a-view-versus-a-copy\n",
            "  return self._update_inplace(result)\n",
            "/usr/local/lib/python3.7/dist-packages/sklearn/linear_model/_coordinate_descent.py:626: ConvergenceWarning: Objective did not converge. You might want to increase the number of iterations. Duality gap: 566336.5381004363, tolerance: 28794.172514572194\n",
            "  coef_, l1_reg, l2_reg, X, y, max_iter, tol, rng, random\n",
            "/usr/local/lib/python3.7/dist-packages/sklearn/linear_model/_coordinate_descent.py:626: ConvergenceWarning: Objective did not converge. You might want to increase the number of iterations. Duality gap: 6052599.40092586, tolerance: 35724.335525077586\n",
            "  coef_, l1_reg, l2_reg, X, y, max_iter, tol, rng, random\n",
            "/usr/local/lib/python3.7/dist-packages/sklearn/linear_model/_coordinate_descent.py:626: ConvergenceWarning: Objective did not converge. You might want to increase the number of iterations. Duality gap: 921347.1853591502, tolerance: 23148.319944577204\n",
            "  coef_, l1_reg, l2_reg, X, y, max_iter, tol, rng, random\n"
          ]
        },
        {
          "name": "stdout",
          "output_type": "stream",
          "text": [
            "OkhlaPhase2=23.3\n"
          ]
        },
        {
          "name": "stderr",
          "output_type": "stream",
          "text": [
            "/usr/local/lib/python3.7/dist-packages/ipykernel_launcher.py:12: PerformanceWarning: DataFrame is highly fragmented.  This is usually the result of calling `frame.insert` many times, which has poor performance.  Consider joining all columns at once using pd.concat(axis=1) instead.  To get a de-fragmented frame, use `newframe = frame.copy()`\n",
            "  if sys.path[0] == '':\n",
            "/usr/local/lib/python3.7/dist-packages/ipykernel_launcher.py:16: PerformanceWarning: DataFrame is highly fragmented.  This is usually the result of calling `frame.insert` many times, which has poor performance.  Consider joining all columns at once using pd.concat(axis=1) instead.  To get a de-fragmented frame, use `newframe = frame.copy()`\n",
            "  app.launch_new_instance()\n",
            "/usr/local/lib/python3.7/dist-packages/pandas/core/generic.py:6392: SettingWithCopyWarning: \n",
            "A value is trying to be set on a copy of a slice from a DataFrame\n",
            "\n",
            "See the caveats in the documentation: https://pandas.pydata.org/pandas-docs/stable/user_guide/indexing.html#returning-a-view-versus-a-copy\n",
            "  return self._update_inplace(result)\n",
            "/usr/local/lib/python3.7/dist-packages/sklearn/linear_model/_coordinate_descent.py:626: ConvergenceWarning: Objective did not converge. You might want to increase the number of iterations. Duality gap: 483449.1380057931, tolerance: 28419.4634925788\n",
            "  coef_, l1_reg, l2_reg, X, y, max_iter, tol, rng, random\n",
            "/usr/local/lib/python3.7/dist-packages/sklearn/linear_model/_coordinate_descent.py:626: ConvergenceWarning: Objective did not converge. You might want to increase the number of iterations. Duality gap: 295611.7709814608, tolerance: 17936.575679053858\n",
            "  coef_, l1_reg, l2_reg, X, y, max_iter, tol, rng, random\n"
          ]
        },
        {
          "name": "stdout",
          "output_type": "stream",
          "text": [
            "Patparganj=20.44\n"
          ]
        },
        {
          "name": "stderr",
          "output_type": "stream",
          "text": [
            "/usr/local/lib/python3.7/dist-packages/ipykernel_launcher.py:12: PerformanceWarning: DataFrame is highly fragmented.  This is usually the result of calling `frame.insert` many times, which has poor performance.  Consider joining all columns at once using pd.concat(axis=1) instead.  To get a de-fragmented frame, use `newframe = frame.copy()`\n",
            "  if sys.path[0] == '':\n",
            "/usr/local/lib/python3.7/dist-packages/ipykernel_launcher.py:16: PerformanceWarning: DataFrame is highly fragmented.  This is usually the result of calling `frame.insert` many times, which has poor performance.  Consider joining all columns at once using pd.concat(axis=1) instead.  To get a de-fragmented frame, use `newframe = frame.copy()`\n",
            "  app.launch_new_instance()\n",
            "/usr/local/lib/python3.7/dist-packages/pandas/core/generic.py:6392: SettingWithCopyWarning: \n",
            "A value is trying to be set on a copy of a slice from a DataFrame\n",
            "\n",
            "See the caveats in the documentation: https://pandas.pydata.org/pandas-docs/stable/user_guide/indexing.html#returning-a-view-versus-a-copy\n",
            "  return self._update_inplace(result)\n",
            "/usr/local/lib/python3.7/dist-packages/sklearn/linear_model/_coordinate_descent.py:626: ConvergenceWarning: Objective did not converge. You might want to increase the number of iterations. Duality gap: 44154.80013099313, tolerance: 38228.03388028917\n",
            "  coef_, l1_reg, l2_reg, X, y, max_iter, tol, rng, random\n"
          ]
        },
        {
          "name": "stdout",
          "output_type": "stream",
          "text": [
            "PunjabiBagh=23.02\n"
          ]
        },
        {
          "name": "stderr",
          "output_type": "stream",
          "text": [
            "/usr/local/lib/python3.7/dist-packages/ipykernel_launcher.py:12: PerformanceWarning: DataFrame is highly fragmented.  This is usually the result of calling `frame.insert` many times, which has poor performance.  Consider joining all columns at once using pd.concat(axis=1) instead.  To get a de-fragmented frame, use `newframe = frame.copy()`\n",
            "  if sys.path[0] == '':\n",
            "/usr/local/lib/python3.7/dist-packages/ipykernel_launcher.py:16: PerformanceWarning: DataFrame is highly fragmented.  This is usually the result of calling `frame.insert` many times, which has poor performance.  Consider joining all columns at once using pd.concat(axis=1) instead.  To get a de-fragmented frame, use `newframe = frame.copy()`\n",
            "  app.launch_new_instance()\n",
            "/usr/local/lib/python3.7/dist-packages/pandas/core/generic.py:6392: SettingWithCopyWarning: \n",
            "A value is trying to be set on a copy of a slice from a DataFrame\n",
            "\n",
            "See the caveats in the documentation: https://pandas.pydata.org/pandas-docs/stable/user_guide/indexing.html#returning-a-view-versus-a-copy\n",
            "  return self._update_inplace(result)\n",
            "/usr/local/lib/python3.7/dist-packages/sklearn/linear_model/_coordinate_descent.py:626: ConvergenceWarning: Objective did not converge. You might want to increase the number of iterations. Duality gap: 335150.10526300967, tolerance: 27409.261905231357\n",
            "  coef_, l1_reg, l2_reg, X, y, max_iter, tol, rng, random\n",
            "/usr/local/lib/python3.7/dist-packages/sklearn/linear_model/_coordinate_descent.py:626: ConvergenceWarning: Objective did not converge. You might want to increase the number of iterations. Duality gap: 496605.1277755499, tolerance: 34253.000635545824\n",
            "  coef_, l1_reg, l2_reg, X, y, max_iter, tol, rng, random\n",
            "/usr/local/lib/python3.7/dist-packages/sklearn/linear_model/_coordinate_descent.py:626: ConvergenceWarning: Objective did not converge. You might want to increase the number of iterations. Duality gap: 121584.68072938919, tolerance: 22807.178200933122\n",
            "  coef_, l1_reg, l2_reg, X, y, max_iter, tol, rng, random\n"
          ]
        },
        {
          "name": "stdout",
          "output_type": "stream",
          "text": [
            "Pusa=29.45\n"
          ]
        },
        {
          "name": "stderr",
          "output_type": "stream",
          "text": [
            "/usr/local/lib/python3.7/dist-packages/ipykernel_launcher.py:12: PerformanceWarning: DataFrame is highly fragmented.  This is usually the result of calling `frame.insert` many times, which has poor performance.  Consider joining all columns at once using pd.concat(axis=1) instead.  To get a de-fragmented frame, use `newframe = frame.copy()`\n",
            "  if sys.path[0] == '':\n",
            "/usr/local/lib/python3.7/dist-packages/ipykernel_launcher.py:16: PerformanceWarning: DataFrame is highly fragmented.  This is usually the result of calling `frame.insert` many times, which has poor performance.  Consider joining all columns at once using pd.concat(axis=1) instead.  To get a de-fragmented frame, use `newframe = frame.copy()`\n",
            "  app.launch_new_instance()\n",
            "/usr/local/lib/python3.7/dist-packages/pandas/core/generic.py:6392: SettingWithCopyWarning: \n",
            "A value is trying to be set on a copy of a slice from a DataFrame\n",
            "\n",
            "See the caveats in the documentation: https://pandas.pydata.org/pandas-docs/stable/user_guide/indexing.html#returning-a-view-versus-a-copy\n",
            "  return self._update_inplace(result)\n",
            "/usr/local/lib/python3.7/dist-packages/sklearn/linear_model/_coordinate_descent.py:626: ConvergenceWarning: Objective did not converge. You might want to increase the number of iterations. Duality gap: 62879.068005129695, tolerance: 19855.227608345926\n",
            "  coef_, l1_reg, l2_reg, X, y, max_iter, tol, rng, random\n",
            "/usr/local/lib/python3.7/dist-packages/sklearn/linear_model/_coordinate_descent.py:626: ConvergenceWarning: Objective did not converge. You might want to increase the number of iterations. Duality gap: 693640.9627778232, tolerance: 30334.350000289127\n",
            "  coef_, l1_reg, l2_reg, X, y, max_iter, tol, rng, random\n",
            "/usr/local/lib/python3.7/dist-packages/sklearn/linear_model/_coordinate_descent.py:626: ConvergenceWarning: Objective did not converge. You might want to increase the number of iterations. Duality gap: 52561.50158295035, tolerance: 19633.10323527037\n",
            "  coef_, l1_reg, l2_reg, X, y, max_iter, tol, rng, random\n"
          ]
        },
        {
          "name": "stdout",
          "output_type": "stream",
          "text": [
            "RKPuram=24.36\n"
          ]
        },
        {
          "name": "stderr",
          "output_type": "stream",
          "text": [
            "/usr/local/lib/python3.7/dist-packages/ipykernel_launcher.py:12: PerformanceWarning: DataFrame is highly fragmented.  This is usually the result of calling `frame.insert` many times, which has poor performance.  Consider joining all columns at once using pd.concat(axis=1) instead.  To get a de-fragmented frame, use `newframe = frame.copy()`\n",
            "  if sys.path[0] == '':\n",
            "/usr/local/lib/python3.7/dist-packages/ipykernel_launcher.py:16: PerformanceWarning: DataFrame is highly fragmented.  This is usually the result of calling `frame.insert` many times, which has poor performance.  Consider joining all columns at once using pd.concat(axis=1) instead.  To get a de-fragmented frame, use `newframe = frame.copy()`\n",
            "  app.launch_new_instance()\n",
            "/usr/local/lib/python3.7/dist-packages/pandas/core/generic.py:6392: SettingWithCopyWarning: \n",
            "A value is trying to be set on a copy of a slice from a DataFrame\n",
            "\n",
            "See the caveats in the documentation: https://pandas.pydata.org/pandas-docs/stable/user_guide/indexing.html#returning-a-view-versus-a-copy\n",
            "  return self._update_inplace(result)\n"
          ]
        },
        {
          "name": "stdout",
          "output_type": "stream",
          "text": [
            "Rohini=22.93\n"
          ]
        },
        {
          "name": "stderr",
          "output_type": "stream",
          "text": [
            "/usr/local/lib/python3.7/dist-packages/ipykernel_launcher.py:12: PerformanceWarning: DataFrame is highly fragmented.  This is usually the result of calling `frame.insert` many times, which has poor performance.  Consider joining all columns at once using pd.concat(axis=1) instead.  To get a de-fragmented frame, use `newframe = frame.copy()`\n",
            "  if sys.path[0] == '':\n",
            "/usr/local/lib/python3.7/dist-packages/ipykernel_launcher.py:16: PerformanceWarning: DataFrame is highly fragmented.  This is usually the result of calling `frame.insert` many times, which has poor performance.  Consider joining all columns at once using pd.concat(axis=1) instead.  To get a de-fragmented frame, use `newframe = frame.copy()`\n",
            "  app.launch_new_instance()\n",
            "/usr/local/lib/python3.7/dist-packages/pandas/core/generic.py:6392: SettingWithCopyWarning: \n",
            "A value is trying to be set on a copy of a slice from a DataFrame\n",
            "\n",
            "See the caveats in the documentation: https://pandas.pydata.org/pandas-docs/stable/user_guide/indexing.html#returning-a-view-versus-a-copy\n",
            "  return self._update_inplace(result)\n",
            "/usr/local/lib/python3.7/dist-packages/sklearn/linear_model/_coordinate_descent.py:626: ConvergenceWarning: Objective did not converge. You might want to increase the number of iterations. Duality gap: 234737.36957867444, tolerance: 24511.003768647497\n",
            "  coef_, l1_reg, l2_reg, X, y, max_iter, tol, rng, random\n"
          ]
        },
        {
          "name": "stdout",
          "output_type": "stream",
          "text": [
            "Shadipur=22.41\n"
          ]
        },
        {
          "name": "stderr",
          "output_type": "stream",
          "text": [
            "/usr/local/lib/python3.7/dist-packages/ipykernel_launcher.py:12: PerformanceWarning: DataFrame is highly fragmented.  This is usually the result of calling `frame.insert` many times, which has poor performance.  Consider joining all columns at once using pd.concat(axis=1) instead.  To get a de-fragmented frame, use `newframe = frame.copy()`\n",
            "  if sys.path[0] == '':\n",
            "/usr/local/lib/python3.7/dist-packages/ipykernel_launcher.py:16: PerformanceWarning: DataFrame is highly fragmented.  This is usually the result of calling `frame.insert` many times, which has poor performance.  Consider joining all columns at once using pd.concat(axis=1) instead.  To get a de-fragmented frame, use `newframe = frame.copy()`\n",
            "  app.launch_new_instance()\n",
            "/usr/local/lib/python3.7/dist-packages/pandas/core/generic.py:6392: SettingWithCopyWarning: \n",
            "A value is trying to be set on a copy of a slice from a DataFrame\n",
            "\n",
            "See the caveats in the documentation: https://pandas.pydata.org/pandas-docs/stable/user_guide/indexing.html#returning-a-view-versus-a-copy\n",
            "  return self._update_inplace(result)\n"
          ]
        },
        {
          "name": "stdout",
          "output_type": "stream",
          "text": [
            "Sirifort=24.16\n"
          ]
        },
        {
          "name": "stderr",
          "output_type": "stream",
          "text": [
            "/usr/local/lib/python3.7/dist-packages/ipykernel_launcher.py:12: PerformanceWarning: DataFrame is highly fragmented.  This is usually the result of calling `frame.insert` many times, which has poor performance.  Consider joining all columns at once using pd.concat(axis=1) instead.  To get a de-fragmented frame, use `newframe = frame.copy()`\n",
            "  if sys.path[0] == '':\n",
            "/usr/local/lib/python3.7/dist-packages/ipykernel_launcher.py:16: PerformanceWarning: DataFrame is highly fragmented.  This is usually the result of calling `frame.insert` many times, which has poor performance.  Consider joining all columns at once using pd.concat(axis=1) instead.  To get a de-fragmented frame, use `newframe = frame.copy()`\n",
            "  app.launch_new_instance()\n",
            "/usr/local/lib/python3.7/dist-packages/pandas/core/generic.py:6392: SettingWithCopyWarning: \n",
            "A value is trying to be set on a copy of a slice from a DataFrame\n",
            "\n",
            "See the caveats in the documentation: https://pandas.pydata.org/pandas-docs/stable/user_guide/indexing.html#returning-a-view-versus-a-copy\n",
            "  return self._update_inplace(result)\n"
          ]
        },
        {
          "name": "stdout",
          "output_type": "stream",
          "text": [
            "SoniaVihar=15.81\n"
          ]
        },
        {
          "name": "stderr",
          "output_type": "stream",
          "text": [
            "/usr/local/lib/python3.7/dist-packages/ipykernel_launcher.py:12: PerformanceWarning: DataFrame is highly fragmented.  This is usually the result of calling `frame.insert` many times, which has poor performance.  Consider joining all columns at once using pd.concat(axis=1) instead.  To get a de-fragmented frame, use `newframe = frame.copy()`\n",
            "  if sys.path[0] == '':\n",
            "/usr/local/lib/python3.7/dist-packages/ipykernel_launcher.py:16: PerformanceWarning: DataFrame is highly fragmented.  This is usually the result of calling `frame.insert` many times, which has poor performance.  Consider joining all columns at once using pd.concat(axis=1) instead.  To get a de-fragmented frame, use `newframe = frame.copy()`\n",
            "  app.launch_new_instance()\n",
            "/usr/local/lib/python3.7/dist-packages/pandas/core/generic.py:6392: SettingWithCopyWarning: \n",
            "A value is trying to be set on a copy of a slice from a DataFrame\n",
            "\n",
            "See the caveats in the documentation: https://pandas.pydata.org/pandas-docs/stable/user_guide/indexing.html#returning-a-view-versus-a-copy\n",
            "  return self._update_inplace(result)\n",
            "/usr/local/lib/python3.7/dist-packages/sklearn/linear_model/_coordinate_descent.py:626: ConvergenceWarning: Objective did not converge. You might want to increase the number of iterations. Duality gap: 177143.37117749453, tolerance: 28549.736303628662\n",
            "  coef_, l1_reg, l2_reg, X, y, max_iter, tol, rng, random\n",
            "/usr/local/lib/python3.7/dist-packages/sklearn/linear_model/_coordinate_descent.py:626: ConvergenceWarning: Objective did not converge. You might want to increase the number of iterations. Duality gap: 60933.99629293382, tolerance: 17385.96637343664\n",
            "  coef_, l1_reg, l2_reg, X, y, max_iter, tol, rng, random\n"
          ]
        },
        {
          "name": "stdout",
          "output_type": "stream",
          "text": [
            "SriAurobindoMarg=24.06\n"
          ]
        },
        {
          "name": "stderr",
          "output_type": "stream",
          "text": [
            "/usr/local/lib/python3.7/dist-packages/ipykernel_launcher.py:12: PerformanceWarning: DataFrame is highly fragmented.  This is usually the result of calling `frame.insert` many times, which has poor performance.  Consider joining all columns at once using pd.concat(axis=1) instead.  To get a de-fragmented frame, use `newframe = frame.copy()`\n",
            "  if sys.path[0] == '':\n",
            "/usr/local/lib/python3.7/dist-packages/ipykernel_launcher.py:16: PerformanceWarning: DataFrame is highly fragmented.  This is usually the result of calling `frame.insert` many times, which has poor performance.  Consider joining all columns at once using pd.concat(axis=1) instead.  To get a de-fragmented frame, use `newframe = frame.copy()`\n",
            "  app.launch_new_instance()\n",
            "/usr/local/lib/python3.7/dist-packages/pandas/core/generic.py:6392: SettingWithCopyWarning: \n",
            "A value is trying to be set on a copy of a slice from a DataFrame\n",
            "\n",
            "See the caveats in the documentation: https://pandas.pydata.org/pandas-docs/stable/user_guide/indexing.html#returning-a-view-versus-a-copy\n",
            "  return self._update_inplace(result)\n",
            "/usr/local/lib/python3.7/dist-packages/sklearn/linear_model/_coordinate_descent.py:626: ConvergenceWarning: Objective did not converge. You might want to increase the number of iterations. Duality gap: 5656225.136516228, tolerance: 32736.309392968746\n",
            "  coef_, l1_reg, l2_reg, X, y, max_iter, tol, rng, random\n",
            "/usr/local/lib/python3.7/dist-packages/sklearn/linear_model/_coordinate_descent.py:626: ConvergenceWarning: Objective did not converge. You might want to increase the number of iterations. Duality gap: 4597584.305956125, tolerance: 38840.07316560281\n",
            "  coef_, l1_reg, l2_reg, X, y, max_iter, tol, rng, random\n",
            "/usr/local/lib/python3.7/dist-packages/sklearn/linear_model/_coordinate_descent.py:626: ConvergenceWarning: Objective did not converge. You might want to increase the number of iterations. Duality gap: 1843003.9614090174, tolerance: 25810.146673980136\n",
            "  coef_, l1_reg, l2_reg, X, y, max_iter, tol, rng, random\n"
          ]
        },
        {
          "name": "stdout",
          "output_type": "stream",
          "text": [
            "VivekVihar=23.21\n"
          ]
        },
        {
          "name": "stderr",
          "output_type": "stream",
          "text": [
            "/usr/local/lib/python3.7/dist-packages/ipykernel_launcher.py:12: PerformanceWarning: DataFrame is highly fragmented.  This is usually the result of calling `frame.insert` many times, which has poor performance.  Consider joining all columns at once using pd.concat(axis=1) instead.  To get a de-fragmented frame, use `newframe = frame.copy()`\n",
            "  if sys.path[0] == '':\n",
            "/usr/local/lib/python3.7/dist-packages/ipykernel_launcher.py:16: PerformanceWarning: DataFrame is highly fragmented.  This is usually the result of calling `frame.insert` many times, which has poor performance.  Consider joining all columns at once using pd.concat(axis=1) instead.  To get a de-fragmented frame, use `newframe = frame.copy()`\n",
            "  app.launch_new_instance()\n",
            "/usr/local/lib/python3.7/dist-packages/pandas/core/generic.py:6392: SettingWithCopyWarning: \n",
            "A value is trying to be set on a copy of a slice from a DataFrame\n",
            "\n",
            "See the caveats in the documentation: https://pandas.pydata.org/pandas-docs/stable/user_guide/indexing.html#returning-a-view-versus-a-copy\n",
            "  return self._update_inplace(result)\n",
            "/usr/local/lib/python3.7/dist-packages/sklearn/linear_model/_coordinate_descent.py:626: ConvergenceWarning: Objective did not converge. You might want to increase the number of iterations. Duality gap: 973244.652987048, tolerance: 37904.95106238066\n",
            "  coef_, l1_reg, l2_reg, X, y, max_iter, tol, rng, random\n",
            "/usr/local/lib/python3.7/dist-packages/sklearn/linear_model/_coordinate_descent.py:626: ConvergenceWarning: Objective did not converge. You might want to increase the number of iterations. Duality gap: 24866114.132120073, tolerance: 48852.001212106436\n",
            "  coef_, l1_reg, l2_reg, X, y, max_iter, tol, rng, random\n",
            "/usr/local/lib/python3.7/dist-packages/sklearn/linear_model/_coordinate_descent.py:626: ConvergenceWarning: Objective did not converge. You might want to increase the number of iterations. Duality gap: 983825.2340203524, tolerance: 34832.73572178615\n",
            "  coef_, l1_reg, l2_reg, X, y, max_iter, tol, rng, random\n"
          ]
        },
        {
          "name": "stdout",
          "output_type": "stream",
          "text": [
            "Wazirpur=24.57\n"
          ]
        }
      ],
      "source": [
        "pred = {k:[] for k in [1,6,12,18,24]}\n",
        "gt = {k:[] for k in [1,6,12,18,24]}\n",
        "\n",
        "for sensor in sensors:\n",
        "    \n",
        "    start = time.time()\n",
        "    \n",
        "    df_temp = df.loc[:,[i for i in df.columns.tolist() if i.endswith(sensor)]]\n",
        "    \n",
        "    for col in ['aqi','at','rh','ws','wd']: \n",
        "        for j in range(1,24):\n",
        "            df_temp['p{}_{}'.format(j,col)] = df_temp[col + '_%s' % sensor]\n",
        "            df_temp['p{}_{}'.format(j,col)] = df_temp['p{}_{}'.format(j,col)].shift(j)\n",
        "\n",
        "    for j in [1,6,12,18,24]:\n",
        "        df_temp['hz{}'.format(j)] = df_temp['aqi_%s' % sensor]\n",
        "        #df_temp['hz{}'.format(j)] = df_temp['meo_%s' % sensor]\n",
        "        df_temp['hz{}'.format(j)] = df_temp['hz{}'.format(j)].shift(-j)\n",
        "    \n",
        "    y_cols = [i for i in df_temp.columns.tolist() if i.startswith('hz')]\n",
        "    x_cols = [i for i in df_temp.columns.tolist() if i.startswith('hz')==False]\n",
        "    \n",
        "    X = df_temp.loc[:,x_cols]    \n",
        "    y = df_temp.loc[:,y_cols]\n",
        "    \n",
        "    X_train = X.loc[:pd.Timestamp('2019-12-31 23:00:00'),:]\n",
        "    y_train = y.loc[:pd.Timestamp('2019-12-31 23:00:00'),:]\n",
        "    X_test = X.loc[pd.Timestamp('2020-01-01 00:00:00'):,:]\n",
        "    y_test = y.loc[pd.Timestamp('2020-01-01 00:00:00'):,:]\n",
        "    \n",
        "    #nik\n",
        "    train = pd.concat([X_train,y_train],axis=1)\n",
        "    train.dropna(axis=0,how='any',inplace=True)\n",
        "    X_train = train.loc[:,x_cols]\n",
        "    y_train = train.loc[:,y_cols]\n",
        "    \n",
        "    #nik\n",
        "    X_test.fillna(X_test.mean(),inplace=True)\n",
        "\n",
        "    model = MultiTaskLassoCV(alphas=[0.1,1,10,100],cv=3)\n",
        "    model.fit(X_train,y_train)\n",
        "    \n",
        "    predictions = model.predict(X_test)\n",
        "    actual = np.array(y_test)\n",
        "    \n",
        "    j=0\n",
        "    for i in [1,6,12,18,24]:\n",
        "        pred[i].append(predictions[:,j].tolist())\n",
        "        gt[i].append(actual[:,j].tolist())\n",
        "        j = j + 1\n",
        "        \n",
        "    end = time.time()\n",
        "\n",
        "    print(sensor+'='+str(np.round(end-start,2)))\n",
        "  "
      ]
    },
    {
      "cell_type": "code",
      "execution_count": null,
      "metadata": {
        "colab": {
          "background_save": true
        },
        "id": "kYyt0Ux-SXQm",
        "outputId": "d581b22e-c0bf-4f66-a339-f8fa41a0e4f3"
      },
      "outputs": [
        {
          "name": "stderr",
          "output_type": "stream",
          "text": [
            "/usr/local/lib/python3.7/dist-packages/ipykernel_launcher.py:12: PerformanceWarning: DataFrame is highly fragmented.  This is usually the result of calling `frame.insert` many times, which has poor performance.  Consider joining all columns at once using pd.concat(axis=1) instead.  To get a de-fragmented frame, use `newframe = frame.copy()`\n",
            "  if sys.path[0] == '':\n",
            "/usr/local/lib/python3.7/dist-packages/ipykernel_launcher.py:16: PerformanceWarning: DataFrame is highly fragmented.  This is usually the result of calling `frame.insert` many times, which has poor performance.  Consider joining all columns at once using pd.concat(axis=1) instead.  To get a de-fragmented frame, use `newframe = frame.copy()`\n",
            "  app.launch_new_instance()\n",
            "/usr/local/lib/python3.7/dist-packages/pandas/core/generic.py:6392: SettingWithCopyWarning: \n",
            "A value is trying to be set on a copy of a slice from a DataFrame\n",
            "\n",
            "See the caveats in the documentation: https://pandas.pydata.org/pandas-docs/stable/user_guide/indexing.html#returning-a-view-versus-a-copy\n",
            "  return self._update_inplace(result)\n",
            "/usr/local/lib/python3.7/dist-packages/sklearn/linear_model/_coordinate_descent.py:626: ConvergenceWarning: Objective did not converge. You might want to increase the number of iterations. Duality gap: 24582.98639664054, tolerance: 24161.165841244972\n",
            "  coef_, l1_reg, l2_reg, X, y, max_iter, tol, rng, random\n"
          ]
        },
        {
          "name": "stdout",
          "output_type": "stream",
          "text": [
            "Alipur=15.13\n"
          ]
        },
        {
          "name": "stderr",
          "output_type": "stream",
          "text": [
            "/usr/local/lib/python3.7/dist-packages/ipykernel_launcher.py:12: PerformanceWarning: DataFrame is highly fragmented.  This is usually the result of calling `frame.insert` many times, which has poor performance.  Consider joining all columns at once using pd.concat(axis=1) instead.  To get a de-fragmented frame, use `newframe = frame.copy()`\n",
            "  if sys.path[0] == '':\n",
            "/usr/local/lib/python3.7/dist-packages/ipykernel_launcher.py:16: PerformanceWarning: DataFrame is highly fragmented.  This is usually the result of calling `frame.insert` many times, which has poor performance.  Consider joining all columns at once using pd.concat(axis=1) instead.  To get a de-fragmented frame, use `newframe = frame.copy()`\n",
            "  app.launch_new_instance()\n",
            "/usr/local/lib/python3.7/dist-packages/pandas/core/generic.py:6392: SettingWithCopyWarning: \n",
            "A value is trying to be set on a copy of a slice from a DataFrame\n",
            "\n",
            "See the caveats in the documentation: https://pandas.pydata.org/pandas-docs/stable/user_guide/indexing.html#returning-a-view-versus-a-copy\n",
            "  return self._update_inplace(result)\n",
            "/usr/local/lib/python3.7/dist-packages/sklearn/linear_model/_coordinate_descent.py:626: ConvergenceWarning: Objective did not converge. You might want to increase the number of iterations. Duality gap: 338625.0728492141, tolerance: 42612.402962003536\n",
            "  coef_, l1_reg, l2_reg, X, y, max_iter, tol, rng, random\n",
            "/usr/local/lib/python3.7/dist-packages/sklearn/linear_model/_coordinate_descent.py:626: ConvergenceWarning: Objective did not converge. You might want to increase the number of iterations. Duality gap: 1479301.9274624288, tolerance: 31179.921862713345\n",
            "  coef_, l1_reg, l2_reg, X, y, max_iter, tol, rng, random\n"
          ]
        },
        {
          "name": "stdout",
          "output_type": "stream",
          "text": [
            "AnandVihar=20.33\n"
          ]
        },
        {
          "name": "stderr",
          "output_type": "stream",
          "text": [
            "/usr/local/lib/python3.7/dist-packages/ipykernel_launcher.py:12: PerformanceWarning: DataFrame is highly fragmented.  This is usually the result of calling `frame.insert` many times, which has poor performance.  Consider joining all columns at once using pd.concat(axis=1) instead.  To get a de-fragmented frame, use `newframe = frame.copy()`\n",
            "  if sys.path[0] == '':\n",
            "/usr/local/lib/python3.7/dist-packages/ipykernel_launcher.py:16: PerformanceWarning: DataFrame is highly fragmented.  This is usually the result of calling `frame.insert` many times, which has poor performance.  Consider joining all columns at once using pd.concat(axis=1) instead.  To get a de-fragmented frame, use `newframe = frame.copy()`\n",
            "  app.launch_new_instance()\n",
            "/usr/local/lib/python3.7/dist-packages/pandas/core/generic.py:6392: SettingWithCopyWarning: \n",
            "A value is trying to be set on a copy of a slice from a DataFrame\n",
            "\n",
            "See the caveats in the documentation: https://pandas.pydata.org/pandas-docs/stable/user_guide/indexing.html#returning-a-view-versus-a-copy\n",
            "  return self._update_inplace(result)\n",
            "/usr/local/lib/python3.7/dist-packages/sklearn/linear_model/_coordinate_descent.py:626: ConvergenceWarning: Objective did not converge. You might want to increase the number of iterations. Duality gap: 89328.62308532, tolerance: 46923.74794163485\n",
            "  coef_, l1_reg, l2_reg, X, y, max_iter, tol, rng, random\n"
          ]
        },
        {
          "name": "stdout",
          "output_type": "stream",
          "text": [
            "AshokVihar=22.04\n"
          ]
        },
        {
          "name": "stderr",
          "output_type": "stream",
          "text": [
            "/usr/local/lib/python3.7/dist-packages/ipykernel_launcher.py:12: PerformanceWarning: DataFrame is highly fragmented.  This is usually the result of calling `frame.insert` many times, which has poor performance.  Consider joining all columns at once using pd.concat(axis=1) instead.  To get a de-fragmented frame, use `newframe = frame.copy()`\n",
            "  if sys.path[0] == '':\n",
            "/usr/local/lib/python3.7/dist-packages/ipykernel_launcher.py:16: PerformanceWarning: DataFrame is highly fragmented.  This is usually the result of calling `frame.insert` many times, which has poor performance.  Consider joining all columns at once using pd.concat(axis=1) instead.  To get a de-fragmented frame, use `newframe = frame.copy()`\n",
            "  app.launch_new_instance()\n",
            "/usr/local/lib/python3.7/dist-packages/pandas/core/generic.py:6392: SettingWithCopyWarning: \n",
            "A value is trying to be set on a copy of a slice from a DataFrame\n",
            "\n",
            "See the caveats in the documentation: https://pandas.pydata.org/pandas-docs/stable/user_guide/indexing.html#returning-a-view-versus-a-copy\n",
            "  return self._update_inplace(result)\n",
            "/usr/local/lib/python3.7/dist-packages/sklearn/linear_model/_coordinate_descent.py:626: ConvergenceWarning: Objective did not converge. You might want to increase the number of iterations. Duality gap: 300469.55814805627, tolerance: 49650.45415526981\n",
            "  coef_, l1_reg, l2_reg, X, y, max_iter, tol, rng, random\n"
          ]
        },
        {
          "name": "stdout",
          "output_type": "stream",
          "text": [
            "Bawana=21.96\n"
          ]
        },
        {
          "name": "stderr",
          "output_type": "stream",
          "text": [
            "/usr/local/lib/python3.7/dist-packages/ipykernel_launcher.py:12: PerformanceWarning: DataFrame is highly fragmented.  This is usually the result of calling `frame.insert` many times, which has poor performance.  Consider joining all columns at once using pd.concat(axis=1) instead.  To get a de-fragmented frame, use `newframe = frame.copy()`\n",
            "  if sys.path[0] == '':\n",
            "/usr/local/lib/python3.7/dist-packages/ipykernel_launcher.py:16: PerformanceWarning: DataFrame is highly fragmented.  This is usually the result of calling `frame.insert` many times, which has poor performance.  Consider joining all columns at once using pd.concat(axis=1) instead.  To get a de-fragmented frame, use `newframe = frame.copy()`\n",
            "  app.launch_new_instance()\n",
            "/usr/local/lib/python3.7/dist-packages/pandas/core/generic.py:6392: SettingWithCopyWarning: \n",
            "A value is trying to be set on a copy of a slice from a DataFrame\n",
            "\n",
            "See the caveats in the documentation: https://pandas.pydata.org/pandas-docs/stable/user_guide/indexing.html#returning-a-view-versus-a-copy\n",
            "  return self._update_inplace(result)\n",
            "/usr/local/lib/python3.7/dist-packages/sklearn/linear_model/_coordinate_descent.py:626: ConvergenceWarning: Objective did not converge. You might want to increase the number of iterations. Duality gap: 280211.1920553744, tolerance: 33557.9186133664\n",
            "  coef_, l1_reg, l2_reg, X, y, max_iter, tol, rng, random\n"
          ]
        },
        {
          "name": "stdout",
          "output_type": "stream",
          "text": [
            "DrKarniShootingRange=16.78\n"
          ]
        },
        {
          "name": "stderr",
          "output_type": "stream",
          "text": [
            "/usr/local/lib/python3.7/dist-packages/ipykernel_launcher.py:12: PerformanceWarning: DataFrame is highly fragmented.  This is usually the result of calling `frame.insert` many times, which has poor performance.  Consider joining all columns at once using pd.concat(axis=1) instead.  To get a de-fragmented frame, use `newframe = frame.copy()`\n",
            "  if sys.path[0] == '':\n",
            "/usr/local/lib/python3.7/dist-packages/ipykernel_launcher.py:16: PerformanceWarning: DataFrame is highly fragmented.  This is usually the result of calling `frame.insert` many times, which has poor performance.  Consider joining all columns at once using pd.concat(axis=1) instead.  To get a de-fragmented frame, use `newframe = frame.copy()`\n",
            "  app.launch_new_instance()\n",
            "/usr/local/lib/python3.7/dist-packages/pandas/core/generic.py:6392: SettingWithCopyWarning: \n",
            "A value is trying to be set on a copy of a slice from a DataFrame\n",
            "\n",
            "See the caveats in the documentation: https://pandas.pydata.org/pandas-docs/stable/user_guide/indexing.html#returning-a-view-versus-a-copy\n",
            "  return self._update_inplace(result)\n",
            "/usr/local/lib/python3.7/dist-packages/sklearn/linear_model/_coordinate_descent.py:626: ConvergenceWarning: Objective did not converge. You might want to increase the number of iterations. Duality gap: 188453.3478975147, tolerance: 29026.179451834807\n",
            "  coef_, l1_reg, l2_reg, X, y, max_iter, tol, rng, random\n",
            "/usr/local/lib/python3.7/dist-packages/sklearn/linear_model/_coordinate_descent.py:626: ConvergenceWarning: Objective did not converge. You might want to increase the number of iterations. Duality gap: 2744490.909155488, tolerance: 39438.55428120865\n",
            "  coef_, l1_reg, l2_reg, X, y, max_iter, tol, rng, random\n",
            "/usr/local/lib/python3.7/dist-packages/sklearn/linear_model/_coordinate_descent.py:626: ConvergenceWarning: Objective did not converge. You might want to increase the number of iterations. Duality gap: 485858.5578083098, tolerance: 28661.8523603238\n",
            "  coef_, l1_reg, l2_reg, X, y, max_iter, tol, rng, random\n"
          ]
        },
        {
          "name": "stdout",
          "output_type": "stream",
          "text": [
            "DTU=18.84\n"
          ]
        },
        {
          "name": "stderr",
          "output_type": "stream",
          "text": [
            "/usr/local/lib/python3.7/dist-packages/ipykernel_launcher.py:12: PerformanceWarning: DataFrame is highly fragmented.  This is usually the result of calling `frame.insert` many times, which has poor performance.  Consider joining all columns at once using pd.concat(axis=1) instead.  To get a de-fragmented frame, use `newframe = frame.copy()`\n",
            "  if sys.path[0] == '':\n",
            "/usr/local/lib/python3.7/dist-packages/ipykernel_launcher.py:16: PerformanceWarning: DataFrame is highly fragmented.  This is usually the result of calling `frame.insert` many times, which has poor performance.  Consider joining all columns at once using pd.concat(axis=1) instead.  To get a de-fragmented frame, use `newframe = frame.copy()`\n",
            "  app.launch_new_instance()\n",
            "/usr/local/lib/python3.7/dist-packages/pandas/core/generic.py:6392: SettingWithCopyWarning: \n",
            "A value is trying to be set on a copy of a slice from a DataFrame\n",
            "\n",
            "See the caveats in the documentation: https://pandas.pydata.org/pandas-docs/stable/user_guide/indexing.html#returning-a-view-versus-a-copy\n",
            "  return self._update_inplace(result)\n",
            "/usr/local/lib/python3.7/dist-packages/sklearn/linear_model/_coordinate_descent.py:626: ConvergenceWarning: Objective did not converge. You might want to increase the number of iterations. Duality gap: 463655.13151317835, tolerance: 36249.98440668258\n",
            "  coef_, l1_reg, l2_reg, X, y, max_iter, tol, rng, random\n",
            "/usr/local/lib/python3.7/dist-packages/sklearn/linear_model/_coordinate_descent.py:2450: ConvergenceWarning: Objective did not converge. You might want to increase the number of iterations. Duality gap: 94670.47329840064, tolerance: 44853.511634226044\n",
            "  random,\n",
            "/usr/local/lib/python3.7/dist-packages/ipykernel_launcher.py:12: PerformanceWarning: DataFrame is highly fragmented.  This is usually the result of calling `frame.insert` many times, which has poor performance.  Consider joining all columns at once using pd.concat(axis=1) instead.  To get a de-fragmented frame, use `newframe = frame.copy()`\n",
            "  if sys.path[0] == '':\n",
            "/usr/local/lib/python3.7/dist-packages/ipykernel_launcher.py:16: PerformanceWarning: DataFrame is highly fragmented.  This is usually the result of calling `frame.insert` many times, which has poor performance.  Consider joining all columns at once using pd.concat(axis=1) instead.  To get a de-fragmented frame, use `newframe = frame.copy()`\n",
            "  app.launch_new_instance()\n"
          ]
        },
        {
          "name": "stdout",
          "output_type": "stream",
          "text": [
            "DwarkaSector8=22.01\n"
          ]
        },
        {
          "name": "stderr",
          "output_type": "stream",
          "text": [
            "/usr/local/lib/python3.7/dist-packages/pandas/core/generic.py:6392: SettingWithCopyWarning: \n",
            "A value is trying to be set on a copy of a slice from a DataFrame\n",
            "\n",
            "See the caveats in the documentation: https://pandas.pydata.org/pandas-docs/stable/user_guide/indexing.html#returning-a-view-versus-a-copy\n",
            "  return self._update_inplace(result)\n",
            "/usr/local/lib/python3.7/dist-packages/sklearn/linear_model/_coordinate_descent.py:626: ConvergenceWarning: Objective did not converge. You might want to increase the number of iterations. Duality gap: 297930.49097275734, tolerance: 17845.522025811202\n",
            "  coef_, l1_reg, l2_reg, X, y, max_iter, tol, rng, random\n",
            "/usr/local/lib/python3.7/dist-packages/sklearn/linear_model/_coordinate_descent.py:626: ConvergenceWarning: Objective did not converge. You might want to increase the number of iterations. Duality gap: 1674781.1914437711, tolerance: 22987.11996281955\n",
            "  coef_, l1_reg, l2_reg, X, y, max_iter, tol, rng, random\n",
            "/usr/local/lib/python3.7/dist-packages/sklearn/linear_model/_coordinate_descent.py:626: ConvergenceWarning: Objective did not converge. You might want to increase the number of iterations. Duality gap: 245362.80994683504, tolerance: 16344.803756236231\n",
            "  coef_, l1_reg, l2_reg, X, y, max_iter, tol, rng, random\n"
          ]
        },
        {
          "name": "stdout",
          "output_type": "stream",
          "text": [
            "IHBASDilshadGarden=14.51\n"
          ]
        },
        {
          "name": "stderr",
          "output_type": "stream",
          "text": [
            "/usr/local/lib/python3.7/dist-packages/ipykernel_launcher.py:12: PerformanceWarning: DataFrame is highly fragmented.  This is usually the result of calling `frame.insert` many times, which has poor performance.  Consider joining all columns at once using pd.concat(axis=1) instead.  To get a de-fragmented frame, use `newframe = frame.copy()`\n",
            "  if sys.path[0] == '':\n",
            "/usr/local/lib/python3.7/dist-packages/ipykernel_launcher.py:16: PerformanceWarning: DataFrame is highly fragmented.  This is usually the result of calling `frame.insert` many times, which has poor performance.  Consider joining all columns at once using pd.concat(axis=1) instead.  To get a de-fragmented frame, use `newframe = frame.copy()`\n",
            "  app.launch_new_instance()\n",
            "/usr/local/lib/python3.7/dist-packages/pandas/core/generic.py:6392: SettingWithCopyWarning: \n",
            "A value is trying to be set on a copy of a slice from a DataFrame\n",
            "\n",
            "See the caveats in the documentation: https://pandas.pydata.org/pandas-docs/stable/user_guide/indexing.html#returning-a-view-versus-a-copy\n",
            "  return self._update_inplace(result)\n"
          ]
        },
        {
          "name": "stdout",
          "output_type": "stream",
          "text": [
            "Jahangirpuri=16.8\n"
          ]
        },
        {
          "name": "stderr",
          "output_type": "stream",
          "text": [
            "/usr/local/lib/python3.7/dist-packages/ipykernel_launcher.py:12: PerformanceWarning: DataFrame is highly fragmented.  This is usually the result of calling `frame.insert` many times, which has poor performance.  Consider joining all columns at once using pd.concat(axis=1) instead.  To get a de-fragmented frame, use `newframe = frame.copy()`\n",
            "  if sys.path[0] == '':\n",
            "/usr/local/lib/python3.7/dist-packages/ipykernel_launcher.py:16: PerformanceWarning: DataFrame is highly fragmented.  This is usually the result of calling `frame.insert` many times, which has poor performance.  Consider joining all columns at once using pd.concat(axis=1) instead.  To get a de-fragmented frame, use `newframe = frame.copy()`\n",
            "  app.launch_new_instance()\n",
            "/usr/local/lib/python3.7/dist-packages/pandas/core/generic.py:6392: SettingWithCopyWarning: \n",
            "A value is trying to be set on a copy of a slice from a DataFrame\n",
            "\n",
            "See the caveats in the documentation: https://pandas.pydata.org/pandas-docs/stable/user_guide/indexing.html#returning-a-view-versus-a-copy\n",
            "  return self._update_inplace(result)\n"
          ]
        },
        {
          "name": "stdout",
          "output_type": "stream",
          "text": [
            "JawaharlalNehruStadium=10.54\n"
          ]
        },
        {
          "name": "stderr",
          "output_type": "stream",
          "text": [
            "/usr/local/lib/python3.7/dist-packages/ipykernel_launcher.py:12: PerformanceWarning: DataFrame is highly fragmented.  This is usually the result of calling `frame.insert` many times, which has poor performance.  Consider joining all columns at once using pd.concat(axis=1) instead.  To get a de-fragmented frame, use `newframe = frame.copy()`\n",
            "  if sys.path[0] == '':\n",
            "/usr/local/lib/python3.7/dist-packages/ipykernel_launcher.py:16: PerformanceWarning: DataFrame is highly fragmented.  This is usually the result of calling `frame.insert` many times, which has poor performance.  Consider joining all columns at once using pd.concat(axis=1) instead.  To get a de-fragmented frame, use `newframe = frame.copy()`\n",
            "  app.launch_new_instance()\n",
            "/usr/local/lib/python3.7/dist-packages/pandas/core/generic.py:6392: SettingWithCopyWarning: \n",
            "A value is trying to be set on a copy of a slice from a DataFrame\n",
            "\n",
            "See the caveats in the documentation: https://pandas.pydata.org/pandas-docs/stable/user_guide/indexing.html#returning-a-view-versus-a-copy\n",
            "  return self._update_inplace(result)\n",
            "/usr/local/lib/python3.7/dist-packages/sklearn/linear_model/_coordinate_descent.py:626: ConvergenceWarning: Objective did not converge. You might want to increase the number of iterations. Duality gap: 463757.183361724, tolerance: 27592.865868813606\n",
            "  coef_, l1_reg, l2_reg, X, y, max_iter, tol, rng, random\n",
            "/usr/local/lib/python3.7/dist-packages/sklearn/linear_model/_coordinate_descent.py:626: ConvergenceWarning: Objective did not converge. You might want to increase the number of iterations. Duality gap: 494863.5914680809, tolerance: 17219.74793008615\n",
            "  coef_, l1_reg, l2_reg, X, y, max_iter, tol, rng, random\n"
          ]
        },
        {
          "name": "stdout",
          "output_type": "stream",
          "text": [
            "MajorDhyanChandNationalStadium=22.77\n"
          ]
        },
        {
          "name": "stderr",
          "output_type": "stream",
          "text": [
            "/usr/local/lib/python3.7/dist-packages/ipykernel_launcher.py:12: PerformanceWarning: DataFrame is highly fragmented.  This is usually the result of calling `frame.insert` many times, which has poor performance.  Consider joining all columns at once using pd.concat(axis=1) instead.  To get a de-fragmented frame, use `newframe = frame.copy()`\n",
            "  if sys.path[0] == '':\n",
            "/usr/local/lib/python3.7/dist-packages/ipykernel_launcher.py:16: PerformanceWarning: DataFrame is highly fragmented.  This is usually the result of calling `frame.insert` many times, which has poor performance.  Consider joining all columns at once using pd.concat(axis=1) instead.  To get a de-fragmented frame, use `newframe = frame.copy()`\n",
            "  app.launch_new_instance()\n",
            "/usr/local/lib/python3.7/dist-packages/pandas/core/generic.py:6392: SettingWithCopyWarning: \n",
            "A value is trying to be set on a copy of a slice from a DataFrame\n",
            "\n",
            "See the caveats in the documentation: https://pandas.pydata.org/pandas-docs/stable/user_guide/indexing.html#returning-a-view-versus-a-copy\n",
            "  return self._update_inplace(result)\n",
            "/usr/local/lib/python3.7/dist-packages/sklearn/linear_model/_coordinate_descent.py:626: ConvergenceWarning: Objective did not converge. You might want to increase the number of iterations. Duality gap: 296273.6534524709, tolerance: 24177.603180807506\n",
            "  coef_, l1_reg, l2_reg, X, y, max_iter, tol, rng, random\n",
            "/usr/local/lib/python3.7/dist-packages/sklearn/linear_model/_coordinate_descent.py:626: ConvergenceWarning: Objective did not converge. You might want to increase the number of iterations. Duality gap: 5677242.321003377, tolerance: 27964.076983243092\n",
            "  coef_, l1_reg, l2_reg, X, y, max_iter, tol, rng, random\n",
            "/usr/local/lib/python3.7/dist-packages/sklearn/linear_model/_coordinate_descent.py:626: ConvergenceWarning: Objective did not converge. You might want to increase the number of iterations. Duality gap: 1094110.1163279563, tolerance: 16710.898773547277\n",
            "  coef_, l1_reg, l2_reg, X, y, max_iter, tol, rng, random\n"
          ]
        },
        {
          "name": "stdout",
          "output_type": "stream",
          "text": [
            "MandirMarg=23.13\n"
          ]
        },
        {
          "name": "stderr",
          "output_type": "stream",
          "text": [
            "/usr/local/lib/python3.7/dist-packages/ipykernel_launcher.py:12: PerformanceWarning: DataFrame is highly fragmented.  This is usually the result of calling `frame.insert` many times, which has poor performance.  Consider joining all columns at once using pd.concat(axis=1) instead.  To get a de-fragmented frame, use `newframe = frame.copy()`\n",
            "  if sys.path[0] == '':\n",
            "/usr/local/lib/python3.7/dist-packages/ipykernel_launcher.py:16: PerformanceWarning: DataFrame is highly fragmented.  This is usually the result of calling `frame.insert` many times, which has poor performance.  Consider joining all columns at once using pd.concat(axis=1) instead.  To get a de-fragmented frame, use `newframe = frame.copy()`\n",
            "  app.launch_new_instance()\n",
            "/usr/local/lib/python3.7/dist-packages/pandas/core/generic.py:6392: SettingWithCopyWarning: \n",
            "A value is trying to be set on a copy of a slice from a DataFrame\n",
            "\n",
            "See the caveats in the documentation: https://pandas.pydata.org/pandas-docs/stable/user_guide/indexing.html#returning-a-view-versus-a-copy\n",
            "  return self._update_inplace(result)\n",
            "/usr/local/lib/python3.7/dist-packages/sklearn/linear_model/_coordinate_descent.py:626: ConvergenceWarning: Objective did not converge. You might want to increase the number of iterations. Duality gap: 5158666.486445576, tolerance: 50453.247326917146\n",
            "  coef_, l1_reg, l2_reg, X, y, max_iter, tol, rng, random\n",
            "/usr/local/lib/python3.7/dist-packages/sklearn/linear_model/_coordinate_descent.py:626: ConvergenceWarning: Objective did not converge. You might want to increase the number of iterations. Duality gap: 390332.6436063349, tolerance: 35277.28884299742\n",
            "  coef_, l1_reg, l2_reg, X, y, max_iter, tol, rng, random\n"
          ]
        },
        {
          "name": "stdout",
          "output_type": "stream",
          "text": [
            "Mundka=22.74\n"
          ]
        },
        {
          "name": "stderr",
          "output_type": "stream",
          "text": [
            "/usr/local/lib/python3.7/dist-packages/ipykernel_launcher.py:12: PerformanceWarning: DataFrame is highly fragmented.  This is usually the result of calling `frame.insert` many times, which has poor performance.  Consider joining all columns at once using pd.concat(axis=1) instead.  To get a de-fragmented frame, use `newframe = frame.copy()`\n",
            "  if sys.path[0] == '':\n",
            "/usr/local/lib/python3.7/dist-packages/ipykernel_launcher.py:16: PerformanceWarning: DataFrame is highly fragmented.  This is usually the result of calling `frame.insert` many times, which has poor performance.  Consider joining all columns at once using pd.concat(axis=1) instead.  To get a de-fragmented frame, use `newframe = frame.copy()`\n",
            "  app.launch_new_instance()\n",
            "/usr/local/lib/python3.7/dist-packages/pandas/core/generic.py:6392: SettingWithCopyWarning: \n",
            "A value is trying to be set on a copy of a slice from a DataFrame\n",
            "\n",
            "See the caveats in the documentation: https://pandas.pydata.org/pandas-docs/stable/user_guide/indexing.html#returning-a-view-versus-a-copy\n",
            "  return self._update_inplace(result)\n"
          ]
        },
        {
          "name": "stdout",
          "output_type": "stream",
          "text": [
            "Najafnagar=15.05\n"
          ]
        },
        {
          "name": "stderr",
          "output_type": "stream",
          "text": [
            "/usr/local/lib/python3.7/dist-packages/ipykernel_launcher.py:12: PerformanceWarning: DataFrame is highly fragmented.  This is usually the result of calling `frame.insert` many times, which has poor performance.  Consider joining all columns at once using pd.concat(axis=1) instead.  To get a de-fragmented frame, use `newframe = frame.copy()`\n",
            "  if sys.path[0] == '':\n",
            "/usr/local/lib/python3.7/dist-packages/ipykernel_launcher.py:16: PerformanceWarning: DataFrame is highly fragmented.  This is usually the result of calling `frame.insert` many times, which has poor performance.  Consider joining all columns at once using pd.concat(axis=1) instead.  To get a de-fragmented frame, use `newframe = frame.copy()`\n",
            "  app.launch_new_instance()\n",
            "/usr/local/lib/python3.7/dist-packages/pandas/core/generic.py:6392: SettingWithCopyWarning: \n",
            "A value is trying to be set on a copy of a slice from a DataFrame\n",
            "\n",
            "See the caveats in the documentation: https://pandas.pydata.org/pandas-docs/stable/user_guide/indexing.html#returning-a-view-versus-a-copy\n",
            "  return self._update_inplace(result)\n",
            "/usr/local/lib/python3.7/dist-packages/sklearn/linear_model/_coordinate_descent.py:626: ConvergenceWarning: Objective did not converge. You might want to increase the number of iterations. Duality gap: 412026.28886952996, tolerance: 24414.038541008424\n",
            "  coef_, l1_reg, l2_reg, X, y, max_iter, tol, rng, random\n",
            "/usr/local/lib/python3.7/dist-packages/sklearn/linear_model/_coordinate_descent.py:626: ConvergenceWarning: Objective did not converge. You might want to increase the number of iterations. Duality gap: 1293696.9342117608, tolerance: 31042.30843236145\n",
            "  coef_, l1_reg, l2_reg, X, y, max_iter, tol, rng, random\n",
            "/usr/local/lib/python3.7/dist-packages/sklearn/linear_model/_coordinate_descent.py:626: ConvergenceWarning: Objective did not converge. You might want to increase the number of iterations. Duality gap: 993897.6186936796, tolerance: 21755.759908541117\n",
            "  coef_, l1_reg, l2_reg, X, y, max_iter, tol, rng, random\n"
          ]
        },
        {
          "name": "stdout",
          "output_type": "stream",
          "text": [
            "Narela=24.56\n"
          ]
        },
        {
          "name": "stderr",
          "output_type": "stream",
          "text": [
            "/usr/local/lib/python3.7/dist-packages/ipykernel_launcher.py:12: PerformanceWarning: DataFrame is highly fragmented.  This is usually the result of calling `frame.insert` many times, which has poor performance.  Consider joining all columns at once using pd.concat(axis=1) instead.  To get a de-fragmented frame, use `newframe = frame.copy()`\n",
            "  if sys.path[0] == '':\n",
            "/usr/local/lib/python3.7/dist-packages/ipykernel_launcher.py:16: PerformanceWarning: DataFrame is highly fragmented.  This is usually the result of calling `frame.insert` many times, which has poor performance.  Consider joining all columns at once using pd.concat(axis=1) instead.  To get a de-fragmented frame, use `newframe = frame.copy()`\n",
            "  app.launch_new_instance()\n",
            "/usr/local/lib/python3.7/dist-packages/pandas/core/generic.py:6392: SettingWithCopyWarning: \n",
            "A value is trying to be set on a copy of a slice from a DataFrame\n",
            "\n",
            "See the caveats in the documentation: https://pandas.pydata.org/pandas-docs/stable/user_guide/indexing.html#returning-a-view-versus-a-copy\n",
            "  return self._update_inplace(result)\n",
            "/usr/local/lib/python3.7/dist-packages/sklearn/linear_model/_coordinate_descent.py:626: ConvergenceWarning: Objective did not converge. You might want to increase the number of iterations. Duality gap: 4673846.654304534, tolerance: 44586.98164086066\n",
            "  coef_, l1_reg, l2_reg, X, y, max_iter, tol, rng, random\n",
            "/usr/local/lib/python3.7/dist-packages/sklearn/linear_model/_coordinate_descent.py:626: ConvergenceWarning: Objective did not converge. You might want to increase the number of iterations. Duality gap: 39847181.702578604, tolerance: 53769.12941700059\n",
            "  coef_, l1_reg, l2_reg, X, y, max_iter, tol, rng, random\n",
            "/usr/local/lib/python3.7/dist-packages/sklearn/linear_model/_coordinate_descent.py:626: ConvergenceWarning: Objective did not converge. You might want to increase the number of iterations. Duality gap: 9259115.307732657, tolerance: 35726.167870303216\n",
            "  coef_, l1_reg, l2_reg, X, y, max_iter, tol, rng, random\n"
          ]
        },
        {
          "name": "stdout",
          "output_type": "stream",
          "text": [
            "NehruNagar=23.34\n"
          ]
        },
        {
          "name": "stderr",
          "output_type": "stream",
          "text": [
            "/usr/local/lib/python3.7/dist-packages/ipykernel_launcher.py:12: PerformanceWarning: DataFrame is highly fragmented.  This is usually the result of calling `frame.insert` many times, which has poor performance.  Consider joining all columns at once using pd.concat(axis=1) instead.  To get a de-fragmented frame, use `newframe = frame.copy()`\n",
            "  if sys.path[0] == '':\n",
            "/usr/local/lib/python3.7/dist-packages/ipykernel_launcher.py:16: PerformanceWarning: DataFrame is highly fragmented.  This is usually the result of calling `frame.insert` many times, which has poor performance.  Consider joining all columns at once using pd.concat(axis=1) instead.  To get a de-fragmented frame, use `newframe = frame.copy()`\n",
            "  app.launch_new_instance()\n",
            "/usr/local/lib/python3.7/dist-packages/pandas/core/generic.py:6392: SettingWithCopyWarning: \n",
            "A value is trying to be set on a copy of a slice from a DataFrame\n",
            "\n",
            "See the caveats in the documentation: https://pandas.pydata.org/pandas-docs/stable/user_guide/indexing.html#returning-a-view-versus-a-copy\n",
            "  return self._update_inplace(result)\n",
            "/usr/local/lib/python3.7/dist-packages/sklearn/linear_model/_coordinate_descent.py:626: ConvergenceWarning: Objective did not converge. You might want to increase the number of iterations. Duality gap: 566336.5381004363, tolerance: 28794.172514572194\n",
            "  coef_, l1_reg, l2_reg, X, y, max_iter, tol, rng, random\n",
            "/usr/local/lib/python3.7/dist-packages/sklearn/linear_model/_coordinate_descent.py:626: ConvergenceWarning: Objective did not converge. You might want to increase the number of iterations. Duality gap: 6052599.40092586, tolerance: 35724.335525077586\n",
            "  coef_, l1_reg, l2_reg, X, y, max_iter, tol, rng, random\n",
            "/usr/local/lib/python3.7/dist-packages/sklearn/linear_model/_coordinate_descent.py:626: ConvergenceWarning: Objective did not converge. You might want to increase the number of iterations. Duality gap: 921347.1853591502, tolerance: 23148.319944577204\n",
            "  coef_, l1_reg, l2_reg, X, y, max_iter, tol, rng, random\n"
          ]
        },
        {
          "name": "stdout",
          "output_type": "stream",
          "text": [
            "OkhlaPhase2=19.68\n"
          ]
        },
        {
          "name": "stderr",
          "output_type": "stream",
          "text": [
            "/usr/local/lib/python3.7/dist-packages/ipykernel_launcher.py:12: PerformanceWarning: DataFrame is highly fragmented.  This is usually the result of calling `frame.insert` many times, which has poor performance.  Consider joining all columns at once using pd.concat(axis=1) instead.  To get a de-fragmented frame, use `newframe = frame.copy()`\n",
            "  if sys.path[0] == '':\n",
            "/usr/local/lib/python3.7/dist-packages/ipykernel_launcher.py:16: PerformanceWarning: DataFrame is highly fragmented.  This is usually the result of calling `frame.insert` many times, which has poor performance.  Consider joining all columns at once using pd.concat(axis=1) instead.  To get a de-fragmented frame, use `newframe = frame.copy()`\n",
            "  app.launch_new_instance()\n",
            "/usr/local/lib/python3.7/dist-packages/pandas/core/generic.py:6392: SettingWithCopyWarning: \n",
            "A value is trying to be set on a copy of a slice from a DataFrame\n",
            "\n",
            "See the caveats in the documentation: https://pandas.pydata.org/pandas-docs/stable/user_guide/indexing.html#returning-a-view-versus-a-copy\n",
            "  return self._update_inplace(result)\n",
            "/usr/local/lib/python3.7/dist-packages/sklearn/linear_model/_coordinate_descent.py:626: ConvergenceWarning: Objective did not converge. You might want to increase the number of iterations. Duality gap: 483449.1380057931, tolerance: 28419.4634925788\n",
            "  coef_, l1_reg, l2_reg, X, y, max_iter, tol, rng, random\n",
            "/usr/local/lib/python3.7/dist-packages/sklearn/linear_model/_coordinate_descent.py:626: ConvergenceWarning: Objective did not converge. You might want to increase the number of iterations. Duality gap: 295611.7709814608, tolerance: 17936.575679053858\n",
            "  coef_, l1_reg, l2_reg, X, y, max_iter, tol, rng, random\n"
          ]
        },
        {
          "name": "stdout",
          "output_type": "stream",
          "text": [
            "Patparganj=17.65\n"
          ]
        },
        {
          "name": "stderr",
          "output_type": "stream",
          "text": [
            "/usr/local/lib/python3.7/dist-packages/ipykernel_launcher.py:12: PerformanceWarning: DataFrame is highly fragmented.  This is usually the result of calling `frame.insert` many times, which has poor performance.  Consider joining all columns at once using pd.concat(axis=1) instead.  To get a de-fragmented frame, use `newframe = frame.copy()`\n",
            "  if sys.path[0] == '':\n",
            "/usr/local/lib/python3.7/dist-packages/ipykernel_launcher.py:16: PerformanceWarning: DataFrame is highly fragmented.  This is usually the result of calling `frame.insert` many times, which has poor performance.  Consider joining all columns at once using pd.concat(axis=1) instead.  To get a de-fragmented frame, use `newframe = frame.copy()`\n",
            "  app.launch_new_instance()\n",
            "/usr/local/lib/python3.7/dist-packages/pandas/core/generic.py:6392: SettingWithCopyWarning: \n",
            "A value is trying to be set on a copy of a slice from a DataFrame\n",
            "\n",
            "See the caveats in the documentation: https://pandas.pydata.org/pandas-docs/stable/user_guide/indexing.html#returning-a-view-versus-a-copy\n",
            "  return self._update_inplace(result)\n",
            "/usr/local/lib/python3.7/dist-packages/sklearn/linear_model/_coordinate_descent.py:626: ConvergenceWarning: Objective did not converge. You might want to increase the number of iterations. Duality gap: 44154.80013099313, tolerance: 38228.03388028917\n",
            "  coef_, l1_reg, l2_reg, X, y, max_iter, tol, rng, random\n"
          ]
        },
        {
          "name": "stdout",
          "output_type": "stream",
          "text": [
            "PunjabiBagh=17.51\n"
          ]
        },
        {
          "name": "stderr",
          "output_type": "stream",
          "text": [
            "/usr/local/lib/python3.7/dist-packages/ipykernel_launcher.py:12: PerformanceWarning: DataFrame is highly fragmented.  This is usually the result of calling `frame.insert` many times, which has poor performance.  Consider joining all columns at once using pd.concat(axis=1) instead.  To get a de-fragmented frame, use `newframe = frame.copy()`\n",
            "  if sys.path[0] == '':\n",
            "/usr/local/lib/python3.7/dist-packages/ipykernel_launcher.py:16: PerformanceWarning: DataFrame is highly fragmented.  This is usually the result of calling `frame.insert` many times, which has poor performance.  Consider joining all columns at once using pd.concat(axis=1) instead.  To get a de-fragmented frame, use `newframe = frame.copy()`\n",
            "  app.launch_new_instance()\n",
            "/usr/local/lib/python3.7/dist-packages/pandas/core/generic.py:6392: SettingWithCopyWarning: \n",
            "A value is trying to be set on a copy of a slice from a DataFrame\n",
            "\n",
            "See the caveats in the documentation: https://pandas.pydata.org/pandas-docs/stable/user_guide/indexing.html#returning-a-view-versus-a-copy\n",
            "  return self._update_inplace(result)\n",
            "/usr/local/lib/python3.7/dist-packages/sklearn/linear_model/_coordinate_descent.py:626: ConvergenceWarning: Objective did not converge. You might want to increase the number of iterations. Duality gap: 335150.10526300967, tolerance: 27409.261905231357\n",
            "  coef_, l1_reg, l2_reg, X, y, max_iter, tol, rng, random\n",
            "/usr/local/lib/python3.7/dist-packages/sklearn/linear_model/_coordinate_descent.py:626: ConvergenceWarning: Objective did not converge. You might want to increase the number of iterations. Duality gap: 496605.1277755499, tolerance: 34253.000635545824\n",
            "  coef_, l1_reg, l2_reg, X, y, max_iter, tol, rng, random\n",
            "/usr/local/lib/python3.7/dist-packages/sklearn/linear_model/_coordinate_descent.py:626: ConvergenceWarning: Objective did not converge. You might want to increase the number of iterations. Duality gap: 121584.68072938919, tolerance: 22807.178200933122\n",
            "  coef_, l1_reg, l2_reg, X, y, max_iter, tol, rng, random\n"
          ]
        },
        {
          "name": "stdout",
          "output_type": "stream",
          "text": [
            "Pusa=21.7\n"
          ]
        },
        {
          "name": "stderr",
          "output_type": "stream",
          "text": [
            "/usr/local/lib/python3.7/dist-packages/ipykernel_launcher.py:12: PerformanceWarning: DataFrame is highly fragmented.  This is usually the result of calling `frame.insert` many times, which has poor performance.  Consider joining all columns at once using pd.concat(axis=1) instead.  To get a de-fragmented frame, use `newframe = frame.copy()`\n",
            "  if sys.path[0] == '':\n",
            "/usr/local/lib/python3.7/dist-packages/ipykernel_launcher.py:16: PerformanceWarning: DataFrame is highly fragmented.  This is usually the result of calling `frame.insert` many times, which has poor performance.  Consider joining all columns at once using pd.concat(axis=1) instead.  To get a de-fragmented frame, use `newframe = frame.copy()`\n",
            "  app.launch_new_instance()\n",
            "/usr/local/lib/python3.7/dist-packages/pandas/core/generic.py:6392: SettingWithCopyWarning: \n",
            "A value is trying to be set on a copy of a slice from a DataFrame\n",
            "\n",
            "See the caveats in the documentation: https://pandas.pydata.org/pandas-docs/stable/user_guide/indexing.html#returning-a-view-versus-a-copy\n",
            "  return self._update_inplace(result)\n",
            "/usr/local/lib/python3.7/dist-packages/sklearn/linear_model/_coordinate_descent.py:626: ConvergenceWarning: Objective did not converge. You might want to increase the number of iterations. Duality gap: 62879.068005129695, tolerance: 19855.227608345926\n",
            "  coef_, l1_reg, l2_reg, X, y, max_iter, tol, rng, random\n",
            "/usr/local/lib/python3.7/dist-packages/sklearn/linear_model/_coordinate_descent.py:626: ConvergenceWarning: Objective did not converge. You might want to increase the number of iterations. Duality gap: 693640.9627778232, tolerance: 30334.350000289127\n",
            "  coef_, l1_reg, l2_reg, X, y, max_iter, tol, rng, random\n",
            "/usr/local/lib/python3.7/dist-packages/sklearn/linear_model/_coordinate_descent.py:626: ConvergenceWarning: Objective did not converge. You might want to increase the number of iterations. Duality gap: 52561.50158295035, tolerance: 19633.10323527037\n",
            "  coef_, l1_reg, l2_reg, X, y, max_iter, tol, rng, random\n"
          ]
        },
        {
          "name": "stdout",
          "output_type": "stream",
          "text": [
            "RKPuram=17.84\n"
          ]
        },
        {
          "name": "stderr",
          "output_type": "stream",
          "text": [
            "/usr/local/lib/python3.7/dist-packages/ipykernel_launcher.py:12: PerformanceWarning: DataFrame is highly fragmented.  This is usually the result of calling `frame.insert` many times, which has poor performance.  Consider joining all columns at once using pd.concat(axis=1) instead.  To get a de-fragmented frame, use `newframe = frame.copy()`\n",
            "  if sys.path[0] == '':\n",
            "/usr/local/lib/python3.7/dist-packages/ipykernel_launcher.py:16: PerformanceWarning: DataFrame is highly fragmented.  This is usually the result of calling `frame.insert` many times, which has poor performance.  Consider joining all columns at once using pd.concat(axis=1) instead.  To get a de-fragmented frame, use `newframe = frame.copy()`\n",
            "  app.launch_new_instance()\n",
            "/usr/local/lib/python3.7/dist-packages/pandas/core/generic.py:6392: SettingWithCopyWarning: \n",
            "A value is trying to be set on a copy of a slice from a DataFrame\n",
            "\n",
            "See the caveats in the documentation: https://pandas.pydata.org/pandas-docs/stable/user_guide/indexing.html#returning-a-view-versus-a-copy\n",
            "  return self._update_inplace(result)\n"
          ]
        },
        {
          "name": "stdout",
          "output_type": "stream",
          "text": [
            "Rohini=17.98\n"
          ]
        },
        {
          "name": "stderr",
          "output_type": "stream",
          "text": [
            "/usr/local/lib/python3.7/dist-packages/ipykernel_launcher.py:12: PerformanceWarning: DataFrame is highly fragmented.  This is usually the result of calling `frame.insert` many times, which has poor performance.  Consider joining all columns at once using pd.concat(axis=1) instead.  To get a de-fragmented frame, use `newframe = frame.copy()`\n",
            "  if sys.path[0] == '':\n",
            "/usr/local/lib/python3.7/dist-packages/ipykernel_launcher.py:16: PerformanceWarning: DataFrame is highly fragmented.  This is usually the result of calling `frame.insert` many times, which has poor performance.  Consider joining all columns at once using pd.concat(axis=1) instead.  To get a de-fragmented frame, use `newframe = frame.copy()`\n",
            "  app.launch_new_instance()\n",
            "/usr/local/lib/python3.7/dist-packages/pandas/core/generic.py:6392: SettingWithCopyWarning: \n",
            "A value is trying to be set on a copy of a slice from a DataFrame\n",
            "\n",
            "See the caveats in the documentation: https://pandas.pydata.org/pandas-docs/stable/user_guide/indexing.html#returning-a-view-versus-a-copy\n",
            "  return self._update_inplace(result)\n",
            "/usr/local/lib/python3.7/dist-packages/sklearn/linear_model/_coordinate_descent.py:626: ConvergenceWarning: Objective did not converge. You might want to increase the number of iterations. Duality gap: 234737.36957867444, tolerance: 24511.003768647497\n",
            "  coef_, l1_reg, l2_reg, X, y, max_iter, tol, rng, random\n"
          ]
        },
        {
          "name": "stdout",
          "output_type": "stream",
          "text": [
            "Shadipur=19.63\n"
          ]
        },
        {
          "name": "stderr",
          "output_type": "stream",
          "text": [
            "/usr/local/lib/python3.7/dist-packages/ipykernel_launcher.py:12: PerformanceWarning: DataFrame is highly fragmented.  This is usually the result of calling `frame.insert` many times, which has poor performance.  Consider joining all columns at once using pd.concat(axis=1) instead.  To get a de-fragmented frame, use `newframe = frame.copy()`\n",
            "  if sys.path[0] == '':\n",
            "/usr/local/lib/python3.7/dist-packages/ipykernel_launcher.py:16: PerformanceWarning: DataFrame is highly fragmented.  This is usually the result of calling `frame.insert` many times, which has poor performance.  Consider joining all columns at once using pd.concat(axis=1) instead.  To get a de-fragmented frame, use `newframe = frame.copy()`\n",
            "  app.launch_new_instance()\n",
            "/usr/local/lib/python3.7/dist-packages/pandas/core/generic.py:6392: SettingWithCopyWarning: \n",
            "A value is trying to be set on a copy of a slice from a DataFrame\n",
            "\n",
            "See the caveats in the documentation: https://pandas.pydata.org/pandas-docs/stable/user_guide/indexing.html#returning-a-view-versus-a-copy\n",
            "  return self._update_inplace(result)\n"
          ]
        },
        {
          "name": "stdout",
          "output_type": "stream",
          "text": [
            "Sirifort=21.47\n"
          ]
        },
        {
          "name": "stderr",
          "output_type": "stream",
          "text": [
            "/usr/local/lib/python3.7/dist-packages/ipykernel_launcher.py:12: PerformanceWarning: DataFrame is highly fragmented.  This is usually the result of calling `frame.insert` many times, which has poor performance.  Consider joining all columns at once using pd.concat(axis=1) instead.  To get a de-fragmented frame, use `newframe = frame.copy()`\n",
            "  if sys.path[0] == '':\n",
            "/usr/local/lib/python3.7/dist-packages/ipykernel_launcher.py:16: PerformanceWarning: DataFrame is highly fragmented.  This is usually the result of calling `frame.insert` many times, which has poor performance.  Consider joining all columns at once using pd.concat(axis=1) instead.  To get a de-fragmented frame, use `newframe = frame.copy()`\n",
            "  app.launch_new_instance()\n",
            "/usr/local/lib/python3.7/dist-packages/pandas/core/generic.py:6392: SettingWithCopyWarning: \n",
            "A value is trying to be set on a copy of a slice from a DataFrame\n",
            "\n",
            "See the caveats in the documentation: https://pandas.pydata.org/pandas-docs/stable/user_guide/indexing.html#returning-a-view-versus-a-copy\n",
            "  return self._update_inplace(result)\n"
          ]
        },
        {
          "name": "stdout",
          "output_type": "stream",
          "text": [
            "SoniaVihar=14.09\n"
          ]
        },
        {
          "name": "stderr",
          "output_type": "stream",
          "text": [
            "/usr/local/lib/python3.7/dist-packages/ipykernel_launcher.py:12: PerformanceWarning: DataFrame is highly fragmented.  This is usually the result of calling `frame.insert` many times, which has poor performance.  Consider joining all columns at once using pd.concat(axis=1) instead.  To get a de-fragmented frame, use `newframe = frame.copy()`\n",
            "  if sys.path[0] == '':\n",
            "/usr/local/lib/python3.7/dist-packages/ipykernel_launcher.py:16: PerformanceWarning: DataFrame is highly fragmented.  This is usually the result of calling `frame.insert` many times, which has poor performance.  Consider joining all columns at once using pd.concat(axis=1) instead.  To get a de-fragmented frame, use `newframe = frame.copy()`\n",
            "  app.launch_new_instance()\n",
            "/usr/local/lib/python3.7/dist-packages/pandas/core/generic.py:6392: SettingWithCopyWarning: \n",
            "A value is trying to be set on a copy of a slice from a DataFrame\n",
            "\n",
            "See the caveats in the documentation: https://pandas.pydata.org/pandas-docs/stable/user_guide/indexing.html#returning-a-view-versus-a-copy\n",
            "  return self._update_inplace(result)\n",
            "/usr/local/lib/python3.7/dist-packages/sklearn/linear_model/_coordinate_descent.py:626: ConvergenceWarning: Objective did not converge. You might want to increase the number of iterations. Duality gap: 177143.37117749453, tolerance: 28549.736303628662\n",
            "  coef_, l1_reg, l2_reg, X, y, max_iter, tol, rng, random\n",
            "/usr/local/lib/python3.7/dist-packages/sklearn/linear_model/_coordinate_descent.py:626: ConvergenceWarning: Objective did not converge. You might want to increase the number of iterations. Duality gap: 60933.99629293382, tolerance: 17385.96637343664\n",
            "  coef_, l1_reg, l2_reg, X, y, max_iter, tol, rng, random\n"
          ]
        },
        {
          "name": "stdout",
          "output_type": "stream",
          "text": [
            "SriAurobindoMarg=19.92\n"
          ]
        },
        {
          "name": "stderr",
          "output_type": "stream",
          "text": [
            "/usr/local/lib/python3.7/dist-packages/ipykernel_launcher.py:12: PerformanceWarning: DataFrame is highly fragmented.  This is usually the result of calling `frame.insert` many times, which has poor performance.  Consider joining all columns at once using pd.concat(axis=1) instead.  To get a de-fragmented frame, use `newframe = frame.copy()`\n",
            "  if sys.path[0] == '':\n",
            "/usr/local/lib/python3.7/dist-packages/ipykernel_launcher.py:16: PerformanceWarning: DataFrame is highly fragmented.  This is usually the result of calling `frame.insert` many times, which has poor performance.  Consider joining all columns at once using pd.concat(axis=1) instead.  To get a de-fragmented frame, use `newframe = frame.copy()`\n",
            "  app.launch_new_instance()\n",
            "/usr/local/lib/python3.7/dist-packages/pandas/core/generic.py:6392: SettingWithCopyWarning: \n",
            "A value is trying to be set on a copy of a slice from a DataFrame\n",
            "\n",
            "See the caveats in the documentation: https://pandas.pydata.org/pandas-docs/stable/user_guide/indexing.html#returning-a-view-versus-a-copy\n",
            "  return self._update_inplace(result)\n",
            "/usr/local/lib/python3.7/dist-packages/sklearn/linear_model/_coordinate_descent.py:626: ConvergenceWarning: Objective did not converge. You might want to increase the number of iterations. Duality gap: 5656225.136516228, tolerance: 32736.309392968746\n",
            "  coef_, l1_reg, l2_reg, X, y, max_iter, tol, rng, random\n",
            "/usr/local/lib/python3.7/dist-packages/sklearn/linear_model/_coordinate_descent.py:626: ConvergenceWarning: Objective did not converge. You might want to increase the number of iterations. Duality gap: 4597584.305956125, tolerance: 38840.07316560281\n",
            "  coef_, l1_reg, l2_reg, X, y, max_iter, tol, rng, random\n",
            "/usr/local/lib/python3.7/dist-packages/sklearn/linear_model/_coordinate_descent.py:626: ConvergenceWarning: Objective did not converge. You might want to increase the number of iterations. Duality gap: 1843003.9614090174, tolerance: 25810.146673980136\n",
            "  coef_, l1_reg, l2_reg, X, y, max_iter, tol, rng, random\n"
          ]
        },
        {
          "name": "stdout",
          "output_type": "stream",
          "text": [
            "VivekVihar=22.34\n"
          ]
        },
        {
          "name": "stderr",
          "output_type": "stream",
          "text": [
            "/usr/local/lib/python3.7/dist-packages/ipykernel_launcher.py:12: PerformanceWarning: DataFrame is highly fragmented.  This is usually the result of calling `frame.insert` many times, which has poor performance.  Consider joining all columns at once using pd.concat(axis=1) instead.  To get a de-fragmented frame, use `newframe = frame.copy()`\n",
            "  if sys.path[0] == '':\n",
            "/usr/local/lib/python3.7/dist-packages/ipykernel_launcher.py:16: PerformanceWarning: DataFrame is highly fragmented.  This is usually the result of calling `frame.insert` many times, which has poor performance.  Consider joining all columns at once using pd.concat(axis=1) instead.  To get a de-fragmented frame, use `newframe = frame.copy()`\n",
            "  app.launch_new_instance()\n",
            "/usr/local/lib/python3.7/dist-packages/pandas/core/generic.py:6392: SettingWithCopyWarning: \n",
            "A value is trying to be set on a copy of a slice from a DataFrame\n",
            "\n",
            "See the caveats in the documentation: https://pandas.pydata.org/pandas-docs/stable/user_guide/indexing.html#returning-a-view-versus-a-copy\n",
            "  return self._update_inplace(result)\n",
            "/usr/local/lib/python3.7/dist-packages/sklearn/linear_model/_coordinate_descent.py:626: ConvergenceWarning: Objective did not converge. You might want to increase the number of iterations. Duality gap: 973244.652987048, tolerance: 37904.95106238066\n",
            "  coef_, l1_reg, l2_reg, X, y, max_iter, tol, rng, random\n",
            "/usr/local/lib/python3.7/dist-packages/sklearn/linear_model/_coordinate_descent.py:626: ConvergenceWarning: Objective did not converge. You might want to increase the number of iterations. Duality gap: 24866114.132120073, tolerance: 48852.001212106436\n",
            "  coef_, l1_reg, l2_reg, X, y, max_iter, tol, rng, random\n",
            "/usr/local/lib/python3.7/dist-packages/sklearn/linear_model/_coordinate_descent.py:626: ConvergenceWarning: Objective did not converge. You might want to increase the number of iterations. Duality gap: 983825.2340203524, tolerance: 34832.73572178615\n",
            "  coef_, l1_reg, l2_reg, X, y, max_iter, tol, rng, random\n"
          ]
        },
        {
          "name": "stdout",
          "output_type": "stream",
          "text": [
            "Wazirpur=24.26\n"
          ]
        }
      ],
      "source": [
        "pred = {k:[] for k in [1,6,12,18,24]}\n",
        "gt = {k:[] for k in [1,6,12,18,24]}\n",
        "\n",
        "for sensor in sensors:\n",
        "    \n",
        "    start = time.time()\n",
        "    \n",
        "    df_temp = df.loc[:,[i for i in df.columns.tolist() if i.endswith(sensor)]]\n",
        "    \n",
        "    for col in ['aqi','at','rh','ws','wd']: \n",
        "        for j in range(1,24):\n",
        "            df_temp['p{}_{}'.format(j,col)] = df_temp[col + '_%s' % sensor]\n",
        "            df_temp['p{}_{}'.format(j,col)] = df_temp['p{}_{}'.format(j,col)].shift(j)\n",
        "\n",
        "    for j in [1,6,12,18,24]:\n",
        "        df_temp['hz{}'.format(j)] = df_temp['aqi_%s' % sensor]\n",
        "        df_temp['hz{}'.format(j)] = df_temp['hz{}'.format(j)].shift(-j)\n",
        "    \n",
        "    y_cols = [i for i in df_temp.columns.tolist() if i.startswith('hz')]\n",
        "    x_cols = [i for i in df_temp.columns.tolist() if i.startswith('hz')==False]\n",
        "    \n",
        "    X = df_temp.loc[:,x_cols]    \n",
        "    y = df_temp.loc[:,y_cols]\n",
        "    \n",
        "    X_train = X.loc[:pd.Timestamp('2019-12-31 23:00:00'),:]\n",
        "    y_train = y.loc[:pd.Timestamp('2019-12-31 23:00:00'),:]\n",
        "    X_test = X.loc[pd.Timestamp('2020-01-01 00:00:00'):,:]\n",
        "    y_test = y.loc[pd.Timestamp('2020-01-01 00:00:00'):,:]\n",
        "    \n",
        "    #nik\n",
        "    train = pd.concat([X_train,y_train],axis=1)\n",
        "    train.dropna(axis=0,how='any',inplace=True)\n",
        "    X_train = train.loc[:,x_cols]\n",
        "    y_train = train.loc[:,y_cols]\n",
        "    \n",
        "    #nik\n",
        "    X_test.fillna(X_test.mean(),inplace=True)\n",
        "\n",
        "    model = MultiTaskLassoCV(alphas=[0.1,1,10,100],cv=3)\n",
        "    model.fit(X_train,y_train)\n",
        "    \n",
        "    predictions = model.predict(X_test)\n",
        "    actual = np.array(y_test)\n",
        "    \n",
        "    j=0\n",
        "    for i in [1,6,12,18,24]:\n",
        "        pred[i].append(predictions[:,j].tolist())\n",
        "        gt[i].append(actual[:,j].tolist())\n",
        "        j = j + 1\n",
        "        \n",
        "    end = time.time()\n",
        "    \n",
        "    print(sensor+'='+str(np.round(end-start,2)))"
      ]
    },
    {
      "cell_type": "code",
      "execution_count": null,
      "metadata": {
        "colab": {
          "background_save": true
        },
        "id": "MvN2sT1ZGp_g",
        "outputId": "c9de68d5-d6e7-4935-bca0-421251efa965"
      },
      "outputs": [
        {
          "name": "stdout",
          "output_type": "stream",
          "text": [
            "16.53\n",
            "36.37\n",
            "1.5\n",
            "44.8\n",
            "71.3\n",
            "4.28\n",
            "52.14\n",
            "79.92\n",
            "5.18\n",
            "56.02\n",
            "84.07\n",
            "5.68\n",
            "58.94\n",
            "87.28\n",
            "6.04\n"
          ]
        }
      ],
      "source": [
        "result_mape = {k:[] for k in [1,6,12,18,24]}\n",
        "result_mae = {k:[] for k in [1,6,12,18,24]}\n",
        "result_rmse = {k:[] for k in [1,6,12,18,24]}\n",
        "\n",
        "for i in gt.keys():\n",
        "    res = calculate_metrics(pd.DataFrame(np.array(pred[i]).T),pd.DataFrame(np.array(gt[i]).T),np.nan)\n",
        "    result_mape[i] = res[1]\n",
        "    result_mae[i] = res[0]\n",
        "    result_rmse[i] = res[2]\n",
        "\n",
        "final_dict = {k:[] for k in [1,6,12,18,24]}\n",
        "for i in [1,6,12,18,24]:\n",
        "    final_dict[i].append(np.round(result_mae[i],2))\n",
        "    final_dict[i].append(np.round(result_rmse[i],2))\n",
        "    final_dict[i].append(np.round(result_mape[i],2))\n",
        "\n",
        "for i in [1,6,12,18,24]:\n",
        "    for j in final_dict[i]:\n",
        "        print(j)"
      ]
    },
    {
      "cell_type": "markdown",
      "metadata": {
        "id": "ZjlnF029KZVi"
      },
      "source": [
        "###VAR"
      ]
    },
    {
      "cell_type": "code",
      "execution_count": null,
      "metadata": {
        "colab": {
          "base_uri": "https://localhost:8080/"
        },
        "id": "e8penk6sKbsB",
        "outputId": "011d948c-6885-4e23-d60a-9732fabc0c3d"
      },
      "outputs": [
        {
          "name": "stderr",
          "output_type": "stream",
          "text": [
            "/usr/local/lib/python3.7/dist-packages/pandas/core/series.py:4536: SettingWithCopyWarning: \n",
            "A value is trying to be set on a copy of a slice from a DataFrame\n",
            "\n",
            "See the caveats in the documentation: https://pandas.pydata.org/pandas-docs/stable/user_guide/indexing.html#returning-a-view-versus-a-copy\n",
            "  downcast=downcast,\n",
            "/usr/local/lib/python3.7/dist-packages/sklearn/linear_model/_coordinate_descent.py:626: ConvergenceWarning: Objective did not converge. You might want to increase the number of iterations. Duality gap: 121622.96856007143, tolerance: 1749.1789424208146\n",
            "  coef_, l1_reg, l2_reg, X, y, max_iter, tol, rng, random\n",
            "/usr/local/lib/python3.7/dist-packages/sklearn/linear_model/_coordinate_descent.py:626: ConvergenceWarning: Objective did not converge. You might want to increase the number of iterations. Duality gap: 55813.93397070425, tolerance: 1749.1789424208146\n",
            "  coef_, l1_reg, l2_reg, X, y, max_iter, tol, rng, random\n",
            "/usr/local/lib/python3.7/dist-packages/sklearn/linear_model/_coordinate_descent.py:626: ConvergenceWarning: Objective did not converge. You might want to increase the number of iterations. Duality gap: 6515.467436647701, tolerance: 1749.1789424208146\n",
            "  coef_, l1_reg, l2_reg, X, y, max_iter, tol, rng, random\n",
            "/usr/local/lib/python3.7/dist-packages/sklearn/linear_model/_coordinate_descent.py:626: ConvergenceWarning: Objective did not converge. You might want to increase the number of iterations. Duality gap: 220395.51655231055, tolerance: 1682.057693138014\n",
            "  coef_, l1_reg, l2_reg, X, y, max_iter, tol, rng, random\n",
            "/usr/local/lib/python3.7/dist-packages/sklearn/linear_model/_coordinate_descent.py:626: ConvergenceWarning: Objective did not converge. You might want to increase the number of iterations. Duality gap: 57217.07545995526, tolerance: 1682.057693138014\n",
            "  coef_, l1_reg, l2_reg, X, y, max_iter, tol, rng, random\n",
            "/usr/local/lib/python3.7/dist-packages/sklearn/linear_model/_coordinate_descent.py:626: ConvergenceWarning: Objective did not converge. You might want to increase the number of iterations. Duality gap: 8049.605201361157, tolerance: 1682.057693138014\n",
            "  coef_, l1_reg, l2_reg, X, y, max_iter, tol, rng, random\n",
            "/usr/local/lib/python3.7/dist-packages/sklearn/linear_model/_coordinate_descent.py:626: ConvergenceWarning: Objective did not converge. You might want to increase the number of iterations. Duality gap: 6119.7939631257905, tolerance: 1804.984446842302\n",
            "  coef_, l1_reg, l2_reg, X, y, max_iter, tol, rng, random\n",
            "/usr/local/lib/python3.7/dist-packages/sklearn/linear_model/_coordinate_descent.py:626: ConvergenceWarning: Objective did not converge. You might want to increase the number of iterations. Duality gap: 57665.09961824168, tolerance: 1804.984446842302\n",
            "  coef_, l1_reg, l2_reg, X, y, max_iter, tol, rng, random\n",
            "/usr/local/lib/python3.7/dist-packages/sklearn/linear_model/_coordinate_descent.py:626: ConvergenceWarning: Objective did not converge. You might want to increase the number of iterations. Duality gap: 6815.180971280813, tolerance: 1804.984446842302\n",
            "  coef_, l1_reg, l2_reg, X, y, max_iter, tol, rng, random\n",
            "/usr/local/lib/python3.7/dist-packages/sklearn/linear_model/_coordinate_descent.py:2451: ConvergenceWarning: Objective did not converge. You might want to increase the number of iterations. Duality gap: 257896.5119245702, tolerance: 2678.9252583497137\n",
            "  random,\n"
          ]
        },
        {
          "name": "stdout",
          "output_type": "stream",
          "text": [
            "Alipur=55.38\n"
          ]
        },
        {
          "name": "stderr",
          "output_type": "stream",
          "text": [
            "/usr/local/lib/python3.7/dist-packages/pandas/core/series.py:4536: SettingWithCopyWarning: \n",
            "A value is trying to be set on a copy of a slice from a DataFrame\n",
            "\n",
            "See the caveats in the documentation: https://pandas.pydata.org/pandas-docs/stable/user_guide/indexing.html#returning-a-view-versus-a-copy\n",
            "  downcast=downcast,\n",
            "/usr/local/lib/python3.7/dist-packages/sklearn/linear_model/_coordinate_descent.py:626: ConvergenceWarning: Objective did not converge. You might want to increase the number of iterations. Duality gap: 193610.0881634478, tolerance: 3180.075494145928\n",
            "  coef_, l1_reg, l2_reg, X, y, max_iter, tol, rng, random\n",
            "/usr/local/lib/python3.7/dist-packages/sklearn/linear_model/_coordinate_descent.py:626: ConvergenceWarning: Objective did not converge. You might want to increase the number of iterations. Duality gap: 52277.523378817685, tolerance: 3180.075494145928\n",
            "  coef_, l1_reg, l2_reg, X, y, max_iter, tol, rng, random\n",
            "/usr/local/lib/python3.7/dist-packages/sklearn/linear_model/_coordinate_descent.py:626: ConvergenceWarning: Objective did not converge. You might want to increase the number of iterations. Duality gap: 7688.929823299369, tolerance: 3180.075494145928\n",
            "  coef_, l1_reg, l2_reg, X, y, max_iter, tol, rng, random\n",
            "/usr/local/lib/python3.7/dist-packages/sklearn/linear_model/_coordinate_descent.py:626: ConvergenceWarning: Objective did not converge. You might want to increase the number of iterations. Duality gap: 381677.81576717936, tolerance: 3234.7118544300224\n",
            "  coef_, l1_reg, l2_reg, X, y, max_iter, tol, rng, random\n",
            "/usr/local/lib/python3.7/dist-packages/sklearn/linear_model/_coordinate_descent.py:626: ConvergenceWarning: Objective did not converge. You might want to increase the number of iterations. Duality gap: 72767.35946500664, tolerance: 3234.7118544300224\n",
            "  coef_, l1_reg, l2_reg, X, y, max_iter, tol, rng, random\n",
            "/usr/local/lib/python3.7/dist-packages/sklearn/linear_model/_coordinate_descent.py:626: ConvergenceWarning: Objective did not converge. You might want to increase the number of iterations. Duality gap: 7842.630073119903, tolerance: 3234.7118544300224\n",
            "  coef_, l1_reg, l2_reg, X, y, max_iter, tol, rng, random\n",
            "/usr/local/lib/python3.7/dist-packages/sklearn/linear_model/_coordinate_descent.py:626: ConvergenceWarning: Objective did not converge. You might want to increase the number of iterations. Duality gap: 8064.457481853897, tolerance: 2512.1195177483073\n",
            "  coef_, l1_reg, l2_reg, X, y, max_iter, tol, rng, random\n",
            "/usr/local/lib/python3.7/dist-packages/sklearn/linear_model/_coordinate_descent.py:626: ConvergenceWarning: Objective did not converge. You might want to increase the number of iterations. Duality gap: 60460.26481009815, tolerance: 2512.1195177483073\n",
            "  coef_, l1_reg, l2_reg, X, y, max_iter, tol, rng, random\n",
            "/usr/local/lib/python3.7/dist-packages/sklearn/linear_model/_coordinate_descent.py:626: ConvergenceWarning: Objective did not converge. You might want to increase the number of iterations. Duality gap: 6667.22982019067, tolerance: 2512.1195177483073\n",
            "  coef_, l1_reg, l2_reg, X, y, max_iter, tol, rng, random\n",
            "/usr/local/lib/python3.7/dist-packages/sklearn/linear_model/_coordinate_descent.py:2451: ConvergenceWarning: Objective did not converge. You might want to increase the number of iterations. Duality gap: 570858.321017764, tolerance: 4609.832553247365\n",
            "  random,\n"
          ]
        },
        {
          "name": "stdout",
          "output_type": "stream",
          "text": [
            "AnandVihar=54.83\n"
          ]
        },
        {
          "name": "stderr",
          "output_type": "stream",
          "text": [
            "/usr/local/lib/python3.7/dist-packages/pandas/core/series.py:4536: SettingWithCopyWarning: \n",
            "A value is trying to be set on a copy of a slice from a DataFrame\n",
            "\n",
            "See the caveats in the documentation: https://pandas.pydata.org/pandas-docs/stable/user_guide/indexing.html#returning-a-view-versus-a-copy\n",
            "  downcast=downcast,\n",
            "/usr/local/lib/python3.7/dist-packages/sklearn/linear_model/_coordinate_descent.py:626: ConvergenceWarning: Objective did not converge. You might want to increase the number of iterations. Duality gap: 255053.42485810386, tolerance: 2780.926452912896\n",
            "  coef_, l1_reg, l2_reg, X, y, max_iter, tol, rng, random\n",
            "/usr/local/lib/python3.7/dist-packages/sklearn/linear_model/_coordinate_descent.py:626: ConvergenceWarning: Objective did not converge. You might want to increase the number of iterations. Duality gap: 55573.99770492234, tolerance: 2780.926452912896\n",
            "  coef_, l1_reg, l2_reg, X, y, max_iter, tol, rng, random\n",
            "/usr/local/lib/python3.7/dist-packages/sklearn/linear_model/_coordinate_descent.py:626: ConvergenceWarning: Objective did not converge. You might want to increase the number of iterations. Duality gap: 7263.572862052217, tolerance: 2780.926452912896\n",
            "  coef_, l1_reg, l2_reg, X, y, max_iter, tol, rng, random\n",
            "/usr/local/lib/python3.7/dist-packages/sklearn/linear_model/_coordinate_descent.py:626: ConvergenceWarning: Objective did not converge. You might want to increase the number of iterations. Duality gap: 342608.54989438783, tolerance: 2876.7004331546273\n",
            "  coef_, l1_reg, l2_reg, X, y, max_iter, tol, rng, random\n",
            "/usr/local/lib/python3.7/dist-packages/sklearn/linear_model/_coordinate_descent.py:626: ConvergenceWarning: Objective did not converge. You might want to increase the number of iterations. Duality gap: 62946.68502392071, tolerance: 2876.7004331546273\n",
            "  coef_, l1_reg, l2_reg, X, y, max_iter, tol, rng, random\n",
            "/usr/local/lib/python3.7/dist-packages/sklearn/linear_model/_coordinate_descent.py:626: ConvergenceWarning: Objective did not converge. You might want to increase the number of iterations. Duality gap: 8356.846748592718, tolerance: 2876.7004331546273\n",
            "  coef_, l1_reg, l2_reg, X, y, max_iter, tol, rng, random\n",
            "/usr/local/lib/python3.7/dist-packages/sklearn/linear_model/_coordinate_descent.py:626: ConvergenceWarning: Objective did not converge. You might want to increase the number of iterations. Duality gap: 19137.592120474437, tolerance: 2299.3861022291203\n",
            "  coef_, l1_reg, l2_reg, X, y, max_iter, tol, rng, random\n",
            "/usr/local/lib/python3.7/dist-packages/sklearn/linear_model/_coordinate_descent.py:626: ConvergenceWarning: Objective did not converge. You might want to increase the number of iterations. Duality gap: 58678.94995780876, tolerance: 2299.3861022291203\n",
            "  coef_, l1_reg, l2_reg, X, y, max_iter, tol, rng, random\n",
            "/usr/local/lib/python3.7/dist-packages/sklearn/linear_model/_coordinate_descent.py:626: ConvergenceWarning: Objective did not converge. You might want to increase the number of iterations. Duality gap: 6257.386449166464, tolerance: 2299.3861022291203\n",
            "  coef_, l1_reg, l2_reg, X, y, max_iter, tol, rng, random\n",
            "/usr/local/lib/python3.7/dist-packages/sklearn/linear_model/_coordinate_descent.py:2451: ConvergenceWarning: Objective did not converge. You might want to increase the number of iterations. Duality gap: 333724.28205544176, tolerance: 4125.813883283134\n",
            "  random,\n"
          ]
        },
        {
          "name": "stdout",
          "output_type": "stream",
          "text": [
            "AshokVihar=54.96\n"
          ]
        },
        {
          "name": "stderr",
          "output_type": "stream",
          "text": [
            "/usr/local/lib/python3.7/dist-packages/pandas/core/series.py:4536: SettingWithCopyWarning: \n",
            "A value is trying to be set on a copy of a slice from a DataFrame\n",
            "\n",
            "See the caveats in the documentation: https://pandas.pydata.org/pandas-docs/stable/user_guide/indexing.html#returning-a-view-versus-a-copy\n",
            "  downcast=downcast,\n",
            "/usr/local/lib/python3.7/dist-packages/sklearn/linear_model/_coordinate_descent.py:626: ConvergenceWarning: Objective did not converge. You might want to increase the number of iterations. Duality gap: 165012.21936873277, tolerance: 2502.4017670390267\n",
            "  coef_, l1_reg, l2_reg, X, y, max_iter, tol, rng, random\n",
            "/usr/local/lib/python3.7/dist-packages/sklearn/linear_model/_coordinate_descent.py:626: ConvergenceWarning: Objective did not converge. You might want to increase the number of iterations. Duality gap: 66328.20166583282, tolerance: 2502.4017670390267\n",
            "  coef_, l1_reg, l2_reg, X, y, max_iter, tol, rng, random\n",
            "/usr/local/lib/python3.7/dist-packages/sklearn/linear_model/_coordinate_descent.py:626: ConvergenceWarning: Objective did not converge. You might want to increase the number of iterations. Duality gap: 7969.613684060537, tolerance: 2502.4017670390267\n",
            "  coef_, l1_reg, l2_reg, X, y, max_iter, tol, rng, random\n",
            "/usr/local/lib/python3.7/dist-packages/sklearn/linear_model/_coordinate_descent.py:626: ConvergenceWarning: Objective did not converge. You might want to increase the number of iterations. Duality gap: 382602.3796914688, tolerance: 2381.235387189616\n",
            "  coef_, l1_reg, l2_reg, X, y, max_iter, tol, rng, random\n",
            "/usr/local/lib/python3.7/dist-packages/sklearn/linear_model/_coordinate_descent.py:626: ConvergenceWarning: Objective did not converge. You might want to increase the number of iterations. Duality gap: 78675.53855748978, tolerance: 2381.235387189616\n",
            "  coef_, l1_reg, l2_reg, X, y, max_iter, tol, rng, random\n",
            "/usr/local/lib/python3.7/dist-packages/sklearn/linear_model/_coordinate_descent.py:626: ConvergenceWarning: Objective did not converge. You might want to increase the number of iterations. Duality gap: 7987.271691414053, tolerance: 2381.235387189616\n",
            "  coef_, l1_reg, l2_reg, X, y, max_iter, tol, rng, random\n",
            "/usr/local/lib/python3.7/dist-packages/sklearn/linear_model/_coordinate_descent.py:626: ConvergenceWarning: Objective did not converge. You might want to increase the number of iterations. Duality gap: 7560.984513776144, tolerance: 1885.6334145316027\n",
            "  coef_, l1_reg, l2_reg, X, y, max_iter, tol, rng, random\n",
            "/usr/local/lib/python3.7/dist-packages/sklearn/linear_model/_coordinate_descent.py:626: ConvergenceWarning: Objective did not converge. You might want to increase the number of iterations. Duality gap: 38795.86683506882, tolerance: 1885.6334145316027\n",
            "  coef_, l1_reg, l2_reg, X, y, max_iter, tol, rng, random\n",
            "/usr/local/lib/python3.7/dist-packages/sklearn/linear_model/_coordinate_descent.py:626: ConvergenceWarning: Objective did not converge. You might want to increase the number of iterations. Duality gap: 5728.347628482532, tolerance: 1885.6334145316027\n",
            "  coef_, l1_reg, l2_reg, X, y, max_iter, tol, rng, random\n",
            "/usr/local/lib/python3.7/dist-packages/sklearn/linear_model/_coordinate_descent.py:2451: ConvergenceWarning: Objective did not converge. You might want to increase the number of iterations. Duality gap: 432675.14009043155, tolerance: 3508.1270737481177\n",
            "  random,\n"
          ]
        },
        {
          "name": "stdout",
          "output_type": "stream",
          "text": [
            "Bawana=54.26\n"
          ]
        },
        {
          "name": "stderr",
          "output_type": "stream",
          "text": [
            "/usr/local/lib/python3.7/dist-packages/pandas/core/series.py:4536: SettingWithCopyWarning: \n",
            "A value is trying to be set on a copy of a slice from a DataFrame\n",
            "\n",
            "See the caveats in the documentation: https://pandas.pydata.org/pandas-docs/stable/user_guide/indexing.html#returning-a-view-versus-a-copy\n",
            "  downcast=downcast,\n",
            "/usr/local/lib/python3.7/dist-packages/sklearn/linear_model/_coordinate_descent.py:626: ConvergenceWarning: Objective did not converge. You might want to increase the number of iterations. Duality gap: 188371.06152111432, tolerance: 2861.4096525735295\n",
            "  coef_, l1_reg, l2_reg, X, y, max_iter, tol, rng, random\n",
            "/usr/local/lib/python3.7/dist-packages/sklearn/linear_model/_coordinate_descent.py:626: ConvergenceWarning: Objective did not converge. You might want to increase the number of iterations. Duality gap: 50274.35126511059, tolerance: 2861.4096525735295\n",
            "  coef_, l1_reg, l2_reg, X, y, max_iter, tol, rng, random\n",
            "/usr/local/lib/python3.7/dist-packages/sklearn/linear_model/_coordinate_descent.py:626: ConvergenceWarning: Objective did not converge. You might want to increase the number of iterations. Duality gap: 5419.361076026188, tolerance: 2861.4096525735295\n",
            "  coef_, l1_reg, l2_reg, X, y, max_iter, tol, rng, random\n",
            "/usr/local/lib/python3.7/dist-packages/sklearn/linear_model/_coordinate_descent.py:626: ConvergenceWarning: Objective did not converge. You might want to increase the number of iterations. Duality gap: 240639.61378958053, tolerance: 2937.3924565462758\n",
            "  coef_, l1_reg, l2_reg, X, y, max_iter, tol, rng, random\n",
            "/usr/local/lib/python3.7/dist-packages/sklearn/linear_model/_coordinate_descent.py:626: ConvergenceWarning: Objective did not converge. You might want to increase the number of iterations. Duality gap: 70141.49633090905, tolerance: 2937.3924565462758\n",
            "  coef_, l1_reg, l2_reg, X, y, max_iter, tol, rng, random\n",
            "/usr/local/lib/python3.7/dist-packages/sklearn/linear_model/_coordinate_descent.py:626: ConvergenceWarning: Objective did not converge. You might want to increase the number of iterations. Duality gap: 7134.274887564259, tolerance: 2937.3924565462758\n",
            "  coef_, l1_reg, l2_reg, X, y, max_iter, tol, rng, random\n",
            "/usr/local/lib/python3.7/dist-packages/sklearn/linear_model/_coordinate_descent.py:626: ConvergenceWarning: Objective did not converge. You might want to increase the number of iterations. Duality gap: 36292.258529078914, tolerance: 1585.065935411964\n",
            "  coef_, l1_reg, l2_reg, X, y, max_iter, tol, rng, random\n",
            "/usr/local/lib/python3.7/dist-packages/sklearn/linear_model/_coordinate_descent.py:626: ConvergenceWarning: Objective did not converge. You might want to increase the number of iterations. Duality gap: 5158.879542368853, tolerance: 1585.065935411964\n",
            "  coef_, l1_reg, l2_reg, X, y, max_iter, tol, rng, random\n",
            "/usr/local/lib/python3.7/dist-packages/sklearn/linear_model/_coordinate_descent.py:2451: ConvergenceWarning: Objective did not converge. You might want to increase the number of iterations. Duality gap: 334402.292564224, tolerance: 3923.0308898155126\n",
            "  random,\n"
          ]
        },
        {
          "name": "stdout",
          "output_type": "stream",
          "text": [
            "DrKarniShootingRange=54.83\n"
          ]
        },
        {
          "name": "stderr",
          "output_type": "stream",
          "text": [
            "/usr/local/lib/python3.7/dist-packages/pandas/core/series.py:4536: SettingWithCopyWarning: \n",
            "A value is trying to be set on a copy of a slice from a DataFrame\n",
            "\n",
            "See the caveats in the documentation: https://pandas.pydata.org/pandas-docs/stable/user_guide/indexing.html#returning-a-view-versus-a-copy\n",
            "  downcast=downcast,\n",
            "/usr/local/lib/python3.7/dist-packages/sklearn/linear_model/_coordinate_descent.py:626: ConvergenceWarning: Objective did not converge. You might want to increase the number of iterations. Duality gap: 166454.51520621125, tolerance: 2546.8508000190727\n",
            "  coef_, l1_reg, l2_reg, X, y, max_iter, tol, rng, random\n",
            "/usr/local/lib/python3.7/dist-packages/sklearn/linear_model/_coordinate_descent.py:626: ConvergenceWarning: Objective did not converge. You might want to increase the number of iterations. Duality gap: 45070.36058729213, tolerance: 2546.8508000190727\n",
            "  coef_, l1_reg, l2_reg, X, y, max_iter, tol, rng, random\n",
            "/usr/local/lib/python3.7/dist-packages/sklearn/linear_model/_coordinate_descent.py:626: ConvergenceWarning: Objective did not converge. You might want to increase the number of iterations. Duality gap: 6498.828388893374, tolerance: 2546.8508000190727\n",
            "  coef_, l1_reg, l2_reg, X, y, max_iter, tol, rng, random\n",
            "/usr/local/lib/python3.7/dist-packages/sklearn/linear_model/_coordinate_descent.py:626: ConvergenceWarning: Objective did not converge. You might want to increase the number of iterations. Duality gap: 238498.10395590658, tolerance: 2583.0551688778783\n",
            "  coef_, l1_reg, l2_reg, X, y, max_iter, tol, rng, random\n",
            "/usr/local/lib/python3.7/dist-packages/sklearn/linear_model/_coordinate_descent.py:626: ConvergenceWarning: Objective did not converge. You might want to increase the number of iterations. Duality gap: 64855.5564417418, tolerance: 2583.0551688778783\n",
            "  coef_, l1_reg, l2_reg, X, y, max_iter, tol, rng, random\n",
            "/usr/local/lib/python3.7/dist-packages/sklearn/linear_model/_coordinate_descent.py:626: ConvergenceWarning: Objective did not converge. You might want to increase the number of iterations. Duality gap: 8504.274812198042, tolerance: 2583.0551688778783\n",
            "  coef_, l1_reg, l2_reg, X, y, max_iter, tol, rng, random\n",
            "/usr/local/lib/python3.7/dist-packages/sklearn/linear_model/_coordinate_descent.py:626: ConvergenceWarning: Objective did not converge. You might want to increase the number of iterations. Duality gap: 29304.915355480276, tolerance: 2334.0041426764333\n",
            "  coef_, l1_reg, l2_reg, X, y, max_iter, tol, rng, random\n",
            "/usr/local/lib/python3.7/dist-packages/sklearn/linear_model/_coordinate_descent.py:626: ConvergenceWarning: Objective did not converge. You might want to increase the number of iterations. Duality gap: 53129.613755337, tolerance: 2334.0041426764333\n",
            "  coef_, l1_reg, l2_reg, X, y, max_iter, tol, rng, random\n",
            "/usr/local/lib/python3.7/dist-packages/sklearn/linear_model/_coordinate_descent.py:626: ConvergenceWarning: Objective did not converge. You might want to increase the number of iterations. Duality gap: 7340.738402586548, tolerance: 2334.0041426764333\n",
            "  coef_, l1_reg, l2_reg, X, y, max_iter, tol, rng, random\n",
            "/usr/local/lib/python3.7/dist-packages/sklearn/linear_model/_coordinate_descent.py:2451: ConvergenceWarning: Objective did not converge. You might want to increase the number of iterations. Duality gap: 322785.84061066294, tolerance: 3863.697369770135\n",
            "  random,\n"
          ]
        },
        {
          "name": "stdout",
          "output_type": "stream",
          "text": [
            "DTU=51.51\n"
          ]
        },
        {
          "name": "stderr",
          "output_type": "stream",
          "text": [
            "/usr/local/lib/python3.7/dist-packages/pandas/core/series.py:4536: SettingWithCopyWarning: \n",
            "A value is trying to be set on a copy of a slice from a DataFrame\n",
            "\n",
            "See the caveats in the documentation: https://pandas.pydata.org/pandas-docs/stable/user_guide/indexing.html#returning-a-view-versus-a-copy\n",
            "  downcast=downcast,\n",
            "/usr/local/lib/python3.7/dist-packages/sklearn/linear_model/_coordinate_descent.py:626: ConvergenceWarning: Objective did not converge. You might want to increase the number of iterations. Duality gap: 136489.83024436852, tolerance: 2457.2945476527157\n",
            "  coef_, l1_reg, l2_reg, X, y, max_iter, tol, rng, random\n",
            "/usr/local/lib/python3.7/dist-packages/sklearn/linear_model/_coordinate_descent.py:626: ConvergenceWarning: Objective did not converge. You might want to increase the number of iterations. Duality gap: 52731.67637540364, tolerance: 2457.2945476527157\n",
            "  coef_, l1_reg, l2_reg, X, y, max_iter, tol, rng, random\n",
            "/usr/local/lib/python3.7/dist-packages/sklearn/linear_model/_coordinate_descent.py:626: ConvergenceWarning: Objective did not converge. You might want to increase the number of iterations. Duality gap: 5815.629487384658, tolerance: 2457.2945476527157\n",
            "  coef_, l1_reg, l2_reg, X, y, max_iter, tol, rng, random\n",
            "/usr/local/lib/python3.7/dist-packages/sklearn/linear_model/_coordinate_descent.py:626: ConvergenceWarning: Objective did not converge. You might want to increase the number of iterations. Duality gap: 349651.95534034737, tolerance: 2755.427374982754\n",
            "  coef_, l1_reg, l2_reg, X, y, max_iter, tol, rng, random\n",
            "/usr/local/lib/python3.7/dist-packages/sklearn/linear_model/_coordinate_descent.py:626: ConvergenceWarning: Objective did not converge. You might want to increase the number of iterations. Duality gap: 55901.11151334192, tolerance: 2755.427374982754\n",
            "  coef_, l1_reg, l2_reg, X, y, max_iter, tol, rng, random\n",
            "/usr/local/lib/python3.7/dist-packages/sklearn/linear_model/_coordinate_descent.py:626: ConvergenceWarning: Objective did not converge. You might want to increase the number of iterations. Duality gap: 5744.653682304857, tolerance: 2755.427374982754\n",
            "  coef_, l1_reg, l2_reg, X, y, max_iter, tol, rng, random\n",
            "/usr/local/lib/python3.7/dist-packages/sklearn/linear_model/_coordinate_descent.py:626: ConvergenceWarning: Objective did not converge. You might want to increase the number of iterations. Duality gap: 32457.86520714907, tolerance: 1580.6910730549887\n",
            "  coef_, l1_reg, l2_reg, X, y, max_iter, tol, rng, random\n",
            "/usr/local/lib/python3.7/dist-packages/sklearn/linear_model/_coordinate_descent.py:626: ConvergenceWarning: Objective did not converge. You might want to increase the number of iterations. Duality gap: 5109.974473912625, tolerance: 1580.6910730549887\n",
            "  coef_, l1_reg, l2_reg, X, y, max_iter, tol, rng, random\n",
            "/usr/local/lib/python3.7/dist-packages/sklearn/linear_model/_coordinate_descent.py:2451: ConvergenceWarning: Objective did not converge. You might want to increase the number of iterations. Duality gap: 349144.01685721055, tolerance: 3611.727100073102\n",
            "  random,\n"
          ]
        },
        {
          "name": "stdout",
          "output_type": "stream",
          "text": [
            "DwarkaSector8=53.29\n"
          ]
        },
        {
          "name": "stderr",
          "output_type": "stream",
          "text": [
            "/usr/local/lib/python3.7/dist-packages/pandas/core/series.py:4536: SettingWithCopyWarning: \n",
            "A value is trying to be set on a copy of a slice from a DataFrame\n",
            "\n",
            "See the caveats in the documentation: https://pandas.pydata.org/pandas-docs/stable/user_guide/indexing.html#returning-a-view-versus-a-copy\n",
            "  downcast=downcast,\n",
            "/usr/local/lib/python3.7/dist-packages/sklearn/linear_model/_coordinate_descent.py:626: ConvergenceWarning: Objective did not converge. You might want to increase the number of iterations. Duality gap: 211715.0042826808, tolerance: 1948.2871874532577\n",
            "  coef_, l1_reg, l2_reg, X, y, max_iter, tol, rng, random\n",
            "/usr/local/lib/python3.7/dist-packages/sklearn/linear_model/_coordinate_descent.py:626: ConvergenceWarning: Objective did not converge. You might want to increase the number of iterations. Duality gap: 54211.67699313188, tolerance: 1948.2871874532577\n",
            "  coef_, l1_reg, l2_reg, X, y, max_iter, tol, rng, random\n",
            "/usr/local/lib/python3.7/dist-packages/sklearn/linear_model/_coordinate_descent.py:626: ConvergenceWarning: Objective did not converge. You might want to increase the number of iterations. Duality gap: 6660.115611904008, tolerance: 1948.2871874532577\n",
            "  coef_, l1_reg, l2_reg, X, y, max_iter, tol, rng, random\n",
            "/usr/local/lib/python3.7/dist-packages/sklearn/linear_model/_coordinate_descent.py:626: ConvergenceWarning: Objective did not converge. You might want to increase the number of iterations. Duality gap: 233493.43226753967, tolerance: 2209.6082079549437\n",
            "  coef_, l1_reg, l2_reg, X, y, max_iter, tol, rng, random\n",
            "/usr/local/lib/python3.7/dist-packages/sklearn/linear_model/_coordinate_descent.py:626: ConvergenceWarning: Objective did not converge. You might want to increase the number of iterations. Duality gap: 64518.732379340494, tolerance: 2209.6082079549437\n",
            "  coef_, l1_reg, l2_reg, X, y, max_iter, tol, rng, random\n",
            "/usr/local/lib/python3.7/dist-packages/sklearn/linear_model/_coordinate_descent.py:626: ConvergenceWarning: Objective did not converge. You might want to increase the number of iterations. Duality gap: 7835.4824290688175, tolerance: 2209.6082079549437\n",
            "  coef_, l1_reg, l2_reg, X, y, max_iter, tol, rng, random\n",
            "/usr/local/lib/python3.7/dist-packages/sklearn/linear_model/_coordinate_descent.py:626: ConvergenceWarning: Objective did not converge. You might want to increase the number of iterations. Duality gap: 6411.688081706525, tolerance: 1282.320236347765\n",
            "  coef_, l1_reg, l2_reg, X, y, max_iter, tol, rng, random\n",
            "/usr/local/lib/python3.7/dist-packages/sklearn/linear_model/_coordinate_descent.py:626: ConvergenceWarning: Objective did not converge. You might want to increase the number of iterations. Duality gap: 56804.370290502135, tolerance: 1282.320236347765\n",
            "  coef_, l1_reg, l2_reg, X, y, max_iter, tol, rng, random\n",
            "/usr/local/lib/python3.7/dist-packages/sklearn/linear_model/_coordinate_descent.py:626: ConvergenceWarning: Objective did not converge. You might want to increase the number of iterations. Duality gap: 5609.97584495756, tolerance: 1282.320236347765\n",
            "  coef_, l1_reg, l2_reg, X, y, max_iter, tol, rng, random\n",
            "/usr/local/lib/python3.7/dist-packages/sklearn/linear_model/_coordinate_descent.py:2451: ConvergenceWarning: Objective did not converge. You might want to increase the number of iterations. Duality gap: 237985.67154784407, tolerance: 2805.9919596092923\n",
            "  random,\n"
          ]
        },
        {
          "name": "stdout",
          "output_type": "stream",
          "text": [
            "IHBASDilshadGarden=55.13\n"
          ]
        },
        {
          "name": "stderr",
          "output_type": "stream",
          "text": [
            "/usr/local/lib/python3.7/dist-packages/pandas/core/series.py:4536: SettingWithCopyWarning: \n",
            "A value is trying to be set on a copy of a slice from a DataFrame\n",
            "\n",
            "See the caveats in the documentation: https://pandas.pydata.org/pandas-docs/stable/user_guide/indexing.html#returning-a-view-versus-a-copy\n",
            "  downcast=downcast,\n",
            "/usr/local/lib/python3.7/dist-packages/sklearn/linear_model/_coordinate_descent.py:626: ConvergenceWarning: Objective did not converge. You might want to increase the number of iterations. Duality gap: 243867.2296724976, tolerance: 3160.8629069570143\n",
            "  coef_, l1_reg, l2_reg, X, y, max_iter, tol, rng, random\n",
            "/usr/local/lib/python3.7/dist-packages/sklearn/linear_model/_coordinate_descent.py:626: ConvergenceWarning: Objective did not converge. You might want to increase the number of iterations. Duality gap: 53895.09481138125, tolerance: 3160.8629069570143\n",
            "  coef_, l1_reg, l2_reg, X, y, max_iter, tol, rng, random\n",
            "/usr/local/lib/python3.7/dist-packages/sklearn/linear_model/_coordinate_descent.py:626: ConvergenceWarning: Objective did not converge. You might want to increase the number of iterations. Duality gap: 5592.186747627128, tolerance: 3160.8629069570143\n",
            "  coef_, l1_reg, l2_reg, X, y, max_iter, tol, rng, random\n",
            "/usr/local/lib/python3.7/dist-packages/sklearn/linear_model/_coordinate_descent.py:626: ConvergenceWarning: Objective did not converge. You might want to increase the number of iterations. Duality gap: 452142.35443579487, tolerance: 3471.0589947234766\n",
            "  coef_, l1_reg, l2_reg, X, y, max_iter, tol, rng, random\n",
            "/usr/local/lib/python3.7/dist-packages/sklearn/linear_model/_coordinate_descent.py:626: ConvergenceWarning: Objective did not converge. You might want to increase the number of iterations. Duality gap: 95673.28956701941, tolerance: 3471.0589947234766\n",
            "  coef_, l1_reg, l2_reg, X, y, max_iter, tol, rng, random\n",
            "/usr/local/lib/python3.7/dist-packages/sklearn/linear_model/_coordinate_descent.py:626: ConvergenceWarning: Objective did not converge. You might want to increase the number of iterations. Duality gap: 12729.808446441719, tolerance: 3471.0589947234766\n",
            "  coef_, l1_reg, l2_reg, X, y, max_iter, tol, rng, random\n",
            "/usr/local/lib/python3.7/dist-packages/sklearn/linear_model/_coordinate_descent.py:626: ConvergenceWarning: Objective did not converge. You might want to increase the number of iterations. Duality gap: 16985.252402306884, tolerance: 1874.050891676072\n",
            "  coef_, l1_reg, l2_reg, X, y, max_iter, tol, rng, random\n",
            "/usr/local/lib/python3.7/dist-packages/sklearn/linear_model/_coordinate_descent.py:626: ConvergenceWarning: Objective did not converge. You might want to increase the number of iterations. Duality gap: 50347.62840682146, tolerance: 1874.050891676072\n",
            "  coef_, l1_reg, l2_reg, X, y, max_iter, tol, rng, random\n",
            "/usr/local/lib/python3.7/dist-packages/sklearn/linear_model/_coordinate_descent.py:626: ConvergenceWarning: Objective did not converge. You might want to increase the number of iterations. Duality gap: 5389.336968178297, tolerance: 1874.050891676072\n",
            "  coef_, l1_reg, l2_reg, X, y, max_iter, tol, rng, random\n",
            "/usr/local/lib/python3.7/dist-packages/sklearn/linear_model/_coordinate_descent.py:2451: ConvergenceWarning: Objective did not converge. You might want to increase the number of iterations. Duality gap: 719330.0665119397, tolerance: 4466.771387170557\n",
            "  random,\n"
          ]
        },
        {
          "name": "stdout",
          "output_type": "stream",
          "text": [
            "Jahangirpuri=54.52\n"
          ]
        },
        {
          "name": "stderr",
          "output_type": "stream",
          "text": [
            "/usr/local/lib/python3.7/dist-packages/pandas/core/series.py:4536: SettingWithCopyWarning: \n",
            "A value is trying to be set on a copy of a slice from a DataFrame\n",
            "\n",
            "See the caveats in the documentation: https://pandas.pydata.org/pandas-docs/stable/user_guide/indexing.html#returning-a-view-versus-a-copy\n",
            "  downcast=downcast,\n",
            "/usr/local/lib/python3.7/dist-packages/sklearn/linear_model/_coordinate_descent.py:626: ConvergenceWarning: Objective did not converge. You might want to increase the number of iterations. Duality gap: 207996.0658303732, tolerance: 2643.191807550905\n",
            "  coef_, l1_reg, l2_reg, X, y, max_iter, tol, rng, random\n",
            "/usr/local/lib/python3.7/dist-packages/sklearn/linear_model/_coordinate_descent.py:626: ConvergenceWarning: Objective did not converge. You might want to increase the number of iterations. Duality gap: 50404.142520676454, tolerance: 2643.191807550905\n",
            "  coef_, l1_reg, l2_reg, X, y, max_iter, tol, rng, random\n",
            "/usr/local/lib/python3.7/dist-packages/sklearn/linear_model/_coordinate_descent.py:626: ConvergenceWarning: Objective did not converge. You might want to increase the number of iterations. Duality gap: 6099.540965327676, tolerance: 2643.191807550905\n",
            "  coef_, l1_reg, l2_reg, X, y, max_iter, tol, rng, random\n",
            "/usr/local/lib/python3.7/dist-packages/sklearn/linear_model/_coordinate_descent.py:626: ConvergenceWarning: Objective did not converge. You might want to increase the number of iterations. Duality gap: 309053.2341607484, tolerance: 2862.751014164785\n",
            "  coef_, l1_reg, l2_reg, X, y, max_iter, tol, rng, random\n",
            "/usr/local/lib/python3.7/dist-packages/sklearn/linear_model/_coordinate_descent.py:626: ConvergenceWarning: Objective did not converge. You might want to increase the number of iterations. Duality gap: 54258.73217047275, tolerance: 2862.751014164785\n",
            "  coef_, l1_reg, l2_reg, X, y, max_iter, tol, rng, random\n",
            "/usr/local/lib/python3.7/dist-packages/sklearn/linear_model/_coordinate_descent.py:626: ConvergenceWarning: Objective did not converge. You might want to increase the number of iterations. Duality gap: 6528.746468178316, tolerance: 2862.751014164785\n",
            "  coef_, l1_reg, l2_reg, X, y, max_iter, tol, rng, random\n",
            "/usr/local/lib/python3.7/dist-packages/sklearn/linear_model/_coordinate_descent.py:626: ConvergenceWarning: Objective did not converge. You might want to increase the number of iterations. Duality gap: 2180.0516760078026, tolerance: 1848.0261046557562\n",
            "  coef_, l1_reg, l2_reg, X, y, max_iter, tol, rng, random\n",
            "/usr/local/lib/python3.7/dist-packages/sklearn/linear_model/_coordinate_descent.py:626: ConvergenceWarning: Objective did not converge. You might want to increase the number of iterations. Duality gap: 47953.08915990968, tolerance: 1848.0261046557562\n",
            "  coef_, l1_reg, l2_reg, X, y, max_iter, tol, rng, random\n",
            "/usr/local/lib/python3.7/dist-packages/sklearn/linear_model/_coordinate_descent.py:626: ConvergenceWarning: Objective did not converge. You might want to increase the number of iterations. Duality gap: 6809.657176719285, tolerance: 1848.0261046557562\n",
            "  coef_, l1_reg, l2_reg, X, y, max_iter, tol, rng, random\n",
            "/usr/local/lib/python3.7/dist-packages/sklearn/linear_model/_coordinate_descent.py:2451: ConvergenceWarning: Objective did not converge. You might want to increase the number of iterations. Duality gap: 507623.8723015585, tolerance: 3863.0510587067024\n",
            "  random,\n"
          ]
        },
        {
          "name": "stdout",
          "output_type": "stream",
          "text": [
            "JawaharlalNehruStadium=54.94\n"
          ]
        },
        {
          "name": "stderr",
          "output_type": "stream",
          "text": [
            "/usr/local/lib/python3.7/dist-packages/pandas/core/series.py:4536: SettingWithCopyWarning: \n",
            "A value is trying to be set on a copy of a slice from a DataFrame\n",
            "\n",
            "See the caveats in the documentation: https://pandas.pydata.org/pandas-docs/stable/user_guide/indexing.html#returning-a-view-versus-a-copy\n",
            "  downcast=downcast,\n",
            "/usr/local/lib/python3.7/dist-packages/sklearn/linear_model/_coordinate_descent.py:626: ConvergenceWarning: Objective did not converge. You might want to increase the number of iterations. Duality gap: 123219.89179917751, tolerance: 2052.127982013575\n",
            "  coef_, l1_reg, l2_reg, X, y, max_iter, tol, rng, random\n",
            "/usr/local/lib/python3.7/dist-packages/sklearn/linear_model/_coordinate_descent.py:626: ConvergenceWarning: Objective did not converge. You might want to increase the number of iterations. Duality gap: 30721.329135458393, tolerance: 2052.127982013575\n",
            "  coef_, l1_reg, l2_reg, X, y, max_iter, tol, rng, random\n",
            "/usr/local/lib/python3.7/dist-packages/sklearn/linear_model/_coordinate_descent.py:626: ConvergenceWarning: Objective did not converge. You might want to increase the number of iterations. Duality gap: 3523.1691076126226, tolerance: 2052.127982013575\n",
            "  coef_, l1_reg, l2_reg, X, y, max_iter, tol, rng, random\n",
            "/usr/local/lib/python3.7/dist-packages/sklearn/linear_model/_coordinate_descent.py:626: ConvergenceWarning: Objective did not converge. You might want to increase the number of iterations. Duality gap: 251247.04447870445, tolerance: 2334.403711202032\n",
            "  coef_, l1_reg, l2_reg, X, y, max_iter, tol, rng, random\n",
            "/usr/local/lib/python3.7/dist-packages/sklearn/linear_model/_coordinate_descent.py:626: ConvergenceWarning: Objective did not converge. You might want to increase the number of iterations. Duality gap: 47898.77918558891, tolerance: 2334.403711202032\n",
            "  coef_, l1_reg, l2_reg, X, y, max_iter, tol, rng, random\n",
            "/usr/local/lib/python3.7/dist-packages/sklearn/linear_model/_coordinate_descent.py:626: ConvergenceWarning: Objective did not converge. You might want to increase the number of iterations. Duality gap: 5799.839961588149, tolerance: 2334.403711202032\n",
            "  coef_, l1_reg, l2_reg, X, y, max_iter, tol, rng, random\n",
            "/usr/local/lib/python3.7/dist-packages/sklearn/linear_model/_coordinate_descent.py:626: ConvergenceWarning: Objective did not converge. You might want to increase the number of iterations. Duality gap: 39117.21188821967, tolerance: 1048.021945316027\n",
            "  coef_, l1_reg, l2_reg, X, y, max_iter, tol, rng, random\n",
            "/usr/local/lib/python3.7/dist-packages/sklearn/linear_model/_coordinate_descent.py:626: ConvergenceWarning: Objective did not converge. You might want to increase the number of iterations. Duality gap: 4448.301457600819, tolerance: 1048.021945316027\n",
            "  coef_, l1_reg, l2_reg, X, y, max_iter, tol, rng, random\n",
            "/usr/local/lib/python3.7/dist-packages/sklearn/linear_model/_coordinate_descent.py:2451: ConvergenceWarning: Objective did not converge. You might want to increase the number of iterations. Duality gap: 400304.55679061543, tolerance: 2900.4855246799702\n",
            "  random,\n"
          ]
        },
        {
          "name": "stdout",
          "output_type": "stream",
          "text": [
            "MajorDhyanChandNationalStadium=51.88\n"
          ]
        },
        {
          "name": "stderr",
          "output_type": "stream",
          "text": [
            "/usr/local/lib/python3.7/dist-packages/pandas/core/series.py:4536: SettingWithCopyWarning: \n",
            "A value is trying to be set on a copy of a slice from a DataFrame\n",
            "\n",
            "See the caveats in the documentation: https://pandas.pydata.org/pandas-docs/stable/user_guide/indexing.html#returning-a-view-versus-a-copy\n",
            "  downcast=downcast,\n",
            "/usr/local/lib/python3.7/dist-packages/sklearn/linear_model/_coordinate_descent.py:626: ConvergenceWarning: Objective did not converge. You might want to increase the number of iterations. Duality gap: 120683.76654325868, tolerance: 1958.0063327630091\n",
            "  coef_, l1_reg, l2_reg, X, y, max_iter, tol, rng, random\n",
            "/usr/local/lib/python3.7/dist-packages/sklearn/linear_model/_coordinate_descent.py:626: ConvergenceWarning: Objective did not converge. You might want to increase the number of iterations. Duality gap: 37925.92973033075, tolerance: 1958.0063327630091\n",
            "  coef_, l1_reg, l2_reg, X, y, max_iter, tol, rng, random\n",
            "/usr/local/lib/python3.7/dist-packages/sklearn/linear_model/_coordinate_descent.py:626: ConvergenceWarning: Objective did not converge. You might want to increase the number of iterations. Duality gap: 4964.203222781107, tolerance: 1958.0063327630091\n",
            "  coef_, l1_reg, l2_reg, X, y, max_iter, tol, rng, random\n",
            "/usr/local/lib/python3.7/dist-packages/sklearn/linear_model/_coordinate_descent.py:626: ConvergenceWarning: Objective did not converge. You might want to increase the number of iterations. Duality gap: 248885.04203487968, tolerance: 2194.965603668172\n",
            "  coef_, l1_reg, l2_reg, X, y, max_iter, tol, rng, random\n",
            "/usr/local/lib/python3.7/dist-packages/sklearn/linear_model/_coordinate_descent.py:626: ConvergenceWarning: Objective did not converge. You might want to increase the number of iterations. Duality gap: 52035.33390980694, tolerance: 2194.965603668172\n",
            "  coef_, l1_reg, l2_reg, X, y, max_iter, tol, rng, random\n",
            "/usr/local/lib/python3.7/dist-packages/sklearn/linear_model/_coordinate_descent.py:626: ConvergenceWarning: Objective did not converge. You might want to increase the number of iterations. Duality gap: 7077.911492269652, tolerance: 2194.965603668172\n",
            "  coef_, l1_reg, l2_reg, X, y, max_iter, tol, rng, random\n",
            "/usr/local/lib/python3.7/dist-packages/sklearn/linear_model/_coordinate_descent.py:626: ConvergenceWarning: Objective did not converge. You might want to increase the number of iterations. Duality gap: 46115.91627156296, tolerance: 1440.7235999153502\n",
            "  coef_, l1_reg, l2_reg, X, y, max_iter, tol, rng, random\n",
            "/usr/local/lib/python3.7/dist-packages/sklearn/linear_model/_coordinate_descent.py:626: ConvergenceWarning: Objective did not converge. You might want to increase the number of iterations. Duality gap: 4960.033113510861, tolerance: 1440.7235999153502\n",
            "  coef_, l1_reg, l2_reg, X, y, max_iter, tol, rng, random\n",
            "/usr/local/lib/python3.7/dist-packages/sklearn/linear_model/_coordinate_descent.py:2451: ConvergenceWarning: Objective did not converge. You might want to increase the number of iterations. Duality gap: 414036.3974463565, tolerance: 2909.6714453219124\n",
            "  random,\n"
          ]
        },
        {
          "name": "stdout",
          "output_type": "stream",
          "text": [
            "MandirMarg=54.11\n"
          ]
        },
        {
          "name": "stderr",
          "output_type": "stream",
          "text": [
            "/usr/local/lib/python3.7/dist-packages/pandas/core/series.py:4536: SettingWithCopyWarning: \n",
            "A value is trying to be set on a copy of a slice from a DataFrame\n",
            "\n",
            "See the caveats in the documentation: https://pandas.pydata.org/pandas-docs/stable/user_guide/indexing.html#returning-a-view-versus-a-copy\n",
            "  downcast=downcast,\n",
            "/usr/local/lib/python3.7/dist-packages/sklearn/linear_model/_coordinate_descent.py:626: ConvergenceWarning: Objective did not converge. You might want to increase the number of iterations. Duality gap: 260501.9857721671, tolerance: 2861.2532710690043\n",
            "  coef_, l1_reg, l2_reg, X, y, max_iter, tol, rng, random\n",
            "/usr/local/lib/python3.7/dist-packages/sklearn/linear_model/_coordinate_descent.py:626: ConvergenceWarning: Objective did not converge. You might want to increase the number of iterations. Duality gap: 47494.77496285822, tolerance: 2861.2532710690043\n",
            "  coef_, l1_reg, l2_reg, X, y, max_iter, tol, rng, random\n",
            "/usr/local/lib/python3.7/dist-packages/sklearn/linear_model/_coordinate_descent.py:626: ConvergenceWarning: Objective did not converge. You might want to increase the number of iterations. Duality gap: 4949.872359692935, tolerance: 2861.2532710690043\n",
            "  coef_, l1_reg, l2_reg, X, y, max_iter, tol, rng, random\n",
            "/usr/local/lib/python3.7/dist-packages/sklearn/linear_model/_coordinate_descent.py:626: ConvergenceWarning: Objective did not converge. You might want to increase the number of iterations. Duality gap: 395331.308712024, tolerance: 3082.7417665632056\n",
            "  coef_, l1_reg, l2_reg, X, y, max_iter, tol, rng, random\n",
            "/usr/local/lib/python3.7/dist-packages/sklearn/linear_model/_coordinate_descent.py:626: ConvergenceWarning: Objective did not converge. You might want to increase the number of iterations. Duality gap: 68090.36249227828, tolerance: 3082.7417665632056\n",
            "  coef_, l1_reg, l2_reg, X, y, max_iter, tol, rng, random\n",
            "/usr/local/lib/python3.7/dist-packages/sklearn/linear_model/_coordinate_descent.py:626: ConvergenceWarning: Objective did not converge. You might want to increase the number of iterations. Duality gap: 9450.469354903178, tolerance: 3082.7417665632056\n",
            "  coef_, l1_reg, l2_reg, X, y, max_iter, tol, rng, random\n",
            "/usr/local/lib/python3.7/dist-packages/sklearn/linear_model/_coordinate_descent.py:626: ConvergenceWarning: Objective did not converge. You might want to increase the number of iterations. Duality gap: 27084.14886287041, tolerance: 2296.4740496614\n",
            "  coef_, l1_reg, l2_reg, X, y, max_iter, tol, rng, random\n",
            "/usr/local/lib/python3.7/dist-packages/sklearn/linear_model/_coordinate_descent.py:626: ConvergenceWarning: Objective did not converge. You might want to increase the number of iterations. Duality gap: 51447.84558982227, tolerance: 2296.4740496614\n",
            "  coef_, l1_reg, l2_reg, X, y, max_iter, tol, rng, random\n",
            "/usr/local/lib/python3.7/dist-packages/sklearn/linear_model/_coordinate_descent.py:626: ConvergenceWarning: Objective did not converge. You might want to increase the number of iterations. Duality gap: 5737.355145323999, tolerance: 2296.4740496614\n",
            "  coef_, l1_reg, l2_reg, X, y, max_iter, tol, rng, random\n",
            "/usr/local/lib/python3.7/dist-packages/sklearn/linear_model/_coordinate_descent.py:2451: ConvergenceWarning: Objective did not converge. You might want to increase the number of iterations. Duality gap: 1028048.9244157355, tolerance: 4300.611327993223\n",
            "  random,\n"
          ]
        },
        {
          "name": "stdout",
          "output_type": "stream",
          "text": [
            "Mundka=54.01\n"
          ]
        },
        {
          "name": "stderr",
          "output_type": "stream",
          "text": [
            "/usr/local/lib/python3.7/dist-packages/pandas/core/series.py:4536: SettingWithCopyWarning: \n",
            "A value is trying to be set on a copy of a slice from a DataFrame\n",
            "\n",
            "See the caveats in the documentation: https://pandas.pydata.org/pandas-docs/stable/user_guide/indexing.html#returning-a-view-versus-a-copy\n",
            "  downcast=downcast,\n",
            "/usr/local/lib/python3.7/dist-packages/sklearn/linear_model/_coordinate_descent.py:626: ConvergenceWarning: Objective did not converge. You might want to increase the number of iterations. Duality gap: 72722.60469795961, tolerance: 1445.1862032946835\n",
            "  coef_, l1_reg, l2_reg, X, y, max_iter, tol, rng, random\n",
            "/usr/local/lib/python3.7/dist-packages/sklearn/linear_model/_coordinate_descent.py:626: ConvergenceWarning: Objective did not converge. You might want to increase the number of iterations. Duality gap: 40716.88911331142, tolerance: 1445.1862032946835\n",
            "  coef_, l1_reg, l2_reg, X, y, max_iter, tol, rng, random\n",
            "/usr/local/lib/python3.7/dist-packages/sklearn/linear_model/_coordinate_descent.py:626: ConvergenceWarning: Objective did not converge. You might want to increase the number of iterations. Duality gap: 5018.806959556375, tolerance: 1445.1862032946835\n",
            "  coef_, l1_reg, l2_reg, X, y, max_iter, tol, rng, random\n",
            "/usr/local/lib/python3.7/dist-packages/sklearn/linear_model/_coordinate_descent.py:626: ConvergenceWarning: Objective did not converge. You might want to increase the number of iterations. Duality gap: 145510.36667821102, tolerance: 1464.6334834367947\n",
            "  coef_, l1_reg, l2_reg, X, y, max_iter, tol, rng, random\n",
            "/usr/local/lib/python3.7/dist-packages/sklearn/linear_model/_coordinate_descent.py:626: ConvergenceWarning: Objective did not converge. You might want to increase the number of iterations. Duality gap: 44653.822082739534, tolerance: 1464.6334834367947\n",
            "  coef_, l1_reg, l2_reg, X, y, max_iter, tol, rng, random\n",
            "/usr/local/lib/python3.7/dist-packages/sklearn/linear_model/_coordinate_descent.py:626: ConvergenceWarning: Objective did not converge. You might want to increase the number of iterations. Duality gap: 6929.749713881141, tolerance: 1464.6334834367947\n",
            "  coef_, l1_reg, l2_reg, X, y, max_iter, tol, rng, random\n",
            "/usr/local/lib/python3.7/dist-packages/sklearn/linear_model/_coordinate_descent.py:626: ConvergenceWarning: Objective did not converge. You might want to increase the number of iterations. Duality gap: 31478.62020903814, tolerance: 966.5569021726863\n",
            "  coef_, l1_reg, l2_reg, X, y, max_iter, tol, rng, random\n",
            "/usr/local/lib/python3.7/dist-packages/sklearn/linear_model/_coordinate_descent.py:626: ConvergenceWarning: Objective did not converge. You might want to increase the number of iterations. Duality gap: 4696.02458766548, tolerance: 966.5569021726863\n",
            "  coef_, l1_reg, l2_reg, X, y, max_iter, tol, rng, random\n",
            "/usr/local/lib/python3.7/dist-packages/sklearn/linear_model/_coordinate_descent.py:2451: ConvergenceWarning: Objective did not converge. You might want to increase the number of iterations. Duality gap: 342548.9605702169, tolerance: 2003.4662478633286\n",
            "  random,\n"
          ]
        },
        {
          "name": "stdout",
          "output_type": "stream",
          "text": [
            "Najafnagar=52.49\n"
          ]
        },
        {
          "name": "stderr",
          "output_type": "stream",
          "text": [
            "/usr/local/lib/python3.7/dist-packages/pandas/core/series.py:4536: SettingWithCopyWarning: \n",
            "A value is trying to be set on a copy of a slice from a DataFrame\n",
            "\n",
            "See the caveats in the documentation: https://pandas.pydata.org/pandas-docs/stable/user_guide/indexing.html#returning-a-view-versus-a-copy\n",
            "  downcast=downcast,\n",
            "/usr/local/lib/python3.7/dist-packages/sklearn/linear_model/_coordinate_descent.py:626: ConvergenceWarning: Objective did not converge. You might want to increase the number of iterations. Duality gap: 95753.36696649564, tolerance: 1494.2170096153845\n",
            "  coef_, l1_reg, l2_reg, X, y, max_iter, tol, rng, random\n",
            "/usr/local/lib/python3.7/dist-packages/sklearn/linear_model/_coordinate_descent.py:626: ConvergenceWarning: Objective did not converge. You might want to increase the number of iterations. Duality gap: 27375.87790497208, tolerance: 1494.2170096153845\n",
            "  coef_, l1_reg, l2_reg, X, y, max_iter, tol, rng, random\n",
            "/usr/local/lib/python3.7/dist-packages/sklearn/linear_model/_coordinate_descent.py:626: ConvergenceWarning: Objective did not converge. You might want to increase the number of iterations. Duality gap: 3387.035230038666, tolerance: 1494.2170096153845\n",
            "  coef_, l1_reg, l2_reg, X, y, max_iter, tol, rng, random\n",
            "/usr/local/lib/python3.7/dist-packages/sklearn/linear_model/_coordinate_descent.py:626: ConvergenceWarning: Objective did not converge. You might want to increase the number of iterations. Duality gap: 238776.88229381456, tolerance: 1718.6679594243797\n",
            "  coef_, l1_reg, l2_reg, X, y, max_iter, tol, rng, random\n",
            "/usr/local/lib/python3.7/dist-packages/sklearn/linear_model/_coordinate_descent.py:626: ConvergenceWarning: Objective did not converge. You might want to increase the number of iterations. Duality gap: 50346.65756556705, tolerance: 1718.6679594243797\n",
            "  coef_, l1_reg, l2_reg, X, y, max_iter, tol, rng, random\n",
            "/usr/local/lib/python3.7/dist-packages/sklearn/linear_model/_coordinate_descent.py:626: ConvergenceWarning: Objective did not converge. You might want to increase the number of iterations. Duality gap: 5877.393342992062, tolerance: 1718.6679594243797\n",
            "  coef_, l1_reg, l2_reg, X, y, max_iter, tol, rng, random\n",
            "/usr/local/lib/python3.7/dist-packages/sklearn/linear_model/_coordinate_descent.py:626: ConvergenceWarning: Objective did not converge. You might want to increase the number of iterations. Duality gap: 2070.5539087970974, tolerance: 1208.0080301072235\n",
            "  coef_, l1_reg, l2_reg, X, y, max_iter, tol, rng, random\n",
            "/usr/local/lib/python3.7/dist-packages/sklearn/linear_model/_coordinate_descent.py:626: ConvergenceWarning: Objective did not converge. You might want to increase the number of iterations. Duality gap: 52311.606228965255, tolerance: 1208.0080301072235\n",
            "  coef_, l1_reg, l2_reg, X, y, max_iter, tol, rng, random\n",
            "/usr/local/lib/python3.7/dist-packages/sklearn/linear_model/_coordinate_descent.py:626: ConvergenceWarning: Objective did not converge. You might want to increase the number of iterations. Duality gap: 5500.317848602471, tolerance: 1208.0080301072235\n",
            "  coef_, l1_reg, l2_reg, X, y, max_iter, tol, rng, random\n",
            "/usr/local/lib/python3.7/dist-packages/sklearn/linear_model/_coordinate_descent.py:2451: ConvergenceWarning: Objective did not converge. You might want to increase the number of iterations. Duality gap: 349568.734403725, tolerance: 2302.2778823795184\n",
            "  random,\n"
          ]
        },
        {
          "name": "stdout",
          "output_type": "stream",
          "text": [
            "Narela=53.24\n"
          ]
        },
        {
          "name": "stderr",
          "output_type": "stream",
          "text": [
            "/usr/local/lib/python3.7/dist-packages/pandas/core/series.py:4536: SettingWithCopyWarning: \n",
            "A value is trying to be set on a copy of a slice from a DataFrame\n",
            "\n",
            "See the caveats in the documentation: https://pandas.pydata.org/pandas-docs/stable/user_guide/indexing.html#returning-a-view-versus-a-copy\n",
            "  downcast=downcast,\n",
            "/usr/local/lib/python3.7/dist-packages/sklearn/linear_model/_coordinate_descent.py:626: ConvergenceWarning: Objective did not converge. You might want to increase the number of iterations. Duality gap: 404320.14354659687, tolerance: 4260.107612245475\n",
            "  coef_, l1_reg, l2_reg, X, y, max_iter, tol, rng, random\n",
            "/usr/local/lib/python3.7/dist-packages/sklearn/linear_model/_coordinate_descent.py:626: ConvergenceWarning: Objective did not converge. You might want to increase the number of iterations. Duality gap: 68384.48973292825, tolerance: 4260.107612245475\n",
            "  coef_, l1_reg, l2_reg, X, y, max_iter, tol, rng, random\n",
            "/usr/local/lib/python3.7/dist-packages/sklearn/linear_model/_coordinate_descent.py:626: ConvergenceWarning: Objective did not converge. You might want to increase the number of iterations. Duality gap: 7374.90560647125, tolerance: 4260.107612245475\n",
            "  coef_, l1_reg, l2_reg, X, y, max_iter, tol, rng, random\n",
            "/usr/local/lib/python3.7/dist-packages/sklearn/linear_model/_coordinate_descent.py:626: ConvergenceWarning: Objective did not converge. You might want to increase the number of iterations. Duality gap: 711923.6380532322, tolerance: 4493.783592522574\n",
            "  coef_, l1_reg, l2_reg, X, y, max_iter, tol, rng, random\n",
            "/usr/local/lib/python3.7/dist-packages/sklearn/linear_model/_coordinate_descent.py:626: ConvergenceWarning: Objective did not converge. You might want to increase the number of iterations. Duality gap: 71109.56571758632, tolerance: 4493.783592522574\n",
            "  coef_, l1_reg, l2_reg, X, y, max_iter, tol, rng, random\n",
            "/usr/local/lib/python3.7/dist-packages/sklearn/linear_model/_coordinate_descent.py:626: ConvergenceWarning: Objective did not converge. You might want to increase the number of iterations. Duality gap: 9026.405674238284, tolerance: 4493.783592522574\n",
            "  coef_, l1_reg, l2_reg, X, y, max_iter, tol, rng, random\n",
            "/usr/local/lib/python3.7/dist-packages/sklearn/linear_model/_coordinate_descent.py:626: ConvergenceWarning: Objective did not converge. You might want to increase the number of iterations. Duality gap: 15596.102994444082, tolerance: 2698.8288957392774\n",
            "  coef_, l1_reg, l2_reg, X, y, max_iter, tol, rng, random\n",
            "/usr/local/lib/python3.7/dist-packages/sklearn/linear_model/_coordinate_descent.py:626: ConvergenceWarning: Objective did not converge. You might want to increase the number of iterations. Duality gap: 51661.23726602466, tolerance: 2698.8288957392774\n",
            "  coef_, l1_reg, l2_reg, X, y, max_iter, tol, rng, random\n",
            "/usr/local/lib/python3.7/dist-packages/sklearn/linear_model/_coordinate_descent.py:626: ConvergenceWarning: Objective did not converge. You might want to increase the number of iterations. Duality gap: 5117.504492465419, tolerance: 2698.8288957392774\n",
            "  coef_, l1_reg, l2_reg, X, y, max_iter, tol, rng, random\n",
            "/usr/local/lib/python3.7/dist-packages/sklearn/linear_model/_coordinate_descent.py:2451: ConvergenceWarning: Objective did not converge. You might want to increase the number of iterations. Duality gap: 1042809.7314804802, tolerance: 6030.380793759414\n",
            "  random,\n"
          ]
        },
        {
          "name": "stdout",
          "output_type": "stream",
          "text": [
            "NehruNagar=53.61\n"
          ]
        },
        {
          "name": "stderr",
          "output_type": "stream",
          "text": [
            "/usr/local/lib/python3.7/dist-packages/pandas/core/series.py:4536: SettingWithCopyWarning: \n",
            "A value is trying to be set on a copy of a slice from a DataFrame\n",
            "\n",
            "See the caveats in the documentation: https://pandas.pydata.org/pandas-docs/stable/user_guide/indexing.html#returning-a-view-versus-a-copy\n",
            "  downcast=downcast,\n",
            "/usr/local/lib/python3.7/dist-packages/sklearn/linear_model/_coordinate_descent.py:626: ConvergenceWarning: Objective did not converge. You might want to increase the number of iterations. Duality gap: 297831.0916232611, tolerance: 2949.542758399322\n",
            "  coef_, l1_reg, l2_reg, X, y, max_iter, tol, rng, random\n",
            "/usr/local/lib/python3.7/dist-packages/sklearn/linear_model/_coordinate_descent.py:626: ConvergenceWarning: Objective did not converge. You might want to increase the number of iterations. Duality gap: 50151.22390813702, tolerance: 2949.542758399322\n",
            "  coef_, l1_reg, l2_reg, X, y, max_iter, tol, rng, random\n",
            "/usr/local/lib/python3.7/dist-packages/sklearn/linear_model/_coordinate_descent.py:626: ConvergenceWarning: Objective did not converge. You might want to increase the number of iterations. Duality gap: 6353.638120922648, tolerance: 2949.542758399322\n",
            "  coef_, l1_reg, l2_reg, X, y, max_iter, tol, rng, random\n",
            "/usr/local/lib/python3.7/dist-packages/sklearn/linear_model/_coordinate_descent.py:626: ConvergenceWarning: Objective did not converge. You might want to increase the number of iterations. Duality gap: 387348.97263609606, tolerance: 3167.4396806997743\n",
            "  coef_, l1_reg, l2_reg, X, y, max_iter, tol, rng, random\n",
            "/usr/local/lib/python3.7/dist-packages/sklearn/linear_model/_coordinate_descent.py:626: ConvergenceWarning: Objective did not converge. You might want to increase the number of iterations. Duality gap: 62946.545185672236, tolerance: 3167.4396806997743\n",
            "  coef_, l1_reg, l2_reg, X, y, max_iter, tol, rng, random\n",
            "/usr/local/lib/python3.7/dist-packages/sklearn/linear_model/_coordinate_descent.py:626: ConvergenceWarning: Objective did not converge. You might want to increase the number of iterations. Duality gap: 8604.692537883473, tolerance: 3167.4396806997743\n",
            "  coef_, l1_reg, l2_reg, X, y, max_iter, tol, rng, random\n",
            "/usr/local/lib/python3.7/dist-packages/sklearn/linear_model/_coordinate_descent.py:626: ConvergenceWarning: Objective did not converge. You might want to increase the number of iterations. Duality gap: 2473.953758657328, tolerance: 1705.8817472911967\n",
            "  coef_, l1_reg, l2_reg, X, y, max_iter, tol, rng, random\n",
            "/usr/local/lib/python3.7/dist-packages/sklearn/linear_model/_coordinate_descent.py:626: ConvergenceWarning: Objective did not converge. You might want to increase the number of iterations. Duality gap: 47421.0012338538, tolerance: 1705.8817472911967\n",
            "  coef_, l1_reg, l2_reg, X, y, max_iter, tol, rng, random\n",
            "/usr/local/lib/python3.7/dist-packages/sklearn/linear_model/_coordinate_descent.py:626: ConvergenceWarning: Objective did not converge. You might want to increase the number of iterations. Duality gap: 4537.097162319164, tolerance: 1705.8817472911967\n",
            "  coef_, l1_reg, l2_reg, X, y, max_iter, tol, rng, random\n",
            "/usr/local/lib/python3.7/dist-packages/sklearn/linear_model/_coordinate_descent.py:2451: ConvergenceWarning: Objective did not converge. You might want to increase the number of iterations. Duality gap: 359476.77279771445, tolerance: 4148.213139222515\n",
            "  random,\n"
          ]
        },
        {
          "name": "stdout",
          "output_type": "stream",
          "text": [
            "OkhlaPhase2=50.74\n"
          ]
        },
        {
          "name": "stderr",
          "output_type": "stream",
          "text": [
            "/usr/local/lib/python3.7/dist-packages/pandas/core/series.py:4536: SettingWithCopyWarning: \n",
            "A value is trying to be set on a copy of a slice from a DataFrame\n",
            "\n",
            "See the caveats in the documentation: https://pandas.pydata.org/pandas-docs/stable/user_guide/indexing.html#returning-a-view-versus-a-copy\n",
            "  downcast=downcast,\n",
            "/usr/local/lib/python3.7/dist-packages/sklearn/linear_model/_coordinate_descent.py:626: ConvergenceWarning: Objective did not converge. You might want to increase the number of iterations. Duality gap: 135793.79073083226, tolerance: 2134.686068354072\n",
            "  coef_, l1_reg, l2_reg, X, y, max_iter, tol, rng, random\n",
            "/usr/local/lib/python3.7/dist-packages/sklearn/linear_model/_coordinate_descent.py:626: ConvergenceWarning: Objective did not converge. You might want to increase the number of iterations. Duality gap: 48289.9607152487, tolerance: 2134.686068354072\n",
            "  coef_, l1_reg, l2_reg, X, y, max_iter, tol, rng, random\n",
            "/usr/local/lib/python3.7/dist-packages/sklearn/linear_model/_coordinate_descent.py:626: ConvergenceWarning: Objective did not converge. You might want to increase the number of iterations. Duality gap: 5211.866067530006, tolerance: 2134.686068354072\n",
            "  coef_, l1_reg, l2_reg, X, y, max_iter, tol, rng, random\n",
            "/usr/local/lib/python3.7/dist-packages/sklearn/linear_model/_coordinate_descent.py:626: ConvergenceWarning: Objective did not converge. You might want to increase the number of iterations. Duality gap: 235986.27371174702, tolerance: 2382.5279942437924\n",
            "  coef_, l1_reg, l2_reg, X, y, max_iter, tol, rng, random\n",
            "/usr/local/lib/python3.7/dist-packages/sklearn/linear_model/_coordinate_descent.py:626: ConvergenceWarning: Objective did not converge. You might want to increase the number of iterations. Duality gap: 60127.916344397076, tolerance: 2382.5279942437924\n",
            "  coef_, l1_reg, l2_reg, X, y, max_iter, tol, rng, random\n",
            "/usr/local/lib/python3.7/dist-packages/sklearn/linear_model/_coordinate_descent.py:626: ConvergenceWarning: Objective did not converge. You might want to increase the number of iterations. Duality gap: 7054.77470330132, tolerance: 2382.5279942437924\n",
            "  coef_, l1_reg, l2_reg, X, y, max_iter, tol, rng, random\n",
            "/usr/local/lib/python3.7/dist-packages/sklearn/linear_model/_coordinate_descent.py:626: ConvergenceWarning: Objective did not converge. You might want to increase the number of iterations. Duality gap: 1608.3718664181652, tolerance: 1545.741689023702\n",
            "  coef_, l1_reg, l2_reg, X, y, max_iter, tol, rng, random\n",
            "/usr/local/lib/python3.7/dist-packages/sklearn/linear_model/_coordinate_descent.py:626: ConvergenceWarning: Objective did not converge. You might want to increase the number of iterations. Duality gap: 54384.960087581225, tolerance: 1545.741689023702\n",
            "  coef_, l1_reg, l2_reg, X, y, max_iter, tol, rng, random\n",
            "/usr/local/lib/python3.7/dist-packages/sklearn/linear_model/_coordinate_descent.py:626: ConvergenceWarning: Objective did not converge. You might want to increase the number of iterations. Duality gap: 5718.382873159585, tolerance: 1545.741689023702\n",
            "  coef_, l1_reg, l2_reg, X, y, max_iter, tol, rng, random\n",
            "/usr/local/lib/python3.7/dist-packages/sklearn/linear_model/_coordinate_descent.py:2451: ConvergenceWarning: Objective did not converge. You might want to increase the number of iterations. Duality gap: 606244.9564337546, tolerance: 3127.01646935241\n",
            "  random,\n"
          ]
        },
        {
          "name": "stdout",
          "output_type": "stream",
          "text": [
            "Patparganj=52.26\n"
          ]
        },
        {
          "name": "stderr",
          "output_type": "stream",
          "text": [
            "/usr/local/lib/python3.7/dist-packages/pandas/core/series.py:4536: SettingWithCopyWarning: \n",
            "A value is trying to be set on a copy of a slice from a DataFrame\n",
            "\n",
            "See the caveats in the documentation: https://pandas.pydata.org/pandas-docs/stable/user_guide/indexing.html#returning-a-view-versus-a-copy\n",
            "  downcast=downcast,\n",
            "/usr/local/lib/python3.7/dist-packages/sklearn/linear_model/_coordinate_descent.py:626: ConvergenceWarning: Objective did not converge. You might want to increase the number of iterations. Duality gap: 191299.5498312253, tolerance: 2139.6327273331444\n",
            "  coef_, l1_reg, l2_reg, X, y, max_iter, tol, rng, random\n",
            "/usr/local/lib/python3.7/dist-packages/sklearn/linear_model/_coordinate_descent.py:626: ConvergenceWarning: Objective did not converge. You might want to increase the number of iterations. Duality gap: 47246.698659203365, tolerance: 2139.6327273331444\n",
            "  coef_, l1_reg, l2_reg, X, y, max_iter, tol, rng, random\n",
            "/usr/local/lib/python3.7/dist-packages/sklearn/linear_model/_coordinate_descent.py:626: ConvergenceWarning: Objective did not converge. You might want to increase the number of iterations. Duality gap: 5187.739901179697, tolerance: 2139.6327273331444\n",
            "  coef_, l1_reg, l2_reg, X, y, max_iter, tol, rng, random\n",
            "/usr/local/lib/python3.7/dist-packages/sklearn/linear_model/_coordinate_descent.py:626: ConvergenceWarning: Objective did not converge. You might want to increase the number of iterations. Duality gap: 204633.03095790034, tolerance: 2389.003153047404\n",
            "  coef_, l1_reg, l2_reg, X, y, max_iter, tol, rng, random\n",
            "/usr/local/lib/python3.7/dist-packages/sklearn/linear_model/_coordinate_descent.py:626: ConvergenceWarning: Objective did not converge. You might want to increase the number of iterations. Duality gap: 61712.05925781743, tolerance: 2389.003153047404\n",
            "  coef_, l1_reg, l2_reg, X, y, max_iter, tol, rng, random\n",
            "/usr/local/lib/python3.7/dist-packages/sklearn/linear_model/_coordinate_descent.py:626: ConvergenceWarning: Objective did not converge. You might want to increase the number of iterations. Duality gap: 7832.5314043655635, tolerance: 2389.003153047404\n",
            "  coef_, l1_reg, l2_reg, X, y, max_iter, tol, rng, random\n",
            "/usr/local/lib/python3.7/dist-packages/sklearn/linear_model/_coordinate_descent.py:626: ConvergenceWarning: Objective did not converge. You might want to increase the number of iterations. Duality gap: 2329.2058301852085, tolerance: 1764.8292118510162\n",
            "  coef_, l1_reg, l2_reg, X, y, max_iter, tol, rng, random\n",
            "/usr/local/lib/python3.7/dist-packages/sklearn/linear_model/_coordinate_descent.py:626: ConvergenceWarning: Objective did not converge. You might want to increase the number of iterations. Duality gap: 55920.620838525196, tolerance: 1764.8292118510162\n",
            "  coef_, l1_reg, l2_reg, X, y, max_iter, tol, rng, random\n",
            "/usr/local/lib/python3.7/dist-packages/sklearn/linear_model/_coordinate_descent.py:626: ConvergenceWarning: Objective did not converge. You might want to increase the number of iterations. Duality gap: 5639.339091611241, tolerance: 1764.8292118510162\n",
            "  coef_, l1_reg, l2_reg, X, y, max_iter, tol, rng, random\n",
            "/usr/local/lib/python3.7/dist-packages/sklearn/linear_model/_coordinate_descent.py:2451: ConvergenceWarning: Objective did not converge. You might want to increase the number of iterations. Duality gap: 278934.16386054805, tolerance: 3259.9027449924697\n",
            "  random,\n"
          ]
        },
        {
          "name": "stdout",
          "output_type": "stream",
          "text": [
            "PunjabiBagh=52.6\n"
          ]
        },
        {
          "name": "stderr",
          "output_type": "stream",
          "text": [
            "/usr/local/lib/python3.7/dist-packages/pandas/core/series.py:4536: SettingWithCopyWarning: \n",
            "A value is trying to be set on a copy of a slice from a DataFrame\n",
            "\n",
            "See the caveats in the documentation: https://pandas.pydata.org/pandas-docs/stable/user_guide/indexing.html#returning-a-view-versus-a-copy\n",
            "  downcast=downcast,\n",
            "/usr/local/lib/python3.7/dist-packages/sklearn/linear_model/_coordinate_descent.py:626: ConvergenceWarning: Objective did not converge. You might want to increase the number of iterations. Duality gap: 168545.68507239677, tolerance: 2486.5134446973984\n",
            "  coef_, l1_reg, l2_reg, X, y, max_iter, tol, rng, random\n",
            "/usr/local/lib/python3.7/dist-packages/sklearn/linear_model/_coordinate_descent.py:626: ConvergenceWarning: Objective did not converge. You might want to increase the number of iterations. Duality gap: 47054.623858690866, tolerance: 2486.5134446973984\n",
            "  coef_, l1_reg, l2_reg, X, y, max_iter, tol, rng, random\n",
            "/usr/local/lib/python3.7/dist-packages/sklearn/linear_model/_coordinate_descent.py:626: ConvergenceWarning: Objective did not converge. You might want to increase the number of iterations. Duality gap: 5616.935642857918, tolerance: 2486.5134446973984\n",
            "  coef_, l1_reg, l2_reg, X, y, max_iter, tol, rng, random\n",
            "/usr/local/lib/python3.7/dist-packages/sklearn/linear_model/_coordinate_descent.py:626: ConvergenceWarning: Objective did not converge. You might want to increase the number of iterations. Duality gap: 375516.31883277604, tolerance: 2781.1893211625284\n",
            "  coef_, l1_reg, l2_reg, X, y, max_iter, tol, rng, random\n",
            "/usr/local/lib/python3.7/dist-packages/sklearn/linear_model/_coordinate_descent.py:626: ConvergenceWarning: Objective did not converge. You might want to increase the number of iterations. Duality gap: 67887.2659261853, tolerance: 2781.1893211625284\n",
            "  coef_, l1_reg, l2_reg, X, y, max_iter, tol, rng, random\n",
            "/usr/local/lib/python3.7/dist-packages/sklearn/linear_model/_coordinate_descent.py:626: ConvergenceWarning: Objective did not converge. You might want to increase the number of iterations. Duality gap: 7742.894657493524, tolerance: 2781.1893211625284\n",
            "  coef_, l1_reg, l2_reg, X, y, max_iter, tol, rng, random\n",
            "/usr/local/lib/python3.7/dist-packages/sklearn/linear_model/_coordinate_descent.py:626: ConvergenceWarning: Objective did not converge. You might want to increase the number of iterations. Duality gap: 8030.072826466872, tolerance: 1821.4037378386006\n",
            "  coef_, l1_reg, l2_reg, X, y, max_iter, tol, rng, random\n",
            "/usr/local/lib/python3.7/dist-packages/sklearn/linear_model/_coordinate_descent.py:626: ConvergenceWarning: Objective did not converge. You might want to increase the number of iterations. Duality gap: 48363.9940473374, tolerance: 1821.4037378386006\n",
            "  coef_, l1_reg, l2_reg, X, y, max_iter, tol, rng, random\n",
            "/usr/local/lib/python3.7/dist-packages/sklearn/linear_model/_coordinate_descent.py:626: ConvergenceWarning: Objective did not converge. You might want to increase the number of iterations. Duality gap: 4590.338610120186, tolerance: 1821.4037378386006\n",
            "  coef_, l1_reg, l2_reg, X, y, max_iter, tol, rng, random\n",
            "/usr/local/lib/python3.7/dist-packages/sklearn/linear_model/_coordinate_descent.py:2451: ConvergenceWarning: Objective did not converge. You might want to increase the number of iterations. Duality gap: 351009.3776414343, tolerance: 3735.9272179311\n",
            "  random,\n"
          ]
        },
        {
          "name": "stdout",
          "output_type": "stream",
          "text": [
            "Pusa=51.98\n"
          ]
        },
        {
          "name": "stderr",
          "output_type": "stream",
          "text": [
            "/usr/local/lib/python3.7/dist-packages/pandas/core/series.py:4536: SettingWithCopyWarning: \n",
            "A value is trying to be set on a copy of a slice from a DataFrame\n",
            "\n",
            "See the caveats in the documentation: https://pandas.pydata.org/pandas-docs/stable/user_guide/indexing.html#returning-a-view-versus-a-copy\n",
            "  downcast=downcast,\n",
            "/usr/local/lib/python3.7/dist-packages/sklearn/linear_model/_coordinate_descent.py:626: ConvergenceWarning: Objective did not converge. You might want to increase the number of iterations. Duality gap: 269519.47579223313, tolerance: 1962.3689636029412\n",
            "  coef_, l1_reg, l2_reg, X, y, max_iter, tol, rng, random\n",
            "/usr/local/lib/python3.7/dist-packages/sklearn/linear_model/_coordinate_descent.py:626: ConvergenceWarning: Objective did not converge. You might want to increase the number of iterations. Duality gap: 36763.57305094077, tolerance: 1962.3689636029412\n",
            "  coef_, l1_reg, l2_reg, X, y, max_iter, tol, rng, random\n",
            "/usr/local/lib/python3.7/dist-packages/sklearn/linear_model/_coordinate_descent.py:626: ConvergenceWarning: Objective did not converge. You might want to increase the number of iterations. Duality gap: 4955.615220660743, tolerance: 1962.3689636029412\n",
            "  coef_, l1_reg, l2_reg, X, y, max_iter, tol, rng, random\n",
            "/usr/local/lib/python3.7/dist-packages/sklearn/linear_model/_coordinate_descent.py:626: ConvergenceWarning: Objective did not converge. You might want to increase the number of iterations. Duality gap: 257293.44727444975, tolerance: 2426.461384396163\n",
            "  coef_, l1_reg, l2_reg, X, y, max_iter, tol, rng, random\n",
            "/usr/local/lib/python3.7/dist-packages/sklearn/linear_model/_coordinate_descent.py:626: ConvergenceWarning: Objective did not converge. You might want to increase the number of iterations. Duality gap: 77129.15713430516, tolerance: 2426.461384396163\n",
            "  coef_, l1_reg, l2_reg, X, y, max_iter, tol, rng, random\n",
            "/usr/local/lib/python3.7/dist-packages/sklearn/linear_model/_coordinate_descent.py:626: ConvergenceWarning: Objective did not converge. You might want to increase the number of iterations. Duality gap: 11573.372280370575, tolerance: 2426.461384396163\n",
            "  coef_, l1_reg, l2_reg, X, y, max_iter, tol, rng, random\n",
            "/usr/local/lib/python3.7/dist-packages/sklearn/linear_model/_coordinate_descent.py:626: ConvergenceWarning: Objective did not converge. You might want to increase the number of iterations. Duality gap: 8294.60282211355, tolerance: 1717.6816582110614\n",
            "  coef_, l1_reg, l2_reg, X, y, max_iter, tol, rng, random\n",
            "/usr/local/lib/python3.7/dist-packages/sklearn/linear_model/_coordinate_descent.py:626: ConvergenceWarning: Objective did not converge. You might want to increase the number of iterations. Duality gap: 70949.76839626733, tolerance: 1717.6816582110614\n",
            "  coef_, l1_reg, l2_reg, X, y, max_iter, tol, rng, random\n",
            "/usr/local/lib/python3.7/dist-packages/sklearn/linear_model/_coordinate_descent.py:626: ConvergenceWarning: Objective did not converge. You might want to increase the number of iterations. Duality gap: 10684.23974304429, tolerance: 1717.6816582110614\n",
            "  coef_, l1_reg, l2_reg, X, y, max_iter, tol, rng, random\n",
            "/usr/local/lib/python3.7/dist-packages/sklearn/linear_model/_coordinate_descent.py:2451: ConvergenceWarning: Objective did not converge. You might want to increase the number of iterations. Duality gap: 608559.7693114001, tolerance: 3160.5315572853915\n",
            "  random,\n"
          ]
        },
        {
          "name": "stdout",
          "output_type": "stream",
          "text": [
            "RKPuram=50.55\n"
          ]
        },
        {
          "name": "stderr",
          "output_type": "stream",
          "text": [
            "/usr/local/lib/python3.7/dist-packages/pandas/core/series.py:4536: SettingWithCopyWarning: \n",
            "A value is trying to be set on a copy of a slice from a DataFrame\n",
            "\n",
            "See the caveats in the documentation: https://pandas.pydata.org/pandas-docs/stable/user_guide/indexing.html#returning-a-view-versus-a-copy\n",
            "  downcast=downcast,\n",
            "/usr/local/lib/python3.7/dist-packages/sklearn/linear_model/_coordinate_descent.py:626: ConvergenceWarning: Objective did not converge. You might want to increase the number of iterations. Duality gap: 279000.85944889195, tolerance: 3619.401797186086\n",
            "  coef_, l1_reg, l2_reg, X, y, max_iter, tol, rng, random\n",
            "/usr/local/lib/python3.7/dist-packages/sklearn/linear_model/_coordinate_descent.py:626: ConvergenceWarning: Objective did not converge. You might want to increase the number of iterations. Duality gap: 77214.69180432813, tolerance: 3619.401797186086\n",
            "  coef_, l1_reg, l2_reg, X, y, max_iter, tol, rng, random\n",
            "/usr/local/lib/python3.7/dist-packages/sklearn/linear_model/_coordinate_descent.py:626: ConvergenceWarning: Objective did not converge. You might want to increase the number of iterations. Duality gap: 10428.286182598982, tolerance: 3619.401797186086\n",
            "  coef_, l1_reg, l2_reg, X, y, max_iter, tol, rng, random\n",
            "/usr/local/lib/python3.7/dist-packages/sklearn/linear_model/_coordinate_descent.py:626: ConvergenceWarning: Objective did not converge. You might want to increase the number of iterations. Duality gap: 461434.5825699223, tolerance: 3516.5289950056435\n",
            "  coef_, l1_reg, l2_reg, X, y, max_iter, tol, rng, random\n",
            "/usr/local/lib/python3.7/dist-packages/sklearn/linear_model/_coordinate_descent.py:626: ConvergenceWarning: Objective did not converge. You might want to increase the number of iterations. Duality gap: 75669.24126319427, tolerance: 3516.5289950056435\n",
            "  coef_, l1_reg, l2_reg, X, y, max_iter, tol, rng, random\n",
            "/usr/local/lib/python3.7/dist-packages/sklearn/linear_model/_coordinate_descent.py:626: ConvergenceWarning: Objective did not converge. You might want to increase the number of iterations. Duality gap: 9960.69620942433, tolerance: 3516.5289950056435\n",
            "  coef_, l1_reg, l2_reg, X, y, max_iter, tol, rng, random\n",
            "/usr/local/lib/python3.7/dist-packages/sklearn/linear_model/_coordinate_descent.py:626: ConvergenceWarning: Objective did not converge. You might want to increase the number of iterations. Duality gap: 12576.909934587078, tolerance: 3242.6034139672684\n",
            "  coef_, l1_reg, l2_reg, X, y, max_iter, tol, rng, random\n",
            "/usr/local/lib/python3.7/dist-packages/sklearn/linear_model/_coordinate_descent.py:626: ConvergenceWarning: Objective did not converge. You might want to increase the number of iterations. Duality gap: 83239.80781581264, tolerance: 3242.6034139672684\n",
            "  coef_, l1_reg, l2_reg, X, y, max_iter, tol, rng, random\n",
            "/usr/local/lib/python3.7/dist-packages/sklearn/linear_model/_coordinate_descent.py:626: ConvergenceWarning: Objective did not converge. You might want to increase the number of iterations. Duality gap: 8952.88301135938, tolerance: 3242.6034139672684\n",
            "  coef_, l1_reg, l2_reg, X, y, max_iter, tol, rng, random\n",
            "/usr/local/lib/python3.7/dist-packages/sklearn/linear_model/_coordinate_descent.py:2451: ConvergenceWarning: Objective did not converge. You might want to increase the number of iterations. Duality gap: 621625.0483305459, tolerance: 5343.676454320407\n",
            "  random,\n"
          ]
        },
        {
          "name": "stdout",
          "output_type": "stream",
          "text": [
            "Rohini=50.57\n"
          ]
        },
        {
          "name": "stderr",
          "output_type": "stream",
          "text": [
            "/usr/local/lib/python3.7/dist-packages/pandas/core/series.py:4536: SettingWithCopyWarning: \n",
            "A value is trying to be set on a copy of a slice from a DataFrame\n",
            "\n",
            "See the caveats in the documentation: https://pandas.pydata.org/pandas-docs/stable/user_guide/indexing.html#returning-a-view-versus-a-copy\n",
            "  downcast=downcast,\n",
            "/usr/local/lib/python3.7/dist-packages/sklearn/linear_model/_coordinate_descent.py:626: ConvergenceWarning: Objective did not converge. You might want to increase the number of iterations. Duality gap: 125787.32060858025, tolerance: 1635.270873359706\n",
            "  coef_, l1_reg, l2_reg, X, y, max_iter, tol, rng, random\n",
            "/usr/local/lib/python3.7/dist-packages/sklearn/linear_model/_coordinate_descent.py:626: ConvergenceWarning: Objective did not converge. You might want to increase the number of iterations. Duality gap: 40333.08968861739, tolerance: 1635.270873359706\n",
            "  coef_, l1_reg, l2_reg, X, y, max_iter, tol, rng, random\n",
            "/usr/local/lib/python3.7/dist-packages/sklearn/linear_model/_coordinate_descent.py:626: ConvergenceWarning: Objective did not converge. You might want to increase the number of iterations. Duality gap: 8113.163013556595, tolerance: 1635.270873359706\n",
            "  coef_, l1_reg, l2_reg, X, y, max_iter, tol, rng, random\n",
            "/usr/local/lib/python3.7/dist-packages/sklearn/linear_model/_coordinate_descent.py:626: ConvergenceWarning: Objective did not converge. You might want to increase the number of iterations. Duality gap: 231515.39266537048, tolerance: 1757.81064455693\n",
            "  coef_, l1_reg, l2_reg, X, y, max_iter, tol, rng, random\n",
            "/usr/local/lib/python3.7/dist-packages/sklearn/linear_model/_coordinate_descent.py:626: ConvergenceWarning: Objective did not converge. You might want to increase the number of iterations. Duality gap: 53207.790824906406, tolerance: 1757.81064455693\n",
            "  coef_, l1_reg, l2_reg, X, y, max_iter, tol, rng, random\n",
            "/usr/local/lib/python3.7/dist-packages/sklearn/linear_model/_coordinate_descent.py:626: ConvergenceWarning: Objective did not converge. You might want to increase the number of iterations. Duality gap: 7393.744853316855, tolerance: 1757.81064455693\n",
            "  coef_, l1_reg, l2_reg, X, y, max_iter, tol, rng, random\n",
            "/usr/local/lib/python3.7/dist-packages/sklearn/linear_model/_coordinate_descent.py:626: ConvergenceWarning: Objective did not converge. You might want to increase the number of iterations. Duality gap: 5728.015193036292, tolerance: 1202.4002809047404\n",
            "  coef_, l1_reg, l2_reg, X, y, max_iter, tol, rng, random\n",
            "/usr/local/lib/python3.7/dist-packages/sklearn/linear_model/_coordinate_descent.py:626: ConvergenceWarning: Objective did not converge. You might want to increase the number of iterations. Duality gap: 63558.87064218421, tolerance: 1202.4002809047404\n",
            "  coef_, l1_reg, l2_reg, X, y, max_iter, tol, rng, random\n",
            "/usr/local/lib/python3.7/dist-packages/sklearn/linear_model/_coordinate_descent.py:626: ConvergenceWarning: Objective did not converge. You might want to increase the number of iterations. Duality gap: 6544.900923473383, tolerance: 1202.4002809047404\n",
            "  coef_, l1_reg, l2_reg, X, y, max_iter, tol, rng, random\n",
            "/usr/local/lib/python3.7/dist-packages/sklearn/linear_model/_coordinate_descent.py:2451: ConvergenceWarning: Objective did not converge. You might want to increase the number of iterations. Duality gap: 387705.7435297163, tolerance: 2359.193772578569\n",
            "  random,\n"
          ]
        },
        {
          "name": "stdout",
          "output_type": "stream",
          "text": [
            "Shadipur=49.88\n"
          ]
        },
        {
          "name": "stderr",
          "output_type": "stream",
          "text": [
            "/usr/local/lib/python3.7/dist-packages/pandas/core/series.py:4536: SettingWithCopyWarning: \n",
            "A value is trying to be set on a copy of a slice from a DataFrame\n",
            "\n",
            "See the caveats in the documentation: https://pandas.pydata.org/pandas-docs/stable/user_guide/indexing.html#returning-a-view-versus-a-copy\n",
            "  downcast=downcast,\n",
            "/usr/local/lib/python3.7/dist-packages/sklearn/linear_model/_coordinate_descent.py:626: ConvergenceWarning: Objective did not converge. You might want to increase the number of iterations. Duality gap: 157676.38615815225, tolerance: 2524.3538660916283\n",
            "  coef_, l1_reg, l2_reg, X, y, max_iter, tol, rng, random\n",
            "/usr/local/lib/python3.7/dist-packages/sklearn/linear_model/_coordinate_descent.py:626: ConvergenceWarning: Objective did not converge. You might want to increase the number of iterations. Duality gap: 45853.12989555024, tolerance: 2524.3538660916283\n",
            "  coef_, l1_reg, l2_reg, X, y, max_iter, tol, rng, random\n",
            "/usr/local/lib/python3.7/dist-packages/sklearn/linear_model/_coordinate_descent.py:626: ConvergenceWarning: Objective did not converge. You might want to increase the number of iterations. Duality gap: 7210.442304763068, tolerance: 2524.3538660916283\n",
            "  coef_, l1_reg, l2_reg, X, y, max_iter, tol, rng, random\n",
            "/usr/local/lib/python3.7/dist-packages/sklearn/linear_model/_coordinate_descent.py:626: ConvergenceWarning: Objective did not converge. You might want to increase the number of iterations. Duality gap: 356664.82028333587, tolerance: 2781.2120878950336\n",
            "  coef_, l1_reg, l2_reg, X, y, max_iter, tol, rng, random\n",
            "/usr/local/lib/python3.7/dist-packages/sklearn/linear_model/_coordinate_descent.py:626: ConvergenceWarning: Objective did not converge. You might want to increase the number of iterations. Duality gap: 54646.87071272528, tolerance: 2781.2120878950336\n",
            "  coef_, l1_reg, l2_reg, X, y, max_iter, tol, rng, random\n",
            "/usr/local/lib/python3.7/dist-packages/sklearn/linear_model/_coordinate_descent.py:626: ConvergenceWarning: Objective did not converge. You might want to increase the number of iterations. Duality gap: 7232.551383390812, tolerance: 2781.2120878950336\n",
            "  coef_, l1_reg, l2_reg, X, y, max_iter, tol, rng, random\n",
            "/usr/local/lib/python3.7/dist-packages/sklearn/linear_model/_coordinate_descent.py:626: ConvergenceWarning: Objective did not converge. You might want to increase the number of iterations. Duality gap: 46822.224245580976, tolerance: 1428.8580543171558\n",
            "  coef_, l1_reg, l2_reg, X, y, max_iter, tol, rng, random\n",
            "/usr/local/lib/python3.7/dist-packages/sklearn/linear_model/_coordinate_descent.py:626: ConvergenceWarning: Objective did not converge. You might want to increase the number of iterations. Duality gap: 6805.330658910264, tolerance: 1428.8580543171558\n",
            "  coef_, l1_reg, l2_reg, X, y, max_iter, tol, rng, random\n",
            "/usr/local/lib/python3.7/dist-packages/sklearn/linear_model/_coordinate_descent.py:2451: ConvergenceWarning: Objective did not converge. You might want to increase the number of iterations. Duality gap: 522951.70789857674, tolerance: 3578.69645657003\n",
            "  random,\n"
          ]
        },
        {
          "name": "stdout",
          "output_type": "stream",
          "text": [
            "Sirifort=51.39\n"
          ]
        },
        {
          "name": "stderr",
          "output_type": "stream",
          "text": [
            "/usr/local/lib/python3.7/dist-packages/pandas/core/series.py:4536: SettingWithCopyWarning: \n",
            "A value is trying to be set on a copy of a slice from a DataFrame\n",
            "\n",
            "See the caveats in the documentation: https://pandas.pydata.org/pandas-docs/stable/user_guide/indexing.html#returning-a-view-versus-a-copy\n",
            "  downcast=downcast,\n",
            "/usr/local/lib/python3.7/dist-packages/sklearn/linear_model/_coordinate_descent.py:626: ConvergenceWarning: Objective did not converge. You might want to increase the number of iterations. Duality gap: 138426.2829278711, tolerance: 1639.9031593042985\n",
            "  coef_, l1_reg, l2_reg, X, y, max_iter, tol, rng, random\n",
            "/usr/local/lib/python3.7/dist-packages/sklearn/linear_model/_coordinate_descent.py:626: ConvergenceWarning: Objective did not converge. You might want to increase the number of iterations. Duality gap: 46996.314071339555, tolerance: 1639.9031593042985\n",
            "  coef_, l1_reg, l2_reg, X, y, max_iter, tol, rng, random\n",
            "/usr/local/lib/python3.7/dist-packages/sklearn/linear_model/_coordinate_descent.py:626: ConvergenceWarning: Objective did not converge. You might want to increase the number of iterations. Duality gap: 6030.641877908619, tolerance: 1639.9031593042985\n",
            "  coef_, l1_reg, l2_reg, X, y, max_iter, tol, rng, random\n",
            "/usr/local/lib/python3.7/dist-packages/sklearn/linear_model/_coordinate_descent.py:626: ConvergenceWarning: Objective did not converge. You might want to increase the number of iterations. Duality gap: 241686.14338716888, tolerance: 1834.6031994074494\n",
            "  coef_, l1_reg, l2_reg, X, y, max_iter, tol, rng, random\n",
            "/usr/local/lib/python3.7/dist-packages/sklearn/linear_model/_coordinate_descent.py:626: ConvergenceWarning: Objective did not converge. You might want to increase the number of iterations. Duality gap: 60025.000321643114, tolerance: 1834.6031994074494\n",
            "  coef_, l1_reg, l2_reg, X, y, max_iter, tol, rng, random\n",
            "/usr/local/lib/python3.7/dist-packages/sklearn/linear_model/_coordinate_descent.py:626: ConvergenceWarning: Objective did not converge. You might want to increase the number of iterations. Duality gap: 8476.050879171942, tolerance: 1834.6031994074494\n",
            "  coef_, l1_reg, l2_reg, X, y, max_iter, tol, rng, random\n",
            "/usr/local/lib/python3.7/dist-packages/sklearn/linear_model/_coordinate_descent.py:626: ConvergenceWarning: Objective did not converge. You might want to increase the number of iterations. Duality gap: 1940.8478336832486, tolerance: 1399.1175981941312\n",
            "  coef_, l1_reg, l2_reg, X, y, max_iter, tol, rng, random\n",
            "/usr/local/lib/python3.7/dist-packages/sklearn/linear_model/_coordinate_descent.py:626: ConvergenceWarning: Objective did not converge. You might want to increase the number of iterations. Duality gap: 44269.79795190992, tolerance: 1399.1175981941312\n",
            "  coef_, l1_reg, l2_reg, X, y, max_iter, tol, rng, random\n",
            "/usr/local/lib/python3.7/dist-packages/sklearn/linear_model/_coordinate_descent.py:626: ConvergenceWarning: Objective did not converge. You might want to increase the number of iterations. Duality gap: 4982.55809359232, tolerance: 1399.1175981941312\n",
            "  coef_, l1_reg, l2_reg, X, y, max_iter, tol, rng, random\n",
            "/usr/local/lib/python3.7/dist-packages/sklearn/linear_model/_coordinate_descent.py:2451: ConvergenceWarning: Objective did not converge. You might want to increase the number of iterations. Duality gap: 328970.1354851951, tolerance: 2516.7624646178465\n",
            "  random,\n"
          ]
        },
        {
          "name": "stdout",
          "output_type": "stream",
          "text": [
            "SoniaVihar=50.52\n"
          ]
        },
        {
          "name": "stderr",
          "output_type": "stream",
          "text": [
            "/usr/local/lib/python3.7/dist-packages/pandas/core/series.py:4536: SettingWithCopyWarning: \n",
            "A value is trying to be set on a copy of a slice from a DataFrame\n",
            "\n",
            "See the caveats in the documentation: https://pandas.pydata.org/pandas-docs/stable/user_guide/indexing.html#returning-a-view-versus-a-copy\n",
            "  downcast=downcast,\n",
            "/usr/local/lib/python3.7/dist-packages/sklearn/linear_model/_coordinate_descent.py:626: ConvergenceWarning: Objective did not converge. You might want to increase the number of iterations. Duality gap: 111737.2736590294, tolerance: 1945.0296667986424\n",
            "  coef_, l1_reg, l2_reg, X, y, max_iter, tol, rng, random\n",
            "/usr/local/lib/python3.7/dist-packages/sklearn/linear_model/_coordinate_descent.py:626: ConvergenceWarning: Objective did not converge. You might want to increase the number of iterations. Duality gap: 32580.12505646082, tolerance: 1945.0296667986424\n",
            "  coef_, l1_reg, l2_reg, X, y, max_iter, tol, rng, random\n",
            "/usr/local/lib/python3.7/dist-packages/sklearn/linear_model/_coordinate_descent.py:626: ConvergenceWarning: Objective did not converge. You might want to increase the number of iterations. Duality gap: 4423.447572110147, tolerance: 1945.0296667986424\n",
            "  coef_, l1_reg, l2_reg, X, y, max_iter, tol, rng, random\n",
            "/usr/local/lib/python3.7/dist-packages/sklearn/linear_model/_coordinate_descent.py:626: ConvergenceWarning: Objective did not converge. You might want to increase the number of iterations. Duality gap: 201534.3009090568, tolerance: 2095.530530191874\n",
            "  coef_, l1_reg, l2_reg, X, y, max_iter, tol, rng, random\n",
            "/usr/local/lib/python3.7/dist-packages/sklearn/linear_model/_coordinate_descent.py:626: ConvergenceWarning: Objective did not converge. You might want to increase the number of iterations. Duality gap: 59554.43079133103, tolerance: 2095.530530191874\n",
            "  coef_, l1_reg, l2_reg, X, y, max_iter, tol, rng, random\n",
            "/usr/local/lib/python3.7/dist-packages/sklearn/linear_model/_coordinate_descent.py:626: ConvergenceWarning: Objective did not converge. You might want to increase the number of iterations. Duality gap: 6228.827301631459, tolerance: 2095.530530191874\n",
            "  coef_, l1_reg, l2_reg, X, y, max_iter, tol, rng, random\n",
            "/usr/local/lib/python3.7/dist-packages/sklearn/linear_model/_coordinate_descent.py:626: ConvergenceWarning: Objective did not converge. You might want to increase the number of iterations. Duality gap: 24444.131072411248, tolerance: 1161.8904221783298\n",
            "  coef_, l1_reg, l2_reg, X, y, max_iter, tol, rng, random\n",
            "/usr/local/lib/python3.7/dist-packages/sklearn/linear_model/_coordinate_descent.py:626: ConvergenceWarning: Objective did not converge. You might want to increase the number of iterations. Duality gap: 3600.1486916787, tolerance: 1161.8904221783298\n",
            "  coef_, l1_reg, l2_reg, X, y, max_iter, tol, rng, random\n",
            "/usr/local/lib/python3.7/dist-packages/sklearn/linear_model/_coordinate_descent.py:2451: ConvergenceWarning: Objective did not converge. You might want to increase the number of iterations. Duality gap: 369251.21407427033, tolerance: 2758.794866952184\n",
            "  random,\n"
          ]
        },
        {
          "name": "stdout",
          "output_type": "stream",
          "text": [
            "SriAurobindoMarg=48.93\n"
          ]
        },
        {
          "name": "stderr",
          "output_type": "stream",
          "text": [
            "/usr/local/lib/python3.7/dist-packages/pandas/core/series.py:4536: SettingWithCopyWarning: \n",
            "A value is trying to be set on a copy of a slice from a DataFrame\n",
            "\n",
            "See the caveats in the documentation: https://pandas.pydata.org/pandas-docs/stable/user_guide/indexing.html#returning-a-view-versus-a-copy\n",
            "  downcast=downcast,\n",
            "/usr/local/lib/python3.7/dist-packages/sklearn/linear_model/_coordinate_descent.py:626: ConvergenceWarning: Objective did not converge. You might want to increase the number of iterations. Duality gap: 193081.74274209538, tolerance: 2843.150071464932\n",
            "  coef_, l1_reg, l2_reg, X, y, max_iter, tol, rng, random\n",
            "/usr/local/lib/python3.7/dist-packages/sklearn/linear_model/_coordinate_descent.py:626: ConvergenceWarning: Objective did not converge. You might want to increase the number of iterations. Duality gap: 47203.402143131316, tolerance: 2843.150071464932\n",
            "  coef_, l1_reg, l2_reg, X, y, max_iter, tol, rng, random\n",
            "/usr/local/lib/python3.7/dist-packages/sklearn/linear_model/_coordinate_descent.py:626: ConvergenceWarning: Objective did not converge. You might want to increase the number of iterations. Duality gap: 7412.311414554006, tolerance: 2843.150071464932\n",
            "  coef_, l1_reg, l2_reg, X, y, max_iter, tol, rng, random\n",
            "/usr/local/lib/python3.7/dist-packages/sklearn/linear_model/_coordinate_descent.py:626: ConvergenceWarning: Objective did not converge. You might want to increase the number of iterations. Duality gap: 385277.0644875909, tolerance: 3041.610422940181\n",
            "  coef_, l1_reg, l2_reg, X, y, max_iter, tol, rng, random\n",
            "/usr/local/lib/python3.7/dist-packages/sklearn/linear_model/_coordinate_descent.py:626: ConvergenceWarning: Objective did not converge. You might want to increase the number of iterations. Duality gap: 75576.0327308256, tolerance: 3041.610422940181\n",
            "  coef_, l1_reg, l2_reg, X, y, max_iter, tol, rng, random\n",
            "/usr/local/lib/python3.7/dist-packages/sklearn/linear_model/_coordinate_descent.py:626: ConvergenceWarning: Objective did not converge. You might want to increase the number of iterations. Duality gap: 7562.76048803681, tolerance: 3041.610422940181\n",
            "  coef_, l1_reg, l2_reg, X, y, max_iter, tol, rng, random\n",
            "/usr/local/lib/python3.7/dist-packages/sklearn/linear_model/_coordinate_descent.py:626: ConvergenceWarning: Objective did not converge. You might want to increase the number of iterations. Duality gap: 9679.02140551072, tolerance: 2186.5106442437927\n",
            "  coef_, l1_reg, l2_reg, X, y, max_iter, tol, rng, random\n",
            "/usr/local/lib/python3.7/dist-packages/sklearn/linear_model/_coordinate_descent.py:626: ConvergenceWarning: Objective did not converge. You might want to increase the number of iterations. Duality gap: 57418.8585290394, tolerance: 2186.5106442437927\n",
            "  coef_, l1_reg, l2_reg, X, y, max_iter, tol, rng, random\n",
            "/usr/local/lib/python3.7/dist-packages/sklearn/linear_model/_coordinate_descent.py:626: ConvergenceWarning: Objective did not converge. You might want to increase the number of iterations. Duality gap: 5315.195347960887, tolerance: 2186.5106442437927\n",
            "  coef_, l1_reg, l2_reg, X, y, max_iter, tol, rng, random\n",
            "/usr/local/lib/python3.7/dist-packages/sklearn/linear_model/_coordinate_descent.py:2451: ConvergenceWarning: Objective did not converge. You might want to increase the number of iterations. Duality gap: 508648.06587443966, tolerance: 4194.764032304216\n",
            "  random,\n"
          ]
        },
        {
          "name": "stdout",
          "output_type": "stream",
          "text": [
            "VivekVihar=52.56\n"
          ]
        },
        {
          "name": "stderr",
          "output_type": "stream",
          "text": [
            "/usr/local/lib/python3.7/dist-packages/pandas/core/series.py:4536: SettingWithCopyWarning: \n",
            "A value is trying to be set on a copy of a slice from a DataFrame\n",
            "\n",
            "See the caveats in the documentation: https://pandas.pydata.org/pandas-docs/stable/user_guide/indexing.html#returning-a-view-versus-a-copy\n",
            "  downcast=downcast,\n",
            "/usr/local/lib/python3.7/dist-packages/sklearn/linear_model/_coordinate_descent.py:626: ConvergenceWarning: Objective did not converge. You might want to increase the number of iterations. Duality gap: 246715.8462081768, tolerance: 3021.4558331872176\n",
            "  coef_, l1_reg, l2_reg, X, y, max_iter, tol, rng, random\n",
            "/usr/local/lib/python3.7/dist-packages/sklearn/linear_model/_coordinate_descent.py:626: ConvergenceWarning: Objective did not converge. You might want to increase the number of iterations. Duality gap: 41507.314253371536, tolerance: 3021.4558331872176\n",
            "  coef_, l1_reg, l2_reg, X, y, max_iter, tol, rng, random\n",
            "/usr/local/lib/python3.7/dist-packages/sklearn/linear_model/_coordinate_descent.py:626: ConvergenceWarning: Objective did not converge. You might want to increase the number of iterations. Duality gap: 6837.041909543255, tolerance: 3021.4558331872176\n",
            "  coef_, l1_reg, l2_reg, X, y, max_iter, tol, rng, random\n",
            "/usr/local/lib/python3.7/dist-packages/sklearn/linear_model/_coordinate_descent.py:626: ConvergenceWarning: Objective did not converge. You might want to increase the number of iterations. Duality gap: 386382.50274928275, tolerance: 3333.4931462753952\n",
            "  coef_, l1_reg, l2_reg, X, y, max_iter, tol, rng, random\n",
            "/usr/local/lib/python3.7/dist-packages/sklearn/linear_model/_coordinate_descent.py:626: ConvergenceWarning: Objective did not converge. You might want to increase the number of iterations. Duality gap: 73609.3437664485, tolerance: 3333.4931462753952\n",
            "  coef_, l1_reg, l2_reg, X, y, max_iter, tol, rng, random\n",
            "/usr/local/lib/python3.7/dist-packages/sklearn/linear_model/_coordinate_descent.py:626: ConvergenceWarning: Objective did not converge. You might want to increase the number of iterations. Duality gap: 9047.219050469597, tolerance: 3333.4931462753952\n",
            "  coef_, l1_reg, l2_reg, X, y, max_iter, tol, rng, random\n",
            "/usr/local/lib/python3.7/dist-packages/sklearn/linear_model/_coordinate_descent.py:626: ConvergenceWarning: Objective did not converge. You might want to increase the number of iterations. Duality gap: 48354.07626726385, tolerance: 2738.5058634311513\n",
            "  coef_, l1_reg, l2_reg, X, y, max_iter, tol, rng, random\n",
            "/usr/local/lib/python3.7/dist-packages/sklearn/linear_model/_coordinate_descent.py:626: ConvergenceWarning: Objective did not converge. You might want to increase the number of iterations. Duality gap: 57858.76039033168, tolerance: 2738.5058634311513\n",
            "  coef_, l1_reg, l2_reg, X, y, max_iter, tol, rng, random\n",
            "/usr/local/lib/python3.7/dist-packages/sklearn/linear_model/_coordinate_descent.py:626: ConvergenceWarning: Objective did not converge. You might want to increase the number of iterations. Duality gap: 6508.152900864582, tolerance: 2738.5058634311513\n",
            "  coef_, l1_reg, l2_reg, X, y, max_iter, tol, rng, random\n",
            "/usr/local/lib/python3.7/dist-packages/sklearn/linear_model/_coordinate_descent.py:2451: ConvergenceWarning: Objective did not converge. You might want to increase the number of iterations. Duality gap: 611632.6610616194, tolerance: 4695.452752277862\n",
            "  random,\n"
          ]
        },
        {
          "name": "stdout",
          "output_type": "stream",
          "text": [
            "Wazirpur=49.65\n"
          ]
        }
      ],
      "source": [
        "pred = {k:[] for k in [1,6,12,18,24]}\n",
        "gt = {k:[] for k in [1,6,12,18,24]}\n",
        "\n",
        "for sensor in sensors:\n",
        "    \n",
        "    start = time.time()\n",
        "    \n",
        "    df_temp = df.loc[:,[i for i in df.columns.tolist()]]\n",
        "    \n",
        "    for k in sensors:\n",
        "        for col in ['aqi','at','rh','ws','wd']:\n",
        "            for j in range(1,24):\n",
        "                df_temp['p{}_{}_{}'.format(j,k,col)] = df_temp[col + '_%s' % k]\n",
        "                df_temp['p{}_{}_{}'.format(j,k,col)] = df_temp['p{}_{}_{}'.format(j,k,col)].shift(j)\n",
        "    \n",
        "    for j in [1,6,12,18,24]:\n",
        "        df_temp['hz{}'.format(j)] = df_temp['aqi_%s' % sensor]\n",
        "        df_temp['hz{}'.format(j)] = df_temp['hz{}'.format(j)].shift(-j)\n",
        "    \n",
        "    y_cols = [i for i in df_temp.columns.tolist() if i.startswith('hz')]\n",
        "    x_cols = [i for i in df_temp.columns.tolist() if i.startswith('hz')==False]\n",
        "    \n",
        "    X = df_temp.loc[:,x_cols]    \n",
        "    y = df_temp.loc[:,y_cols]\n",
        "    \n",
        "    X_train = X.loc[:pd.Timestamp('2019-12-31 23:00:00'),:]\n",
        "    y_train = y.loc[:pd.Timestamp('2019-12-31 23:00:00'),:]\n",
        "    X_test = X.loc[pd.Timestamp('2020-01-01 00:00:00'):,:]\n",
        "    y_test = y.loc[pd.Timestamp('2020-01-01 00:00:00'):,:]\n",
        "    \n",
        "    #nik\n",
        "    train = pd.concat([X_train,y_train],axis=1)\n",
        "    train.dropna(axis=0,how='any',inplace=True)\n",
        "    X_train = train.loc[:,x_cols]\n",
        "    y_train = train.loc[:,y_cols]\n",
        "    \n",
        "    #nik\n",
        "    X_test.fillna(X_test.mean(),inplace=True)\n",
        "\n",
        "    model = MultiTaskLassoCV(alphas=[1,10,100],cv=3)\n",
        "    model.fit(X_train,y_train)\n",
        "    \n",
        "    predictions = model.predict(X_test)\n",
        "    actual = np.array(y_test)\n",
        "    \n",
        "    j=0\n",
        "    for i in [1,6,12,18,24]:\n",
        "        pred[i].append(predictions[:,j].tolist())\n",
        "        gt[i].append(actual[:,j].tolist())\n",
        "        j = j + 1\n",
        "        \n",
        "    end = time.time()\n",
        "    \n",
        "    print(sensor+'='+str(np.round(end-start,2)))"
      ]
    },
    {
      "cell_type": "code",
      "execution_count": null,
      "metadata": {
        "id": "VMY0wkjaLlqa"
      },
      "outputs": [],
      "source": [
        "for i in pred.keys():\n",
        "    pred_csv = pd.DataFrame(np.array(pred[i])).T\n",
        "    pred_csv.columns = ['pred_{}'.format(sensor) for sensor in sensors]\n",
        "    pred_csv.index = X_test.index\n",
        "    gt_csv = pd.DataFrame(np.array(gt[i])).T\n",
        "    gt_csv.columns = ['actual_{}'.format(sensor) for sensor in sensors]\n",
        "    gt_csv.index = X_test.index\n",
        "    main_csv = pd.concat([pred_csv,gt_csv],axis=1)\n",
        "    #main_csv.to_csv('/Users/nikmag/Desktop/var_horizon_{}_output.csv'.format(i))"
      ]
    },
    {
      "cell_type": "code",
      "execution_count": null,
      "metadata": {
        "colab": {
          "base_uri": "https://localhost:8080/"
        },
        "id": "hbQ5J389Lm1X",
        "outputId": "ceb7b67e-924f-4c6c-d8da-191eb9bc71d7"
      },
      "outputs": [
        {
          "data": {
            "text/plain": [
              "dict_keys([1, 6, 12, 18, 24])"
            ]
          },
          "execution_count": 79,
          "metadata": {},
          "output_type": "execute_result"
        }
      ],
      "source": [
        "pred.keys()"
      ]
    },
    {
      "cell_type": "code",
      "execution_count": null,
      "metadata": {
        "colab": {
          "base_uri": "https://localhost:8080/"
        },
        "id": "P4ZI9PgALqxD",
        "outputId": "b6fe5868-5189-4fc2-c361-e69f11bd725c"
      },
      "outputs": [
        {
          "name": "stdout",
          "output_type": "stream",
          "text": [
            "30.72\n",
            "51.05\n",
            "3.8\n",
            "84.63\n",
            "106.32\n",
            "9.33\n",
            "96.63\n",
            "118.88\n",
            "10.42\n",
            "83.58\n",
            "108.49\n",
            "8.72\n",
            "82.2\n",
            "107.32\n",
            "8.55\n"
          ]
        }
      ],
      "source": [
        "result_mape = {k:[] for k in [1,6,12,18,24]}\n",
        "result_mae = {k:[] for k in [1,6,12,18,24]}\n",
        "result_rmse = {k:[] for k in [1,6,12,18,24]}\n",
        "\n",
        "for i in gt.keys():\n",
        "    res = calculate_metrics(pd.DataFrame(np.array(pred[i]).T),pd.DataFrame(np.array(gt[i]).T),np.nan)\n",
        "    result_mape[i] = res[1]\n",
        "    result_mae[i]= res[0]\n",
        "    result_rmse[i]= res[2]\n",
        "\n",
        "final_dict = {k:[] for k in [1,6,12,18,24]}\n",
        "for i in [1,6,12,18,24]:\n",
        "    final_dict[i].append(np.round(result_mae[i],2))\n",
        "    final_dict[i].append(np.round(result_rmse[i],2))\n",
        "    final_dict[i].append(np.round(result_mape[i],2))\n",
        "\n",
        "for i in [1,6,12,18,24]:\n",
        "    for j in final_dict[i]:\n",
        "        print(j)\n"
      ]
    },
    {
      "cell_type": "markdown",
      "metadata": {
        "id": "-KlwtJR2N9YJ"
      },
      "source": [
        "###GBM"
      ]
    },
    {
      "cell_type": "code",
      "execution_count": null,
      "metadata": {
        "id": "hPOYg9BprqXE"
      },
      "outputs": [],
      "source": [
        "pred = {k:[] for k in [1,6,12,18,24]}\n",
        "gt = {k:[] for k in [1,6,12,18,24]}"
      ]
    },
    {
      "cell_type": "code",
      "execution_count": null,
      "metadata": {
        "colab": {
          "base_uri": "https://localhost:8080/"
        },
        "id": "zSrFcl3POIHO",
        "outputId": "50074092-f6fa-4adc-d236-b9c48a0f8c36"
      },
      "outputs": [
        {
          "name": "stderr",
          "output_type": "stream",
          "text": [
            "/usr/local/lib/python3.7/dist-packages/pandas/core/series.py:4536: SettingWithCopyWarning: \n",
            "A value is trying to be set on a copy of a slice from a DataFrame\n",
            "\n",
            "See the caveats in the documentation: https://pandas.pydata.org/pandas-docs/stable/user_guide/indexing.html#returning-a-view-versus-a-copy\n",
            "  downcast=downcast,\n"
          ]
        },
        {
          "name": "stdout",
          "output_type": "stream",
          "text": [
            "Alipur=101.17\n"
          ]
        },
        {
          "name": "stderr",
          "output_type": "stream",
          "text": [
            "/usr/local/lib/python3.7/dist-packages/pandas/core/series.py:4536: SettingWithCopyWarning: \n",
            "A value is trying to be set on a copy of a slice from a DataFrame\n",
            "\n",
            "See the caveats in the documentation: https://pandas.pydata.org/pandas-docs/stable/user_guide/indexing.html#returning-a-view-versus-a-copy\n",
            "  downcast=downcast,\n"
          ]
        },
        {
          "name": "stdout",
          "output_type": "stream",
          "text": [
            "AnandVihar=101.79\n"
          ]
        },
        {
          "name": "stderr",
          "output_type": "stream",
          "text": [
            "/usr/local/lib/python3.7/dist-packages/pandas/core/series.py:4536: SettingWithCopyWarning: \n",
            "A value is trying to be set on a copy of a slice from a DataFrame\n",
            "\n",
            "See the caveats in the documentation: https://pandas.pydata.org/pandas-docs/stable/user_guide/indexing.html#returning-a-view-versus-a-copy\n",
            "  downcast=downcast,\n"
          ]
        },
        {
          "name": "stdout",
          "output_type": "stream",
          "text": [
            "AshokVihar=117.04\n"
          ]
        },
        {
          "name": "stderr",
          "output_type": "stream",
          "text": [
            "/usr/local/lib/python3.7/dist-packages/pandas/core/series.py:4536: SettingWithCopyWarning: \n",
            "A value is trying to be set on a copy of a slice from a DataFrame\n",
            "\n",
            "See the caveats in the documentation: https://pandas.pydata.org/pandas-docs/stable/user_guide/indexing.html#returning-a-view-versus-a-copy\n",
            "  downcast=downcast,\n"
          ]
        },
        {
          "name": "stdout",
          "output_type": "stream",
          "text": [
            "Bawana=121.89\n"
          ]
        },
        {
          "name": "stderr",
          "output_type": "stream",
          "text": [
            "/usr/local/lib/python3.7/dist-packages/pandas/core/series.py:4536: SettingWithCopyWarning: \n",
            "A value is trying to be set on a copy of a slice from a DataFrame\n",
            "\n",
            "See the caveats in the documentation: https://pandas.pydata.org/pandas-docs/stable/user_guide/indexing.html#returning-a-view-versus-a-copy\n",
            "  downcast=downcast,\n"
          ]
        },
        {
          "name": "stdout",
          "output_type": "stream",
          "text": [
            "DrKarniShootingRange=121.48\n"
          ]
        },
        {
          "name": "stderr",
          "output_type": "stream",
          "text": [
            "/usr/local/lib/python3.7/dist-packages/pandas/core/series.py:4536: SettingWithCopyWarning: \n",
            "A value is trying to be set on a copy of a slice from a DataFrame\n",
            "\n",
            "See the caveats in the documentation: https://pandas.pydata.org/pandas-docs/stable/user_guide/indexing.html#returning-a-view-versus-a-copy\n",
            "  downcast=downcast,\n"
          ]
        },
        {
          "name": "stdout",
          "output_type": "stream",
          "text": [
            "DTU=127.91\n"
          ]
        },
        {
          "name": "stderr",
          "output_type": "stream",
          "text": [
            "/usr/local/lib/python3.7/dist-packages/pandas/core/series.py:4536: SettingWithCopyWarning: \n",
            "A value is trying to be set on a copy of a slice from a DataFrame\n",
            "\n",
            "See the caveats in the documentation: https://pandas.pydata.org/pandas-docs/stable/user_guide/indexing.html#returning-a-view-versus-a-copy\n",
            "  downcast=downcast,\n"
          ]
        },
        {
          "name": "stdout",
          "output_type": "stream",
          "text": [
            "DwarkaSector8=114.45\n"
          ]
        },
        {
          "name": "stderr",
          "output_type": "stream",
          "text": [
            "/usr/local/lib/python3.7/dist-packages/pandas/core/series.py:4536: SettingWithCopyWarning: \n",
            "A value is trying to be set on a copy of a slice from a DataFrame\n",
            "\n",
            "See the caveats in the documentation: https://pandas.pydata.org/pandas-docs/stable/user_guide/indexing.html#returning-a-view-versus-a-copy\n",
            "  downcast=downcast,\n"
          ]
        },
        {
          "name": "stdout",
          "output_type": "stream",
          "text": [
            "IHBASDilshadGarden=97.99\n"
          ]
        },
        {
          "name": "stderr",
          "output_type": "stream",
          "text": [
            "/usr/local/lib/python3.7/dist-packages/pandas/core/series.py:4536: SettingWithCopyWarning: \n",
            "A value is trying to be set on a copy of a slice from a DataFrame\n",
            "\n",
            "See the caveats in the documentation: https://pandas.pydata.org/pandas-docs/stable/user_guide/indexing.html#returning-a-view-versus-a-copy\n",
            "  downcast=downcast,\n"
          ]
        },
        {
          "name": "stdout",
          "output_type": "stream",
          "text": [
            "Jahangirpuri=115.04\n"
          ]
        },
        {
          "name": "stderr",
          "output_type": "stream",
          "text": [
            "/usr/local/lib/python3.7/dist-packages/pandas/core/series.py:4536: SettingWithCopyWarning: \n",
            "A value is trying to be set on a copy of a slice from a DataFrame\n",
            "\n",
            "See the caveats in the documentation: https://pandas.pydata.org/pandas-docs/stable/user_guide/indexing.html#returning-a-view-versus-a-copy\n",
            "  downcast=downcast,\n"
          ]
        },
        {
          "name": "stdout",
          "output_type": "stream",
          "text": [
            "JawaharlalNehruStadium=111.22\n"
          ]
        },
        {
          "name": "stderr",
          "output_type": "stream",
          "text": [
            "/usr/local/lib/python3.7/dist-packages/pandas/core/series.py:4536: SettingWithCopyWarning: \n",
            "A value is trying to be set on a copy of a slice from a DataFrame\n",
            "\n",
            "See the caveats in the documentation: https://pandas.pydata.org/pandas-docs/stable/user_guide/indexing.html#returning-a-view-versus-a-copy\n",
            "  downcast=downcast,\n"
          ]
        },
        {
          "name": "stdout",
          "output_type": "stream",
          "text": [
            "MajorDhyanChandNationalStadium=123.01\n"
          ]
        },
        {
          "name": "stderr",
          "output_type": "stream",
          "text": [
            "/usr/local/lib/python3.7/dist-packages/pandas/core/series.py:4536: SettingWithCopyWarning: \n",
            "A value is trying to be set on a copy of a slice from a DataFrame\n",
            "\n",
            "See the caveats in the documentation: https://pandas.pydata.org/pandas-docs/stable/user_guide/indexing.html#returning-a-view-versus-a-copy\n",
            "  downcast=downcast,\n"
          ]
        },
        {
          "name": "stdout",
          "output_type": "stream",
          "text": [
            "MandirMarg=125.64\n"
          ]
        },
        {
          "name": "stderr",
          "output_type": "stream",
          "text": [
            "/usr/local/lib/python3.7/dist-packages/pandas/core/series.py:4536: SettingWithCopyWarning: \n",
            "A value is trying to be set on a copy of a slice from a DataFrame\n",
            "\n",
            "See the caveats in the documentation: https://pandas.pydata.org/pandas-docs/stable/user_guide/indexing.html#returning-a-view-versus-a-copy\n",
            "  downcast=downcast,\n"
          ]
        },
        {
          "name": "stdout",
          "output_type": "stream",
          "text": [
            "Mundka=118.37\n"
          ]
        },
        {
          "name": "stderr",
          "output_type": "stream",
          "text": [
            "/usr/local/lib/python3.7/dist-packages/pandas/core/series.py:4536: SettingWithCopyWarning: \n",
            "A value is trying to be set on a copy of a slice from a DataFrame\n",
            "\n",
            "See the caveats in the documentation: https://pandas.pydata.org/pandas-docs/stable/user_guide/indexing.html#returning-a-view-versus-a-copy\n",
            "  downcast=downcast,\n"
          ]
        },
        {
          "name": "stdout",
          "output_type": "stream",
          "text": [
            "Najafnagar=112.8\n"
          ]
        },
        {
          "name": "stderr",
          "output_type": "stream",
          "text": [
            "/usr/local/lib/python3.7/dist-packages/pandas/core/series.py:4536: SettingWithCopyWarning: \n",
            "A value is trying to be set on a copy of a slice from a DataFrame\n",
            "\n",
            "See the caveats in the documentation: https://pandas.pydata.org/pandas-docs/stable/user_guide/indexing.html#returning-a-view-versus-a-copy\n",
            "  downcast=downcast,\n"
          ]
        },
        {
          "name": "stdout",
          "output_type": "stream",
          "text": [
            "Narela=118.57\n"
          ]
        },
        {
          "name": "stderr",
          "output_type": "stream",
          "text": [
            "/usr/local/lib/python3.7/dist-packages/pandas/core/series.py:4536: SettingWithCopyWarning: \n",
            "A value is trying to be set on a copy of a slice from a DataFrame\n",
            "\n",
            "See the caveats in the documentation: https://pandas.pydata.org/pandas-docs/stable/user_guide/indexing.html#returning-a-view-versus-a-copy\n",
            "  downcast=downcast,\n"
          ]
        },
        {
          "name": "stdout",
          "output_type": "stream",
          "text": [
            "NehruNagar=120.86\n"
          ]
        },
        {
          "name": "stderr",
          "output_type": "stream",
          "text": [
            "/usr/local/lib/python3.7/dist-packages/pandas/core/series.py:4536: SettingWithCopyWarning: \n",
            "A value is trying to be set on a copy of a slice from a DataFrame\n",
            "\n",
            "See the caveats in the documentation: https://pandas.pydata.org/pandas-docs/stable/user_guide/indexing.html#returning-a-view-versus-a-copy\n",
            "  downcast=downcast,\n"
          ]
        },
        {
          "name": "stdout",
          "output_type": "stream",
          "text": [
            "OkhlaPhase2=115.97\n"
          ]
        },
        {
          "name": "stderr",
          "output_type": "stream",
          "text": [
            "/usr/local/lib/python3.7/dist-packages/pandas/core/series.py:4536: SettingWithCopyWarning: \n",
            "A value is trying to be set on a copy of a slice from a DataFrame\n",
            "\n",
            "See the caveats in the documentation: https://pandas.pydata.org/pandas-docs/stable/user_guide/indexing.html#returning-a-view-versus-a-copy\n",
            "  downcast=downcast,\n"
          ]
        },
        {
          "name": "stdout",
          "output_type": "stream",
          "text": [
            "Patparganj=115.57\n"
          ]
        },
        {
          "name": "stderr",
          "output_type": "stream",
          "text": [
            "/usr/local/lib/python3.7/dist-packages/pandas/core/series.py:4536: SettingWithCopyWarning: \n",
            "A value is trying to be set on a copy of a slice from a DataFrame\n",
            "\n",
            "See the caveats in the documentation: https://pandas.pydata.org/pandas-docs/stable/user_guide/indexing.html#returning-a-view-versus-a-copy\n",
            "  downcast=downcast,\n"
          ]
        },
        {
          "name": "stdout",
          "output_type": "stream",
          "text": [
            "PunjabiBagh=107.53\n"
          ]
        },
        {
          "name": "stderr",
          "output_type": "stream",
          "text": [
            "/usr/local/lib/python3.7/dist-packages/pandas/core/series.py:4536: SettingWithCopyWarning: \n",
            "A value is trying to be set on a copy of a slice from a DataFrame\n",
            "\n",
            "See the caveats in the documentation: https://pandas.pydata.org/pandas-docs/stable/user_guide/indexing.html#returning-a-view-versus-a-copy\n",
            "  downcast=downcast,\n"
          ]
        },
        {
          "name": "stdout",
          "output_type": "stream",
          "text": [
            "Pusa=124.13\n"
          ]
        },
        {
          "name": "stderr",
          "output_type": "stream",
          "text": [
            "/usr/local/lib/python3.7/dist-packages/pandas/core/series.py:4536: SettingWithCopyWarning: \n",
            "A value is trying to be set on a copy of a slice from a DataFrame\n",
            "\n",
            "See the caveats in the documentation: https://pandas.pydata.org/pandas-docs/stable/user_guide/indexing.html#returning-a-view-versus-a-copy\n",
            "  downcast=downcast,\n"
          ]
        },
        {
          "name": "stdout",
          "output_type": "stream",
          "text": [
            "RKPuram=92.89\n"
          ]
        },
        {
          "name": "stderr",
          "output_type": "stream",
          "text": [
            "/usr/local/lib/python3.7/dist-packages/pandas/core/series.py:4536: SettingWithCopyWarning: \n",
            "A value is trying to be set on a copy of a slice from a DataFrame\n",
            "\n",
            "See the caveats in the documentation: https://pandas.pydata.org/pandas-docs/stable/user_guide/indexing.html#returning-a-view-versus-a-copy\n",
            "  downcast=downcast,\n"
          ]
        },
        {
          "name": "stdout",
          "output_type": "stream",
          "text": [
            "Rohini=102.93\n"
          ]
        },
        {
          "name": "stderr",
          "output_type": "stream",
          "text": [
            "/usr/local/lib/python3.7/dist-packages/pandas/core/series.py:4536: SettingWithCopyWarning: \n",
            "A value is trying to be set on a copy of a slice from a DataFrame\n",
            "\n",
            "See the caveats in the documentation: https://pandas.pydata.org/pandas-docs/stable/user_guide/indexing.html#returning-a-view-versus-a-copy\n",
            "  downcast=downcast,\n"
          ]
        },
        {
          "name": "stdout",
          "output_type": "stream",
          "text": [
            "Shadipur=134.78\n"
          ]
        },
        {
          "name": "stderr",
          "output_type": "stream",
          "text": [
            "/usr/local/lib/python3.7/dist-packages/pandas/core/series.py:4536: SettingWithCopyWarning: \n",
            "A value is trying to be set on a copy of a slice from a DataFrame\n",
            "\n",
            "See the caveats in the documentation: https://pandas.pydata.org/pandas-docs/stable/user_guide/indexing.html#returning-a-view-versus-a-copy\n",
            "  downcast=downcast,\n"
          ]
        },
        {
          "name": "stdout",
          "output_type": "stream",
          "text": [
            "Sirifort=116.12\n"
          ]
        },
        {
          "name": "stderr",
          "output_type": "stream",
          "text": [
            "/usr/local/lib/python3.7/dist-packages/pandas/core/series.py:4536: SettingWithCopyWarning: \n",
            "A value is trying to be set on a copy of a slice from a DataFrame\n",
            "\n",
            "See the caveats in the documentation: https://pandas.pydata.org/pandas-docs/stable/user_guide/indexing.html#returning-a-view-versus-a-copy\n",
            "  downcast=downcast,\n"
          ]
        },
        {
          "name": "stdout",
          "output_type": "stream",
          "text": [
            "SoniaVihar=104.18\n"
          ]
        },
        {
          "name": "stderr",
          "output_type": "stream",
          "text": [
            "/usr/local/lib/python3.7/dist-packages/pandas/core/series.py:4536: SettingWithCopyWarning: \n",
            "A value is trying to be set on a copy of a slice from a DataFrame\n",
            "\n",
            "See the caveats in the documentation: https://pandas.pydata.org/pandas-docs/stable/user_guide/indexing.html#returning-a-view-versus-a-copy\n",
            "  downcast=downcast,\n"
          ]
        },
        {
          "name": "stdout",
          "output_type": "stream",
          "text": [
            "SriAurobindoMarg=122.51\n"
          ]
        },
        {
          "name": "stderr",
          "output_type": "stream",
          "text": [
            "/usr/local/lib/python3.7/dist-packages/pandas/core/series.py:4536: SettingWithCopyWarning: \n",
            "A value is trying to be set on a copy of a slice from a DataFrame\n",
            "\n",
            "See the caveats in the documentation: https://pandas.pydata.org/pandas-docs/stable/user_guide/indexing.html#returning-a-view-versus-a-copy\n",
            "  downcast=downcast,\n"
          ]
        },
        {
          "name": "stdout",
          "output_type": "stream",
          "text": [
            "VivekVihar=115.7\n"
          ]
        },
        {
          "name": "stderr",
          "output_type": "stream",
          "text": [
            "/usr/local/lib/python3.7/dist-packages/pandas/core/series.py:4536: SettingWithCopyWarning: \n",
            "A value is trying to be set on a copy of a slice from a DataFrame\n",
            "\n",
            "See the caveats in the documentation: https://pandas.pydata.org/pandas-docs/stable/user_guide/indexing.html#returning-a-view-versus-a-copy\n",
            "  downcast=downcast,\n"
          ]
        },
        {
          "name": "stdout",
          "output_type": "stream",
          "text": [
            "Wazirpur=110.27\n"
          ]
        }
      ],
      "source": [
        "result_mape = {k:[] for k in [1,6,12,18,24]}\n",
        "result_mae = {k:[] for k in [1,6,12,18,24]}\n",
        "result_rmse = {k:[] for k in [1,6,12,18,24]}\n",
        "\n",
        "for sensor in sensors:\n",
        "    \n",
        "    start = time.time()\n",
        "    \n",
        "    df_temp = df.loc[:,[i for i in df.columns.tolist() if i.endswith(sensor)]]\n",
        "    \n",
        "    for col in ['aqi','at','rh','ws','wd']: \n",
        "        for j in range(1,24):\n",
        "            df_temp['p{}_{}'.format(j,col)] = df_temp[col + '_%s' % sensor]\n",
        "            df_temp['p{}_{}'.format(j,col)] = df_temp['p{}_{}'.format(j,col)].shift(j)\n",
        "\n",
        "    for j in [1,6,12,18,24]:\n",
        "        df_temp['hz{}'.format(j)] = df_temp['aqi_%s' % sensor]\n",
        "        df_temp['hz{}'.format(j)] = df_temp['hz{}'.format(j)].shift(-j)\n",
        "    \n",
        "    y_cols = [i for i in df_temp.columns.tolist() if i.startswith('hz')]\n",
        "    x_cols = [i for i in df_temp.columns.tolist() if i.startswith('hz')==False]\n",
        "    \n",
        "    X = df_temp.loc[:,x_cols]    \n",
        "    y = df_temp.loc[:,y_cols]\n",
        "    \n",
        "    X_train = X.loc[:pd.Timestamp('2019-12-31 23:00:00'),:]\n",
        "    y_train = y.loc[:pd.Timestamp('2019-12-31 23:00:00'),:]\n",
        "    X_test = X.loc[pd.Timestamp('2020-01-01 00:00:00'):,:]\n",
        "    y_test = y.loc[pd.Timestamp('2020-01-01 00:00:00'):,:]\n",
        "    \n",
        "    #nik\n",
        "    train = pd.concat([X_train,y_train],axis=1)\n",
        "    train.dropna(axis=0,how='any',inplace=True)\n",
        "    X_train = train.loc[:,x_cols]\n",
        "    y_train = train.loc[:,y_cols]\n",
        "    \n",
        "    #nik\n",
        "    X_test.fillna(X_test.mean(),inplace=True)\n",
        "\n",
        "    gbm = GradientBoostingRegressor(learning_rate=0.05,max_features=0.6,max_leaf_nodes=31,n_estimators=200)\n",
        "    model = MultiOutputRegressor(gbm,n_jobs=-1)\n",
        "    model.fit(X_train,y_train)\n",
        "    \n",
        "    predictions = model.predict(X_test)\n",
        "    actual = np.array(y_test)\n",
        "\n",
        "    j=0\n",
        "    for i in [1,6,12,18,24]:\n",
        "        pred[i].append(predictions[:,j].tolist())\n",
        "        gt[i].append(actual[:,j].tolist())\n",
        "        j = j + 1\n",
        "        \n",
        "    end = time.time()\n",
        "    \n",
        "    print(sensor+'='+str(np.round(end-start,2)))\n"
      ]
    },
    {
      "cell_type": "code",
      "execution_count": null,
      "metadata": {
        "colab": {
          "base_uri": "https://localhost:8080/"
        },
        "id": "MzVLA3TTOR7W",
        "outputId": "c1a85f1a-b29d-42a9-bdb4-54d2636a4ccb"
      },
      "outputs": [
        {
          "name": "stdout",
          "output_type": "stream",
          "text": [
            "18.62\n",
            "38.44\n",
            "2.34\n",
            "46.47\n",
            "73.38\n",
            "4.88\n",
            "55.89\n",
            "85.0\n",
            "5.68\n",
            "62.71\n",
            "96.37\n",
            "6.17\n",
            "68.72\n",
            "107.63\n",
            "6.92\n"
          ]
        }
      ],
      "source": [
        "result_mape = {k:[] for k in [1,6,12,18,24]}\n",
        "result_mae = {k:[] for k in [1,6,12,18,24]}\n",
        "result_rmse = {k:[] for k in [1,6,12,18,24]}\n",
        "\n",
        "for i in gt.keys():\n",
        "    res = calculate_metrics(pd.DataFrame(np.array(pred[i]).T),pd.DataFrame(np.array(gt[i]).T),np.nan)\n",
        "    result_mape[i] = res[1]\n",
        "    result_mae[i]= res[0]\n",
        "    result_rmse[i]= res[2]\n",
        "\n",
        "final_dict = {k:[] for k in [1,6,12,18,24]}\n",
        "for i in [1,6,12,18,24]:\n",
        "    final_dict[i].append(np.round(result_mae[i],2))\n",
        "    final_dict[i].append(np.round(result_rmse[i],2))\n",
        "    final_dict[i].append(np.round(result_mape[i],2))\n",
        "\n",
        "for i in [1,6,12,18,24]:\n",
        "    for j in final_dict[i]:\n",
        "        print(j)"
      ]
    },
    {
      "cell_type": "markdown",
      "metadata": {
        "id": "n5_2c7NDO1dx"
      },
      "source": [
        "###RF"
      ]
    },
    {
      "cell_type": "code",
      "execution_count": null,
      "metadata": {
        "id": "x4SPa4ksZRZk"
      },
      "outputs": [],
      "source": [
        "pred = {k:[] for k in [1,6,12,18,24]}\n",
        "gt = {k:[] for k in [1,6,12,18,24]}"
      ]
    },
    {
      "cell_type": "code",
      "execution_count": null,
      "metadata": {
        "colab": {
          "base_uri": "https://localhost:8080/"
        },
        "id": "oIad741kO2zO",
        "outputId": "5d865a16-e7d0-4e64-d548-80bc726bc45f"
      },
      "outputs": [
        {
          "name": "stderr",
          "output_type": "stream",
          "text": [
            "/usr/local/lib/python3.7/dist-packages/pandas/core/series.py:4536: SettingWithCopyWarning: \n",
            "A value is trying to be set on a copy of a slice from a DataFrame\n",
            "\n",
            "See the caveats in the documentation: https://pandas.pydata.org/pandas-docs/stable/user_guide/indexing.html#returning-a-view-versus-a-copy\n",
            "  downcast=downcast,\n"
          ]
        },
        {
          "name": "stdout",
          "output_type": "stream",
          "text": [
            "Alipur=426.22\n"
          ]
        },
        {
          "name": "stderr",
          "output_type": "stream",
          "text": [
            "/usr/local/lib/python3.7/dist-packages/pandas/core/series.py:4536: SettingWithCopyWarning: \n",
            "A value is trying to be set on a copy of a slice from a DataFrame\n",
            "\n",
            "See the caveats in the documentation: https://pandas.pydata.org/pandas-docs/stable/user_guide/indexing.html#returning-a-view-versus-a-copy\n",
            "  downcast=downcast,\n"
          ]
        },
        {
          "name": "stdout",
          "output_type": "stream",
          "text": [
            "AnandVihar=462.12\n"
          ]
        },
        {
          "name": "stderr",
          "output_type": "stream",
          "text": [
            "/usr/local/lib/python3.7/dist-packages/pandas/core/series.py:4536: SettingWithCopyWarning: \n",
            "A value is trying to be set on a copy of a slice from a DataFrame\n",
            "\n",
            "See the caveats in the documentation: https://pandas.pydata.org/pandas-docs/stable/user_guide/indexing.html#returning-a-view-versus-a-copy\n",
            "  downcast=downcast,\n"
          ]
        },
        {
          "name": "stdout",
          "output_type": "stream",
          "text": [
            "AshokVihar=538.04\n"
          ]
        },
        {
          "name": "stderr",
          "output_type": "stream",
          "text": [
            "/usr/local/lib/python3.7/dist-packages/pandas/core/series.py:4536: SettingWithCopyWarning: \n",
            "A value is trying to be set on a copy of a slice from a DataFrame\n",
            "\n",
            "See the caveats in the documentation: https://pandas.pydata.org/pandas-docs/stable/user_guide/indexing.html#returning-a-view-versus-a-copy\n",
            "  downcast=downcast,\n"
          ]
        },
        {
          "name": "stdout",
          "output_type": "stream",
          "text": [
            "Bawana=526.71\n"
          ]
        },
        {
          "name": "stderr",
          "output_type": "stream",
          "text": [
            "/usr/local/lib/python3.7/dist-packages/pandas/core/series.py:4536: SettingWithCopyWarning: \n",
            "A value is trying to be set on a copy of a slice from a DataFrame\n",
            "\n",
            "See the caveats in the documentation: https://pandas.pydata.org/pandas-docs/stable/user_guide/indexing.html#returning-a-view-versus-a-copy\n",
            "  downcast=downcast,\n"
          ]
        },
        {
          "name": "stdout",
          "output_type": "stream",
          "text": [
            "DrKarniShootingRange=590.25\n"
          ]
        },
        {
          "name": "stderr",
          "output_type": "stream",
          "text": [
            "/usr/local/lib/python3.7/dist-packages/pandas/core/series.py:4536: SettingWithCopyWarning: \n",
            "A value is trying to be set on a copy of a slice from a DataFrame\n",
            "\n",
            "See the caveats in the documentation: https://pandas.pydata.org/pandas-docs/stable/user_guide/indexing.html#returning-a-view-versus-a-copy\n",
            "  downcast=downcast,\n"
          ]
        },
        {
          "name": "stdout",
          "output_type": "stream",
          "text": [
            "DTU=516.68\n"
          ]
        },
        {
          "name": "stderr",
          "output_type": "stream",
          "text": [
            "/usr/local/lib/python3.7/dist-packages/pandas/core/series.py:4536: SettingWithCopyWarning: \n",
            "A value is trying to be set on a copy of a slice from a DataFrame\n",
            "\n",
            "See the caveats in the documentation: https://pandas.pydata.org/pandas-docs/stable/user_guide/indexing.html#returning-a-view-versus-a-copy\n",
            "  downcast=downcast,\n"
          ]
        },
        {
          "name": "stdout",
          "output_type": "stream",
          "text": [
            "DwarkaSector8=479.51\n"
          ]
        },
        {
          "name": "stderr",
          "output_type": "stream",
          "text": [
            "/usr/local/lib/python3.7/dist-packages/pandas/core/series.py:4536: SettingWithCopyWarning: \n",
            "A value is trying to be set on a copy of a slice from a DataFrame\n",
            "\n",
            "See the caveats in the documentation: https://pandas.pydata.org/pandas-docs/stable/user_guide/indexing.html#returning-a-view-versus-a-copy\n",
            "  downcast=downcast,\n"
          ]
        },
        {
          "name": "stdout",
          "output_type": "stream",
          "text": [
            "IHBASDilshadGarden=375.4\n"
          ]
        },
        {
          "name": "stderr",
          "output_type": "stream",
          "text": [
            "/usr/local/lib/python3.7/dist-packages/pandas/core/series.py:4536: SettingWithCopyWarning: \n",
            "A value is trying to be set on a copy of a slice from a DataFrame\n",
            "\n",
            "See the caveats in the documentation: https://pandas.pydata.org/pandas-docs/stable/user_guide/indexing.html#returning-a-view-versus-a-copy\n",
            "  downcast=downcast,\n"
          ]
        },
        {
          "name": "stdout",
          "output_type": "stream",
          "text": [
            "Jahangirpuri=503.19\n"
          ]
        },
        {
          "name": "stderr",
          "output_type": "stream",
          "text": [
            "/usr/local/lib/python3.7/dist-packages/pandas/core/series.py:4536: SettingWithCopyWarning: \n",
            "A value is trying to be set on a copy of a slice from a DataFrame\n",
            "\n",
            "See the caveats in the documentation: https://pandas.pydata.org/pandas-docs/stable/user_guide/indexing.html#returning-a-view-versus-a-copy\n",
            "  downcast=downcast,\n"
          ]
        },
        {
          "name": "stdout",
          "output_type": "stream",
          "text": [
            "JawaharlalNehruStadium=492.84\n"
          ]
        },
        {
          "name": "stderr",
          "output_type": "stream",
          "text": [
            "/usr/local/lib/python3.7/dist-packages/pandas/core/series.py:4536: SettingWithCopyWarning: \n",
            "A value is trying to be set on a copy of a slice from a DataFrame\n",
            "\n",
            "See the caveats in the documentation: https://pandas.pydata.org/pandas-docs/stable/user_guide/indexing.html#returning-a-view-versus-a-copy\n",
            "  downcast=downcast,\n"
          ]
        },
        {
          "name": "stdout",
          "output_type": "stream",
          "text": [
            "MajorDhyanChandNationalStadium=555.08\n"
          ]
        },
        {
          "name": "stderr",
          "output_type": "stream",
          "text": [
            "/usr/local/lib/python3.7/dist-packages/pandas/core/series.py:4536: SettingWithCopyWarning: \n",
            "A value is trying to be set on a copy of a slice from a DataFrame\n",
            "\n",
            "See the caveats in the documentation: https://pandas.pydata.org/pandas-docs/stable/user_guide/indexing.html#returning-a-view-versus-a-copy\n",
            "  downcast=downcast,\n"
          ]
        },
        {
          "name": "stdout",
          "output_type": "stream",
          "text": [
            "MandirMarg=553.96\n"
          ]
        },
        {
          "name": "stderr",
          "output_type": "stream",
          "text": [
            "/usr/local/lib/python3.7/dist-packages/pandas/core/series.py:4536: SettingWithCopyWarning: \n",
            "A value is trying to be set on a copy of a slice from a DataFrame\n",
            "\n",
            "See the caveats in the documentation: https://pandas.pydata.org/pandas-docs/stable/user_guide/indexing.html#returning-a-view-versus-a-copy\n",
            "  downcast=downcast,\n"
          ]
        },
        {
          "name": "stdout",
          "output_type": "stream",
          "text": [
            "Mundka=533.36\n"
          ]
        },
        {
          "name": "stderr",
          "output_type": "stream",
          "text": [
            "/usr/local/lib/python3.7/dist-packages/pandas/core/series.py:4536: SettingWithCopyWarning: \n",
            "A value is trying to be set on a copy of a slice from a DataFrame\n",
            "\n",
            "See the caveats in the documentation: https://pandas.pydata.org/pandas-docs/stable/user_guide/indexing.html#returning-a-view-versus-a-copy\n",
            "  downcast=downcast,\n"
          ]
        },
        {
          "name": "stdout",
          "output_type": "stream",
          "text": [
            "Najafnagar=475.03\n"
          ]
        },
        {
          "name": "stderr",
          "output_type": "stream",
          "text": [
            "/usr/local/lib/python3.7/dist-packages/pandas/core/series.py:4536: SettingWithCopyWarning: \n",
            "A value is trying to be set on a copy of a slice from a DataFrame\n",
            "\n",
            "See the caveats in the documentation: https://pandas.pydata.org/pandas-docs/stable/user_guide/indexing.html#returning-a-view-versus-a-copy\n",
            "  downcast=downcast,\n"
          ]
        },
        {
          "name": "stdout",
          "output_type": "stream",
          "text": [
            "Narela=498.89\n"
          ]
        },
        {
          "name": "stderr",
          "output_type": "stream",
          "text": [
            "/usr/local/lib/python3.7/dist-packages/pandas/core/series.py:4536: SettingWithCopyWarning: \n",
            "A value is trying to be set on a copy of a slice from a DataFrame\n",
            "\n",
            "See the caveats in the documentation: https://pandas.pydata.org/pandas-docs/stable/user_guide/indexing.html#returning-a-view-versus-a-copy\n",
            "  downcast=downcast,\n"
          ]
        },
        {
          "name": "stdout",
          "output_type": "stream",
          "text": [
            "NehruNagar=528.78\n"
          ]
        },
        {
          "name": "stderr",
          "output_type": "stream",
          "text": [
            "/usr/local/lib/python3.7/dist-packages/pandas/core/series.py:4536: SettingWithCopyWarning: \n",
            "A value is trying to be set on a copy of a slice from a DataFrame\n",
            "\n",
            "See the caveats in the documentation: https://pandas.pydata.org/pandas-docs/stable/user_guide/indexing.html#returning-a-view-versus-a-copy\n",
            "  downcast=downcast,\n"
          ]
        },
        {
          "name": "stdout",
          "output_type": "stream",
          "text": [
            "OkhlaPhase2=537.15\n"
          ]
        },
        {
          "name": "stderr",
          "output_type": "stream",
          "text": [
            "/usr/local/lib/python3.7/dist-packages/pandas/core/series.py:4536: SettingWithCopyWarning: \n",
            "A value is trying to be set on a copy of a slice from a DataFrame\n",
            "\n",
            "See the caveats in the documentation: https://pandas.pydata.org/pandas-docs/stable/user_guide/indexing.html#returning-a-view-versus-a-copy\n",
            "  downcast=downcast,\n"
          ]
        },
        {
          "name": "stdout",
          "output_type": "stream",
          "text": [
            "Patparganj=516.77\n"
          ]
        },
        {
          "name": "stderr",
          "output_type": "stream",
          "text": [
            "/usr/local/lib/python3.7/dist-packages/pandas/core/series.py:4536: SettingWithCopyWarning: \n",
            "A value is trying to be set on a copy of a slice from a DataFrame\n",
            "\n",
            "See the caveats in the documentation: https://pandas.pydata.org/pandas-docs/stable/user_guide/indexing.html#returning-a-view-versus-a-copy\n",
            "  downcast=downcast,\n"
          ]
        },
        {
          "name": "stdout",
          "output_type": "stream",
          "text": [
            "PunjabiBagh=531.35\n"
          ]
        },
        {
          "name": "stderr",
          "output_type": "stream",
          "text": [
            "/usr/local/lib/python3.7/dist-packages/pandas/core/series.py:4536: SettingWithCopyWarning: \n",
            "A value is trying to be set on a copy of a slice from a DataFrame\n",
            "\n",
            "See the caveats in the documentation: https://pandas.pydata.org/pandas-docs/stable/user_guide/indexing.html#returning-a-view-versus-a-copy\n",
            "  downcast=downcast,\n"
          ]
        },
        {
          "name": "stdout",
          "output_type": "stream",
          "text": [
            "Pusa=563.19\n"
          ]
        },
        {
          "name": "stderr",
          "output_type": "stream",
          "text": [
            "/usr/local/lib/python3.7/dist-packages/pandas/core/series.py:4536: SettingWithCopyWarning: \n",
            "A value is trying to be set on a copy of a slice from a DataFrame\n",
            "\n",
            "See the caveats in the documentation: https://pandas.pydata.org/pandas-docs/stable/user_guide/indexing.html#returning-a-view-versus-a-copy\n",
            "  downcast=downcast,\n"
          ]
        },
        {
          "name": "stdout",
          "output_type": "stream",
          "text": [
            "RKPuram=486.14\n"
          ]
        },
        {
          "name": "stderr",
          "output_type": "stream",
          "text": [
            "/usr/local/lib/python3.7/dist-packages/pandas/core/series.py:4536: SettingWithCopyWarning: \n",
            "A value is trying to be set on a copy of a slice from a DataFrame\n",
            "\n",
            "See the caveats in the documentation: https://pandas.pydata.org/pandas-docs/stable/user_guide/indexing.html#returning-a-view-versus-a-copy\n",
            "  downcast=downcast,\n"
          ]
        },
        {
          "name": "stdout",
          "output_type": "stream",
          "text": [
            "Rohini=434.84\n"
          ]
        },
        {
          "name": "stderr",
          "output_type": "stream",
          "text": [
            "/usr/local/lib/python3.7/dist-packages/pandas/core/series.py:4536: SettingWithCopyWarning: \n",
            "A value is trying to be set on a copy of a slice from a DataFrame\n",
            "\n",
            "See the caveats in the documentation: https://pandas.pydata.org/pandas-docs/stable/user_guide/indexing.html#returning-a-view-versus-a-copy\n",
            "  downcast=downcast,\n"
          ]
        },
        {
          "name": "stdout",
          "output_type": "stream",
          "text": [
            "Shadipur=544.03\n"
          ]
        },
        {
          "name": "stderr",
          "output_type": "stream",
          "text": [
            "/usr/local/lib/python3.7/dist-packages/pandas/core/series.py:4536: SettingWithCopyWarning: \n",
            "A value is trying to be set on a copy of a slice from a DataFrame\n",
            "\n",
            "See the caveats in the documentation: https://pandas.pydata.org/pandas-docs/stable/user_guide/indexing.html#returning-a-view-versus-a-copy\n",
            "  downcast=downcast,\n"
          ]
        },
        {
          "name": "stdout",
          "output_type": "stream",
          "text": [
            "Sirifort=511.66\n"
          ]
        },
        {
          "name": "stderr",
          "output_type": "stream",
          "text": [
            "/usr/local/lib/python3.7/dist-packages/pandas/core/series.py:4536: SettingWithCopyWarning: \n",
            "A value is trying to be set on a copy of a slice from a DataFrame\n",
            "\n",
            "See the caveats in the documentation: https://pandas.pydata.org/pandas-docs/stable/user_guide/indexing.html#returning-a-view-versus-a-copy\n",
            "  downcast=downcast,\n"
          ]
        },
        {
          "name": "stdout",
          "output_type": "stream",
          "text": [
            "SoniaVihar=444.25\n"
          ]
        },
        {
          "name": "stderr",
          "output_type": "stream",
          "text": [
            "/usr/local/lib/python3.7/dist-packages/pandas/core/series.py:4536: SettingWithCopyWarning: \n",
            "A value is trying to be set on a copy of a slice from a DataFrame\n",
            "\n",
            "See the caveats in the documentation: https://pandas.pydata.org/pandas-docs/stable/user_guide/indexing.html#returning-a-view-versus-a-copy\n",
            "  downcast=downcast,\n"
          ]
        },
        {
          "name": "stdout",
          "output_type": "stream",
          "text": [
            "SriAurobindoMarg=585.84\n"
          ]
        },
        {
          "name": "stderr",
          "output_type": "stream",
          "text": [
            "/usr/local/lib/python3.7/dist-packages/pandas/core/series.py:4536: SettingWithCopyWarning: \n",
            "A value is trying to be set on a copy of a slice from a DataFrame\n",
            "\n",
            "See the caveats in the documentation: https://pandas.pydata.org/pandas-docs/stable/user_guide/indexing.html#returning-a-view-versus-a-copy\n",
            "  downcast=downcast,\n"
          ]
        },
        {
          "name": "stdout",
          "output_type": "stream",
          "text": [
            "VivekVihar=530.45\n"
          ]
        },
        {
          "name": "stderr",
          "output_type": "stream",
          "text": [
            "/usr/local/lib/python3.7/dist-packages/pandas/core/series.py:4536: SettingWithCopyWarning: \n",
            "A value is trying to be set on a copy of a slice from a DataFrame\n",
            "\n",
            "See the caveats in the documentation: https://pandas.pydata.org/pandas-docs/stable/user_guide/indexing.html#returning-a-view-versus-a-copy\n",
            "  downcast=downcast,\n"
          ]
        },
        {
          "name": "stdout",
          "output_type": "stream",
          "text": [
            "Wazirpur=469.27\n"
          ]
        }
      ],
      "source": [
        "result_mape = {k:[] for k in [1,6,12,18,24]}\n",
        "result_mae = {k:[] for k in [1,6,12,18,24]}\n",
        "result_rmse = {k:[] for k in [1,6,12,18,24]}\n",
        "\n",
        "for sensor in sensors:\n",
        "    \n",
        "    start = time.time()\n",
        "    \n",
        "    df_temp = df.loc[:,[i for i in df.columns.tolist() if i.endswith(sensor)]]\n",
        "    \n",
        "    for col in ['aqi','at','rh','ws','wd']: \n",
        "        for j in range(1,24):\n",
        "            df_temp['p{}_{}'.format(j,col)] = df_temp[col + '_%s' % sensor]\n",
        "            df_temp['p{}_{}'.format(j,col)] = df_temp['p{}_{}'.format(j,col)].shift(j)\n",
        "\n",
        "    for j in [1,6,12,18,24]:\n",
        "        df_temp['hz{}'.format(j)] = df_temp['aqi_%s' % sensor]\n",
        "        df_temp['hz{}'.format(j)] = df_temp['hz{}'.format(j)].shift(-j)\n",
        "    \n",
        "    y_cols = [i for i in df_temp.columns.tolist() if i.startswith('hz')]\n",
        "    x_cols = [i for i in df_temp.columns.tolist() if i.startswith('hz')==False]\n",
        "    \n",
        "    X = df_temp.loc[:,x_cols]    \n",
        "    y = df_temp.loc[:,y_cols]\n",
        "    \n",
        "    X_train = X.loc[:pd.Timestamp('2019-12-31 23:00:00'),:]\n",
        "    y_train = y.loc[:pd.Timestamp('2019-12-31 23:00:00'),:]\n",
        "    X_test = X.loc[pd.Timestamp('2020-01-01 00:00:00'):,:]\n",
        "    y_test = y.loc[pd.Timestamp('2020-01-01 00:00:00'):,:]\n",
        "    \n",
        "    #nik\n",
        "    train = pd.concat([X_train,y_train],axis=1)\n",
        "    train.dropna(axis=0,how='any',inplace=True)\n",
        "    X_train = train.loc[:,x_cols]\n",
        "    y_train = train.loc[:,y_cols]\n",
        "    \n",
        "    #nik\n",
        "    X_test.fillna(X_test.mean(),inplace=True)\n",
        "\n",
        "    model = RandomForestRegressor(n_estimators=600)\n",
        "    model.fit(X_train,y_train)\n",
        "    \n",
        "    predictions = model.predict(X_test)\n",
        "    actual = np.array(y_test)\n",
        "    \n",
        "    j=0\n",
        "    for i in [1,6,12,18,24]:\n",
        "        pred[i].append(predictions[:,j].tolist())\n",
        "        gt[i].append(actual[:,j].tolist())\n",
        "        j = j + 1\n",
        "        \n",
        "    end = time.time()\n",
        "    \n",
        "    print(sensor+'='+str(np.round(end-start,2)))"
      ]
    },
    {
      "cell_type": "code",
      "execution_count": null,
      "metadata": {
        "colab": {
          "base_uri": "https://localhost:8080/"
        },
        "id": "IAmcdhOdPBoP",
        "outputId": "199259e2-2f11-4ebc-d1e1-bceb939e4ecd"
      },
      "outputs": [
        {
          "name": "stdout",
          "output_type": "stream",
          "text": [
            "20.68\n",
            "39.2\n",
            "2.52\n",
            "46.68\n",
            "73.5\n",
            "4.63\n",
            "57.31\n",
            "85.8\n",
            "5.81\n",
            "61.66\n",
            "92.76\n",
            "6.29\n",
            "64.76\n",
            "98.27\n",
            "6.65\n"
          ]
        }
      ],
      "source": [
        "result_mape = {k:[] for k in [1,6,12,18,24]}\n",
        "result_mae = {k:[] for k in [1,6,12,18,24]}\n",
        "result_rmse = {k:[] for k in [1,6,12,18,24]}\n",
        "\n",
        "for i in gt.keys():\n",
        "    res = calculate_metrics(pd.DataFrame(np.array(pred[i]).T),pd.DataFrame(np.array(gt[i]).T),np.nan)\n",
        "    result_mape[i] = res[1]\n",
        "    result_mae[i]= res[0]\n",
        "    result_rmse[i]= res[2]\n",
        "\n",
        "final_dict = {k:[] for k in [1,6,12,18,24]}\n",
        "for i in [1,6,12,18,24]:\n",
        "    final_dict[i].append(np.round(result_mae[i],2))\n",
        "    final_dict[i].append(np.round(result_rmse[i],2))\n",
        "    final_dict[i].append(np.round(result_mape[i],2))\n",
        "\n",
        "for i in [1,6,12,18,24]:\n",
        "    for j in final_dict[i]:\n",
        "        print(j)"
      ]
    },
    {
      "cell_type": "markdown",
      "metadata": {
        "id": "atr081ITvBqR"
      },
      "source": [
        "#Spatial Model"
      ]
    },
    {
      "cell_type": "code",
      "execution_count": null,
      "metadata": {
        "id": "bKLlAgurvL0s"
      },
      "outputs": [],
      "source": [
        "import numpy as np\n",
        "import pandas as pd\n",
        "import time\n",
        "from sklearn.model_selection import GridSearchCV\n",
        "from sklearn.linear_model import LinearRegression, RidgeCV, MultiTaskLassoCV, LassoCV\n",
        "from sklearn.metrics import mean_squared_error\n",
        "from sklearn.ensemble import RandomForestRegressor\n",
        "from sklearn.svm import SVR\n",
        "from sklearn.multioutput import MultiOutputRegressor\n",
        "from sklearn.ensemble import GradientBoostingRegressor\n",
        "from sklearn.tree import DecisionTreeRegressor\n",
        "import lightgbm as lgb\n",
        "import tensorflow as tf\n",
        "from sklearn.neural_network import MLPRegressor"
      ]
    },
    {
      "cell_type": "code",
      "execution_count": null,
      "metadata": {
        "colab": {
          "base_uri": "https://localhost:8080/"
        },
        "id": "vkGXvQyzvrNY",
        "outputId": "429f01d1-5cab-43b0-c363-1525d78571f2"
      },
      "outputs": [
        {
          "name": "stderr",
          "output_type": "stream",
          "text": [
            "/usr/local/lib/python3.7/dist-packages/pandas/core/series.py:4536: SettingWithCopyWarning: \n",
            "A value is trying to be set on a copy of a slice from a DataFrame\n",
            "\n",
            "See the caveats in the documentation: https://pandas.pydata.org/pandas-docs/stable/user_guide/indexing.html#returning-a-view-versus-a-copy\n",
            "  downcast=downcast,\n"
          ]
        },
        {
          "name": "stdout",
          "output_type": "stream",
          "text": [
            "Alipur=46.67\n"
          ]
        },
        {
          "name": "stderr",
          "output_type": "stream",
          "text": [
            "/usr/local/lib/python3.7/dist-packages/pandas/core/series.py:4536: SettingWithCopyWarning: \n",
            "A value is trying to be set on a copy of a slice from a DataFrame\n",
            "\n",
            "See the caveats in the documentation: https://pandas.pydata.org/pandas-docs/stable/user_guide/indexing.html#returning-a-view-versus-a-copy\n",
            "  downcast=downcast,\n",
            "/usr/local/lib/python3.7/dist-packages/sklearn/neural_network/_multilayer_perceptron.py:696: ConvergenceWarning: Stochastic Optimizer: Maximum iterations (250) reached and the optimization hasn't converged yet.\n",
            "  ConvergenceWarning,\n"
          ]
        },
        {
          "name": "stdout",
          "output_type": "stream",
          "text": [
            "AnandVihar=51.14\n"
          ]
        },
        {
          "name": "stderr",
          "output_type": "stream",
          "text": [
            "/usr/local/lib/python3.7/dist-packages/pandas/core/series.py:4536: SettingWithCopyWarning: \n",
            "A value is trying to be set on a copy of a slice from a DataFrame\n",
            "\n",
            "See the caveats in the documentation: https://pandas.pydata.org/pandas-docs/stable/user_guide/indexing.html#returning-a-view-versus-a-copy\n",
            "  downcast=downcast,\n",
            "/usr/local/lib/python3.7/dist-packages/sklearn/neural_network/_multilayer_perceptron.py:696: ConvergenceWarning: Stochastic Optimizer: Maximum iterations (250) reached and the optimization hasn't converged yet.\n",
            "  ConvergenceWarning,\n"
          ]
        },
        {
          "name": "stdout",
          "output_type": "stream",
          "text": [
            "AshokVihar=48.74\n"
          ]
        },
        {
          "name": "stderr",
          "output_type": "stream",
          "text": [
            "/usr/local/lib/python3.7/dist-packages/pandas/core/series.py:4536: SettingWithCopyWarning: \n",
            "A value is trying to be set on a copy of a slice from a DataFrame\n",
            "\n",
            "See the caveats in the documentation: https://pandas.pydata.org/pandas-docs/stable/user_guide/indexing.html#returning-a-view-versus-a-copy\n",
            "  downcast=downcast,\n",
            "/usr/local/lib/python3.7/dist-packages/sklearn/neural_network/_multilayer_perceptron.py:696: ConvergenceWarning: Stochastic Optimizer: Maximum iterations (250) reached and the optimization hasn't converged yet.\n",
            "  ConvergenceWarning,\n"
          ]
        },
        {
          "name": "stdout",
          "output_type": "stream",
          "text": [
            "Bawana=48.8\n"
          ]
        },
        {
          "name": "stderr",
          "output_type": "stream",
          "text": [
            "/usr/local/lib/python3.7/dist-packages/pandas/core/series.py:4536: SettingWithCopyWarning: \n",
            "A value is trying to be set on a copy of a slice from a DataFrame\n",
            "\n",
            "See the caveats in the documentation: https://pandas.pydata.org/pandas-docs/stable/user_guide/indexing.html#returning-a-view-versus-a-copy\n",
            "  downcast=downcast,\n",
            "/usr/local/lib/python3.7/dist-packages/sklearn/neural_network/_multilayer_perceptron.py:696: ConvergenceWarning: Stochastic Optimizer: Maximum iterations (250) reached and the optimization hasn't converged yet.\n",
            "  ConvergenceWarning,\n"
          ]
        },
        {
          "name": "stdout",
          "output_type": "stream",
          "text": [
            "DrKarniShootingRange=48.44\n"
          ]
        },
        {
          "name": "stderr",
          "output_type": "stream",
          "text": [
            "/usr/local/lib/python3.7/dist-packages/pandas/core/series.py:4536: SettingWithCopyWarning: \n",
            "A value is trying to be set on a copy of a slice from a DataFrame\n",
            "\n",
            "See the caveats in the documentation: https://pandas.pydata.org/pandas-docs/stable/user_guide/indexing.html#returning-a-view-versus-a-copy\n",
            "  downcast=downcast,\n",
            "/usr/local/lib/python3.7/dist-packages/sklearn/neural_network/_multilayer_perceptron.py:696: ConvergenceWarning: Stochastic Optimizer: Maximum iterations (250) reached and the optimization hasn't converged yet.\n",
            "  ConvergenceWarning,\n"
          ]
        },
        {
          "name": "stdout",
          "output_type": "stream",
          "text": [
            "DTU=48.62\n"
          ]
        },
        {
          "name": "stderr",
          "output_type": "stream",
          "text": [
            "/usr/local/lib/python3.7/dist-packages/pandas/core/series.py:4536: SettingWithCopyWarning: \n",
            "A value is trying to be set on a copy of a slice from a DataFrame\n",
            "\n",
            "See the caveats in the documentation: https://pandas.pydata.org/pandas-docs/stable/user_guide/indexing.html#returning-a-view-versus-a-copy\n",
            "  downcast=downcast,\n",
            "/usr/local/lib/python3.7/dist-packages/sklearn/neural_network/_multilayer_perceptron.py:696: ConvergenceWarning: Stochastic Optimizer: Maximum iterations (250) reached and the optimization hasn't converged yet.\n",
            "  ConvergenceWarning,\n"
          ]
        },
        {
          "name": "stdout",
          "output_type": "stream",
          "text": [
            "DwarkaSector8=51.37\n"
          ]
        },
        {
          "name": "stderr",
          "output_type": "stream",
          "text": [
            "/usr/local/lib/python3.7/dist-packages/pandas/core/series.py:4536: SettingWithCopyWarning: \n",
            "A value is trying to be set on a copy of a slice from a DataFrame\n",
            "\n",
            "See the caveats in the documentation: https://pandas.pydata.org/pandas-docs/stable/user_guide/indexing.html#returning-a-view-versus-a-copy\n",
            "  downcast=downcast,\n",
            "/usr/local/lib/python3.7/dist-packages/sklearn/neural_network/_multilayer_perceptron.py:696: ConvergenceWarning: Stochastic Optimizer: Maximum iterations (250) reached and the optimization hasn't converged yet.\n",
            "  ConvergenceWarning,\n"
          ]
        },
        {
          "name": "stdout",
          "output_type": "stream",
          "text": [
            "IHBASDilshadGarden=50.3\n"
          ]
        },
        {
          "name": "stderr",
          "output_type": "stream",
          "text": [
            "/usr/local/lib/python3.7/dist-packages/pandas/core/series.py:4536: SettingWithCopyWarning: \n",
            "A value is trying to be set on a copy of a slice from a DataFrame\n",
            "\n",
            "See the caveats in the documentation: https://pandas.pydata.org/pandas-docs/stable/user_guide/indexing.html#returning-a-view-versus-a-copy\n",
            "  downcast=downcast,\n",
            "/usr/local/lib/python3.7/dist-packages/sklearn/neural_network/_multilayer_perceptron.py:696: ConvergenceWarning: Stochastic Optimizer: Maximum iterations (250) reached and the optimization hasn't converged yet.\n",
            "  ConvergenceWarning,\n"
          ]
        },
        {
          "name": "stdout",
          "output_type": "stream",
          "text": [
            "Jahangirpuri=48.45\n"
          ]
        },
        {
          "name": "stderr",
          "output_type": "stream",
          "text": [
            "/usr/local/lib/python3.7/dist-packages/pandas/core/series.py:4536: SettingWithCopyWarning: \n",
            "A value is trying to be set on a copy of a slice from a DataFrame\n",
            "\n",
            "See the caveats in the documentation: https://pandas.pydata.org/pandas-docs/stable/user_guide/indexing.html#returning-a-view-versus-a-copy\n",
            "  downcast=downcast,\n"
          ]
        },
        {
          "name": "stdout",
          "output_type": "stream",
          "text": [
            "JawaharlalNehruStadium=47.76\n"
          ]
        },
        {
          "name": "stderr",
          "output_type": "stream",
          "text": [
            "/usr/local/lib/python3.7/dist-packages/pandas/core/series.py:4536: SettingWithCopyWarning: \n",
            "A value is trying to be set on a copy of a slice from a DataFrame\n",
            "\n",
            "See the caveats in the documentation: https://pandas.pydata.org/pandas-docs/stable/user_guide/indexing.html#returning-a-view-versus-a-copy\n",
            "  downcast=downcast,\n",
            "/usr/local/lib/python3.7/dist-packages/sklearn/neural_network/_multilayer_perceptron.py:696: ConvergenceWarning: Stochastic Optimizer: Maximum iterations (250) reached and the optimization hasn't converged yet.\n",
            "  ConvergenceWarning,\n"
          ]
        },
        {
          "name": "stdout",
          "output_type": "stream",
          "text": [
            "MajorDhyanChandNationalStadium=50.06\n"
          ]
        },
        {
          "name": "stderr",
          "output_type": "stream",
          "text": [
            "/usr/local/lib/python3.7/dist-packages/pandas/core/series.py:4536: SettingWithCopyWarning: \n",
            "A value is trying to be set on a copy of a slice from a DataFrame\n",
            "\n",
            "See the caveats in the documentation: https://pandas.pydata.org/pandas-docs/stable/user_guide/indexing.html#returning-a-view-versus-a-copy\n",
            "  downcast=downcast,\n",
            "/usr/local/lib/python3.7/dist-packages/sklearn/neural_network/_multilayer_perceptron.py:696: ConvergenceWarning: Stochastic Optimizer: Maximum iterations (250) reached and the optimization hasn't converged yet.\n",
            "  ConvergenceWarning,\n"
          ]
        },
        {
          "name": "stdout",
          "output_type": "stream",
          "text": [
            "MandirMarg=48.35\n"
          ]
        },
        {
          "name": "stderr",
          "output_type": "stream",
          "text": [
            "/usr/local/lib/python3.7/dist-packages/pandas/core/series.py:4536: SettingWithCopyWarning: \n",
            "A value is trying to be set on a copy of a slice from a DataFrame\n",
            "\n",
            "See the caveats in the documentation: https://pandas.pydata.org/pandas-docs/stable/user_guide/indexing.html#returning-a-view-versus-a-copy\n",
            "  downcast=downcast,\n",
            "/usr/local/lib/python3.7/dist-packages/sklearn/neural_network/_multilayer_perceptron.py:696: ConvergenceWarning: Stochastic Optimizer: Maximum iterations (250) reached and the optimization hasn't converged yet.\n",
            "  ConvergenceWarning,\n"
          ]
        },
        {
          "name": "stdout",
          "output_type": "stream",
          "text": [
            "Mundka=49.17\n"
          ]
        },
        {
          "name": "stderr",
          "output_type": "stream",
          "text": [
            "/usr/local/lib/python3.7/dist-packages/pandas/core/series.py:4536: SettingWithCopyWarning: \n",
            "A value is trying to be set on a copy of a slice from a DataFrame\n",
            "\n",
            "See the caveats in the documentation: https://pandas.pydata.org/pandas-docs/stable/user_guide/indexing.html#returning-a-view-versus-a-copy\n",
            "  downcast=downcast,\n",
            "/usr/local/lib/python3.7/dist-packages/sklearn/neural_network/_multilayer_perceptron.py:696: ConvergenceWarning: Stochastic Optimizer: Maximum iterations (250) reached and the optimization hasn't converged yet.\n",
            "  ConvergenceWarning,\n"
          ]
        },
        {
          "name": "stdout",
          "output_type": "stream",
          "text": [
            "Najafnagar=51.56\n"
          ]
        },
        {
          "name": "stderr",
          "output_type": "stream",
          "text": [
            "/usr/local/lib/python3.7/dist-packages/pandas/core/series.py:4536: SettingWithCopyWarning: \n",
            "A value is trying to be set on a copy of a slice from a DataFrame\n",
            "\n",
            "See the caveats in the documentation: https://pandas.pydata.org/pandas-docs/stable/user_guide/indexing.html#returning-a-view-versus-a-copy\n",
            "  downcast=downcast,\n"
          ]
        },
        {
          "name": "stdout",
          "output_type": "stream",
          "text": [
            "Narela=45.92\n"
          ]
        },
        {
          "name": "stderr",
          "output_type": "stream",
          "text": [
            "/usr/local/lib/python3.7/dist-packages/pandas/core/series.py:4536: SettingWithCopyWarning: \n",
            "A value is trying to be set on a copy of a slice from a DataFrame\n",
            "\n",
            "See the caveats in the documentation: https://pandas.pydata.org/pandas-docs/stable/user_guide/indexing.html#returning-a-view-versus-a-copy\n",
            "  downcast=downcast,\n",
            "/usr/local/lib/python3.7/dist-packages/sklearn/neural_network/_multilayer_perceptron.py:696: ConvergenceWarning: Stochastic Optimizer: Maximum iterations (250) reached and the optimization hasn't converged yet.\n",
            "  ConvergenceWarning,\n"
          ]
        },
        {
          "name": "stdout",
          "output_type": "stream",
          "text": [
            "NehruNagar=52.03\n"
          ]
        },
        {
          "name": "stderr",
          "output_type": "stream",
          "text": [
            "/usr/local/lib/python3.7/dist-packages/pandas/core/series.py:4536: SettingWithCopyWarning: \n",
            "A value is trying to be set on a copy of a slice from a DataFrame\n",
            "\n",
            "See the caveats in the documentation: https://pandas.pydata.org/pandas-docs/stable/user_guide/indexing.html#returning-a-view-versus-a-copy\n",
            "  downcast=downcast,\n",
            "/usr/local/lib/python3.7/dist-packages/sklearn/neural_network/_multilayer_perceptron.py:696: ConvergenceWarning: Stochastic Optimizer: Maximum iterations (250) reached and the optimization hasn't converged yet.\n",
            "  ConvergenceWarning,\n"
          ]
        },
        {
          "name": "stdout",
          "output_type": "stream",
          "text": [
            "OkhlaPhase2=49.82\n"
          ]
        },
        {
          "name": "stderr",
          "output_type": "stream",
          "text": [
            "/usr/local/lib/python3.7/dist-packages/pandas/core/series.py:4536: SettingWithCopyWarning: \n",
            "A value is trying to be set on a copy of a slice from a DataFrame\n",
            "\n",
            "See the caveats in the documentation: https://pandas.pydata.org/pandas-docs/stable/user_guide/indexing.html#returning-a-view-versus-a-copy\n",
            "  downcast=downcast,\n"
          ]
        },
        {
          "name": "stdout",
          "output_type": "stream",
          "text": [
            "Patparganj=45.58\n"
          ]
        },
        {
          "name": "stderr",
          "output_type": "stream",
          "text": [
            "/usr/local/lib/python3.7/dist-packages/pandas/core/series.py:4536: SettingWithCopyWarning: \n",
            "A value is trying to be set on a copy of a slice from a DataFrame\n",
            "\n",
            "See the caveats in the documentation: https://pandas.pydata.org/pandas-docs/stable/user_guide/indexing.html#returning-a-view-versus-a-copy\n",
            "  downcast=downcast,\n",
            "/usr/local/lib/python3.7/dist-packages/sklearn/neural_network/_multilayer_perceptron.py:696: ConvergenceWarning: Stochastic Optimizer: Maximum iterations (250) reached and the optimization hasn't converged yet.\n",
            "  ConvergenceWarning,\n"
          ]
        },
        {
          "name": "stdout",
          "output_type": "stream",
          "text": [
            "PunjabiBagh=48.19\n"
          ]
        },
        {
          "name": "stderr",
          "output_type": "stream",
          "text": [
            "/usr/local/lib/python3.7/dist-packages/pandas/core/series.py:4536: SettingWithCopyWarning: \n",
            "A value is trying to be set on a copy of a slice from a DataFrame\n",
            "\n",
            "See the caveats in the documentation: https://pandas.pydata.org/pandas-docs/stable/user_guide/indexing.html#returning-a-view-versus-a-copy\n",
            "  downcast=downcast,\n",
            "/usr/local/lib/python3.7/dist-packages/sklearn/neural_network/_multilayer_perceptron.py:696: ConvergenceWarning: Stochastic Optimizer: Maximum iterations (250) reached and the optimization hasn't converged yet.\n",
            "  ConvergenceWarning,\n"
          ]
        },
        {
          "name": "stdout",
          "output_type": "stream",
          "text": [
            "Pusa=49.66\n"
          ]
        },
        {
          "name": "stderr",
          "output_type": "stream",
          "text": [
            "/usr/local/lib/python3.7/dist-packages/pandas/core/series.py:4536: SettingWithCopyWarning: \n",
            "A value is trying to be set on a copy of a slice from a DataFrame\n",
            "\n",
            "See the caveats in the documentation: https://pandas.pydata.org/pandas-docs/stable/user_guide/indexing.html#returning-a-view-versus-a-copy\n",
            "  downcast=downcast,\n",
            "/usr/local/lib/python3.7/dist-packages/sklearn/neural_network/_multilayer_perceptron.py:696: ConvergenceWarning: Stochastic Optimizer: Maximum iterations (250) reached and the optimization hasn't converged yet.\n",
            "  ConvergenceWarning,\n"
          ]
        },
        {
          "name": "stdout",
          "output_type": "stream",
          "text": [
            "RKPuram=49.73\n"
          ]
        },
        {
          "name": "stderr",
          "output_type": "stream",
          "text": [
            "/usr/local/lib/python3.7/dist-packages/pandas/core/series.py:4536: SettingWithCopyWarning: \n",
            "A value is trying to be set on a copy of a slice from a DataFrame\n",
            "\n",
            "See the caveats in the documentation: https://pandas.pydata.org/pandas-docs/stable/user_guide/indexing.html#returning-a-view-versus-a-copy\n",
            "  downcast=downcast,\n",
            "/usr/local/lib/python3.7/dist-packages/sklearn/neural_network/_multilayer_perceptron.py:696: ConvergenceWarning: Stochastic Optimizer: Maximum iterations (250) reached and the optimization hasn't converged yet.\n",
            "  ConvergenceWarning,\n"
          ]
        },
        {
          "name": "stdout",
          "output_type": "stream",
          "text": [
            "Rohini=53.53\n"
          ]
        },
        {
          "name": "stderr",
          "output_type": "stream",
          "text": [
            "/usr/local/lib/python3.7/dist-packages/pandas/core/series.py:4536: SettingWithCopyWarning: \n",
            "A value is trying to be set on a copy of a slice from a DataFrame\n",
            "\n",
            "See the caveats in the documentation: https://pandas.pydata.org/pandas-docs/stable/user_guide/indexing.html#returning-a-view-versus-a-copy\n",
            "  downcast=downcast,\n",
            "/usr/local/lib/python3.7/dist-packages/sklearn/neural_network/_multilayer_perceptron.py:696: ConvergenceWarning: Stochastic Optimizer: Maximum iterations (250) reached and the optimization hasn't converged yet.\n",
            "  ConvergenceWarning,\n"
          ]
        },
        {
          "name": "stdout",
          "output_type": "stream",
          "text": [
            "Shadipur=50.37\n"
          ]
        },
        {
          "name": "stderr",
          "output_type": "stream",
          "text": [
            "/usr/local/lib/python3.7/dist-packages/pandas/core/series.py:4536: SettingWithCopyWarning: \n",
            "A value is trying to be set on a copy of a slice from a DataFrame\n",
            "\n",
            "See the caveats in the documentation: https://pandas.pydata.org/pandas-docs/stable/user_guide/indexing.html#returning-a-view-versus-a-copy\n",
            "  downcast=downcast,\n"
          ]
        },
        {
          "name": "stdout",
          "output_type": "stream",
          "text": [
            "Sirifort=50.48\n"
          ]
        },
        {
          "name": "stderr",
          "output_type": "stream",
          "text": [
            "/usr/local/lib/python3.7/dist-packages/pandas/core/series.py:4536: SettingWithCopyWarning: \n",
            "A value is trying to be set on a copy of a slice from a DataFrame\n",
            "\n",
            "See the caveats in the documentation: https://pandas.pydata.org/pandas-docs/stable/user_guide/indexing.html#returning-a-view-versus-a-copy\n",
            "  downcast=downcast,\n",
            "/usr/local/lib/python3.7/dist-packages/sklearn/neural_network/_multilayer_perceptron.py:696: ConvergenceWarning: Stochastic Optimizer: Maximum iterations (250) reached and the optimization hasn't converged yet.\n",
            "  ConvergenceWarning,\n"
          ]
        },
        {
          "name": "stdout",
          "output_type": "stream",
          "text": [
            "SoniaVihar=50.23\n"
          ]
        },
        {
          "name": "stderr",
          "output_type": "stream",
          "text": [
            "/usr/local/lib/python3.7/dist-packages/pandas/core/series.py:4536: SettingWithCopyWarning: \n",
            "A value is trying to be set on a copy of a slice from a DataFrame\n",
            "\n",
            "See the caveats in the documentation: https://pandas.pydata.org/pandas-docs/stable/user_guide/indexing.html#returning-a-view-versus-a-copy\n",
            "  downcast=downcast,\n",
            "/usr/local/lib/python3.7/dist-packages/sklearn/neural_network/_multilayer_perceptron.py:696: ConvergenceWarning: Stochastic Optimizer: Maximum iterations (250) reached and the optimization hasn't converged yet.\n",
            "  ConvergenceWarning,\n"
          ]
        },
        {
          "name": "stdout",
          "output_type": "stream",
          "text": [
            "SriAurobindoMarg=51.23\n"
          ]
        },
        {
          "name": "stderr",
          "output_type": "stream",
          "text": [
            "/usr/local/lib/python3.7/dist-packages/pandas/core/series.py:4536: SettingWithCopyWarning: \n",
            "A value is trying to be set on a copy of a slice from a DataFrame\n",
            "\n",
            "See the caveats in the documentation: https://pandas.pydata.org/pandas-docs/stable/user_guide/indexing.html#returning-a-view-versus-a-copy\n",
            "  downcast=downcast,\n",
            "/usr/local/lib/python3.7/dist-packages/sklearn/neural_network/_multilayer_perceptron.py:696: ConvergenceWarning: Stochastic Optimizer: Maximum iterations (250) reached and the optimization hasn't converged yet.\n",
            "  ConvergenceWarning,\n"
          ]
        },
        {
          "name": "stdout",
          "output_type": "stream",
          "text": [
            "VivekVihar=49.68\n"
          ]
        },
        {
          "name": "stderr",
          "output_type": "stream",
          "text": [
            "/usr/local/lib/python3.7/dist-packages/pandas/core/series.py:4536: SettingWithCopyWarning: \n",
            "A value is trying to be set on a copy of a slice from a DataFrame\n",
            "\n",
            "See the caveats in the documentation: https://pandas.pydata.org/pandas-docs/stable/user_guide/indexing.html#returning-a-view-versus-a-copy\n",
            "  downcast=downcast,\n"
          ]
        },
        {
          "name": "stdout",
          "output_type": "stream",
          "text": [
            "Wazirpur=48.35\n"
          ]
        },
        {
          "name": "stderr",
          "output_type": "stream",
          "text": [
            "/usr/local/lib/python3.7/dist-packages/sklearn/neural_network/_multilayer_perceptron.py:696: ConvergenceWarning: Stochastic Optimizer: Maximum iterations (250) reached and the optimization hasn't converged yet.\n",
            "  ConvergenceWarning,\n"
          ]
        }
      ],
      "source": [
        "pred_ann = {k:[] for k in range(1,13)}\n",
        "gt = {k:[] for k in range(1,13)}\n",
        "\n",
        "for sensor in sensors:\n",
        "    \n",
        "    start = time.time()\n",
        "    \n",
        "    #current AQI and Weather data\n",
        "    df_temp = df.loc[:,[i for i in df.columns.tolist()]]\n",
        "    \n",
        "    #next 48 hour prediction\n",
        "    for j in range(1,49):\n",
        "        df_temp['hz{}'.format(j)] = df_temp['aqi_%s' % sensor]\n",
        "        df_temp['hz{}'.format(j)] = df_temp['hz{}'.format(j)].shift(-j)\n",
        "        \n",
        "    df_temp['hz7_12_min'] = df_temp[['hz{}'.format(i) for i in range(7,13)]].min(1)\n",
        "    df_temp['hz7_12_max'] = df_temp[['hz{}'.format(i) for i in range(7,13)]].max(1)\n",
        "    \n",
        "    df_temp['hz13_24_min'] = df_temp[['hz{}'.format(i) for i in range(13,25)]].min(1)\n",
        "    df_temp['hz13_24_max'] = df_temp[['hz{}'.format(i) for i in range(13,25)]].max(1)\n",
        "    \n",
        "    df_temp['hz25_48_min'] = df_temp[['hz{}'.format(i) for i in range(25,49)]].min(1)\n",
        "    df_temp['hz25_48_max'] = df_temp[['hz{}'.format(i) for i in range(25,49)]].max(1)\n",
        "    \n",
        "    df_temp.drop(columns=['hz{}'.format(i) for i in range(7,49)],axis=1,inplace=True)\n",
        "    \n",
        "    df_temp.drop(columns=[col for col in df_temp if col.endswith(sensor)],axis=1,inplace=True)\n",
        "    \n",
        "    #past 12 hours AQI data\n",
        "    sensors1 = [s for s in sensors if s!= sensor]\n",
        "    for k in sensors1:\n",
        "        for col in ['aqi']: \n",
        "            for j in range(1,13):\n",
        "                df_temp['p{}_{}_{}'.format(j,k,col)] = df_temp[col + '_%s' % k]\n",
        "                df_temp['p{}_{}_{}'.format(j,k,col)] = df_temp['p{}_{}_{}'.format(j,k,col)].shift(j)\n",
        "    \n",
        "    y_cols = [i for i in df_temp.columns.tolist() if i.startswith('hz')]\n",
        "    x_cols = [i for i in df_temp.columns.tolist() if i.startswith('hz')==False]\n",
        "    \n",
        "    X = df_temp.loc[:,x_cols]    \n",
        "    y = df_temp.loc[:,y_cols]\n",
        "    \n",
        "    X_train = X.loc[:pd.Timestamp('2020-08-31 23:00:00'),:]\n",
        "    y_train = y.loc[:pd.Timestamp('2020-08-31 23:00:00'),:]\n",
        "    X_test = X.loc[pd.Timestamp('2020-09-01 00:00:00'):pd.Timestamp('2020-12-31 23:00:00'),:]\n",
        "    y_test = y.loc[pd.Timestamp('2020-09-01 00:00:00'):pd.Timestamp('2020-12-31 23:00:00'),:]\n",
        "    \n",
        "    train = pd.concat([X_train,y_train],axis=1)\n",
        "    train.dropna(axis=0,how='any',inplace=True)\n",
        "    X_train = train.loc[:,x_cols]\n",
        "    y_train = train.loc[:,y_cols]\n",
        "    \n",
        "    X_test.fillna(X_test.mean(),inplace=True)\n",
        "\n",
        "    model = MLPRegressor(hidden_layer_sizes=(100),max_iter=250,learning_rate='adaptive')\n",
        "    spatial_fit = model.fit(X_train,y_train)\n",
        "    \n",
        "    predictions = model.predict(X_test)\n",
        "    actual = np.array(y_test)\n",
        "    \n",
        "    j=0\n",
        "    for i in range(1,13):\n",
        "        pred_ann[i].append(predictions[:,j].tolist())\n",
        "        gt[i].append(actual[:,j].tolist())\n",
        "        j = j + 1\n",
        "        \n",
        "    end = time.time()\n",
        "    \n",
        "    print(sensor+'='+str(np.round(end-start,2)))"
      ]
    },
    {
      "cell_type": "markdown",
      "metadata": {
        "id": "SSJ9af_g2_mq"
      },
      "source": [
        "#Temporal Model"
      ]
    },
    {
      "cell_type": "code",
      "execution_count": null,
      "metadata": {
        "colab": {
          "base_uri": "https://localhost:8080/"
        },
        "id": "tqYmRWk2zFac",
        "outputId": "733196d5-8308-4485-b831-3e088d207488"
      },
      "outputs": [
        {
          "name": "stderr",
          "output_type": "stream",
          "text": [
            "/usr/local/lib/python3.7/dist-packages/pandas/core/series.py:4536: SettingWithCopyWarning: \n",
            "A value is trying to be set on a copy of a slice from a DataFrame\n",
            "\n",
            "See the caveats in the documentation: https://pandas.pydata.org/pandas-docs/stable/user_guide/indexing.html#returning-a-view-versus-a-copy\n",
            "  downcast=downcast,\n",
            "/usr/local/lib/python3.7/dist-packages/sklearn/linear_model/_coordinate_descent.py:626: ConvergenceWarning: Objective did not converge. You might want to increase the number of iterations. Duality gap: 120723.90227243304, tolerance: 79767.62626307\n",
            "  coef_, l1_reg, l2_reg, X, y, max_iter, tol, rng, random\n",
            "/usr/local/lib/python3.7/dist-packages/sklearn/linear_model/_coordinate_descent.py:626: ConvergenceWarning: Objective did not converge. You might want to increase the number of iterations. Duality gap: 450621.7230451107, tolerance: 78848.07679328733\n",
            "  coef_, l1_reg, l2_reg, X, y, max_iter, tol, rng, random\n",
            "/usr/local/lib/python3.7/dist-packages/sklearn/linear_model/_coordinate_descent.py:626: ConvergenceWarning: Objective did not converge. You might want to increase the number of iterations. Duality gap: 1251124.725239098, tolerance: 87265.06990305112\n",
            "  coef_, l1_reg, l2_reg, X, y, max_iter, tol, rng, random\n"
          ]
        },
        {
          "name": "stdout",
          "output_type": "stream",
          "text": [
            "Alipur=106.19\n"
          ]
        },
        {
          "name": "stderr",
          "output_type": "stream",
          "text": [
            "/usr/local/lib/python3.7/dist-packages/pandas/core/series.py:4536: SettingWithCopyWarning: \n",
            "A value is trying to be set on a copy of a slice from a DataFrame\n",
            "\n",
            "See the caveats in the documentation: https://pandas.pydata.org/pandas-docs/stable/user_guide/indexing.html#returning-a-view-versus-a-copy\n",
            "  downcast=downcast,\n",
            "/usr/local/lib/python3.7/dist-packages/sklearn/linear_model/_coordinate_descent.py:626: ConvergenceWarning: Objective did not converge. You might want to increase the number of iterations. Duality gap: 4211227.583819628, tolerance: 129790.09339804521\n",
            "  coef_, l1_reg, l2_reg, X, y, max_iter, tol, rng, random\n",
            "/usr/local/lib/python3.7/dist-packages/sklearn/linear_model/_coordinate_descent.py:626: ConvergenceWarning: Objective did not converge. You might want to increase the number of iterations. Duality gap: 568251.4279938936, tolerance: 119177.51227270032\n",
            "  coef_, l1_reg, l2_reg, X, y, max_iter, tol, rng, random\n",
            "/usr/local/lib/python3.7/dist-packages/sklearn/linear_model/_coordinate_descent.py:626: ConvergenceWarning: Objective did not converge. You might want to increase the number of iterations. Duality gap: 54262395.2539894, tolerance: 119177.51227270032\n",
            "  coef_, l1_reg, l2_reg, X, y, max_iter, tol, rng, random\n",
            "/usr/local/lib/python3.7/dist-packages/sklearn/linear_model/_coordinate_descent.py:626: ConvergenceWarning: Objective did not converge. You might want to increase the number of iterations. Duality gap: 12356809.268585622, tolerance: 145213.0102825723\n",
            "  coef_, l1_reg, l2_reg, X, y, max_iter, tol, rng, random\n"
          ]
        },
        {
          "name": "stdout",
          "output_type": "stream",
          "text": [
            "AnandVihar=103.31\n"
          ]
        },
        {
          "name": "stderr",
          "output_type": "stream",
          "text": [
            "/usr/local/lib/python3.7/dist-packages/pandas/core/series.py:4536: SettingWithCopyWarning: \n",
            "A value is trying to be set on a copy of a slice from a DataFrame\n",
            "\n",
            "See the caveats in the documentation: https://pandas.pydata.org/pandas-docs/stable/user_guide/indexing.html#returning-a-view-versus-a-copy\n",
            "  downcast=downcast,\n",
            "/usr/local/lib/python3.7/dist-packages/sklearn/linear_model/_coordinate_descent.py:626: ConvergenceWarning: Objective did not converge. You might want to increase the number of iterations. Duality gap: 1157399.4256653786, tolerance: 112058.73167697621\n",
            "  coef_, l1_reg, l2_reg, X, y, max_iter, tol, rng, random\n",
            "/usr/local/lib/python3.7/dist-packages/sklearn/linear_model/_coordinate_descent.py:626: ConvergenceWarning: Objective did not converge. You might want to increase the number of iterations. Duality gap: 450295.82674336433, tolerance: 167535.5378815879\n",
            "  coef_, l1_reg, l2_reg, X, y, max_iter, tol, rng, random\n"
          ]
        },
        {
          "name": "stdout",
          "output_type": "stream",
          "text": [
            "AshokVihar=130.74\n"
          ]
        },
        {
          "name": "stderr",
          "output_type": "stream",
          "text": [
            "/usr/local/lib/python3.7/dist-packages/pandas/core/series.py:4536: SettingWithCopyWarning: \n",
            "A value is trying to be set on a copy of a slice from a DataFrame\n",
            "\n",
            "See the caveats in the documentation: https://pandas.pydata.org/pandas-docs/stable/user_guide/indexing.html#returning-a-view-versus-a-copy\n",
            "  downcast=downcast,\n",
            "/usr/local/lib/python3.7/dist-packages/sklearn/linear_model/_coordinate_descent.py:626: ConvergenceWarning: Objective did not converge. You might want to increase the number of iterations. Duality gap: 950104.0540242791, tolerance: 133213.581063237\n",
            "  coef_, l1_reg, l2_reg, X, y, max_iter, tol, rng, random\n",
            "/usr/local/lib/python3.7/dist-packages/sklearn/linear_model/_coordinate_descent.py:626: ConvergenceWarning: Objective did not converge. You might want to increase the number of iterations. Duality gap: 1022092.0366476774, tolerance: 173920.34983055684\n",
            "  coef_, l1_reg, l2_reg, X, y, max_iter, tol, rng, random\n"
          ]
        },
        {
          "name": "stdout",
          "output_type": "stream",
          "text": [
            "Bawana=131.49\n"
          ]
        },
        {
          "name": "stderr",
          "output_type": "stream",
          "text": [
            "/usr/local/lib/python3.7/dist-packages/pandas/core/series.py:4536: SettingWithCopyWarning: \n",
            "A value is trying to be set on a copy of a slice from a DataFrame\n",
            "\n",
            "See the caveats in the documentation: https://pandas.pydata.org/pandas-docs/stable/user_guide/indexing.html#returning-a-view-versus-a-copy\n",
            "  downcast=downcast,\n",
            "/usr/local/lib/python3.7/dist-packages/sklearn/linear_model/_coordinate_descent.py:626: ConvergenceWarning: Objective did not converge. You might want to increase the number of iterations. Duality gap: 1458263.424097538, tolerance: 119789.84488018263\n",
            "  coef_, l1_reg, l2_reg, X, y, max_iter, tol, rng, random\n"
          ]
        },
        {
          "name": "stdout",
          "output_type": "stream",
          "text": [
            "DrKarniShootingRange=83.79\n"
          ]
        },
        {
          "name": "stderr",
          "output_type": "stream",
          "text": [
            "/usr/local/lib/python3.7/dist-packages/pandas/core/series.py:4536: SettingWithCopyWarning: \n",
            "A value is trying to be set on a copy of a slice from a DataFrame\n",
            "\n",
            "See the caveats in the documentation: https://pandas.pydata.org/pandas-docs/stable/user_guide/indexing.html#returning-a-view-versus-a-copy\n",
            "  downcast=downcast,\n",
            "/usr/local/lib/python3.7/dist-packages/sklearn/linear_model/_coordinate_descent.py:626: ConvergenceWarning: Objective did not converge. You might want to increase the number of iterations. Duality gap: 10704725.976293087, tolerance: 122251.42647728174\n",
            "  coef_, l1_reg, l2_reg, X, y, max_iter, tol, rng, random\n",
            "/usr/local/lib/python3.7/dist-packages/sklearn/linear_model/_coordinate_descent.py:626: ConvergenceWarning: Objective did not converge. You might want to increase the number of iterations. Duality gap: 14707674.698816895, tolerance: 112210.0184027421\n",
            "  coef_, l1_reg, l2_reg, X, y, max_iter, tol, rng, random\n",
            "/usr/local/lib/python3.7/dist-packages/sklearn/linear_model/_coordinate_descent.py:626: ConvergenceWarning: Objective did not converge. You might want to increase the number of iterations. Duality gap: 14445807.91307199, tolerance: 138014.7568756914\n",
            "  coef_, l1_reg, l2_reg, X, y, max_iter, tol, rng, random\n"
          ]
        },
        {
          "name": "stdout",
          "output_type": "stream",
          "text": [
            "DTU=115.86\n"
          ]
        },
        {
          "name": "stderr",
          "output_type": "stream",
          "text": [
            "/usr/local/lib/python3.7/dist-packages/pandas/core/series.py:4536: SettingWithCopyWarning: \n",
            "A value is trying to be set on a copy of a slice from a DataFrame\n",
            "\n",
            "See the caveats in the documentation: https://pandas.pydata.org/pandas-docs/stable/user_guide/indexing.html#returning-a-view-versus-a-copy\n",
            "  downcast=downcast,\n",
            "/usr/local/lib/python3.7/dist-packages/sklearn/linear_model/_coordinate_descent.py:626: ConvergenceWarning: Objective did not converge. You might want to increase the number of iterations. Duality gap: 4840500.118444741, tolerance: 116152.70934959031\n",
            "  coef_, l1_reg, l2_reg, X, y, max_iter, tol, rng, random\n",
            "/usr/local/lib/python3.7/dist-packages/sklearn/linear_model/_coordinate_descent.py:626: ConvergenceWarning: Objective did not converge. You might want to increase the number of iterations. Duality gap: 5427881.63551873, tolerance: 83313.89252301544\n",
            "  coef_, l1_reg, l2_reg, X, y, max_iter, tol, rng, random\n",
            "/usr/local/lib/python3.7/dist-packages/sklearn/linear_model/_coordinate_descent.py:626: ConvergenceWarning: Objective did not converge. You might want to increase the number of iterations. Duality gap: 17606902.212626398, tolerance: 122196.480144454\n",
            "  coef_, l1_reg, l2_reg, X, y, max_iter, tol, rng, random\n",
            "/usr/local/lib/python3.7/dist-packages/sklearn/linear_model/_coordinate_descent.py:2451: ConvergenceWarning: Objective did not converge. You might want to increase the number of iterations. Duality gap: 17292560.236503422, tolerance: 163116.0353252661\n",
            "  random,\n"
          ]
        },
        {
          "name": "stdout",
          "output_type": "stream",
          "text": [
            "DwarkaSector8=145.03\n"
          ]
        },
        {
          "name": "stderr",
          "output_type": "stream",
          "text": [
            "/usr/local/lib/python3.7/dist-packages/pandas/core/series.py:4536: SettingWithCopyWarning: \n",
            "A value is trying to be set on a copy of a slice from a DataFrame\n",
            "\n",
            "See the caveats in the documentation: https://pandas.pydata.org/pandas-docs/stable/user_guide/indexing.html#returning-a-view-versus-a-copy\n",
            "  downcast=downcast,\n",
            "/usr/local/lib/python3.7/dist-packages/sklearn/linear_model/_coordinate_descent.py:626: ConvergenceWarning: Objective did not converge. You might want to increase the number of iterations. Duality gap: 6690818.559632957, tolerance: 80260.38785052231\n",
            "  coef_, l1_reg, l2_reg, X, y, max_iter, tol, rng, random\n"
          ]
        },
        {
          "name": "stdout",
          "output_type": "stream",
          "text": [
            "IHBASDilshadGarden=69.06\n"
          ]
        },
        {
          "name": "stderr",
          "output_type": "stream",
          "text": [
            "/usr/local/lib/python3.7/dist-packages/pandas/core/series.py:4536: SettingWithCopyWarning: \n",
            "A value is trying to be set on a copy of a slice from a DataFrame\n",
            "\n",
            "See the caveats in the documentation: https://pandas.pydata.org/pandas-docs/stable/user_guide/indexing.html#returning-a-view-versus-a-copy\n",
            "  downcast=downcast,\n",
            "/usr/local/lib/python3.7/dist-packages/sklearn/linear_model/_coordinate_descent.py:626: ConvergenceWarning: Objective did not converge. You might want to increase the number of iterations. Duality gap: 972676.3469228745, tolerance: 157566.15891602368\n",
            "  coef_, l1_reg, l2_reg, X, y, max_iter, tol, rng, random\n",
            "/usr/local/lib/python3.7/dist-packages/sklearn/linear_model/_coordinate_descent.py:626: ConvergenceWarning: Objective did not converge. You might want to increase the number of iterations. Duality gap: 181560.5522134304, tolerance: 135040.25928320977\n",
            "  coef_, l1_reg, l2_reg, X, y, max_iter, tol, rng, random\n"
          ]
        },
        {
          "name": "stdout",
          "output_type": "stream",
          "text": [
            "Jahangirpuri=97.91\n"
          ]
        },
        {
          "name": "stderr",
          "output_type": "stream",
          "text": [
            "/usr/local/lib/python3.7/dist-packages/pandas/core/series.py:4536: SettingWithCopyWarning: \n",
            "A value is trying to be set on a copy of a slice from a DataFrame\n",
            "\n",
            "See the caveats in the documentation: https://pandas.pydata.org/pandas-docs/stable/user_guide/indexing.html#returning-a-view-versus-a-copy\n",
            "  downcast=downcast,\n",
            "/usr/local/lib/python3.7/dist-packages/sklearn/linear_model/_coordinate_descent.py:626: ConvergenceWarning: Objective did not converge. You might want to increase the number of iterations. Duality gap: 1038834.9539031982, tolerance: 107040.42554791408\n",
            "  coef_, l1_reg, l2_reg, X, y, max_iter, tol, rng, random\n"
          ]
        },
        {
          "name": "stdout",
          "output_type": "stream",
          "text": [
            "JawaharlalNehruStadium=108.46\n"
          ]
        },
        {
          "name": "stderr",
          "output_type": "stream",
          "text": [
            "/usr/local/lib/python3.7/dist-packages/pandas/core/series.py:4536: SettingWithCopyWarning: \n",
            "A value is trying to be set on a copy of a slice from a DataFrame\n",
            "\n",
            "See the caveats in the documentation: https://pandas.pydata.org/pandas-docs/stable/user_guide/indexing.html#returning-a-view-versus-a-copy\n",
            "  downcast=downcast,\n",
            "/usr/local/lib/python3.7/dist-packages/sklearn/linear_model/_coordinate_descent.py:626: ConvergenceWarning: Objective did not converge. You might want to increase the number of iterations. Duality gap: 1701676.1064658463, tolerance: 85954.88464236892\n",
            "  coef_, l1_reg, l2_reg, X, y, max_iter, tol, rng, random\n",
            "/usr/local/lib/python3.7/dist-packages/sklearn/linear_model/_coordinate_descent.py:626: ConvergenceWarning: Objective did not converge. You might want to increase the number of iterations. Duality gap: 21205589.810141504, tolerance: 67133.19252220035\n",
            "  coef_, l1_reg, l2_reg, X, y, max_iter, tol, rng, random\n",
            "/usr/local/lib/python3.7/dist-packages/sklearn/linear_model/_coordinate_descent.py:626: ConvergenceWarning: Objective did not converge. You might want to increase the number of iterations. Duality gap: 29768365.069482714, tolerance: 96215.65464397313\n",
            "  coef_, l1_reg, l2_reg, X, y, max_iter, tol, rng, random\n",
            "/usr/local/lib/python3.7/dist-packages/sklearn/linear_model/_coordinate_descent.py:2451: ConvergenceWarning: Objective did not converge. You might want to increase the number of iterations. Duality gap: 25993708.028500497, tolerance: 126295.05152189356\n",
            "  random,\n"
          ]
        },
        {
          "name": "stdout",
          "output_type": "stream",
          "text": [
            "MajorDhyanChandNationalStadium=147.56\n"
          ]
        },
        {
          "name": "stderr",
          "output_type": "stream",
          "text": [
            "/usr/local/lib/python3.7/dist-packages/pandas/core/series.py:4536: SettingWithCopyWarning: \n",
            "A value is trying to be set on a copy of a slice from a DataFrame\n",
            "\n",
            "See the caveats in the documentation: https://pandas.pydata.org/pandas-docs/stable/user_guide/indexing.html#returning-a-view-versus-a-copy\n",
            "  downcast=downcast,\n",
            "/usr/local/lib/python3.7/dist-packages/sklearn/linear_model/_coordinate_descent.py:626: ConvergenceWarning: Objective did not converge. You might want to increase the number of iterations. Duality gap: 7899211.518706471, tolerance: 90450.1826732693\n",
            "  coef_, l1_reg, l2_reg, X, y, max_iter, tol, rng, random\n",
            "/usr/local/lib/python3.7/dist-packages/sklearn/linear_model/_coordinate_descent.py:626: ConvergenceWarning: Objective did not converge. You might want to increase the number of iterations. Duality gap: 13575321.122813165, tolerance: 70983.68312853416\n",
            "  coef_, l1_reg, l2_reg, X, y, max_iter, tol, rng, random\n",
            "/usr/local/lib/python3.7/dist-packages/sklearn/linear_model/_coordinate_descent.py:626: ConvergenceWarning: Objective did not converge. You might want to increase the number of iterations. Duality gap: 19573736.116689563, tolerance: 92910.2771993842\n",
            "  coef_, l1_reg, l2_reg, X, y, max_iter, tol, rng, random\n"
          ]
        },
        {
          "name": "stdout",
          "output_type": "stream",
          "text": [
            "MandirMarg=120.19\n"
          ]
        },
        {
          "name": "stderr",
          "output_type": "stream",
          "text": [
            "/usr/local/lib/python3.7/dist-packages/pandas/core/series.py:4536: SettingWithCopyWarning: \n",
            "A value is trying to be set on a copy of a slice from a DataFrame\n",
            "\n",
            "See the caveats in the documentation: https://pandas.pydata.org/pandas-docs/stable/user_guide/indexing.html#returning-a-view-versus-a-copy\n",
            "  downcast=downcast,\n",
            "/usr/local/lib/python3.7/dist-packages/sklearn/linear_model/_coordinate_descent.py:626: ConvergenceWarning: Objective did not converge. You might want to increase the number of iterations. Duality gap: 15791701.44149673, tolerance: 145503.486469252\n",
            "  coef_, l1_reg, l2_reg, X, y, max_iter, tol, rng, random\n",
            "/usr/local/lib/python3.7/dist-packages/sklearn/linear_model/_coordinate_descent.py:626: ConvergenceWarning: Objective did not converge. You might want to increase the number of iterations. Duality gap: 59894217.12283039, tolerance: 130219.60280566395\n",
            "  coef_, l1_reg, l2_reg, X, y, max_iter, tol, rng, random\n",
            "/usr/local/lib/python3.7/dist-packages/sklearn/linear_model/_coordinate_descent.py:626: ConvergenceWarning: Objective did not converge. You might want to increase the number of iterations. Duality gap: 11532689.825256228, tolerance: 169446.46323930362\n",
            "  coef_, l1_reg, l2_reg, X, y, max_iter, tol, rng, random\n"
          ]
        },
        {
          "name": "stdout",
          "output_type": "stream",
          "text": [
            "Mundka=153.75\n"
          ]
        },
        {
          "name": "stderr",
          "output_type": "stream",
          "text": [
            "/usr/local/lib/python3.7/dist-packages/pandas/core/series.py:4536: SettingWithCopyWarning: \n",
            "A value is trying to be set on a copy of a slice from a DataFrame\n",
            "\n",
            "See the caveats in the documentation: https://pandas.pydata.org/pandas-docs/stable/user_guide/indexing.html#returning-a-view-versus-a-copy\n",
            "  downcast=downcast,\n",
            "/usr/local/lib/python3.7/dist-packages/sklearn/linear_model/_coordinate_descent.py:626: ConvergenceWarning: Objective did not converge. You might want to increase the number of iterations. Duality gap: 67212.75470525026, tolerance: 56406.95692371922\n",
            "  coef_, l1_reg, l2_reg, X, y, max_iter, tol, rng, random\n"
          ]
        },
        {
          "name": "stdout",
          "output_type": "stream",
          "text": [
            "Najafnagar=82.35\n"
          ]
        },
        {
          "name": "stderr",
          "output_type": "stream",
          "text": [
            "/usr/local/lib/python3.7/dist-packages/pandas/core/series.py:4536: SettingWithCopyWarning: \n",
            "A value is trying to be set on a copy of a slice from a DataFrame\n",
            "\n",
            "See the caveats in the documentation: https://pandas.pydata.org/pandas-docs/stable/user_guide/indexing.html#returning-a-view-versus-a-copy\n",
            "  downcast=downcast,\n",
            "/usr/local/lib/python3.7/dist-packages/sklearn/linear_model/_coordinate_descent.py:626: ConvergenceWarning: Objective did not converge. You might want to increase the number of iterations. Duality gap: 21307352.41544485, tolerance: 95140.03798382358\n",
            "  coef_, l1_reg, l2_reg, X, y, max_iter, tol, rng, random\n",
            "/usr/local/lib/python3.7/dist-packages/sklearn/linear_model/_coordinate_descent.py:626: ConvergenceWarning: Objective did not converge. You might want to increase the number of iterations. Duality gap: 142254.60941004753, tolerance: 88187.45636745365\n",
            "  coef_, l1_reg, l2_reg, X, y, max_iter, tol, rng, random\n",
            "/usr/local/lib/python3.7/dist-packages/sklearn/linear_model/_coordinate_descent.py:626: ConvergenceWarning: Objective did not converge. You might want to increase the number of iterations. Duality gap: 49193484.32656863, tolerance: 88187.45636745365\n",
            "  coef_, l1_reg, l2_reg, X, y, max_iter, tol, rng, random\n",
            "/usr/local/lib/python3.7/dist-packages/sklearn/linear_model/_coordinate_descent.py:626: ConvergenceWarning: Objective did not converge. You might want to increase the number of iterations. Duality gap: 42698298.62099683, tolerance: 99451.63071357991\n",
            "  coef_, l1_reg, l2_reg, X, y, max_iter, tol, rng, random\n"
          ]
        },
        {
          "name": "stdout",
          "output_type": "stream",
          "text": [
            "Narela=126.3\n"
          ]
        },
        {
          "name": "stderr",
          "output_type": "stream",
          "text": [
            "/usr/local/lib/python3.7/dist-packages/pandas/core/series.py:4536: SettingWithCopyWarning: \n",
            "A value is trying to be set on a copy of a slice from a DataFrame\n",
            "\n",
            "See the caveats in the documentation: https://pandas.pydata.org/pandas-docs/stable/user_guide/indexing.html#returning-a-view-versus-a-copy\n",
            "  downcast=downcast,\n",
            "/usr/local/lib/python3.7/dist-packages/sklearn/linear_model/_coordinate_descent.py:626: ConvergenceWarning: Objective did not converge. You might want to increase the number of iterations. Duality gap: 40947946.64880109, tolerance: 179093.04871532475\n",
            "  coef_, l1_reg, l2_reg, X, y, max_iter, tol, rng, random\n",
            "/usr/local/lib/python3.7/dist-packages/sklearn/linear_model/_coordinate_descent.py:626: ConvergenceWarning: Objective did not converge. You might want to increase the number of iterations. Duality gap: 41553818.32737625, tolerance: 147824.95776973924\n",
            "  coef_, l1_reg, l2_reg, X, y, max_iter, tol, rng, random\n",
            "/usr/local/lib/python3.7/dist-packages/sklearn/linear_model/_coordinate_descent.py:626: ConvergenceWarning: Objective did not converge. You might want to increase the number of iterations. Duality gap: 130818989.70305556, tolerance: 207399.93240952076\n",
            "  coef_, l1_reg, l2_reg, X, y, max_iter, tol, rng, random\n"
          ]
        },
        {
          "name": "stdout",
          "output_type": "stream",
          "text": [
            "NehruNagar=155.79\n"
          ]
        },
        {
          "name": "stderr",
          "output_type": "stream",
          "text": [
            "/usr/local/lib/python3.7/dist-packages/pandas/core/series.py:4536: SettingWithCopyWarning: \n",
            "A value is trying to be set on a copy of a slice from a DataFrame\n",
            "\n",
            "See the caveats in the documentation: https://pandas.pydata.org/pandas-docs/stable/user_guide/indexing.html#returning-a-view-versus-a-copy\n",
            "  downcast=downcast,\n",
            "/usr/local/lib/python3.7/dist-packages/sklearn/linear_model/_coordinate_descent.py:626: ConvergenceWarning: Objective did not converge. You might want to increase the number of iterations. Duality gap: 7616055.349654883, tolerance: 112944.28930349696\n",
            "  coef_, l1_reg, l2_reg, X, y, max_iter, tol, rng, random\n",
            "/usr/local/lib/python3.7/dist-packages/sklearn/linear_model/_coordinate_descent.py:626: ConvergenceWarning: Objective did not converge. You might want to increase the number of iterations. Duality gap: 7613807.20563212, tolerance: 86716.78668378333\n",
            "  coef_, l1_reg, l2_reg, X, y, max_iter, tol, rng, random\n",
            "/usr/local/lib/python3.7/dist-packages/sklearn/linear_model/_coordinate_descent.py:626: ConvergenceWarning: Objective did not converge. You might want to increase the number of iterations. Duality gap: 20730714.363079965, tolerance: 128685.92733383084\n",
            "  coef_, l1_reg, l2_reg, X, y, max_iter, tol, rng, random\n",
            "/usr/local/lib/python3.7/dist-packages/sklearn/linear_model/_coordinate_descent.py:2451: ConvergenceWarning: Objective did not converge. You might want to increase the number of iterations. Duality gap: 50202927.82369077, tolerance: 166315.65803417366\n",
            "  random,\n"
          ]
        },
        {
          "name": "stdout",
          "output_type": "stream",
          "text": [
            "OkhlaPhase2=149.35\n"
          ]
        },
        {
          "name": "stderr",
          "output_type": "stream",
          "text": [
            "/usr/local/lib/python3.7/dist-packages/pandas/core/series.py:4536: SettingWithCopyWarning: \n",
            "A value is trying to be set on a copy of a slice from a DataFrame\n",
            "\n",
            "See the caveats in the documentation: https://pandas.pydata.org/pandas-docs/stable/user_guide/indexing.html#returning-a-view-versus-a-copy\n",
            "  downcast=downcast,\n",
            "/usr/local/lib/python3.7/dist-packages/sklearn/linear_model/_coordinate_descent.py:626: ConvergenceWarning: Objective did not converge. You might want to increase the number of iterations. Duality gap: 2018855.0874926448, tolerance: 97972.7575071461\n",
            "  coef_, l1_reg, l2_reg, X, y, max_iter, tol, rng, random\n",
            "/usr/local/lib/python3.7/dist-packages/sklearn/linear_model/_coordinate_descent.py:626: ConvergenceWarning: Objective did not converge. You might want to increase the number of iterations. Duality gap: 15433960.495346457, tolerance: 81422.45004967919\n",
            "  coef_, l1_reg, l2_reg, X, y, max_iter, tol, rng, random\n",
            "/usr/local/lib/python3.7/dist-packages/sklearn/linear_model/_coordinate_descent.py:626: ConvergenceWarning: Objective did not converge. You might want to increase the number of iterations. Duality gap: 30357991.36462748, tolerance: 102202.47188392222\n",
            "  coef_, l1_reg, l2_reg, X, y, max_iter, tol, rng, random\n"
          ]
        },
        {
          "name": "stdout",
          "output_type": "stream",
          "text": [
            "Patparganj=100.68\n"
          ]
        },
        {
          "name": "stderr",
          "output_type": "stream",
          "text": [
            "/usr/local/lib/python3.7/dist-packages/pandas/core/series.py:4536: SettingWithCopyWarning: \n",
            "A value is trying to be set on a copy of a slice from a DataFrame\n",
            "\n",
            "See the caveats in the documentation: https://pandas.pydata.org/pandas-docs/stable/user_guide/indexing.html#returning-a-view-versus-a-copy\n",
            "  downcast=downcast,\n",
            "/usr/local/lib/python3.7/dist-packages/sklearn/linear_model/_coordinate_descent.py:626: ConvergenceWarning: Objective did not converge. You might want to increase the number of iterations. Duality gap: 4473584.419862628, tolerance: 131910.0708500686\n",
            "  coef_, l1_reg, l2_reg, X, y, max_iter, tol, rng, random\n",
            "/usr/local/lib/python3.7/dist-packages/sklearn/linear_model/_coordinate_descent.py:626: ConvergenceWarning: Objective did not converge. You might want to increase the number of iterations. Duality gap: 1411900.308345914, tolerance: 124262.00278255992\n",
            "  coef_, l1_reg, l2_reg, X, y, max_iter, tol, rng, random\n"
          ]
        },
        {
          "name": "stdout",
          "output_type": "stream",
          "text": [
            "PunjabiBagh=101.57\n"
          ]
        },
        {
          "name": "stderr",
          "output_type": "stream",
          "text": [
            "/usr/local/lib/python3.7/dist-packages/pandas/core/series.py:4536: SettingWithCopyWarning: \n",
            "A value is trying to be set on a copy of a slice from a DataFrame\n",
            "\n",
            "See the caveats in the documentation: https://pandas.pydata.org/pandas-docs/stable/user_guide/indexing.html#returning-a-view-versus-a-copy\n",
            "  downcast=downcast,\n",
            "/usr/local/lib/python3.7/dist-packages/sklearn/linear_model/_coordinate_descent.py:626: ConvergenceWarning: Objective did not converge. You might want to increase the number of iterations. Duality gap: 580691.7611677051, tolerance: 94216.91475625822\n",
            "  coef_, l1_reg, l2_reg, X, y, max_iter, tol, rng, random\n",
            "/usr/local/lib/python3.7/dist-packages/sklearn/linear_model/_coordinate_descent.py:626: ConvergenceWarning: Objective did not converge. You might want to increase the number of iterations. Duality gap: 888989.0609096289, tolerance: 82825.21452774937\n",
            "  coef_, l1_reg, l2_reg, X, y, max_iter, tol, rng, random\n",
            "/usr/local/lib/python3.7/dist-packages/sklearn/linear_model/_coordinate_descent.py:626: ConvergenceWarning: Objective did not converge. You might want to increase the number of iterations. Duality gap: 2092849.7334486842, tolerance: 104530.48668930001\n",
            "  coef_, l1_reg, l2_reg, X, y, max_iter, tol, rng, random\n"
          ]
        },
        {
          "name": "stdout",
          "output_type": "stream",
          "text": [
            "Pusa=93.85\n"
          ]
        },
        {
          "name": "stderr",
          "output_type": "stream",
          "text": [
            "/usr/local/lib/python3.7/dist-packages/pandas/core/series.py:4536: SettingWithCopyWarning: \n",
            "A value is trying to be set on a copy of a slice from a DataFrame\n",
            "\n",
            "See the caveats in the documentation: https://pandas.pydata.org/pandas-docs/stable/user_guide/indexing.html#returning-a-view-versus-a-copy\n",
            "  downcast=downcast,\n",
            "/usr/local/lib/python3.7/dist-packages/sklearn/linear_model/_coordinate_descent.py:626: ConvergenceWarning: Objective did not converge. You might want to increase the number of iterations. Duality gap: 193056.19701331854, tolerance: 89975.07614072313\n",
            "  coef_, l1_reg, l2_reg, X, y, max_iter, tol, rng, random\n",
            "/usr/local/lib/python3.7/dist-packages/sklearn/linear_model/_coordinate_descent.py:626: ConvergenceWarning: Objective did not converge. You might want to increase the number of iterations. Duality gap: 952738.8304448724, tolerance: 103769.08013642045\n",
            "  coef_, l1_reg, l2_reg, X, y, max_iter, tol, rng, random\n"
          ]
        },
        {
          "name": "stdout",
          "output_type": "stream",
          "text": [
            "RKPuram=106.69\n"
          ]
        },
        {
          "name": "stderr",
          "output_type": "stream",
          "text": [
            "/usr/local/lib/python3.7/dist-packages/pandas/core/series.py:4536: SettingWithCopyWarning: \n",
            "A value is trying to be set on a copy of a slice from a DataFrame\n",
            "\n",
            "See the caveats in the documentation: https://pandas.pydata.org/pandas-docs/stable/user_guide/indexing.html#returning-a-view-versus-a-copy\n",
            "  downcast=downcast,\n",
            "/usr/local/lib/python3.7/dist-packages/sklearn/linear_model/_coordinate_descent.py:626: ConvergenceWarning: Objective did not converge. You might want to increase the number of iterations. Duality gap: 247739.17202353477, tolerance: 152499.6332982938\n",
            "  coef_, l1_reg, l2_reg, X, y, max_iter, tol, rng, random\n",
            "/usr/local/lib/python3.7/dist-packages/sklearn/linear_model/_coordinate_descent.py:626: ConvergenceWarning: Objective did not converge. You might want to increase the number of iterations. Duality gap: 167280.02437222004, tolerance: 164110.26881368403\n",
            "  coef_, l1_reg, l2_reg, X, y, max_iter, tol, rng, random\n"
          ]
        },
        {
          "name": "stdout",
          "output_type": "stream",
          "text": [
            "Rohini=126.24\n"
          ]
        },
        {
          "name": "stderr",
          "output_type": "stream",
          "text": [
            "/usr/local/lib/python3.7/dist-packages/pandas/core/series.py:4536: SettingWithCopyWarning: \n",
            "A value is trying to be set on a copy of a slice from a DataFrame\n",
            "\n",
            "See the caveats in the documentation: https://pandas.pydata.org/pandas-docs/stable/user_guide/indexing.html#returning-a-view-versus-a-copy\n",
            "  downcast=downcast,\n",
            "/usr/local/lib/python3.7/dist-packages/sklearn/linear_model/_coordinate_descent.py:626: ConvergenceWarning: Objective did not converge. You might want to increase the number of iterations. Duality gap: 399904.2520958185, tolerance: 86999.91329453408\n",
            "  coef_, l1_reg, l2_reg, X, y, max_iter, tol, rng, random\n",
            "/usr/local/lib/python3.7/dist-packages/sklearn/linear_model/_coordinate_descent.py:626: ConvergenceWarning: Objective did not converge. You might want to increase the number of iterations. Duality gap: 464433.8264235258, tolerance: 73281.45698440909\n",
            "  coef_, l1_reg, l2_reg, X, y, max_iter, tol, rng, random\n",
            "/usr/local/lib/python3.7/dist-packages/sklearn/linear_model/_coordinate_descent.py:626: ConvergenceWarning: Objective did not converge. You might want to increase the number of iterations. Duality gap: 2730963.0063993335, tolerance: 93701.0515018065\n",
            "  coef_, l1_reg, l2_reg, X, y, max_iter, tol, rng, random\n"
          ]
        },
        {
          "name": "stdout",
          "output_type": "stream",
          "text": [
            "Shadipur=107.23\n"
          ]
        },
        {
          "name": "stderr",
          "output_type": "stream",
          "text": [
            "/usr/local/lib/python3.7/dist-packages/pandas/core/series.py:4536: SettingWithCopyWarning: \n",
            "A value is trying to be set on a copy of a slice from a DataFrame\n",
            "\n",
            "See the caveats in the documentation: https://pandas.pydata.org/pandas-docs/stable/user_guide/indexing.html#returning-a-view-versus-a-copy\n",
            "  downcast=downcast,\n",
            "/usr/local/lib/python3.7/dist-packages/sklearn/linear_model/_coordinate_descent.py:626: ConvergenceWarning: Objective did not converge. You might want to increase the number of iterations. Duality gap: 2674593.3150317073, tolerance: 98989.97956220711\n",
            "  coef_, l1_reg, l2_reg, X, y, max_iter, tol, rng, random\n"
          ]
        },
        {
          "name": "stdout",
          "output_type": "stream",
          "text": [
            "Sirifort=84.43\n"
          ]
        },
        {
          "name": "stderr",
          "output_type": "stream",
          "text": [
            "/usr/local/lib/python3.7/dist-packages/pandas/core/series.py:4536: SettingWithCopyWarning: \n",
            "A value is trying to be set on a copy of a slice from a DataFrame\n",
            "\n",
            "See the caveats in the documentation: https://pandas.pydata.org/pandas-docs/stable/user_guide/indexing.html#returning-a-view-versus-a-copy\n",
            "  downcast=downcast,\n"
          ]
        },
        {
          "name": "stdout",
          "output_type": "stream",
          "text": [
            "SoniaVihar=101.69\n"
          ]
        },
        {
          "name": "stderr",
          "output_type": "stream",
          "text": [
            "/usr/local/lib/python3.7/dist-packages/pandas/core/series.py:4536: SettingWithCopyWarning: \n",
            "A value is trying to be set on a copy of a slice from a DataFrame\n",
            "\n",
            "See the caveats in the documentation: https://pandas.pydata.org/pandas-docs/stable/user_guide/indexing.html#returning-a-view-versus-a-copy\n",
            "  downcast=downcast,\n",
            "/usr/local/lib/python3.7/dist-packages/sklearn/linear_model/_coordinate_descent.py:626: ConvergenceWarning: Objective did not converge. You might want to increase the number of iterations. Duality gap: 1596048.3143588305, tolerance: 92939.8530725449\n",
            "  coef_, l1_reg, l2_reg, X, y, max_iter, tol, rng, random\n"
          ]
        },
        {
          "name": "stdout",
          "output_type": "stream",
          "text": [
            "SriAurobindoMarg=85.44\n"
          ]
        },
        {
          "name": "stderr",
          "output_type": "stream",
          "text": [
            "/usr/local/lib/python3.7/dist-packages/pandas/core/series.py:4536: SettingWithCopyWarning: \n",
            "A value is trying to be set on a copy of a slice from a DataFrame\n",
            "\n",
            "See the caveats in the documentation: https://pandas.pydata.org/pandas-docs/stable/user_guide/indexing.html#returning-a-view-versus-a-copy\n",
            "  downcast=downcast,\n",
            "/usr/local/lib/python3.7/dist-packages/sklearn/linear_model/_coordinate_descent.py:626: ConvergenceWarning: Objective did not converge. You might want to increase the number of iterations. Duality gap: 47437635.873206794, tolerance: 130486.57230090829\n",
            "  coef_, l1_reg, l2_reg, X, y, max_iter, tol, rng, random\n",
            "/usr/local/lib/python3.7/dist-packages/sklearn/linear_model/_coordinate_descent.py:626: ConvergenceWarning: Objective did not converge. You might want to increase the number of iterations. Duality gap: 58461785.01969379, tolerance: 110633.17292999955\n",
            "  coef_, l1_reg, l2_reg, X, y, max_iter, tol, rng, random\n",
            "/usr/local/lib/python3.7/dist-packages/sklearn/linear_model/_coordinate_descent.py:626: ConvergenceWarning: Objective did not converge. You might want to increase the number of iterations. Duality gap: 186016.56759476662, tolerance: 136518.06185319257\n",
            "  coef_, l1_reg, l2_reg, X, y, max_iter, tol, rng, random\n",
            "/usr/local/lib/python3.7/dist-packages/sklearn/linear_model/_coordinate_descent.py:626: ConvergenceWarning: Objective did not converge. You might want to increase the number of iterations. Duality gap: 112917593.20552847, tolerance: 136518.06185319257\n",
            "  coef_, l1_reg, l2_reg, X, y, max_iter, tol, rng, random\n"
          ]
        },
        {
          "name": "stdout",
          "output_type": "stream",
          "text": [
            "VivekVihar=121.02\n"
          ]
        },
        {
          "name": "stderr",
          "output_type": "stream",
          "text": [
            "/usr/local/lib/python3.7/dist-packages/pandas/core/series.py:4536: SettingWithCopyWarning: \n",
            "A value is trying to be set on a copy of a slice from a DataFrame\n",
            "\n",
            "See the caveats in the documentation: https://pandas.pydata.org/pandas-docs/stable/user_guide/indexing.html#returning-a-view-versus-a-copy\n",
            "  downcast=downcast,\n",
            "/usr/local/lib/python3.7/dist-packages/sklearn/linear_model/_coordinate_descent.py:626: ConvergenceWarning: Objective did not converge. You might want to increase the number of iterations. Duality gap: 164508.59171140194, tolerance: 130478.76362572265\n",
            "  coef_, l1_reg, l2_reg, X, y, max_iter, tol, rng, random\n",
            "/usr/local/lib/python3.7/dist-packages/sklearn/linear_model/_coordinate_descent.py:626: ConvergenceWarning: Objective did not converge. You might want to increase the number of iterations. Duality gap: 55796510.32669473, tolerance: 171026.61787405505\n",
            "  coef_, l1_reg, l2_reg, X, y, max_iter, tol, rng, random\n"
          ]
        },
        {
          "name": "stdout",
          "output_type": "stream",
          "text": [
            "Wazirpur=126.87\n"
          ]
        }
      ],
      "source": [
        "pred_lr = {k:[] for k in range(1,13)}\n",
        "#gt = {k:[] for k in range(1,13)}\n",
        "\n",
        "for sensor in sensors:\n",
        "    \n",
        "    start = time.time()\n",
        "    \n",
        "    #current AQI\n",
        "    df_temp = df.loc[:,[i for i in df.columns.tolist() if i.endswith(sensor)]]\n",
        "    \n",
        "    #past 12 hours data\n",
        "    for col in ['aqi','at','rh','ws','wd']: \n",
        "        for j in range(1,13):\n",
        "            df_temp['p{}_{}'.format(j,col)] = df_temp[col + '_%s' % sensor]\n",
        "            df_temp['p{}_{}'.format(j,col)] = df_temp['p{}_{}'.format(j,col)].shift(j)\n",
        "    \n",
        "    #weather forecast for 48 hours\n",
        "    for col in ['at','rh','ws','wd']:\n",
        "        for j in range(1,49):\n",
        "            df_temp['f{}_{}'.format(j,col)] = df_temp[col + '_%s' % sensor]\n",
        "            df_temp['f{}_{}'.format(j,col)] = df_temp['f{}_{}'.format(j,col)].shift(-j)\n",
        "\n",
        "        df_temp['f7_12_min_{}'.format(col)] = df_temp[['f{}_{}'.format(k,col) for k in range(7,13)]].min(1)\n",
        "        df_temp['f7_12_max_{}'.format(col)] = df_temp[['f{}_{}'.format(k,col) for k in range(7,13)]].max(1)\n",
        "        df_temp['f13_24_min_{}'.format(col)] = df_temp[['f{}_{}'.format(k,col) for k in range(13,25)]].min(1)\n",
        "        df_temp['f13_24_max_{}'.format(col)] = df_temp[['f{}_{}'.format(k,col) for k in range(13,25)]].max(1)\n",
        "        df_temp['f25_48_min_{}'.format(col)] = df_temp[['f{}_{}'.format(k,col) for k in range(25,49)]].min(1)\n",
        "        df_temp['f25_48_max_{}'.format(col)] = df_temp[['f{}_{}'.format(k,col) for k in range(25,49)]].max(1)\n",
        "        \n",
        "        df_temp.drop(columns=['f{}_{}'.format(k,col) for k in range(7,49)],axis=1,inplace=True)\n",
        "        \n",
        "    #HourOfDay and DayOfWeek\n",
        "    df_temp['hourofday'] = df_temp.index.hour\n",
        "    df_temp['dayofweek'] = df_temp.index.dayofweek\n",
        "    df_temp['hourofday'] = df_temp['hourofday'].apply(str)\n",
        "    df_temp['dayofweek'] = df_temp['dayofweek'].apply(str)\n",
        "    \n",
        "    #next 48 hour prediction\n",
        "    for j in range(1,49):\n",
        "        df_temp['hz{}'.format(j)] = df_temp['aqi_%s' % sensor]\n",
        "        df_temp['hz{}'.format(j)] = df_temp['hz{}'.format(j)].shift(-j)\n",
        "        \n",
        "    df_temp['hz7_12_min'] = df_temp[['hz{}'.format(i) for i in range(7,13)]].min(1)\n",
        "    df_temp['hz7_12_max'] = df_temp[['hz{}'.format(i) for i in range(7,13)]].max(1)\n",
        "    \n",
        "    df_temp['hz13_24_min'] = df_temp[['hz{}'.format(i) for i in range(13,25)]].min(1)\n",
        "    df_temp['hz13_24_max'] = df_temp[['hz{}'.format(i) for i in range(13,25)]].max(1)\n",
        "    \n",
        "    df_temp['hz25_48_min'] = df_temp[['hz{}'.format(i) for i in range(25,49)]].min(1)\n",
        "    df_temp['hz25_48_max'] = df_temp[['hz{}'.format(i) for i in range(25,49)]].max(1)\n",
        "    \n",
        "    df_temp.drop(columns=['hz{}'.format(i) for i in range(7,49)],axis=1,inplace=True)\n",
        "    \n",
        "    y_cols = [i for i in df_temp.columns.tolist() if i.startswith('hz')]\n",
        "    x_cols = [i for i in df_temp.columns.tolist() if i.startswith('hz')==False]\n",
        "    \n",
        "    X = df_temp.loc[:,x_cols]    \n",
        "    y = df_temp.loc[:,y_cols]\n",
        "    \n",
        "    X_train = X.loc[:pd.Timestamp('2020-08-31 23:00:00'),:]\n",
        "    y_train = y.loc[:pd.Timestamp('2020-08-31 23:00:00'),:]\n",
        "    X_test = X.loc[pd.Timestamp('2020-09-01 00:00:00'):pd.Timestamp('2020-12-31 23:00:00'),:]\n",
        "    y_test = y.loc[pd.Timestamp('2020-09-01 00:00:00'):pd.Timestamp('2020-12-31 23:00:00'),:]\n",
        "    \n",
        "    train = pd.concat([X_train,y_train],axis=1)\n",
        "    train.dropna(axis=0,how='any',inplace=True)\n",
        "    X_train = train.loc[:,x_cols]\n",
        "    y_train = train.loc[:,y_cols]\n",
        "    \n",
        "    X_test.fillna(X_test.mean(),inplace=True)\n",
        "\n",
        "    model = MultiTaskLassoCV(alphas=[0.1,1,10],cv=3)\n",
        "    temporal_fit = model.fit(X_train,y_train)\n",
        "    \n",
        "    predictions = model.predict(X_test)\n",
        "    actual = np.array(y_test)\n",
        "    \n",
        "    j=0\n",
        "    for i in range(1,13):\n",
        "        pred_lr[i].append(predictions[:,j].tolist())\n",
        "        #gt[i].append(actual[:,j].tolist())\n",
        "        j = j + 1\n",
        "        \n",
        "    end = time.time()\n",
        "    \n",
        "    print(sensor+'='+str(np.round(end-start,2)))"
      ]
    },
    {
      "cell_type": "markdown",
      "metadata": {
        "id": "D1JtqAlM2Ao2"
      },
      "source": [
        "#Prediction Aggregator (decision tree)"
      ]
    },
    {
      "cell_type": "code",
      "execution_count": null,
      "metadata": {
        "id": "90dNWXDd2FS-"
      },
      "outputs": [],
      "source": [
        "df_gt = pd.DataFrame()\n",
        "for h in range(1,13):\n",
        "    df_gt = pd.concat([df_gt,pd.DataFrame(np.array(gt[h]).T)\\\n",
        "              .rename(columns = {i: \"{}_\".format(h) + sensor for i,sensor in enumerate(sensors)})],axis = 1)"
      ]
    },
    {
      "cell_type": "code",
      "execution_count": null,
      "metadata": {
        "id": "C-owRXUn2GZk"
      },
      "outputs": [],
      "source": [
        "df_ann = pd.DataFrame()\n",
        "for h in range(1,13):\n",
        "    df_ann = pd.concat([df_ann,pd.DataFrame(np.array(pred_ann[h]).T)\\\n",
        "               .rename(columns = {i: \"{}_\".format(h) + sensor for i,sensor in enumerate(sensors)})],axis = 1)"
      ]
    },
    {
      "cell_type": "code",
      "execution_count": null,
      "metadata": {
        "id": "RlwjAZCA2MUT"
      },
      "outputs": [],
      "source": [
        "df_lr = pd.DataFrame()\n",
        "for h in range(1,13):\n",
        "    df_lr = pd.concat([df_lr,pd.DataFrame(np.array(pred_lr[h]).T)\\\n",
        "              .rename(columns = {i: \"{}_\".format(h) + sensor for i,sensor in enumerate(sensors)})],axis = 1)"
      ]
    },
    {
      "cell_type": "code",
      "execution_count": null,
      "metadata": {
        "id": "Og7umuZ6dWSB"
      },
      "outputs": [],
      "source": [
        "tempr = df_ann.copy()\n",
        "df_train_ann = tempr[:int(0.7*(len(tempr)))]\n",
        "df_test_ann = tempr[int(0.7*(len(tempr))):]\n",
        "\n",
        "tempr2 = df_lr.copy()\n",
        "df_train_lr = tempr2[:int(0.7*(len(tempr2)))]\n",
        "df_test_lr = tempr2[int(0.7*(len(tempr2))):]\n",
        "\n",
        "df_test_pred = pd.DataFrame(columns = df_gt.columns)\n",
        "df_test_gt = df_lr.loc[2049:2927, ]"
      ]
    },
    {
      "cell_type": "code",
      "execution_count": null,
      "metadata": {
        "id": "6iazfbKM2Qbk"
      },
      "outputs": [],
      "source": [
        "for col in df_gt.columns.tolist():\n",
        "    X_train = pd.concat([df_train_ann[col],df_train_lr[col]], axis=1)\n",
        "    y_train = df_gt[col]\n",
        "    X_test = pd.concat([df_test_ann[col],df_test_lr[col]], axis=1)\n",
        "    \n",
        "    X_test.fillna(X_test.mean(),inplace=True)\n",
        "    \n",
        "    train = pd.concat([X_train,y_train],axis=1)\n",
        "    train.dropna(axis=0,how='any',inplace=True)\n",
        "    X_train = train.iloc[:,[0,1]]\n",
        "    y_train = train.iloc[:,2]\n",
        "    \n",
        "    model = DecisionTreeRegressor()\n",
        "    model.fit(X_train,y_train)\n",
        "    \n",
        "    df_test_pred[col] = model.predict(X_test)"
      ]
    },
    {
      "cell_type": "code",
      "execution_count": null,
      "metadata": {
        "colab": {
          "base_uri": "https://localhost:8080/"
        },
        "id": "_0W5niXg2WDg",
        "outputId": "e9d7dd73-a87d-4f05-d99e-6adad3f60d5c"
      },
      "outputs": [
        {
          "name": "stdout",
          "output_type": "stream",
          "text": [
            "23.470308\n",
            "45.765263\n",
            "0.38028256540985217\n",
            "37.6132\n",
            "63.27834\n",
            "0.5739755657790981\n",
            "46.57399\n",
            "73.91989\n",
            "0.5554472623564302\n",
            "52.96744\n",
            "82.07008\n",
            "0.590567147103859\n",
            "57.562786\n",
            "88.942635\n",
            "0.821052450943641\n",
            "61.46253\n",
            "93.43331\n",
            "0.7254205366258389\n",
            "54.917946\n",
            "82.89232\n",
            "1.4000344560924125\n",
            "75.00093\n",
            "115.60919\n",
            "0.9448249946158299\n",
            "44.07851\n",
            "66.77424\n",
            "1.1421774688837403\n",
            "91.581665\n",
            "139.80692\n",
            "0.4684189336018529\n",
            "32.445053\n",
            "45.775913\n",
            "0.9764626867948873\n",
            "109.42006\n",
            "166.75189\n",
            "0.4682199000999716\n"
          ]
        }
      ],
      "source": [
        "for i in range(1,13):\n",
        "    cols = [col for col in df_test_pred.columns.tolist() if col.startswith(str(i)+\"_\")]\n",
        "    res = calculate_metrics(df_test_pred[cols],df_test_gt[cols],np.nan)\n",
        "    print(res[0])\n",
        "    print(res[2])\n",
        "    print(res[1])"
      ]
    }
  ],
  "metadata": {
    "colab": {
      "collapsed_sections": [
        "lT3dFGXlXZK7",
        "JIAeEvHxN07s",
        "OgsDYOblVeJS",
        "nrMM_4wPvhRR",
        "0yYpY2mEkLqP",
        "ZjlnF029KZVi",
        "-KlwtJR2N9YJ",
        "n5_2c7NDO1dx",
        "atr081ITvBqR"
      ],
      "provenance": [],
      "include_colab_link": true
    },
    "kernelspec": {
      "display_name": "Python 3",
      "name": "python3"
    },
    "language_info": {
      "name": "python"
    }
  },
  "nbformat": 4,
  "nbformat_minor": 0
}