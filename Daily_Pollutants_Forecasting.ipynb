{
  "cells": [
    {
      "cell_type": "markdown",
      "metadata": {
        "id": "view-in-github",
        "colab_type": "text"
      },
      "source": [
        "<a href=\"https://colab.research.google.com/github/AnweshaC21/Air-pollution-analysis-and-the-effect-of-Covid/blob/main/Pollutants_Forecasting.ipynb\" target=\"_parent\"><img src=\"https://colab.research.google.com/assets/colab-badge.svg\" alt=\"Open In Colab\"/></a>"
      ]
    },
    {
      "cell_type": "code",
      "execution_count": null,
      "metadata": {
        "colab": {
          "base_uri": "https://localhost:8080/"
        },
        "id": "V11fufsU6IiM",
        "outputId": "67ea2630-90f6-4f66-fc0a-cb3e4494c453"
      },
      "outputs": [
        {
          "name": "stdout",
          "output_type": "stream",
          "text": [
            "Mounted at /content/gdrive\n"
          ]
        }
      ],
      "source": [
        "from google.colab import drive\n",
        "drive.mount('/content/gdrive')"
      ]
    },
    {
      "cell_type": "markdown",
      "metadata": {
        "id": "sFrkBIb7C88T"
      },
      "source": [
        "#PM2.5"
      ]
    },
    {
      "cell_type": "code",
      "execution_count": null,
      "metadata": {
        "id": "eJ5rmFgjNjhf"
      },
      "outputs": [],
      "source": [
        "import numpy as np\n",
        "import pandas as pd\n",
        "from matplotlib import pyplot as plt\n",
        "%matplotlib inline\n",
        "from matplotlib.pylab import rcParams\n",
        "import seaborn as sns\n",
        "rcParams['figure.figsize']=10,8"
      ]
    },
    {
      "cell_type": "code",
      "execution_count": null,
      "metadata": {
        "id": "GrWGneVkzp8_"
      },
      "outputs": [],
      "source": [
        "df = pd.read_csv('/content/gdrive/MyDrive/Covid Pollutants Analysis/Alipur.csv', parse_dates=[0])     #daily data for PM2.5, PM10, NO2\n",
        "df2 = pd.read_csv('/content/gdrive/MyDrive/Covid Pollutants Analysis/Alipur_2.csv', parse_dates=[0])  #8 hrs data for CO, Ozone"
      ]
    },
    {
      "cell_type": "markdown",
      "metadata": {
        "id": "2FeaH_zKL9TN"
      },
      "source": [
        "###combining datasets"
      ]
    },
    {
      "cell_type": "code",
      "execution_count": null,
      "metadata": {
        "colab": {
          "base_uri": "https://localhost:8080/",
          "height": 206
        },
        "id": "N2ZbaqL1QGRU",
        "outputId": "189ec1b2-9e3f-489e-fd24-06f41359b8d2"
      },
      "outputs": [
        {
          "data": {
            "text/html": [
              "\n",
              "  <div id=\"df-9de4ee92-2074-4880-b22d-cafa61880854\">\n",
              "    <div class=\"colab-df-container\">\n",
              "      <div>\n",
              "<style scoped>\n",
              "    .dataframe tbody tr th:only-of-type {\n",
              "        vertical-align: middle;\n",
              "    }\n",
              "\n",
              "    .dataframe tbody tr th {\n",
              "        vertical-align: top;\n",
              "    }\n",
              "\n",
              "    .dataframe thead th {\n",
              "        text-align: right;\n",
              "    }\n",
              "</style>\n",
              "<table border=\"1\" class=\"dataframe\">\n",
              "  <thead>\n",
              "    <tr style=\"text-align: right;\">\n",
              "      <th></th>\n",
              "      <th>Date</th>\n",
              "      <th>CO</th>\n",
              "      <th>Ozone</th>\n",
              "    </tr>\n",
              "  </thead>\n",
              "  <tbody>\n",
              "    <tr>\n",
              "      <th>0</th>\n",
              "      <td>2019-01-01 00:00:00</td>\n",
              "      <td>2.16</td>\n",
              "      <td>6.27</td>\n",
              "    </tr>\n",
              "    <tr>\n",
              "      <th>1</th>\n",
              "      <td>2019-01-01 08:00:00</td>\n",
              "      <td>1.26</td>\n",
              "      <td>47.42</td>\n",
              "    </tr>\n",
              "    <tr>\n",
              "      <th>2</th>\n",
              "      <td>2019-01-01 16:00:00</td>\n",
              "      <td>1.70</td>\n",
              "      <td>16.23</td>\n",
              "    </tr>\n",
              "    <tr>\n",
              "      <th>3</th>\n",
              "      <td>2019-02-01 00:00:00</td>\n",
              "      <td>1.79</td>\n",
              "      <td>1.32</td>\n",
              "    </tr>\n",
              "    <tr>\n",
              "      <th>4</th>\n",
              "      <td>2019-02-01 08:00:00</td>\n",
              "      <td>1.68</td>\n",
              "      <td>50.98</td>\n",
              "    </tr>\n",
              "  </tbody>\n",
              "</table>\n",
              "</div>\n",
              "      <button class=\"colab-df-convert\" onclick=\"convertToInteractive('df-9de4ee92-2074-4880-b22d-cafa61880854')\"\n",
              "              title=\"Convert this dataframe to an interactive table.\"\n",
              "              style=\"display:none;\">\n",
              "        \n",
              "  <svg xmlns=\"http://www.w3.org/2000/svg\" height=\"24px\"viewBox=\"0 0 24 24\"\n",
              "       width=\"24px\">\n",
              "    <path d=\"M0 0h24v24H0V0z\" fill=\"none\"/>\n",
              "    <path d=\"M18.56 5.44l.94 2.06.94-2.06 2.06-.94-2.06-.94-.94-2.06-.94 2.06-2.06.94zm-11 1L8.5 8.5l.94-2.06 2.06-.94-2.06-.94L8.5 2.5l-.94 2.06-2.06.94zm10 10l.94 2.06.94-2.06 2.06-.94-2.06-.94-.94-2.06-.94 2.06-2.06.94z\"/><path d=\"M17.41 7.96l-1.37-1.37c-.4-.4-.92-.59-1.43-.59-.52 0-1.04.2-1.43.59L10.3 9.45l-7.72 7.72c-.78.78-.78 2.05 0 2.83L4 21.41c.39.39.9.59 1.41.59.51 0 1.02-.2 1.41-.59l7.78-7.78 2.81-2.81c.8-.78.8-2.07 0-2.86zM5.41 20L4 18.59l7.72-7.72 1.47 1.35L5.41 20z\"/>\n",
              "  </svg>\n",
              "      </button>\n",
              "      \n",
              "  <style>\n",
              "    .colab-df-container {\n",
              "      display:flex;\n",
              "      flex-wrap:wrap;\n",
              "      gap: 12px;\n",
              "    }\n",
              "\n",
              "    .colab-df-convert {\n",
              "      background-color: #E8F0FE;\n",
              "      border: none;\n",
              "      border-radius: 50%;\n",
              "      cursor: pointer;\n",
              "      display: none;\n",
              "      fill: #1967D2;\n",
              "      height: 32px;\n",
              "      padding: 0 0 0 0;\n",
              "      width: 32px;\n",
              "    }\n",
              "\n",
              "    .colab-df-convert:hover {\n",
              "      background-color: #E2EBFA;\n",
              "      box-shadow: 0px 1px 2px rgba(60, 64, 67, 0.3), 0px 1px 3px 1px rgba(60, 64, 67, 0.15);\n",
              "      fill: #174EA6;\n",
              "    }\n",
              "\n",
              "    [theme=dark] .colab-df-convert {\n",
              "      background-color: #3B4455;\n",
              "      fill: #D2E3FC;\n",
              "    }\n",
              "\n",
              "    [theme=dark] .colab-df-convert:hover {\n",
              "      background-color: #434B5C;\n",
              "      box-shadow: 0px 1px 3px 1px rgba(0, 0, 0, 0.15);\n",
              "      filter: drop-shadow(0px 1px 2px rgba(0, 0, 0, 0.3));\n",
              "      fill: #FFFFFF;\n",
              "    }\n",
              "  </style>\n",
              "\n",
              "      <script>\n",
              "        const buttonEl =\n",
              "          document.querySelector('#df-9de4ee92-2074-4880-b22d-cafa61880854 button.colab-df-convert');\n",
              "        buttonEl.style.display =\n",
              "          google.colab.kernel.accessAllowed ? 'block' : 'none';\n",
              "\n",
              "        async function convertToInteractive(key) {\n",
              "          const element = document.querySelector('#df-9de4ee92-2074-4880-b22d-cafa61880854');\n",
              "          const dataTable =\n",
              "            await google.colab.kernel.invokeFunction('convertToInteractive',\n",
              "                                                     [key], {});\n",
              "          if (!dataTable) return;\n",
              "\n",
              "          const docLinkHtml = 'Like what you see? Visit the ' +\n",
              "            '<a target=\"_blank\" href=https://colab.research.google.com/notebooks/data_table.ipynb>data table notebook</a>'\n",
              "            + ' to learn more about interactive tables.';\n",
              "          element.innerHTML = '';\n",
              "          dataTable['output_type'] = 'display_data';\n",
              "          await google.colab.output.renderOutput(dataTable, element);\n",
              "          const docLink = document.createElement('div');\n",
              "          docLink.innerHTML = docLinkHtml;\n",
              "          element.appendChild(docLink);\n",
              "        }\n",
              "      </script>\n",
              "    </div>\n",
              "  </div>\n",
              "  "
            ],
            "text/plain": [
              "                 Date    CO  Ozone\n",
              "0 2019-01-01 00:00:00  2.16   6.27\n",
              "1 2019-01-01 08:00:00  1.26  47.42\n",
              "2 2019-01-01 16:00:00  1.70  16.23\n",
              "3 2019-02-01 00:00:00  1.79   1.32\n",
              "4 2019-02-01 08:00:00  1.68  50.98"
            ]
          },
          "execution_count": 4,
          "metadata": {},
          "output_type": "execute_result"
        }
      ],
      "source": [
        "df2.head()"
      ]
    },
    {
      "cell_type": "code",
      "execution_count": null,
      "metadata": {
        "colab": {
          "base_uri": "https://localhost:8080/",
          "height": 206
        },
        "id": "kVT5yRWgMATl",
        "outputId": "106d7515-a62a-4191-f2f3-7516939b0c49"
      },
      "outputs": [
        {
          "data": {
            "text/html": [
              "\n",
              "  <div id=\"df-ecdca627-8f7a-40e4-8f40-1af3c547c3b3\">\n",
              "    <div class=\"colab-df-container\">\n",
              "      <div>\n",
              "<style scoped>\n",
              "    .dataframe tbody tr th:only-of-type {\n",
              "        vertical-align: middle;\n",
              "    }\n",
              "\n",
              "    .dataframe tbody tr th {\n",
              "        vertical-align: top;\n",
              "    }\n",
              "\n",
              "    .dataframe thead th {\n",
              "        text-align: right;\n",
              "    }\n",
              "</style>\n",
              "<table border=\"1\" class=\"dataframe\">\n",
              "  <thead>\n",
              "    <tr style=\"text-align: right;\">\n",
              "      <th></th>\n",
              "      <th>Date</th>\n",
              "      <th>CO</th>\n",
              "      <th>Ozone</th>\n",
              "    </tr>\n",
              "  </thead>\n",
              "  <tbody>\n",
              "    <tr>\n",
              "      <th>1090</th>\n",
              "      <td>2019-12-30 08:00:00</td>\n",
              "      <td>2.28</td>\n",
              "      <td>5.21</td>\n",
              "    </tr>\n",
              "    <tr>\n",
              "      <th>1091</th>\n",
              "      <td>2019-12-30 16:00:00</td>\n",
              "      <td>2.30</td>\n",
              "      <td>4.52</td>\n",
              "    </tr>\n",
              "    <tr>\n",
              "      <th>1092</th>\n",
              "      <td>2019-12-31 00:00:00</td>\n",
              "      <td>1.45</td>\n",
              "      <td>11.38</td>\n",
              "    </tr>\n",
              "    <tr>\n",
              "      <th>1093</th>\n",
              "      <td>2019-12-31 08:00:00</td>\n",
              "      <td>0.72</td>\n",
              "      <td>36.34</td>\n",
              "    </tr>\n",
              "    <tr>\n",
              "      <th>1094</th>\n",
              "      <td>2019-12-31 16:00:00</td>\n",
              "      <td>2.24</td>\n",
              "      <td>15.97</td>\n",
              "    </tr>\n",
              "  </tbody>\n",
              "</table>\n",
              "</div>\n",
              "      <button class=\"colab-df-convert\" onclick=\"convertToInteractive('df-ecdca627-8f7a-40e4-8f40-1af3c547c3b3')\"\n",
              "              title=\"Convert this dataframe to an interactive table.\"\n",
              "              style=\"display:none;\">\n",
              "        \n",
              "  <svg xmlns=\"http://www.w3.org/2000/svg\" height=\"24px\"viewBox=\"0 0 24 24\"\n",
              "       width=\"24px\">\n",
              "    <path d=\"M0 0h24v24H0V0z\" fill=\"none\"/>\n",
              "    <path d=\"M18.56 5.44l.94 2.06.94-2.06 2.06-.94-2.06-.94-.94-2.06-.94 2.06-2.06.94zm-11 1L8.5 8.5l.94-2.06 2.06-.94-2.06-.94L8.5 2.5l-.94 2.06-2.06.94zm10 10l.94 2.06.94-2.06 2.06-.94-2.06-.94-.94-2.06-.94 2.06-2.06.94z\"/><path d=\"M17.41 7.96l-1.37-1.37c-.4-.4-.92-.59-1.43-.59-.52 0-1.04.2-1.43.59L10.3 9.45l-7.72 7.72c-.78.78-.78 2.05 0 2.83L4 21.41c.39.39.9.59 1.41.59.51 0 1.02-.2 1.41-.59l7.78-7.78 2.81-2.81c.8-.78.8-2.07 0-2.86zM5.41 20L4 18.59l7.72-7.72 1.47 1.35L5.41 20z\"/>\n",
              "  </svg>\n",
              "      </button>\n",
              "      \n",
              "  <style>\n",
              "    .colab-df-container {\n",
              "      display:flex;\n",
              "      flex-wrap:wrap;\n",
              "      gap: 12px;\n",
              "    }\n",
              "\n",
              "    .colab-df-convert {\n",
              "      background-color: #E8F0FE;\n",
              "      border: none;\n",
              "      border-radius: 50%;\n",
              "      cursor: pointer;\n",
              "      display: none;\n",
              "      fill: #1967D2;\n",
              "      height: 32px;\n",
              "      padding: 0 0 0 0;\n",
              "      width: 32px;\n",
              "    }\n",
              "\n",
              "    .colab-df-convert:hover {\n",
              "      background-color: #E2EBFA;\n",
              "      box-shadow: 0px 1px 2px rgba(60, 64, 67, 0.3), 0px 1px 3px 1px rgba(60, 64, 67, 0.15);\n",
              "      fill: #174EA6;\n",
              "    }\n",
              "\n",
              "    [theme=dark] .colab-df-convert {\n",
              "      background-color: #3B4455;\n",
              "      fill: #D2E3FC;\n",
              "    }\n",
              "\n",
              "    [theme=dark] .colab-df-convert:hover {\n",
              "      background-color: #434B5C;\n",
              "      box-shadow: 0px 1px 3px 1px rgba(0, 0, 0, 0.15);\n",
              "      filter: drop-shadow(0px 1px 2px rgba(0, 0, 0, 0.3));\n",
              "      fill: #FFFFFF;\n",
              "    }\n",
              "  </style>\n",
              "\n",
              "      <script>\n",
              "        const buttonEl =\n",
              "          document.querySelector('#df-ecdca627-8f7a-40e4-8f40-1af3c547c3b3 button.colab-df-convert');\n",
              "        buttonEl.style.display =\n",
              "          google.colab.kernel.accessAllowed ? 'block' : 'none';\n",
              "\n",
              "        async function convertToInteractive(key) {\n",
              "          const element = document.querySelector('#df-ecdca627-8f7a-40e4-8f40-1af3c547c3b3');\n",
              "          const dataTable =\n",
              "            await google.colab.kernel.invokeFunction('convertToInteractive',\n",
              "                                                     [key], {});\n",
              "          if (!dataTable) return;\n",
              "\n",
              "          const docLinkHtml = 'Like what you see? Visit the ' +\n",
              "            '<a target=\"_blank\" href=https://colab.research.google.com/notebooks/data_table.ipynb>data table notebook</a>'\n",
              "            + ' to learn more about interactive tables.';\n",
              "          element.innerHTML = '';\n",
              "          dataTable['output_type'] = 'display_data';\n",
              "          await google.colab.output.renderOutput(dataTable, element);\n",
              "          const docLink = document.createElement('div');\n",
              "          docLink.innerHTML = docLinkHtml;\n",
              "          element.appendChild(docLink);\n",
              "        }\n",
              "      </script>\n",
              "    </div>\n",
              "  </div>\n",
              "  "
            ],
            "text/plain": [
              "                    Date    CO  Ozone\n",
              "1090 2019-12-30 08:00:00  2.28   5.21\n",
              "1091 2019-12-30 16:00:00  2.30   4.52\n",
              "1092 2019-12-31 00:00:00  1.45  11.38\n",
              "1093 2019-12-31 08:00:00  0.72  36.34\n",
              "1094 2019-12-31 16:00:00  2.24  15.97"
            ]
          },
          "execution_count": 5,
          "metadata": {},
          "output_type": "execute_result"
        }
      ],
      "source": [
        "df2.tail()"
      ]
    },
    {
      "cell_type": "code",
      "execution_count": null,
      "metadata": {
        "colab": {
          "base_uri": "https://localhost:8080/"
        },
        "id": "Whcth-OGPyO5",
        "outputId": "e0b9ac6f-9af1-4faf-abbb-dd411a59ee84"
      },
      "outputs": [
        {
          "name": "stderr",
          "output_type": "stream",
          "text": [
            "/usr/local/lib/python3.7/dist-packages/ipykernel_launcher.py:9: SettingWithCopyWarning: \n",
            "A value is trying to be set on a copy of a slice from a DataFrame\n",
            "\n",
            "See the caveats in the documentation: https://pandas.pydata.org/pandas-docs/stable/user_guide/indexing.html#returning-a-view-versus-a-copy\n",
            "  if __name__ == '__main__':\n",
            "/usr/local/lib/python3.7/dist-packages/ipykernel_launcher.py:10: SettingWithCopyWarning: \n",
            "A value is trying to be set on a copy of a slice from a DataFrame\n",
            "\n",
            "See the caveats in the documentation: https://pandas.pydata.org/pandas-docs/stable/user_guide/indexing.html#returning-a-view-versus-a-copy\n",
            "  # Remove the CWD from sys.path while we load stuff.\n"
          ]
        }
      ],
      "source": [
        "#converting 8 hrs data to daily data\n",
        "\n",
        "df['CO'] = np.NaN\n",
        "df['Ozone'] = np.NaN\n",
        "\n",
        "i=0\n",
        "j=0\n",
        "while (i < len(df2)):\n",
        "  df['CO'][j] = (df2['CO'][i] + df2['CO'][i+1] + df2['CO'][i+2])/3\n",
        "  df['Ozone'][j] = (df2['Ozone'][i] + df2['Ozone'][i+1] + df2['Ozone'][i+2])/3\n",
        "  i+=3\n",
        "  j+=1  "
      ]
    },
    {
      "cell_type": "markdown",
      "metadata": {
        "id": "ScM0qARD2fFA"
      },
      "source": [
        "###describe dataset"
      ]
    },
    {
      "cell_type": "code",
      "execution_count": null,
      "metadata": {
        "colab": {
          "base_uri": "https://localhost:8080/",
          "height": 206
        },
        "id": "urB0qwjT3DOu",
        "outputId": "8a35723d-33e6-44b6-e272-4527cd56fe0d"
      },
      "outputs": [
        {
          "data": {
            "text/html": [
              "\n",
              "  <div id=\"df-bcbb3627-2c01-4e9f-9832-66cf9a7a596a\">\n",
              "    <div class=\"colab-df-container\">\n",
              "      <div>\n",
              "<style scoped>\n",
              "    .dataframe tbody tr th:only-of-type {\n",
              "        vertical-align: middle;\n",
              "    }\n",
              "\n",
              "    .dataframe tbody tr th {\n",
              "        vertical-align: top;\n",
              "    }\n",
              "\n",
              "    .dataframe thead th {\n",
              "        text-align: right;\n",
              "    }\n",
              "</style>\n",
              "<table border=\"1\" class=\"dataframe\">\n",
              "  <thead>\n",
              "    <tr style=\"text-align: right;\">\n",
              "      <th></th>\n",
              "      <th>Date</th>\n",
              "      <th>PM25</th>\n",
              "      <th>PM10</th>\n",
              "      <th>NO2</th>\n",
              "      <th>CO</th>\n",
              "      <th>Ozone</th>\n",
              "    </tr>\n",
              "  </thead>\n",
              "  <tbody>\n",
              "    <tr>\n",
              "      <th>0</th>\n",
              "      <td>2019-01-01</td>\n",
              "      <td>309.79</td>\n",
              "      <td>455.43</td>\n",
              "      <td>109.48</td>\n",
              "      <td>1.706667</td>\n",
              "      <td>23.306667</td>\n",
              "    </tr>\n",
              "    <tr>\n",
              "      <th>1</th>\n",
              "      <td>2019-02-01</td>\n",
              "      <td>339.24</td>\n",
              "      <td>468.76</td>\n",
              "      <td>114.94</td>\n",
              "      <td>1.896667</td>\n",
              "      <td>22.316667</td>\n",
              "    </tr>\n",
              "    <tr>\n",
              "      <th>2</th>\n",
              "      <td>2019-03-01</td>\n",
              "      <td>367.25</td>\n",
              "      <td>509.33</td>\n",
              "      <td>110.51</td>\n",
              "      <td>1.973333</td>\n",
              "      <td>19.536667</td>\n",
              "    </tr>\n",
              "    <tr>\n",
              "      <th>3</th>\n",
              "      <td>2019-04-01</td>\n",
              "      <td>222.16</td>\n",
              "      <td>345.14</td>\n",
              "      <td>99.70</td>\n",
              "      <td>1.356667</td>\n",
              "      <td>12.353333</td>\n",
              "    </tr>\n",
              "    <tr>\n",
              "      <th>4</th>\n",
              "      <td>2019-05-01</td>\n",
              "      <td>226.40</td>\n",
              "      <td>327.51</td>\n",
              "      <td>94.90</td>\n",
              "      <td>1.403333</td>\n",
              "      <td>19.816667</td>\n",
              "    </tr>\n",
              "  </tbody>\n",
              "</table>\n",
              "</div>\n",
              "      <button class=\"colab-df-convert\" onclick=\"convertToInteractive('df-bcbb3627-2c01-4e9f-9832-66cf9a7a596a')\"\n",
              "              title=\"Convert this dataframe to an interactive table.\"\n",
              "              style=\"display:none;\">\n",
              "        \n",
              "  <svg xmlns=\"http://www.w3.org/2000/svg\" height=\"24px\"viewBox=\"0 0 24 24\"\n",
              "       width=\"24px\">\n",
              "    <path d=\"M0 0h24v24H0V0z\" fill=\"none\"/>\n",
              "    <path d=\"M18.56 5.44l.94 2.06.94-2.06 2.06-.94-2.06-.94-.94-2.06-.94 2.06-2.06.94zm-11 1L8.5 8.5l.94-2.06 2.06-.94-2.06-.94L8.5 2.5l-.94 2.06-2.06.94zm10 10l.94 2.06.94-2.06 2.06-.94-2.06-.94-.94-2.06-.94 2.06-2.06.94z\"/><path d=\"M17.41 7.96l-1.37-1.37c-.4-.4-.92-.59-1.43-.59-.52 0-1.04.2-1.43.59L10.3 9.45l-7.72 7.72c-.78.78-.78 2.05 0 2.83L4 21.41c.39.39.9.59 1.41.59.51 0 1.02-.2 1.41-.59l7.78-7.78 2.81-2.81c.8-.78.8-2.07 0-2.86zM5.41 20L4 18.59l7.72-7.72 1.47 1.35L5.41 20z\"/>\n",
              "  </svg>\n",
              "      </button>\n",
              "      \n",
              "  <style>\n",
              "    .colab-df-container {\n",
              "      display:flex;\n",
              "      flex-wrap:wrap;\n",
              "      gap: 12px;\n",
              "    }\n",
              "\n",
              "    .colab-df-convert {\n",
              "      background-color: #E8F0FE;\n",
              "      border: none;\n",
              "      border-radius: 50%;\n",
              "      cursor: pointer;\n",
              "      display: none;\n",
              "      fill: #1967D2;\n",
              "      height: 32px;\n",
              "      padding: 0 0 0 0;\n",
              "      width: 32px;\n",
              "    }\n",
              "\n",
              "    .colab-df-convert:hover {\n",
              "      background-color: #E2EBFA;\n",
              "      box-shadow: 0px 1px 2px rgba(60, 64, 67, 0.3), 0px 1px 3px 1px rgba(60, 64, 67, 0.15);\n",
              "      fill: #174EA6;\n",
              "    }\n",
              "\n",
              "    [theme=dark] .colab-df-convert {\n",
              "      background-color: #3B4455;\n",
              "      fill: #D2E3FC;\n",
              "    }\n",
              "\n",
              "    [theme=dark] .colab-df-convert:hover {\n",
              "      background-color: #434B5C;\n",
              "      box-shadow: 0px 1px 3px 1px rgba(0, 0, 0, 0.15);\n",
              "      filter: drop-shadow(0px 1px 2px rgba(0, 0, 0, 0.3));\n",
              "      fill: #FFFFFF;\n",
              "    }\n",
              "  </style>\n",
              "\n",
              "      <script>\n",
              "        const buttonEl =\n",
              "          document.querySelector('#df-bcbb3627-2c01-4e9f-9832-66cf9a7a596a button.colab-df-convert');\n",
              "        buttonEl.style.display =\n",
              "          google.colab.kernel.accessAllowed ? 'block' : 'none';\n",
              "\n",
              "        async function convertToInteractive(key) {\n",
              "          const element = document.querySelector('#df-bcbb3627-2c01-4e9f-9832-66cf9a7a596a');\n",
              "          const dataTable =\n",
              "            await google.colab.kernel.invokeFunction('convertToInteractive',\n",
              "                                                     [key], {});\n",
              "          if (!dataTable) return;\n",
              "\n",
              "          const docLinkHtml = 'Like what you see? Visit the ' +\n",
              "            '<a target=\"_blank\" href=https://colab.research.google.com/notebooks/data_table.ipynb>data table notebook</a>'\n",
              "            + ' to learn more about interactive tables.';\n",
              "          element.innerHTML = '';\n",
              "          dataTable['output_type'] = 'display_data';\n",
              "          await google.colab.output.renderOutput(dataTable, element);\n",
              "          const docLink = document.createElement('div');\n",
              "          docLink.innerHTML = docLinkHtml;\n",
              "          element.appendChild(docLink);\n",
              "        }\n",
              "      </script>\n",
              "    </div>\n",
              "  </div>\n",
              "  "
            ],
            "text/plain": [
              "        Date    PM25    PM10     NO2        CO      Ozone\n",
              "0 2019-01-01  309.79  455.43  109.48  1.706667  23.306667\n",
              "1 2019-02-01  339.24  468.76  114.94  1.896667  22.316667\n",
              "2 2019-03-01  367.25  509.33  110.51  1.973333  19.536667\n",
              "3 2019-04-01  222.16  345.14   99.70  1.356667  12.353333\n",
              "4 2019-05-01  226.40  327.51   94.90  1.403333  19.816667"
            ]
          },
          "execution_count": 7,
          "metadata": {},
          "output_type": "execute_result"
        }
      ],
      "source": [
        "df.head()"
      ]
    },
    {
      "cell_type": "code",
      "execution_count": null,
      "metadata": {
        "colab": {
          "base_uri": "https://localhost:8080/",
          "height": 206
        },
        "id": "6Sgr4zq8QO6c",
        "outputId": "aed49116-8a0e-412e-f6a9-8b90ebe60c79"
      },
      "outputs": [
        {
          "data": {
            "text/html": [
              "\n",
              "  <div id=\"df-7e57d244-0418-4c81-8ff0-e607d8e51a80\">\n",
              "    <div class=\"colab-df-container\">\n",
              "      <div>\n",
              "<style scoped>\n",
              "    .dataframe tbody tr th:only-of-type {\n",
              "        vertical-align: middle;\n",
              "    }\n",
              "\n",
              "    .dataframe tbody tr th {\n",
              "        vertical-align: top;\n",
              "    }\n",
              "\n",
              "    .dataframe thead th {\n",
              "        text-align: right;\n",
              "    }\n",
              "</style>\n",
              "<table border=\"1\" class=\"dataframe\">\n",
              "  <thead>\n",
              "    <tr style=\"text-align: right;\">\n",
              "      <th></th>\n",
              "      <th>Date</th>\n",
              "      <th>PM25</th>\n",
              "      <th>PM10</th>\n",
              "      <th>NO2</th>\n",
              "      <th>CO</th>\n",
              "      <th>Ozone</th>\n",
              "    </tr>\n",
              "  </thead>\n",
              "  <tbody>\n",
              "    <tr>\n",
              "      <th>360</th>\n",
              "      <td>2019-12-27</td>\n",
              "      <td>193.14</td>\n",
              "      <td>312.09</td>\n",
              "      <td>59.16</td>\n",
              "      <td>1.000000</td>\n",
              "      <td>9.116667</td>\n",
              "    </tr>\n",
              "    <tr>\n",
              "      <th>361</th>\n",
              "      <td>2019-12-28</td>\n",
              "      <td>216.47</td>\n",
              "      <td>303.81</td>\n",
              "      <td>55.15</td>\n",
              "      <td>1.190000</td>\n",
              "      <td>11.600000</td>\n",
              "    </tr>\n",
              "    <tr>\n",
              "      <th>362</th>\n",
              "      <td>2019-12-29</td>\n",
              "      <td>245.57</td>\n",
              "      <td>353.35</td>\n",
              "      <td>55.37</td>\n",
              "      <td>1.543333</td>\n",
              "      <td>24.960000</td>\n",
              "    </tr>\n",
              "    <tr>\n",
              "      <th>363</th>\n",
              "      <td>2019-12-30</td>\n",
              "      <td>243.46</td>\n",
              "      <td>315.16</td>\n",
              "      <td>65.61</td>\n",
              "      <td>2.450000</td>\n",
              "      <td>3.866667</td>\n",
              "    </tr>\n",
              "    <tr>\n",
              "      <th>364</th>\n",
              "      <td>2019-12-31</td>\n",
              "      <td>232.97</td>\n",
              "      <td>303.78</td>\n",
              "      <td>59.11</td>\n",
              "      <td>1.470000</td>\n",
              "      <td>21.230000</td>\n",
              "    </tr>\n",
              "  </tbody>\n",
              "</table>\n",
              "</div>\n",
              "      <button class=\"colab-df-convert\" onclick=\"convertToInteractive('df-7e57d244-0418-4c81-8ff0-e607d8e51a80')\"\n",
              "              title=\"Convert this dataframe to an interactive table.\"\n",
              "              style=\"display:none;\">\n",
              "        \n",
              "  <svg xmlns=\"http://www.w3.org/2000/svg\" height=\"24px\"viewBox=\"0 0 24 24\"\n",
              "       width=\"24px\">\n",
              "    <path d=\"M0 0h24v24H0V0z\" fill=\"none\"/>\n",
              "    <path d=\"M18.56 5.44l.94 2.06.94-2.06 2.06-.94-2.06-.94-.94-2.06-.94 2.06-2.06.94zm-11 1L8.5 8.5l.94-2.06 2.06-.94-2.06-.94L8.5 2.5l-.94 2.06-2.06.94zm10 10l.94 2.06.94-2.06 2.06-.94-2.06-.94-.94-2.06-.94 2.06-2.06.94z\"/><path d=\"M17.41 7.96l-1.37-1.37c-.4-.4-.92-.59-1.43-.59-.52 0-1.04.2-1.43.59L10.3 9.45l-7.72 7.72c-.78.78-.78 2.05 0 2.83L4 21.41c.39.39.9.59 1.41.59.51 0 1.02-.2 1.41-.59l7.78-7.78 2.81-2.81c.8-.78.8-2.07 0-2.86zM5.41 20L4 18.59l7.72-7.72 1.47 1.35L5.41 20z\"/>\n",
              "  </svg>\n",
              "      </button>\n",
              "      \n",
              "  <style>\n",
              "    .colab-df-container {\n",
              "      display:flex;\n",
              "      flex-wrap:wrap;\n",
              "      gap: 12px;\n",
              "    }\n",
              "\n",
              "    .colab-df-convert {\n",
              "      background-color: #E8F0FE;\n",
              "      border: none;\n",
              "      border-radius: 50%;\n",
              "      cursor: pointer;\n",
              "      display: none;\n",
              "      fill: #1967D2;\n",
              "      height: 32px;\n",
              "      padding: 0 0 0 0;\n",
              "      width: 32px;\n",
              "    }\n",
              "\n",
              "    .colab-df-convert:hover {\n",
              "      background-color: #E2EBFA;\n",
              "      box-shadow: 0px 1px 2px rgba(60, 64, 67, 0.3), 0px 1px 3px 1px rgba(60, 64, 67, 0.15);\n",
              "      fill: #174EA6;\n",
              "    }\n",
              "\n",
              "    [theme=dark] .colab-df-convert {\n",
              "      background-color: #3B4455;\n",
              "      fill: #D2E3FC;\n",
              "    }\n",
              "\n",
              "    [theme=dark] .colab-df-convert:hover {\n",
              "      background-color: #434B5C;\n",
              "      box-shadow: 0px 1px 3px 1px rgba(0, 0, 0, 0.15);\n",
              "      filter: drop-shadow(0px 1px 2px rgba(0, 0, 0, 0.3));\n",
              "      fill: #FFFFFF;\n",
              "    }\n",
              "  </style>\n",
              "\n",
              "      <script>\n",
              "        const buttonEl =\n",
              "          document.querySelector('#df-7e57d244-0418-4c81-8ff0-e607d8e51a80 button.colab-df-convert');\n",
              "        buttonEl.style.display =\n",
              "          google.colab.kernel.accessAllowed ? 'block' : 'none';\n",
              "\n",
              "        async function convertToInteractive(key) {\n",
              "          const element = document.querySelector('#df-7e57d244-0418-4c81-8ff0-e607d8e51a80');\n",
              "          const dataTable =\n",
              "            await google.colab.kernel.invokeFunction('convertToInteractive',\n",
              "                                                     [key], {});\n",
              "          if (!dataTable) return;\n",
              "\n",
              "          const docLinkHtml = 'Like what you see? Visit the ' +\n",
              "            '<a target=\"_blank\" href=https://colab.research.google.com/notebooks/data_table.ipynb>data table notebook</a>'\n",
              "            + ' to learn more about interactive tables.';\n",
              "          element.innerHTML = '';\n",
              "          dataTable['output_type'] = 'display_data';\n",
              "          await google.colab.output.renderOutput(dataTable, element);\n",
              "          const docLink = document.createElement('div');\n",
              "          docLink.innerHTML = docLinkHtml;\n",
              "          element.appendChild(docLink);\n",
              "        }\n",
              "      </script>\n",
              "    </div>\n",
              "  </div>\n",
              "  "
            ],
            "text/plain": [
              "          Date    PM25    PM10    NO2        CO      Ozone\n",
              "360 2019-12-27  193.14  312.09  59.16  1.000000   9.116667\n",
              "361 2019-12-28  216.47  303.81  55.15  1.190000  11.600000\n",
              "362 2019-12-29  245.57  353.35  55.37  1.543333  24.960000\n",
              "363 2019-12-30  243.46  315.16  65.61  2.450000   3.866667\n",
              "364 2019-12-31  232.97  303.78  59.11  1.470000  21.230000"
            ]
          },
          "execution_count": 8,
          "metadata": {},
          "output_type": "execute_result"
        }
      ],
      "source": [
        "df.tail()"
      ]
    },
    {
      "cell_type": "code",
      "execution_count": null,
      "metadata": {
        "colab": {
          "base_uri": "https://localhost:8080/"
        },
        "id": "cG1IuLaq0g3K",
        "outputId": "83c7e373-3b42-464e-c28d-fb261b3e81d9"
      },
      "outputs": [
        {
          "data": {
            "text/plain": [
              "(365, 6)"
            ]
          },
          "execution_count": 9,
          "metadata": {},
          "output_type": "execute_result"
        }
      ],
      "source": [
        "df.shape"
      ]
    },
    {
      "cell_type": "code",
      "execution_count": null,
      "metadata": {
        "colab": {
          "base_uri": "https://localhost:8080/"
        },
        "id": "9021eScs0jkP",
        "outputId": "a835b6af-ec31-4d6f-e039-9dbcaa20dce8"
      },
      "outputs": [
        {
          "name": "stdout",
          "output_type": "stream",
          "text": [
            "<class 'pandas.core.frame.DataFrame'>\n",
            "RangeIndex: 365 entries, 0 to 364\n",
            "Data columns (total 6 columns):\n",
            " #   Column  Non-Null Count  Dtype         \n",
            "---  ------  --------------  -----         \n",
            " 0   Date    365 non-null    datetime64[ns]\n",
            " 1   PM25    365 non-null    float64       \n",
            " 2   PM10    365 non-null    float64       \n",
            " 3   NO2     365 non-null    float64       \n",
            " 4   CO      365 non-null    float64       \n",
            " 5   Ozone   365 non-null    float64       \n",
            "dtypes: datetime64[ns](1), float64(5)\n",
            "memory usage: 17.2 KB\n"
          ]
        }
      ],
      "source": [
        "df.info()"
      ]
    },
    {
      "cell_type": "code",
      "execution_count": null,
      "metadata": {
        "colab": {
          "base_uri": "https://localhost:8080/",
          "height": 300
        },
        "id": "Z1A7yQUg3O4n",
        "outputId": "1d12a222-2183-4d60-8eab-52e30a1f2f23"
      },
      "outputs": [
        {
          "data": {
            "text/html": [
              "\n",
              "  <div id=\"df-78f17783-1f31-4993-a171-9cb7362cb04b\">\n",
              "    <div class=\"colab-df-container\">\n",
              "      <div>\n",
              "<style scoped>\n",
              "    .dataframe tbody tr th:only-of-type {\n",
              "        vertical-align: middle;\n",
              "    }\n",
              "\n",
              "    .dataframe tbody tr th {\n",
              "        vertical-align: top;\n",
              "    }\n",
              "\n",
              "    .dataframe thead th {\n",
              "        text-align: right;\n",
              "    }\n",
              "</style>\n",
              "<table border=\"1\" class=\"dataframe\">\n",
              "  <thead>\n",
              "    <tr style=\"text-align: right;\">\n",
              "      <th></th>\n",
              "      <th>PM25</th>\n",
              "      <th>PM10</th>\n",
              "      <th>NO2</th>\n",
              "      <th>CO</th>\n",
              "      <th>Ozone</th>\n",
              "    </tr>\n",
              "  </thead>\n",
              "  <tbody>\n",
              "    <tr>\n",
              "      <th>count</th>\n",
              "      <td>365.000000</td>\n",
              "      <td>365.000000</td>\n",
              "      <td>365.000000</td>\n",
              "      <td>365.000000</td>\n",
              "      <td>365.000000</td>\n",
              "    </tr>\n",
              "    <tr>\n",
              "      <th>mean</th>\n",
              "      <td>105.419192</td>\n",
              "      <td>202.835384</td>\n",
              "      <td>54.502384</td>\n",
              "      <td>0.865470</td>\n",
              "      <td>35.417274</td>\n",
              "    </tr>\n",
              "    <tr>\n",
              "      <th>std</th>\n",
              "      <td>86.229825</td>\n",
              "      <td>124.885371</td>\n",
              "      <td>20.547041</td>\n",
              "      <td>0.478790</td>\n",
              "      <td>17.063548</td>\n",
              "    </tr>\n",
              "    <tr>\n",
              "      <th>min</th>\n",
              "      <td>9.840000</td>\n",
              "      <td>9.960000</td>\n",
              "      <td>17.520000</td>\n",
              "      <td>0.253333</td>\n",
              "      <td>1.400000</td>\n",
              "    </tr>\n",
              "    <tr>\n",
              "      <th>25%</th>\n",
              "      <td>46.960000</td>\n",
              "      <td>99.940000</td>\n",
              "      <td>39.360000</td>\n",
              "      <td>0.556667</td>\n",
              "      <td>23.740000</td>\n",
              "    </tr>\n",
              "    <tr>\n",
              "      <th>50%</th>\n",
              "      <td>79.840000</td>\n",
              "      <td>188.880000</td>\n",
              "      <td>50.820000</td>\n",
              "      <td>0.726667</td>\n",
              "      <td>33.253333</td>\n",
              "    </tr>\n",
              "    <tr>\n",
              "      <th>75%</th>\n",
              "      <td>136.410000</td>\n",
              "      <td>288.110000</td>\n",
              "      <td>66.110000</td>\n",
              "      <td>1.000000</td>\n",
              "      <td>44.880000</td>\n",
              "    </tr>\n",
              "    <tr>\n",
              "      <th>max</th>\n",
              "      <td>715.040000</td>\n",
              "      <td>771.790000</td>\n",
              "      <td>119.700000</td>\n",
              "      <td>2.753333</td>\n",
              "      <td>110.712500</td>\n",
              "    </tr>\n",
              "  </tbody>\n",
              "</table>\n",
              "</div>\n",
              "      <button class=\"colab-df-convert\" onclick=\"convertToInteractive('df-78f17783-1f31-4993-a171-9cb7362cb04b')\"\n",
              "              title=\"Convert this dataframe to an interactive table.\"\n",
              "              style=\"display:none;\">\n",
              "        \n",
              "  <svg xmlns=\"http://www.w3.org/2000/svg\" height=\"24px\"viewBox=\"0 0 24 24\"\n",
              "       width=\"24px\">\n",
              "    <path d=\"M0 0h24v24H0V0z\" fill=\"none\"/>\n",
              "    <path d=\"M18.56 5.44l.94 2.06.94-2.06 2.06-.94-2.06-.94-.94-2.06-.94 2.06-2.06.94zm-11 1L8.5 8.5l.94-2.06 2.06-.94-2.06-.94L8.5 2.5l-.94 2.06-2.06.94zm10 10l.94 2.06.94-2.06 2.06-.94-2.06-.94-.94-2.06-.94 2.06-2.06.94z\"/><path d=\"M17.41 7.96l-1.37-1.37c-.4-.4-.92-.59-1.43-.59-.52 0-1.04.2-1.43.59L10.3 9.45l-7.72 7.72c-.78.78-.78 2.05 0 2.83L4 21.41c.39.39.9.59 1.41.59.51 0 1.02-.2 1.41-.59l7.78-7.78 2.81-2.81c.8-.78.8-2.07 0-2.86zM5.41 20L4 18.59l7.72-7.72 1.47 1.35L5.41 20z\"/>\n",
              "  </svg>\n",
              "      </button>\n",
              "      \n",
              "  <style>\n",
              "    .colab-df-container {\n",
              "      display:flex;\n",
              "      flex-wrap:wrap;\n",
              "      gap: 12px;\n",
              "    }\n",
              "\n",
              "    .colab-df-convert {\n",
              "      background-color: #E8F0FE;\n",
              "      border: none;\n",
              "      border-radius: 50%;\n",
              "      cursor: pointer;\n",
              "      display: none;\n",
              "      fill: #1967D2;\n",
              "      height: 32px;\n",
              "      padding: 0 0 0 0;\n",
              "      width: 32px;\n",
              "    }\n",
              "\n",
              "    .colab-df-convert:hover {\n",
              "      background-color: #E2EBFA;\n",
              "      box-shadow: 0px 1px 2px rgba(60, 64, 67, 0.3), 0px 1px 3px 1px rgba(60, 64, 67, 0.15);\n",
              "      fill: #174EA6;\n",
              "    }\n",
              "\n",
              "    [theme=dark] .colab-df-convert {\n",
              "      background-color: #3B4455;\n",
              "      fill: #D2E3FC;\n",
              "    }\n",
              "\n",
              "    [theme=dark] .colab-df-convert:hover {\n",
              "      background-color: #434B5C;\n",
              "      box-shadow: 0px 1px 3px 1px rgba(0, 0, 0, 0.15);\n",
              "      filter: drop-shadow(0px 1px 2px rgba(0, 0, 0, 0.3));\n",
              "      fill: #FFFFFF;\n",
              "    }\n",
              "  </style>\n",
              "\n",
              "      <script>\n",
              "        const buttonEl =\n",
              "          document.querySelector('#df-78f17783-1f31-4993-a171-9cb7362cb04b button.colab-df-convert');\n",
              "        buttonEl.style.display =\n",
              "          google.colab.kernel.accessAllowed ? 'block' : 'none';\n",
              "\n",
              "        async function convertToInteractive(key) {\n",
              "          const element = document.querySelector('#df-78f17783-1f31-4993-a171-9cb7362cb04b');\n",
              "          const dataTable =\n",
              "            await google.colab.kernel.invokeFunction('convertToInteractive',\n",
              "                                                     [key], {});\n",
              "          if (!dataTable) return;\n",
              "\n",
              "          const docLinkHtml = 'Like what you see? Visit the ' +\n",
              "            '<a target=\"_blank\" href=https://colab.research.google.com/notebooks/data_table.ipynb>data table notebook</a>'\n",
              "            + ' to learn more about interactive tables.';\n",
              "          element.innerHTML = '';\n",
              "          dataTable['output_type'] = 'display_data';\n",
              "          await google.colab.output.renderOutput(dataTable, element);\n",
              "          const docLink = document.createElement('div');\n",
              "          docLink.innerHTML = docLinkHtml;\n",
              "          element.appendChild(docLink);\n",
              "        }\n",
              "      </script>\n",
              "    </div>\n",
              "  </div>\n",
              "  "
            ],
            "text/plain": [
              "             PM25        PM10         NO2          CO       Ozone\n",
              "count  365.000000  365.000000  365.000000  365.000000  365.000000\n",
              "mean   105.419192  202.835384   54.502384    0.865470   35.417274\n",
              "std     86.229825  124.885371   20.547041    0.478790   17.063548\n",
              "min      9.840000    9.960000   17.520000    0.253333    1.400000\n",
              "25%     46.960000   99.940000   39.360000    0.556667   23.740000\n",
              "50%     79.840000  188.880000   50.820000    0.726667   33.253333\n",
              "75%    136.410000  288.110000   66.110000    1.000000   44.880000\n",
              "max    715.040000  771.790000  119.700000    2.753333  110.712500"
            ]
          },
          "execution_count": 11,
          "metadata": {},
          "output_type": "execute_result"
        }
      ],
      "source": [
        "df.describe()"
      ]
    },
    {
      "cell_type": "code",
      "execution_count": null,
      "metadata": {
        "colab": {
          "base_uri": "https://localhost:8080/",
          "height": 277
        },
        "id": "WZxHG0W34k19",
        "outputId": "3c696ce0-298e-48ac-d8b5-2a328813d686"
      },
      "outputs": [
        {
          "data": {
            "image/png": "[encoded data removed]",
            "text/plain": [
              "<Figure size 1800x288 with 5 Axes>"
            ]
          },
          "metadata": {},
          "output_type": "display_data"
        }
      ],
      "source": [
        "# univariate plots\n",
        "df.drop(['Date'], axis=1).hist(figsize=(25,4), layout=(1,5))\n",
        "plt.show()"
      ]
    },
    {
      "cell_type": "markdown",
      "metadata": {
        "id": "pg7psqidULII"
      },
      "source": [
        "###ML models"
      ]
    },
    {
      "cell_type": "code",
      "execution_count": null,
      "metadata": {
        "colab": {
          "base_uri": "https://localhost:8080/"
        },
        "id": "j4hsMRctGi1c",
        "outputId": "4e21e9f6-40f3-4367-9df9-e5cfaab73137"
      },
      "outputs": [
        {
          "name": "stderr",
          "output_type": "stream",
          "text": [
            "/usr/local/lib/python3.7/dist-packages/statsmodels/tools/_testing.py:19: FutureWarning: pandas.util.testing is deprecated. Use the functions in the public API at pandas.testing instead.\n",
            "  import pandas.util.testing as tm\n"
          ]
        }
      ],
      "source": [
        "import statsmodels.api as sm\n",
        "from sklearn.preprocessing import StandardScaler\n",
        "from sklearn.model_selection import train_test_split\n",
        "from sklearn.linear_model import LinearRegression\n",
        "from sklearn.metrics import mean_squared_error, mean_absolute_error, r2_score\n",
        "from sklearn.ensemble import AdaBoostRegressor\n",
        "from sklearn.tree import DecisionTreeRegressor\n",
        "from sklearn.model_selection import cross_val_score\n",
        "from sklearn.model_selection import GridSearchCV\n",
        "from sklearn.ensemble import RandomForestRegressor\n",
        "from sklearn.svm import SVR\n",
        "from sklearn.model_selection import train_test_split\n",
        "from sklearn.neighbors import KNeighborsRegressor"
      ]
    },
    {
      "cell_type": "code",
      "execution_count": null,
      "metadata": {
        "colab": {
          "base_uri": "https://localhost:8080/"
        },
        "id": "GM4GKiCA3UTo",
        "outputId": "63e3e4ab-77e4-4357-e498-45f3a485413b"
      },
      "outputs": [
        {
          "data": {
            "text/plain": [
              "Index(['Date', 'PM25', 'PM10', 'NO2', 'CO', 'Ozone'], dtype='object')"
            ]
          },
          "execution_count": 14,
          "metadata": {},
          "output_type": "execute_result"
        }
      ],
      "source": [
        "df.columns"
      ]
    },
    {
      "cell_type": "code",
      "execution_count": null,
      "metadata": {
        "id": "ywGKmtEv2rkq"
      },
      "outputs": [],
      "source": [
        "col_ = df.columns.tolist()[2:]\n",
        "#col_.remove('PM25')"
      ]
    },
    {
      "cell_type": "code",
      "execution_count": null,
      "metadata": {
        "colab": {
          "base_uri": "https://localhost:8080/"
        },
        "id": "39Fyi13vk8I3",
        "outputId": "12381333-9c85-4058-bbfd-058aacf52121"
      },
      "outputs": [
        {
          "data": {
            "text/plain": [
              "['PM10', 'NO2', 'CO', 'Ozone']"
            ]
          },
          "execution_count": 16,
          "metadata": {},
          "output_type": "execute_result"
        }
      ],
      "source": [
        "col_"
      ]
    },
    {
      "cell_type": "code",
      "execution_count": null,
      "metadata": {
        "colab": {
          "base_uri": "https://localhost:8080/"
        },
        "id": "uZVXDR_MVHDi",
        "outputId": "d00ba23b-47ec-44ba-f5ca-1ae3ee77811b"
      },
      "outputs": [
        {
          "name": "stdout",
          "output_type": "stream",
          "text": [
            "Training data size: (292, 4)\n",
            "Test data size: (73, 4)\n",
            "Training data size: (292,)\n",
            "Test data size: (73,)\n"
          ]
        }
      ],
      "source": [
        "#defining feature (X) and target (y)\n",
        "X = df[col_]    #X-input features\n",
        "y = df.iloc[:,1]  #y-input features\n",
        "\n",
        "#Normalize Feature variable\n",
        "ss = StandardScaler()\n",
        "X_std = ss.fit_transform(X)     #apply stardardisation\n",
        "\n",
        "#Train test split with test size 20% and train size as 80%\n",
        "X_train, X_test, y_train, y_test = train_test_split(X_std, y, test_size=0.2, random_state=1)\n",
        "\n",
        "print('Training data size:',X_train.shape)\n",
        "print('Test data size:',X_test.shape)\n",
        "print('Training data size:',y_train.shape)\n",
        "print('Test data size:',y_test.shape)"
      ]
    },
    {
      "cell_type": "code",
      "execution_count": null,
      "metadata": {
        "id": "E0OBS_AYI7oG"
      },
      "outputs": [],
      "source": [
        "names = []\n",
        "r2_val = []\n",
        "rmse_val = []\n",
        "mae_val = []"
      ]
    },
    {
      "cell_type": "code",
      "execution_count": null,
      "metadata": {
        "colab": {
          "base_uri": "https://localhost:8080/"
        },
        "id": "paQ8tL_aVynU",
        "outputId": "3554cc60-fd0c-43bd-d1d6-8e44fb678077"
      },
      "outputs": [
        {
          "name": "stdout",
          "output_type": "stream",
          "text": [
            "R^2 of model: 0.8282338030220013\n",
            "RMSE of model: 34.15697252935138\n",
            "MAE of model: 23.64052990140048\n"
          ]
        }
      ],
      "source": [
        "#Linear Regression\n",
        "\n",
        "lr = LinearRegression()\n",
        "lr_model = lr.fit(X_train,y_train)          #fit the linear model on train data\n",
        "\n",
        "#Prediction\n",
        "y_pred = lr_model.predict(X_test)                   #predict using the model\n",
        "\n",
        "r2 = r2_score(y_test,y_pred)                        #calculate r2\n",
        "print('R^2 of model:',r2)\n",
        "rmse = np.sqrt(mean_squared_error(y_test,y_pred))   #calculate rmse\n",
        "print('RMSE of model:',rmse)\n",
        "mae = mean_absolute_error(y_test,y_pred)            #calculate mae\n",
        "print('MAE of model:',mae)\n",
        "\n",
        "name = 'Linear Regression'\n",
        "r2_val.append(r2)\n",
        "rmse_val.append(rmse)\n",
        "mae_val.append(mae)\n",
        "names.append(name)"
      ]
    },
    {
      "cell_type": "code",
      "execution_count": null,
      "metadata": {
        "colab": {
          "base_uri": "https://localhost:8080/"
        },
        "id": "GXCFbVtzqzLR",
        "outputId": "af70ea19-6915-443f-9a95-4553a3bbc9d3"
      },
      "outputs": [
        {
          "name": "stdout",
          "output_type": "stream",
          "text": [
            "R^2 of model: 0.8841341370721225\n",
            "RMSE of model: 28.05357869870067\n",
            "MAE of model: 22.704735722524777\n"
          ]
        }
      ],
      "source": [
        "#Ada Boost Regressor\n",
        "\n",
        "abr = AdaBoostRegressor()\n",
        "abr_model = abr.fit(X_train,y_train)\n",
        "\n",
        "y_pred = abr_model.predict(X_test)\n",
        "r2 = r2_score(y_test,y_pred)\n",
        "print('R^2 of model:',r2)\n",
        "rmse = np.sqrt(mean_squared_error(y_test,y_pred))\n",
        "print('RMSE of model:',rmse)\n",
        "mae = mean_absolute_error(y_test,y_pred)\n",
        "print('MAE of model:',mae)\n",
        "\n",
        "name = 'AdaBoost'\n",
        "r2_val.append(r2)\n",
        "rmse_val.append(rmse)\n",
        "mae_val.append(mae)\n",
        "names.append(name)"
      ]
    },
    {
      "cell_type": "code",
      "execution_count": null,
      "metadata": {
        "colab": {
          "base_uri": "https://localhost:8080/"
        },
        "id": "aM2dsEOWXpca",
        "outputId": "5ce8328f-f24d-4390-d605-05a50bb9ca97"
      },
      "outputs": [
        {
          "name": "stdout",
          "output_type": "stream",
          "text": [
            "R^2 of model: 0.5848421543771802\n",
            "RMSE of model: 54.73030580523232\n",
            "MAE of model: 28.849945205479457\n"
          ]
        }
      ],
      "source": [
        "#Decision Tree Regression\n",
        "\n",
        "dt_one_reg = DecisionTreeRegressor()\n",
        "\n",
        "dt_model = dt_one_reg.fit(X_train,y_train)\n",
        "y_pred_dtone = dt_model.predict(X_test)\n",
        "r2 = r2_score(y_pred_dtone,y_test)\n",
        "print('R^2 of model:',r2)\n",
        "rmse = np.sqrt(mean_squared_error(y_pred_dtone,y_test))\n",
        "print('RMSE of model:',rmse)\n",
        "mae = mean_absolute_error(y_pred_dtone,y_test)\n",
        "print('MAE of model:',mae)\n",
        "\n",
        "name = 'Decision Tree'\n",
        "r2_val.append(r2)\n",
        "rmse_val.append(rmse)\n",
        "mae_val.append(mae)\n",
        "names.append(name)"
      ]
    },
    {
      "cell_type": "code",
      "execution_count": null,
      "metadata": {
        "colab": {
          "base_uri": "https://localhost:8080/"
        },
        "id": "LxRqhidKZJ_G",
        "outputId": "e11c870a-147d-4bb9-8927-0d9e7f0cda9e"
      },
      "outputs": [
        {
          "name": "stdout",
          "output_type": "stream",
          "text": [
            "R^2 of model: 0.8905827226426393\n",
            "RMSE of model: 27.26173377334639\n",
            "MAE of model: 16.440955753424657\n"
          ]
        }
      ],
      "source": [
        "#Random Forest Regression\n",
        "\n",
        "rf_reg=RandomForestRegressor()\n",
        "\n",
        "#Fit the RF model and predict\n",
        "rf_model = rf_reg.fit(X_train,y_train)\n",
        "y_pred_rf = rf_model.predict(X_test)\n",
        "\n",
        "r2 = r2_score(y_test,y_pred_rf)\n",
        "print('R^2 of model:',r2)\n",
        "rmse = np.sqrt(mean_squared_error(y_test,y_pred_rf))\n",
        "print('RMSE of model:',rmse)\n",
        "mae = mean_absolute_error(y_test,y_pred_rf)\n",
        "print('MAE of model:',mae)\n",
        "\n",
        "name = 'Random Forest'\n",
        "r2_val.append(r2)\n",
        "rmse_val.append(rmse)\n",
        "mae_val.append(mae)\n",
        "names.append(name)"
      ]
    },
    {
      "cell_type": "code",
      "execution_count": null,
      "metadata": {
        "colab": {
          "base_uri": "https://localhost:8080/"
        },
        "id": "q-ADcTbIZ22c",
        "outputId": "a1ef6596-2488-47ca-8665-d1de2f2db6d1"
      },
      "outputs": [
        {
          "name": "stdout",
          "output_type": "stream",
          "text": [
            "R^2 of model: 0.2752633453195694\n",
            "RMSE of model: 70.16178570763094\n",
            "MAE of model: 44.55104063891028\n"
          ]
        }
      ],
      "source": [
        "#Support Vector Machine\n",
        "\n",
        "sv_reg = SVR()\n",
        "sv_model = sv_reg.fit(X_train,y_train)\n",
        "\n",
        "y_pred_sv=sv_model.predict(X_test)\n",
        "\n",
        "r2 = r2_score(y_test,y_pred_sv)\n",
        "print('R^2 of model:',r2)\n",
        "rmse = np.sqrt(mean_squared_error(y_test,y_pred_sv))\n",
        "print('RMSE of model:',rmse)\n",
        "mae = mean_absolute_error(y_test,y_pred_sv)\n",
        "print('MAE of model:',mae)\n",
        "\n",
        "name = 'Support Vector Machine'\n",
        "r2_val.append(r2)\n",
        "rmse_val.append(rmse)\n",
        "mae_val.append(mae)\n",
        "names.append(name)"
      ]
    },
    {
      "cell_type": "code",
      "execution_count": null,
      "metadata": {
        "colab": {
          "base_uri": "https://localhost:8080/"
        },
        "id": "QrxsfLuZkAH4",
        "outputId": "34ed42db-03cb-49cc-8aec-70b3dff8f892"
      },
      "outputs": [
        {
          "name": "stdout",
          "output_type": "stream",
          "text": [
            "R^2 of model: 0.9118822466901355\n",
            "RMSE of model: 24.46483145783502\n",
            "MAE of model: 16.293246575342465\n"
          ]
        }
      ],
      "source": [
        "#KNN REGRESSOR\n",
        "\n",
        "knn = KNeighborsRegressor(n_neighbors=1)\n",
        "knn.fit(X_train, y_train)\n",
        "pred = knn.predict(X_test)\n",
        "\n",
        "r2 = r2_score(y_test, pred)\n",
        "print('R^2 of model:',r2)\n",
        "rmse = np.sqrt(mean_squared_error(y_test, pred))\n",
        "print('RMSE of model:',rmse)\n",
        "mae = mean_absolute_error(y_test,pred)\n",
        "print('MAE of model:',mae)"
      ]
    },
    {
      "cell_type": "code",
      "execution_count": null,
      "metadata": {
        "colab": {
          "base_uri": "https://localhost:8080/"
        },
        "id": "_hxOtLICnKoR",
        "outputId": "24057c43-3437-4d7f-d58a-397c0b693c14"
      },
      "outputs": [
        {
          "name": "stdout",
          "output_type": "stream",
          "text": [
            "R^2 of model: 0.8734130393108924\n",
            "RMSE of model: 29.322770865543323\n",
            "MAE of model: 19.274772994129158\n"
          ]
        }
      ],
      "source": [
        "knn = KNeighborsRegressor(n_neighbors=7)\n",
        "knn.fit(X_train, y_train)\n",
        "pred = knn.predict(X_test)\n",
        "\n",
        "r2 = r2_score(y_test, pred)\n",
        "print('R^2 of model:',r2)\n",
        "rmse = np.sqrt(mean_squared_error(y_test, pred))\n",
        "print('RMSE of model:',rmse)\n",
        "mae = mean_absolute_error(y_test,pred)\n",
        "print('MAE of model:',mae)\n",
        "\n",
        "name = 'KNN'\n",
        "r2_val.append(r2)\n",
        "rmse_val.append(rmse)\n",
        "mae_val.append(mae)\n",
        "names.append(name)"
      ]
    },
    {
      "cell_type": "code",
      "execution_count": null,
      "metadata": {
        "colab": {
          "base_uri": "https://localhost:8080/"
        },
        "id": "Lgq6NSL83oiJ",
        "outputId": "897b2249-baf6-47ee-ac28-136cb7612522"
      },
      "outputs": [
        {
          "name": "stdout",
          "output_type": "stream",
          "text": [
            "Linear Regression: 0.828234\n",
            "AdaBoost: 0.884134\n",
            "Decision Tree: 0.584842\n",
            "Random Forest: 0.890583\n",
            "Support Vector Machine: 0.275263\n",
            "KNN: 0.873413\n"
          ]
        }
      ],
      "source": [
        "for i in range(6):\n",
        "    print('%s: %f' % (names[i], r2_val[i]))"
      ]
    },
    {
      "cell_type": "code",
      "execution_count": null,
      "metadata": {
        "colab": {
          "base_uri": "https://localhost:8080/"
        },
        "id": "SD09_jUDvdMe",
        "outputId": "2c93a5ce-3d1d-44b2-d3ca-40ef69fb603b"
      },
      "outputs": [
        {
          "name": "stdout",
          "output_type": "stream",
          "text": [
            "Linear Regression: 34.156973\n",
            "AdaBoost: 28.053579\n",
            "Decision Tree: 54.730306\n",
            "Random Forest: 27.261734\n",
            "Support Vector Machine: 70.161786\n",
            "KNN: 29.322771\n"
          ]
        }
      ],
      "source": [
        "for i in range(6):\n",
        "    print('%s: %f' % (names[i], rmse_val[i]))"
      ]
    },
    {
      "cell_type": "code",
      "execution_count": null,
      "metadata": {
        "colab": {
          "base_uri": "https://localhost:8080/"
        },
        "id": "5SBderoq3rFx",
        "outputId": "4a2547bc-5d48-4489-cc19-a416738cf680"
      },
      "outputs": [
        {
          "name": "stdout",
          "output_type": "stream",
          "text": [
            "Linear Regression: 23.640530\n",
            "AdaBoost: 22.704736\n",
            "Decision Tree: 28.849945\n",
            "Random Forest: 16.440956\n",
            "Support Vector Machine: 44.551041\n",
            "KNN: 19.274773\n"
          ]
        }
      ],
      "source": [
        "for i in range(6):\n",
        "    print('%s: %f' % (names[i], mae_val[i]))"
      ]
    },
    {
      "cell_type": "code",
      "execution_count": null,
      "metadata": {
        "id": "7w9RxZB3aXJt"
      },
      "outputs": [],
      "source": [
        "r2_val = list(np.around(np.array(r2_val),3))\n",
        "rmse_val = list(np.around(np.array(rmse_val),3))\n",
        "mae_val = list(np.around(np.array(mae_val),3))"
      ]
    },
    {
      "cell_type": "code",
      "execution_count": null,
      "metadata": {
        "colab": {
          "base_uri": "https://localhost:8080/"
        },
        "id": "_TTpO1O8Y6Ku",
        "outputId": "362b473c-08ec-41d5-c7a5-9e9fd2887fac"
      },
      "outputs": [
        {
          "name": "stdout",
          "output_type": "stream",
          "text": [
            "+--------------------------------------------------+\n",
            "|                      PM2.5                       |\n",
            "+------------------------+-------+--------+--------+\n",
            "|    Regression Model    |  R^2  |  RMSE  |  MAE   |\n",
            "+------------------------+-------+--------+--------+\n",
            "|   Linear Regression    | 0.828 | 34.157 | 23.641 |\n",
            "|        AdaBoost        | 0.884 | 28.054 | 22.705 |\n",
            "|     Decision Tree      | 0.585 | 54.73  | 28.85  |\n",
            "|     Random Forest      | 0.891 | 27.262 | 16.441 |\n",
            "| Support Vector Machine | 0.275 | 70.162 | 44.551 |\n",
            "|          KNN           | 0.873 | 29.323 | 19.275 |\n",
            "+------------------------+-------+--------+--------+\n"
          ]
        }
      ],
      "source": [
        "from prettytable import PrettyTable\n",
        "t = PrettyTable(['Regression Model','R^2', 'RMSE', 'MAE'])\n",
        "t.title = 'PM2.5'\n",
        "for i in range(6):\n",
        "  t.add_row([names[i], r2_val[i], rmse_val[i], mae_val[i]])\n",
        "print(t)"
      ]
    },
    {
      "cell_type": "code",
      "execution_count": null,
      "metadata": {
        "colab": {
          "base_uri": "https://localhost:8080/",
          "height": 294
        },
        "id": "IvaryKC4wek6",
        "outputId": "5ce656a7-ff5e-4458-e2fd-21aaf2b6915c"
      },
      "outputs": [
        {
          "data": {
            "image/png": "[encoded data removed]",
            "text/plain": [
              "<Figure size 1584x288 with 2 Axes>"
            ]
          },
          "metadata": {},
          "output_type": "display_data"
        }
      ],
      "source": [
        "plt.figure(figsize=(22,4))\n",
        "plt.suptitle('PM2.5')\n",
        "\n",
        "plt.subplot(1,2,1)\n",
        "plt.plot(names, rmse_val, marker='o', label='rmse')\n",
        "plt.plot(names, mae_val, marker='o', color='r', label='mae')\n",
        "plt.legend()\n",
        "\n",
        "plt.subplot(1,2,2)\n",
        "plt.plot(names, r2_val, marker='o', color='g', label='r2')\n",
        "plt.legend()\n",
        "plt.show()"
      ]
    },
    {
      "cell_type": "markdown",
      "metadata": {
        "id": "Xvu7ARO9ftp3"
      },
      "source": [
        "#PM10"
      ]
    },
    {
      "cell_type": "code",
      "execution_count": null,
      "metadata": {
        "colab": {
          "base_uri": "https://localhost:8080/"
        },
        "id": "kZhQXad8ftqB",
        "outputId": "efc6848f-8d96-4520-a08f-07eb2b916339"
      },
      "outputs": [
        {
          "data": {
            "text/plain": [
              "Index(['Date', 'PM25', 'PM10', 'NO2', 'CO', 'Ozone'], dtype='object')"
            ]
          },
          "execution_count": 32,
          "metadata": {},
          "output_type": "execute_result"
        }
      ],
      "source": [
        "df.columns"
      ]
    },
    {
      "cell_type": "code",
      "execution_count": null,
      "metadata": {
        "id": "KfQv17h4ftqB"
      },
      "outputs": [],
      "source": [
        "col_ = ['PM25', 'NO2', 'CO', 'Ozone']"
      ]
    },
    {
      "cell_type": "code",
      "execution_count": null,
      "metadata": {
        "colab": {
          "base_uri": "https://localhost:8080/"
        },
        "id": "r2qWnbpRftqC",
        "outputId": "ce782800-e8c5-4f72-dbce-cee3cbd959a7"
      },
      "outputs": [
        {
          "name": "stdout",
          "output_type": "stream",
          "text": [
            "Training data size: (292, 4)\n",
            "Test data size: (73, 4)\n",
            "Training data size: (292,)\n",
            "Test data size: (73,)\n"
          ]
        }
      ],
      "source": [
        "#defining feature (X) and target (y)\n",
        "X = df[col_]    #X-input features\n",
        "y = df.iloc[:,2]  #y-input features\n",
        "\n",
        "#Normalize Feature variable\n",
        "ss = StandardScaler()\n",
        "X_std = ss.fit_transform(X)     #apply stardardisation\n",
        "\n",
        "#Train test split with test size 20% and train size as 80%\n",
        "X_train, X_test, y_train, y_test = train_test_split(X_std, y, test_size=0.2, random_state=1)\n",
        "\n",
        "print('Training data size:',X_train.shape)\n",
        "print('Test data size:',X_test.shape)\n",
        "print('Training data size:',y_train.shape)\n",
        "print('Test data size:',y_test.shape)"
      ]
    },
    {
      "cell_type": "code",
      "execution_count": null,
      "metadata": {
        "id": "JOvlAYRyftqC"
      },
      "outputs": [],
      "source": [
        "names = []\n",
        "r2_val = []\n",
        "rmse_val = []\n",
        "mae_val = []"
      ]
    },
    {
      "cell_type": "code",
      "execution_count": null,
      "metadata": {
        "colab": {
          "base_uri": "https://localhost:8080/"
        },
        "id": "Ge1VHN9WftqC",
        "outputId": "4a9060b6-3a1d-4ed5-b726-23dc58d0f549"
      },
      "outputs": [
        {
          "name": "stdout",
          "output_type": "stream",
          "text": [
            "R^2 of model: 0.7109479493449284\n",
            "RMSE of model: 67.25462736540581\n",
            "MAE of model: 43.09348132127847\n"
          ]
        }
      ],
      "source": [
        "#Linear Regression\n",
        "\n",
        "lr = LinearRegression()\n",
        "lr_model = lr.fit(X_train,y_train)          #fit the linear model on train data\n",
        "\n",
        "#Prediction\n",
        "y_pred = lr_model.predict(X_test)                   #predict using the model\n",
        "\n",
        "r2 = r2_score(y_test,y_pred)                        #calculate r2\n",
        "print('R^2 of model:',r2)\n",
        "rmse = np.sqrt(mean_squared_error(y_test,y_pred))   #calculate rmse\n",
        "print('RMSE of model:',rmse)\n",
        "mae = mean_absolute_error(y_test,y_pred)            #calculate mae\n",
        "print('MAE of model:',mae)\n",
        "\n",
        "name = 'Linear Regression'\n",
        "r2_val.append(r2)\n",
        "rmse_val.append(rmse)\n",
        "mae_val.append(mae)\n",
        "names.append(name)"
      ]
    },
    {
      "cell_type": "code",
      "execution_count": null,
      "metadata": {
        "colab": {
          "background_save": true,
          "base_uri": "https://localhost:8080/"
        },
        "id": "fc5b26GQftqC",
        "outputId": "7626e48a-5e55-4033-c1a2-3ad62e129d1c"
      },
      "outputs": [
        {
          "name": "stdout",
          "output_type": "stream",
          "text": [
            "R^2 of model: 0.7531354682707336\n",
            "RMSE of model: 62.15319977559358\n",
            "MAE of model: 47.44831644122215\n"
          ]
        }
      ],
      "source": [
        "#Ada Boost Regressor\n",
        "\n",
        "abr = AdaBoostRegressor()\n",
        "abr_model = abr.fit(X_train,y_train)\n",
        "\n",
        "y_pred = abr_model.predict(X_test)\n",
        "r2 = r2_score(y_test,y_pred)\n",
        "print('R^2 of model:',r2)\n",
        "rmse = np.sqrt(mean_squared_error(y_test,y_pred))\n",
        "print('RMSE of model:',rmse)\n",
        "mae = mean_absolute_error(y_test,y_pred)\n",
        "print('MAE of model:',mae)\n",
        "\n",
        "name = 'AdaBoost'\n",
        "r2_val.append(r2)\n",
        "rmse_val.append(rmse)\n",
        "mae_val.append(mae)\n",
        "names.append(name)"
      ]
    },
    {
      "cell_type": "code",
      "execution_count": null,
      "metadata": {
        "colab": {
          "background_save": true,
          "base_uri": "https://localhost:8080/"
        },
        "id": "_aUzfZWtftqC",
        "outputId": "9d3d5275-fd2a-4c69-f7b6-ff9c49e332c5"
      },
      "outputs": [
        {
          "name": "stdout",
          "output_type": "stream",
          "text": [
            "R^2 of model: 0.7994757185527387\n",
            "RMSE of model: 53.23256330377498\n",
            "MAE of model: 33.24835616438355\n"
          ]
        }
      ],
      "source": [
        "#Decision Tree Regression\n",
        "\n",
        "dt_one_reg = DecisionTreeRegressor()\n",
        "\n",
        "dt_model = dt_one_reg.fit(X_train,y_train)\n",
        "y_pred_dtone = dt_model.predict(X_test)\n",
        "r2 = r2_score(y_pred_dtone,y_test)\n",
        "print('R^2 of model:',r2)\n",
        "rmse = np.sqrt(mean_squared_error(y_pred_dtone,y_test))\n",
        "print('RMSE of model:',rmse)\n",
        "mae = mean_absolute_error(y_pred_dtone,y_test)\n",
        "print('MAE of model:',mae)\n",
        "\n",
        "name = 'Decision Tree'\n",
        "r2_val.append(r2)\n",
        "rmse_val.append(rmse)\n",
        "mae_val.append(mae)\n",
        "names.append(name)"
      ]
    },
    {
      "cell_type": "code",
      "execution_count": null,
      "metadata": {
        "colab": {
          "background_save": true,
          "base_uri": "https://localhost:8080/"
        },
        "id": "hiPm-B7rftqD",
        "outputId": "809ed61a-5cfe-422b-d58b-769af58feef5"
      },
      "outputs": [
        {
          "name": "stdout",
          "output_type": "stream",
          "text": [
            "R^2 of model: 0.8208182223239222\n",
            "RMSE of model: 52.95184097844645\n",
            "MAE of model: 34.20541438356166\n"
          ]
        }
      ],
      "source": [
        "#Random Forest Regression\n",
        "\n",
        "rf_reg=RandomForestRegressor()\n",
        "\n",
        "#Fit the RF model and predict\n",
        "rf_model = rf_reg.fit(X_train,y_train)\n",
        "y_pred_rf = rf_model.predict(X_test)\n",
        "\n",
        "r2 = r2_score(y_test,y_pred_rf)\n",
        "print('R^2 of model:',r2)\n",
        "rmse = np.sqrt(mean_squared_error(y_test,y_pred_rf))\n",
        "print('RMSE of model:',rmse)\n",
        "mae = mean_absolute_error(y_test,y_pred_rf)\n",
        "print('MAE of model:',mae)\n",
        "\n",
        "name = 'Random Forest'\n",
        "r2_val.append(r2)\n",
        "rmse_val.append(rmse)\n",
        "mae_val.append(mae)\n",
        "names.append(name)"
      ]
    },
    {
      "cell_type": "code",
      "execution_count": null,
      "metadata": {
        "colab": {
          "background_save": true,
          "base_uri": "https://localhost:8080/"
        },
        "id": "7jvxnDhTftqD",
        "outputId": "5dff15a4-a25a-4b86-c48d-57e73e81f07d"
      },
      "outputs": [
        {
          "name": "stdout",
          "output_type": "stream",
          "text": [
            "R^2 of model: 0.21402833502816676\n",
            "RMSE of model: 110.90154287864586\n",
            "MAE of model: 89.81969579918753\n"
          ]
        }
      ],
      "source": [
        "#Support Vector Machine\n",
        "\n",
        "sv_reg = SVR()\n",
        "sv_model = sv_reg.fit(X_train,y_train)\n",
        "\n",
        "y_pred_sv=sv_model.predict(X_test)\n",
        "\n",
        "r2 = r2_score(y_test,y_pred_sv)\n",
        "print('R^2 of model:',r2)\n",
        "rmse = np.sqrt(mean_squared_error(y_test,y_pred_sv))\n",
        "print('RMSE of model:',rmse)\n",
        "mae = mean_absolute_error(y_test,y_pred_sv)\n",
        "print('MAE of model:',mae)\n",
        "\n",
        "name = 'Support Vector Machine'\n",
        "r2_val.append(r2)\n",
        "rmse_val.append(rmse)\n",
        "mae_val.append(mae)\n",
        "names.append(name)"
      ]
    },
    {
      "cell_type": "code",
      "execution_count": null,
      "metadata": {
        "colab": {
          "background_save": true,
          "base_uri": "https://localhost:8080/"
        },
        "id": "qSuZXyYIftqD",
        "outputId": "fc2c50bb-f853-42b3-c01d-96c0398783d6"
      },
      "outputs": [
        {
          "name": "stdout",
          "output_type": "stream",
          "text": [
            "R^2 of model: 0.709021725765425\n",
            "RMSE of model: 67.47834544838851\n",
            "MAE of model: 41.30020547945205\n"
          ]
        }
      ],
      "source": [
        "#KNN REGRESSOR\n",
        "\n",
        "knn = KNeighborsRegressor(n_neighbors=1)\n",
        "knn.fit(X_train, y_train)\n",
        "pred = knn.predict(X_test)\n",
        "\n",
        "r2 = r2_score(y_test, pred)\n",
        "print('R^2 of model:',r2)\n",
        "rmse = np.sqrt(mean_squared_error(y_test, pred))\n",
        "print('RMSE of model:',rmse)\n",
        "mae = mean_absolute_error(y_test,pred)\n",
        "print('MAE of model:',mae)"
      ]
    },
    {
      "cell_type": "code",
      "execution_count": null,
      "metadata": {
        "colab": {
          "background_save": true,
          "base_uri": "https://localhost:8080/"
        },
        "id": "EC2SxbMeftqD",
        "outputId": "3e5165c5-b205-49f5-c85c-10737e1fd44c"
      },
      "outputs": [
        {
          "name": "stdout",
          "output_type": "stream",
          "text": [
            "R^2 of model: 0.7016239111356131\n",
            "RMSE of model: 68.33074437257102\n",
            "MAE of model: 47.37222113502936\n"
          ]
        }
      ],
      "source": [
        "knn = KNeighborsRegressor(n_neighbors=7)\n",
        "knn.fit(X_train, y_train)\n",
        "pred = knn.predict(X_test)\n",
        "\n",
        "r2 = r2_score(y_test, pred)\n",
        "print('R^2 of model:',r2)\n",
        "rmse = np.sqrt(mean_squared_error(y_test, pred))\n",
        "print('RMSE of model:',rmse)\n",
        "mae = mean_absolute_error(y_test,pred)\n",
        "print('MAE of model:',mae)\n",
        "\n",
        "name = 'KNN'\n",
        "r2_val.append(r2)\n",
        "rmse_val.append(rmse)\n",
        "mae_val.append(mae)\n",
        "names.append(name)"
      ]
    },
    {
      "cell_type": "code",
      "execution_count": null,
      "metadata": {
        "colab": {
          "background_save": true,
          "base_uri": "https://localhost:8080/"
        },
        "id": "Ft-R0cKJftqD",
        "outputId": "bc52b297-acc0-4ed8-dcee-18927398a31d"
      },
      "outputs": [
        {
          "name": "stdout",
          "output_type": "stream",
          "text": [
            "Linear Regression: 0.710948\n",
            "AdaBoost: 0.753135\n",
            "Decision Tree: 0.799476\n",
            "Random Forest: 0.820818\n",
            "Support Vector Machine: 0.214028\n",
            "KNN: 0.701624\n"
          ]
        }
      ],
      "source": [
        "for i in range(6):\n",
        "    print('%s: %f' % (names[i], r2_val[i]))"
      ]
    },
    {
      "cell_type": "code",
      "execution_count": null,
      "metadata": {
        "colab": {
          "background_save": true,
          "base_uri": "https://localhost:8080/"
        },
        "id": "fsq6gA2lftqD",
        "outputId": "b0c4a1cb-a9df-4f74-f44e-f9ed87dd573f"
      },
      "outputs": [
        {
          "name": "stdout",
          "output_type": "stream",
          "text": [
            "Linear Regression: 67.254627\n",
            "AdaBoost: 62.153200\n",
            "Decision Tree: 53.232563\n",
            "Random Forest: 52.951841\n",
            "Support Vector Machine: 110.901543\n",
            "KNN: 68.330744\n"
          ]
        }
      ],
      "source": [
        "for i in range(6):\n",
        "    print('%s: %f' % (names[i], rmse_val[i]))"
      ]
    },
    {
      "cell_type": "code",
      "execution_count": null,
      "metadata": {
        "colab": {
          "background_save": true,
          "base_uri": "https://localhost:8080/"
        },
        "id": "Mqm1DsLXftqE",
        "outputId": "97d44bb6-6359-4d18-9e43-36e7079c2989"
      },
      "outputs": [
        {
          "name": "stdout",
          "output_type": "stream",
          "text": [
            "Linear Regression: 43.093481\n",
            "AdaBoost: 47.448316\n",
            "Decision Tree: 33.248356\n",
            "Random Forest: 34.205414\n",
            "Support Vector Machine: 89.819696\n",
            "KNN: 47.372221\n"
          ]
        }
      ],
      "source": [
        "for i in range(6):\n",
        "    print('%s: %f' % (names[i], mae_val[i]))"
      ]
    },
    {
      "cell_type": "code",
      "execution_count": null,
      "metadata": {
        "colab": {
          "background_save": true
        },
        "id": "obbnRSbOftqE"
      },
      "outputs": [],
      "source": [
        "r2_val = list(np.around(np.array(r2_val),3))\n",
        "rmse_val = list(np.around(np.array(rmse_val),3))\n",
        "mae_val = list(np.around(np.array(mae_val),3))"
      ]
    },
    {
      "cell_type": "code",
      "execution_count": null,
      "metadata": {
        "colab": {
          "background_save": true,
          "base_uri": "https://localhost:8080/"
        },
        "id": "RTuW5_tYftqE",
        "outputId": "ee267815-62ff-4c5c-968b-ab6c056a6829"
      },
      "outputs": [
        {
          "name": "stdout",
          "output_type": "stream",
          "text": [
            "+---------------------------------------------------+\n",
            "|                        PM10                       |\n",
            "+------------------------+-------+---------+--------+\n",
            "|    Regression Model    |  R^2  |   RMSE  |  MAE   |\n",
            "+------------------------+-------+---------+--------+\n",
            "|   Linear Regression    | 0.711 |  67.255 | 43.093 |\n",
            "|        AdaBoost        | 0.753 |  62.153 | 47.448 |\n",
            "|     Decision Tree      | 0.799 |  53.233 | 33.248 |\n",
            "|     Random Forest      | 0.821 |  52.952 | 34.205 |\n",
            "| Support Vector Machine | 0.214 | 110.902 | 89.82  |\n",
            "|          KNN           | 0.702 |  68.331 | 47.372 |\n",
            "+------------------------+-------+---------+--------+\n"
          ]
        }
      ],
      "source": [
        "from prettytable import PrettyTable\n",
        "t = PrettyTable(['Regression Model','R^2', 'RMSE', 'MAE'])\n",
        "t.title = 'PM10'\n",
        "for i in range(6):\n",
        "  t.add_row([names[i], r2_val[i], rmse_val[i], mae_val[i]])\n",
        "print(t)"
      ]
    },
    {
      "cell_type": "code",
      "execution_count": null,
      "metadata": {
        "colab": {
          "background_save": true,
          "base_uri": "https://localhost:8080/",
          "height": 294
        },
        "id": "jBoBO779ftqE",
        "outputId": "792147c6-afa3-462f-f584-c5fc270c0e44"
      },
      "outputs": [
        {
          "data": {
            "image/png": "[encoded data removed]",
            "text/plain": [
              "<Figure size 1584x288 with 2 Axes>"
            ]
          },
          "metadata": {},
          "output_type": "display_data"
        }
      ],
      "source": [
        "plt.figure(figsize=(22,4))\n",
        "plt.suptitle('PM10')\n",
        "\n",
        "plt.subplot(1,2,1)\n",
        "plt.plot(names, rmse_val, marker='o', label='rmse')\n",
        "plt.plot(names, mae_val, marker='o', color='r', label='mae')\n",
        "plt.legend()\n",
        "\n",
        "plt.subplot(1,2,2)\n",
        "plt.plot(names, r2_val, marker='o', color='g', label='r2')\n",
        "plt.legend()\n",
        "plt.show()"
      ]
    },
    {
      "cell_type": "markdown",
      "metadata": {
        "id": "5ct1VnuCfvHN"
      },
      "source": [
        "#NO2"
      ]
    },
    {
      "cell_type": "code",
      "execution_count": null,
      "metadata": {
        "colab": {
          "background_save": true,
          "base_uri": "https://localhost:8080/"
        },
        "id": "CFmWjP7jfvHR",
        "outputId": "d0814923-5c17-4efc-95bd-6aebcbaf792b"
      },
      "outputs": [
        {
          "data": {
            "text/plain": [
              "Index(['Date', 'PM25', 'PM10', 'NO2', 'CO', 'Ozone'], dtype='object')"
            ]
          },
          "execution_count": null,
          "metadata": {},
          "output_type": "execute_result"
        }
      ],
      "source": [
        "df.columns"
      ]
    },
    {
      "cell_type": "code",
      "execution_count": null,
      "metadata": {
        "colab": {
          "background_save": true
        },
        "id": "TJvDwzipfvHS"
      },
      "outputs": [],
      "source": [
        "col_ = ['PM25', 'PM10', 'CO', 'Ozone']"
      ]
    },
    {
      "cell_type": "code",
      "execution_count": null,
      "metadata": {
        "colab": {
          "background_save": true,
          "base_uri": "https://localhost:8080/"
        },
        "id": "MwNPBkRMfvHS",
        "outputId": "9c3547e9-2643-4136-e081-f70274023207"
      },
      "outputs": [
        {
          "data": {
            "text/plain": [
              "['PM25', 'PM10', 'CO', 'Ozone']"
            ]
          },
          "execution_count": null,
          "metadata": {},
          "output_type": "execute_result"
        }
      ],
      "source": [
        "col_"
      ]
    },
    {
      "cell_type": "code",
      "execution_count": null,
      "metadata": {
        "colab": {
          "background_save": true,
          "base_uri": "https://localhost:8080/"
        },
        "id": "7JTZL4gzfvHS",
        "outputId": "c982313c-3ff5-4664-a415-f6740f32f8a5"
      },
      "outputs": [
        {
          "name": "stdout",
          "output_type": "stream",
          "text": [
            "Training data size: (292, 4)\n",
            "Test data size: (73, 4)\n",
            "Training data size: (292,)\n",
            "Test data size: (73,)\n"
          ]
        }
      ],
      "source": [
        "#defining feature (X) and target (y)\n",
        "X = df[col_]    #X-input features\n",
        "y = df.iloc[:,3]  #y-input features\n",
        "\n",
        "#Normalize Feature variable\n",
        "ss = StandardScaler()\n",
        "X_std = ss.fit_transform(X)     #apply stardardisation\n",
        "\n",
        "#Train test split with test size 20% and train size as 80%\n",
        "X_train, X_test, y_train, y_test = train_test_split(X_std, y, test_size=0.2, random_state=1)\n",
        "\n",
        "print('Training data size:',X_train.shape)\n",
        "print('Test data size:',X_test.shape)\n",
        "print('Training data size:',y_train.shape)\n",
        "print('Test data size:',y_test.shape)"
      ]
    },
    {
      "cell_type": "code",
      "execution_count": null,
      "metadata": {
        "colab": {
          "background_save": true
        },
        "id": "rQYcHCHRfvHS"
      },
      "outputs": [],
      "source": [
        "names = []\n",
        "r2_val = []\n",
        "rmse_val = []\n",
        "mae_val = []"
      ]
    },
    {
      "cell_type": "code",
      "execution_count": null,
      "metadata": {
        "colab": {
          "background_save": true,
          "base_uri": "https://localhost:8080/"
        },
        "id": "IoVxWXR7fvHS",
        "outputId": "96c606a7-f2e4-4fa7-9939-e50c8b46f1ec"
      },
      "outputs": [
        {
          "name": "stdout",
          "output_type": "stream",
          "text": [
            "R^2 of model: 0.5859168828852905\n",
            "RMSE of model: 14.313735555435747\n",
            "MAE of model: 11.096554667944774\n"
          ]
        }
      ],
      "source": [
        "#Linear Regression\n",
        "\n",
        "lr = LinearRegression()\n",
        "lr_model = lr.fit(X_train,y_train)          #fit the linear model on train data\n",
        "\n",
        "#Prediction\n",
        "y_pred = lr_model.predict(X_test)                   #predict using the model\n",
        "\n",
        "r2 = r2_score(y_test,y_pred)                        #calculate r2\n",
        "print('R^2 of model:',r2)\n",
        "rmse = np.sqrt(mean_squared_error(y_test,y_pred))   #calculate rmse\n",
        "print('RMSE of model:',rmse)\n",
        "mae = mean_absolute_error(y_test,y_pred)            #calculate mae\n",
        "print('MAE of model:',mae)\n",
        "\n",
        "name = 'Linear Regression'\n",
        "r2_val.append(r2)\n",
        "rmse_val.append(rmse)\n",
        "mae_val.append(mae)\n",
        "names.append(name)"
      ]
    },
    {
      "cell_type": "code",
      "execution_count": null,
      "metadata": {
        "colab": {
          "background_save": true,
          "base_uri": "https://localhost:8080/"
        },
        "id": "gZY8PNrgfvHT",
        "outputId": "5cfb0e7d-d86a-4241-bfb4-e518f1af2a80"
      },
      "outputs": [
        {
          "name": "stdout",
          "output_type": "stream",
          "text": [
            "R^2 of model: 0.6345219763146048\n",
            "RMSE of model: 13.447447621386763\n",
            "MAE of model: 11.311860803366576\n"
          ]
        }
      ],
      "source": [
        "#Ada Boost Regressor\n",
        "\n",
        "abr = AdaBoostRegressor()\n",
        "abr_model = abr.fit(X_train,y_train)\n",
        "\n",
        "y_pred = abr_model.predict(X_test)\n",
        "r2 = r2_score(y_test,y_pred)\n",
        "print('R^2 of model:',r2)\n",
        "rmse = np.sqrt(mean_squared_error(y_test,y_pred))\n",
        "print('RMSE of model:',rmse)\n",
        "mae = mean_absolute_error(y_test,y_pred)\n",
        "print('MAE of model:',mae)\n",
        "\n",
        "name = 'AdaBoost'\n",
        "r2_val.append(r2)\n",
        "rmse_val.append(rmse)\n",
        "mae_val.append(mae)\n",
        "names.append(name)"
      ]
    },
    {
      "cell_type": "code",
      "execution_count": null,
      "metadata": {
        "colab": {
          "base_uri": "https://localhost:8080/"
        },
        "id": "B_Czv9pVfvHT",
        "outputId": "79ef878b-06f0-4224-e350-9fdae37b67f2"
      },
      "outputs": [
        {
          "name": "stdout",
          "output_type": "stream",
          "text": [
            "R^2 of model: 0.26359643267239175\n",
            "RMSE of model: 18.193632172176024\n",
            "MAE of model: 13.36364383561644\n"
          ]
        }
      ],
      "source": [
        "#Decision Tree Regression\n",
        "\n",
        "dt_one_reg = DecisionTreeRegressor()\n",
        "\n",
        "dt_model = dt_one_reg.fit(X_train,y_train)\n",
        "y_pred_dtone = dt_model.predict(X_test)\n",
        "r2 = r2_score(y_pred_dtone,y_test)\n",
        "print('R^2 of model:',r2)\n",
        "rmse = np.sqrt(mean_squared_error(y_pred_dtone,y_test))\n",
        "print('RMSE of model:',rmse)\n",
        "mae = mean_absolute_error(y_pred_dtone,y_test)\n",
        "print('MAE of model:',mae)\n",
        "\n",
        "name = 'Decision Tree'\n",
        "r2_val.append(r2)\n",
        "rmse_val.append(rmse)\n",
        "mae_val.append(mae)\n",
        "names.append(name)"
      ]
    },
    {
      "cell_type": "code",
      "execution_count": null,
      "metadata": {
        "colab": {
          "base_uri": "https://localhost:8080/"
        },
        "id": "M-iIro8UfvHU",
        "outputId": "7e737aa6-05ec-43fc-bb95-1158a36f8c4e"
      },
      "outputs": [
        {
          "name": "stdout",
          "output_type": "stream",
          "text": [
            "R^2 of model: 0.6421874883153642\n",
            "RMSE of model: 13.3056773717235\n",
            "MAE of model: 10.41455041095891\n"
          ]
        }
      ],
      "source": [
        "#Random Forest Regression\n",
        "\n",
        "rf_reg=RandomForestRegressor()\n",
        "\n",
        "#Fit the RF model and predict\n",
        "rf_model = rf_reg.fit(X_train,y_train)\n",
        "y_pred_rf = rf_model.predict(X_test)\n",
        "\n",
        "r2 = r2_score(y_test,y_pred_rf)\n",
        "print('R^2 of model:',r2)\n",
        "rmse = np.sqrt(mean_squared_error(y_test,y_pred_rf))\n",
        "print('RMSE of model:',rmse)\n",
        "mae = mean_absolute_error(y_test,y_pred_rf)\n",
        "print('MAE of model:',mae)\n",
        "\n",
        "name = 'Random Forest'\n",
        "r2_val.append(r2)\n",
        "rmse_val.append(rmse)\n",
        "mae_val.append(mae)\n",
        "names.append(name)"
      ]
    },
    {
      "cell_type": "code",
      "execution_count": null,
      "metadata": {
        "colab": {
          "base_uri": "https://localhost:8080/"
        },
        "id": "F14jh35xfvHU",
        "outputId": "a283dca7-957e-42be-ef4d-acdfeb97c37b"
      },
      "outputs": [
        {
          "name": "stdout",
          "output_type": "stream",
          "text": [
            "R^2 of model: 0.47177058070729927\n",
            "RMSE of model: 16.166668013195515\n",
            "MAE of model: 12.375270296100064\n"
          ]
        }
      ],
      "source": [
        "#Support Vector Machine\n",
        "\n",
        "sv_reg = SVR()\n",
        "sv_model = sv_reg.fit(X_train,y_train)\n",
        "\n",
        "y_pred_sv=sv_model.predict(X_test)\n",
        "\n",
        "r2 = r2_score(y_test,y_pred_sv)\n",
        "print('R^2 of model:',r2)\n",
        "rmse = np.sqrt(mean_squared_error(y_test,y_pred_sv))\n",
        "print('RMSE of model:',rmse)\n",
        "mae = mean_absolute_error(y_test,y_pred_sv)\n",
        "print('MAE of model:',mae)\n",
        "\n",
        "name = 'Support Vector Machine'\n",
        "r2_val.append(r2)\n",
        "rmse_val.append(rmse)\n",
        "mae_val.append(mae)\n",
        "names.append(name)"
      ]
    },
    {
      "cell_type": "code",
      "execution_count": null,
      "metadata": {
        "colab": {
          "base_uri": "https://localhost:8080/"
        },
        "id": "6mHSP_bdfvHU",
        "outputId": "20705fa0-6bde-4757-9c76-8c5ae2b3d458"
      },
      "outputs": [
        {
          "name": "stdout",
          "output_type": "stream",
          "text": [
            "R^2 of model: 0.4018976507433599\n",
            "RMSE of model: 17.202714493111454\n",
            "MAE of model: 12.494835616438356\n"
          ]
        }
      ],
      "source": [
        "#KNN REGRESSOR\n",
        "\n",
        "knn = KNeighborsRegressor(n_neighbors=1)\n",
        "knn.fit(X_train, y_train)\n",
        "pred = knn.predict(X_test)\n",
        "\n",
        "r2 = r2_score(y_test, pred)\n",
        "print('R^2 of model:',r2)\n",
        "rmse = np.sqrt(mean_squared_error(y_test, pred))\n",
        "print('RMSE of model:',rmse)\n",
        "mae = mean_absolute_error(y_test,pred)\n",
        "print('MAE of model:',mae)"
      ]
    },
    {
      "cell_type": "code",
      "execution_count": null,
      "metadata": {
        "colab": {
          "base_uri": "https://localhost:8080/"
        },
        "id": "G9Gh4fSNfvHU",
        "outputId": "b99a1f17-87b5-4188-85fa-bee5776f4bc5"
      },
      "outputs": [
        {
          "name": "stdout",
          "output_type": "stream",
          "text": [
            "R^2 of model: 0.6370194369603055\n",
            "RMSE of model: 13.401422908525864\n",
            "MAE of model: 10.228230919765167\n"
          ]
        }
      ],
      "source": [
        "knn = KNeighborsRegressor(n_neighbors=7)\n",
        "knn.fit(X_train, y_train)\n",
        "pred = knn.predict(X_test)\n",
        "\n",
        "r2 = r2_score(y_test, pred)\n",
        "print('R^2 of model:',r2)\n",
        "rmse = np.sqrt(mean_squared_error(y_test, pred))\n",
        "print('RMSE of model:',rmse)\n",
        "mae = mean_absolute_error(y_test,pred)\n",
        "print('MAE of model:',mae)\n",
        "\n",
        "name = 'KNN'\n",
        "r2_val.append(r2)\n",
        "rmse_val.append(rmse)\n",
        "mae_val.append(mae)\n",
        "names.append(name)"
      ]
    },
    {
      "cell_type": "code",
      "execution_count": null,
      "metadata": {
        "colab": {
          "base_uri": "https://localhost:8080/"
        },
        "id": "eu59BNiofvHU",
        "outputId": "33be4818-e373-462a-f8f8-5de7119cf7f5"
      },
      "outputs": [
        {
          "name": "stdout",
          "output_type": "stream",
          "text": [
            "Linear Regression: 0.585917\n",
            "AdaBoost: 0.634522\n",
            "Decision Tree: 0.263596\n",
            "Random Forest: 0.642187\n",
            "Support Vector Machine: 0.471771\n",
            "KNN: 0.637019\n"
          ]
        }
      ],
      "source": [
        "for i in range(6):\n",
        "    print('%s: %f' % (names[i], r2_val[i]))"
      ]
    },
    {
      "cell_type": "code",
      "execution_count": null,
      "metadata": {
        "colab": {
          "base_uri": "https://localhost:8080/"
        },
        "id": "tpSPRp7efvHU",
        "outputId": "e8c01d2a-f30a-44e6-a89e-da2376dc2255"
      },
      "outputs": [
        {
          "name": "stdout",
          "output_type": "stream",
          "text": [
            "Linear Regression: 14.313736\n",
            "AdaBoost: 13.447448\n",
            "Decision Tree: 18.193632\n",
            "Random Forest: 13.305677\n",
            "Support Vector Machine: 16.166668\n",
            "KNN: 13.401423\n"
          ]
        }
      ],
      "source": [
        "for i in range(6):\n",
        "    print('%s: %f' % (names[i], rmse_val[i]))"
      ]
    },
    {
      "cell_type": "code",
      "execution_count": null,
      "metadata": {
        "colab": {
          "base_uri": "https://localhost:8080/"
        },
        "id": "BsZWWIcwfvHV",
        "outputId": "36b7a2f7-3729-40c0-bac0-471b1b008760"
      },
      "outputs": [
        {
          "name": "stdout",
          "output_type": "stream",
          "text": [
            "Linear Regression: 11.096555\n",
            "AdaBoost: 11.311861\n",
            "Decision Tree: 13.363644\n",
            "Random Forest: 10.414550\n",
            "Support Vector Machine: 12.375270\n",
            "KNN: 10.228231\n"
          ]
        }
      ],
      "source": [
        "for i in range(6):\n",
        "    print('%s: %f' % (names[i], mae_val[i]))"
      ]
    },
    {
      "cell_type": "code",
      "execution_count": null,
      "metadata": {
        "id": "NetIT07xfvHV"
      },
      "outputs": [],
      "source": [
        "r2_val = list(np.around(np.array(r2_val),3))\n",
        "rmse_val = list(np.around(np.array(rmse_val),3))\n",
        "mae_val = list(np.around(np.array(mae_val),3))"
      ]
    },
    {
      "cell_type": "code",
      "execution_count": null,
      "metadata": {
        "colab": {
          "base_uri": "https://localhost:8080/"
        },
        "id": "VLVj5no8fvHV",
        "outputId": "45bb0bea-6452-4a15-f31b-1331453f1fb0"
      },
      "outputs": [
        {
          "name": "stdout",
          "output_type": "stream",
          "text": [
            "+--------------------------------------------------+\n",
            "|                       NO2                        |\n",
            "+------------------------+-------+--------+--------+\n",
            "|    Regression Model    |  R^2  |  RMSE  |  MAE   |\n",
            "+------------------------+-------+--------+--------+\n",
            "|   Linear Regression    | 0.586 | 14.314 | 11.097 |\n",
            "|        AdaBoost        | 0.635 | 13.447 | 11.312 |\n",
            "|     Decision Tree      | 0.264 | 18.194 | 13.364 |\n",
            "|     Random Forest      | 0.642 | 13.306 | 10.415 |\n",
            "| Support Vector Machine | 0.472 | 16.167 | 12.375 |\n",
            "|          KNN           | 0.637 | 13.401 | 10.228 |\n",
            "+------------------------+-------+--------+--------+\n"
          ]
        }
      ],
      "source": [
        "from prettytable import PrettyTable\n",
        "t = PrettyTable(['Regression Model','R^2', 'RMSE', 'MAE'])\n",
        "t.title = 'NO2'\n",
        "for i in range(6):\n",
        "  t.add_row([names[i], r2_val[i], rmse_val[i], mae_val[i]])\n",
        "print(t)"
      ]
    },
    {
      "cell_type": "code",
      "execution_count": null,
      "metadata": {
        "colab": {
          "base_uri": "https://localhost:8080/",
          "height": 294
        },
        "id": "FyAS9EAcfvHV",
        "outputId": "3570a0d4-0dc4-4495-cd46-dcbe44f91da5"
      },
      "outputs": [
        {
          "data": {
            "image/png": "[encoded data removed]",
            "text/plain": [
              "<Figure size 1584x288 with 2 Axes>"
            ]
          },
          "metadata": {},
          "output_type": "display_data"
        }
      ],
      "source": [
        "plt.figure(figsize=(22,4))\n",
        "plt.suptitle('NO2')\n",
        "\n",
        "plt.subplot(1,2,1)\n",
        "plt.plot(names, rmse_val, marker='o', label='rmse')\n",
        "plt.plot(names, mae_val, marker='o', color='r', label='mae')\n",
        "plt.legend()\n",
        "\n",
        "plt.subplot(1,2,2)\n",
        "plt.plot(names, r2_val, marker='o', color='g', label='r2')\n",
        "plt.legend()\n",
        "plt.show()"
      ]
    },
    {
      "cell_type": "markdown",
      "metadata": {
        "id": "A77LKbp9fwzy"
      },
      "source": [
        "#CO"
      ]
    },
    {
      "cell_type": "code",
      "execution_count": null,
      "metadata": {
        "colab": {
          "base_uri": "https://localhost:8080/"
        },
        "id": "Dm3T5tOhfwz1",
        "outputId": "e54f0103-af63-4ed0-d8ee-b1d35adfaa92"
      },
      "outputs": [
        {
          "data": {
            "text/plain": [
              "Index(['Date', 'PM25', 'PM10', 'NO2', 'CO', 'Ozone'], dtype='object')"
            ]
          },
          "execution_count": 67,
          "metadata": {},
          "output_type": "execute_result"
        }
      ],
      "source": [
        "df.columns"
      ]
    },
    {
      "cell_type": "code",
      "execution_count": null,
      "metadata": {
        "id": "gGnP9ELOfwz1"
      },
      "outputs": [],
      "source": [
        "col_ = ['PM25', 'PM10', 'NO2', 'Ozone']"
      ]
    },
    {
      "cell_type": "code",
      "execution_count": null,
      "metadata": {
        "colab": {
          "base_uri": "https://localhost:8080/"
        },
        "id": "7xConHVlfwz1",
        "outputId": "a52a29d8-8473-44ed-bc6b-e5ad588f9a70"
      },
      "outputs": [
        {
          "data": {
            "text/plain": [
              "['PM25', 'PM10', 'NO2', 'Ozone']"
            ]
          },
          "execution_count": 69,
          "metadata": {},
          "output_type": "execute_result"
        }
      ],
      "source": [
        "col_"
      ]
    },
    {
      "cell_type": "code",
      "execution_count": null,
      "metadata": {
        "colab": {
          "base_uri": "https://localhost:8080/"
        },
        "id": "366K09fffwz1",
        "outputId": "a22b6348-b3ad-4909-b021-80eceb1f73ea"
      },
      "outputs": [
        {
          "name": "stdout",
          "output_type": "stream",
          "text": [
            "Training data size: (292, 4)\n",
            "Test data size: (73, 4)\n",
            "Training data size: (292,)\n",
            "Test data size: (73,)\n"
          ]
        }
      ],
      "source": [
        "#defining feature (X) and target (y)\n",
        "X = df[col_]    #X-input features\n",
        "y = df.iloc[:,4]  #y-input features\n",
        "\n",
        "#Normalize Feature variable\n",
        "ss = StandardScaler()\n",
        "X_std = ss.fit_transform(X)     #apply stardardisation\n",
        "\n",
        "#Train test split with test size 20% and train size as 80%\n",
        "X_train, X_test, y_train, y_test = train_test_split(X_std, y, test_size=0.2, random_state=1)\n",
        "\n",
        "print('Training data size:',X_train.shape)\n",
        "print('Test data size:',X_test.shape)\n",
        "print('Training data size:',y_train.shape)\n",
        "print('Test data size:',y_test.shape)"
      ]
    },
    {
      "cell_type": "code",
      "execution_count": null,
      "metadata": {
        "id": "vDrNoa3lfwz1"
      },
      "outputs": [],
      "source": [
        "names = []\n",
        "r2_val = []\n",
        "rmse_val = []\n",
        "mae_val = []"
      ]
    },
    {
      "cell_type": "code",
      "execution_count": null,
      "metadata": {
        "colab": {
          "base_uri": "https://localhost:8080/"
        },
        "id": "ljdgrX1Ofwz1",
        "outputId": "fcac05ef-4c5a-4629-9d34-09db6786753c"
      },
      "outputs": [
        {
          "name": "stdout",
          "output_type": "stream",
          "text": [
            "R^2 of model: 0.4022050772200223\n",
            "RMSE of model: 0.3858945863799323\n",
            "MAE of model: 0.28115899469076183\n"
          ]
        }
      ],
      "source": [
        "#Linear Regression\n",
        "\n",
        "lr = LinearRegression()\n",
        "lr_model = lr.fit(X_train,y_train)          #fit the linear model on train data\n",
        "\n",
        "#Prediction\n",
        "y_pred = lr_model.predict(X_test)                   #predict using the model\n",
        "\n",
        "r2 = r2_score(y_test,y_pred)                        #calculate r2\n",
        "print('R^2 of model:',r2)\n",
        "rmse = np.sqrt(mean_squared_error(y_test,y_pred))   #calculate rmse\n",
        "print('RMSE of model:',rmse)\n",
        "mae = mean_absolute_error(y_test,y_pred)            #calculate mae\n",
        "print('MAE of model:',mae)\n",
        "\n",
        "name = 'Linear Regression'\n",
        "r2_val.append(r2)\n",
        "rmse_val.append(rmse)\n",
        "mae_val.append(mae)\n",
        "names.append(name)"
      ]
    },
    {
      "cell_type": "code",
      "execution_count": null,
      "metadata": {
        "colab": {
          "base_uri": "https://localhost:8080/"
        },
        "id": "fWl6ZjDqfwz2",
        "outputId": "9d80466b-25f0-4743-d77c-89252f3bf6ae"
      },
      "outputs": [
        {
          "name": "stdout",
          "output_type": "stream",
          "text": [
            "R^2 of model: 0.3865571656417335\n",
            "RMSE of model: 0.39091255939258607\n",
            "MAE of model: 0.3032505839474391\n"
          ]
        }
      ],
      "source": [
        "#Ada Boost Regressor\n",
        "\n",
        "abr = AdaBoostRegressor()\n",
        "abr_model = abr.fit(X_train,y_train)\n",
        "\n",
        "y_pred = abr_model.predict(X_test)\n",
        "r2 = r2_score(y_test,y_pred)\n",
        "print('R^2 of model:',r2)\n",
        "rmse = np.sqrt(mean_squared_error(y_test,y_pred))\n",
        "print('RMSE of model:',rmse)\n",
        "mae = mean_absolute_error(y_test,y_pred)\n",
        "print('MAE of model:',mae)\n",
        "\n",
        "name = 'AdaBoost'\n",
        "r2_val.append(r2)\n",
        "rmse_val.append(rmse)\n",
        "mae_val.append(mae)\n",
        "names.append(name)"
      ]
    },
    {
      "cell_type": "code",
      "execution_count": null,
      "metadata": {
        "colab": {
          "base_uri": "https://localhost:8080/"
        },
        "id": "5zA9gpLgfwz2",
        "outputId": "a93e8bc7-2afe-4553-cf99-05a838f6ab91"
      },
      "outputs": [
        {
          "name": "stdout",
          "output_type": "stream",
          "text": [
            "R^2 of model: -0.13444642751437752\n",
            "RMSE of model: 0.5545764915732972\n",
            "MAE of model: 0.33260961358447494\n"
          ]
        }
      ],
      "source": [
        "#Decision Tree Regression\n",
        "\n",
        "dt_one_reg = DecisionTreeRegressor()\n",
        "\n",
        "dt_model = dt_one_reg.fit(X_train,y_train)\n",
        "y_pred_dtone = dt_model.predict(X_test)\n",
        "r2 = r2_score(y_pred_dtone,y_test)\n",
        "print('R^2 of model:',r2)\n",
        "rmse = np.sqrt(mean_squared_error(y_pred_dtone,y_test))\n",
        "print('RMSE of model:',rmse)\n",
        "mae = mean_absolute_error(y_pred_dtone,y_test)\n",
        "print('MAE of model:',mae)\n",
        "\n",
        "name = 'Decision Tree'\n",
        "r2_val.append(r2)\n",
        "rmse_val.append(rmse)\n",
        "mae_val.append(mae)\n",
        "names.append(name)"
      ]
    },
    {
      "cell_type": "code",
      "execution_count": null,
      "metadata": {
        "colab": {
          "base_uri": "https://localhost:8080/"
        },
        "id": "hqcOY7cLfwz2",
        "outputId": "a0ff7777-8aab-419c-972f-b9430a6cbce0"
      },
      "outputs": [
        {
          "name": "stdout",
          "output_type": "stream",
          "text": [
            "R^2 of model: 0.4436076196942522\n",
            "RMSE of model: 0.372291535241874\n",
            "MAE of model: 0.25271591790091325\n"
          ]
        }
      ],
      "source": [
        "#Random Forest Regression\n",
        "\n",
        "rf_reg=RandomForestRegressor()\n",
        "\n",
        "#Fit the RF model and predict\n",
        "rf_model = rf_reg.fit(X_train,y_train)\n",
        "y_pred_rf = rf_model.predict(X_test)\n",
        "\n",
        "r2 = r2_score(y_test,y_pred_rf)\n",
        "print('R^2 of model:',r2)\n",
        "rmse = np.sqrt(mean_squared_error(y_test,y_pred_rf))\n",
        "print('RMSE of model:',rmse)\n",
        "mae = mean_absolute_error(y_test,y_pred_rf)\n",
        "print('MAE of model:',mae)\n",
        "\n",
        "name = 'Random Forest'\n",
        "r2_val.append(r2)\n",
        "rmse_val.append(rmse)\n",
        "mae_val.append(mae)\n",
        "names.append(name)"
      ]
    },
    {
      "cell_type": "code",
      "execution_count": null,
      "metadata": {
        "colab": {
          "base_uri": "https://localhost:8080/"
        },
        "id": "nu4uTlN0fwz2",
        "outputId": "a23a14f0-72b8-40de-f15c-df7f8e70036f"
      },
      "outputs": [
        {
          "name": "stdout",
          "output_type": "stream",
          "text": [
            "R^2 of model: 0.5058202999476731\n",
            "RMSE of model: 0.35086094249287064\n",
            "MAE of model: 0.23684270950346517\n"
          ]
        }
      ],
      "source": [
        "#Support Vector Machine\n",
        "\n",
        "sv_reg = SVR()\n",
        "sv_model = sv_reg.fit(X_train,y_train)\n",
        "\n",
        "y_pred_sv=sv_model.predict(X_test)\n",
        "\n",
        "r2 = r2_score(y_test,y_pred_sv)\n",
        "print('R^2 of model:',r2)\n",
        "rmse = np.sqrt(mean_squared_error(y_test,y_pred_sv))\n",
        "print('RMSE of model:',rmse)\n",
        "mae = mean_absolute_error(y_test,y_pred_sv)\n",
        "print('MAE of model:',mae)\n",
        "\n",
        "name = 'Support Vector Machine'\n",
        "r2_val.append(r2)\n",
        "rmse_val.append(rmse)\n",
        "mae_val.append(mae)\n",
        "names.append(name)"
      ]
    },
    {
      "cell_type": "code",
      "execution_count": null,
      "metadata": {
        "colab": {
          "base_uri": "https://localhost:8080/"
        },
        "id": "lOimuhROfwz2",
        "outputId": "5916f59a-cf86-4768-b2fe-709bd01919ad"
      },
      "outputs": [
        {
          "name": "stdout",
          "output_type": "stream",
          "text": [
            "R^2 of model: -0.032017282241250555\n",
            "RMSE of model: 0.5070328060437622\n",
            "MAE of model: 0.30639514901369863\n"
          ]
        }
      ],
      "source": [
        "#KNN REGRESSOR\n",
        "\n",
        "knn = KNeighborsRegressor(n_neighbors=1)\n",
        "knn.fit(X_train, y_train)\n",
        "pred = knn.predict(X_test)\n",
        "\n",
        "r2 = r2_score(y_test, pred)\n",
        "print('R^2 of model:',r2)\n",
        "rmse = np.sqrt(mean_squared_error(y_test, pred))\n",
        "print('RMSE of model:',rmse)\n",
        "mae = mean_absolute_error(y_test,pred)\n",
        "print('MAE of model:',mae)"
      ]
    },
    {
      "cell_type": "code",
      "execution_count": null,
      "metadata": {
        "colab": {
          "base_uri": "https://localhost:8080/"
        },
        "id": "oIB9yyt0fwz2",
        "outputId": "31bc21e7-0d36-4711-9f45-78007a4ec915"
      },
      "outputs": [
        {
          "name": "stdout",
          "output_type": "stream",
          "text": [
            "R^2 of model: 0.4511902426502862\n",
            "RMSE of model: 0.36974600221752485\n",
            "MAE of model: 0.25164253799217223\n"
          ]
        }
      ],
      "source": [
        "knn = KNeighborsRegressor(n_neighbors=7)\n",
        "knn.fit(X_train, y_train)\n",
        "pred = knn.predict(X_test)\n",
        "\n",
        "r2 = r2_score(y_test, pred)\n",
        "print('R^2 of model:',r2)\n",
        "rmse = np.sqrt(mean_squared_error(y_test, pred))\n",
        "print('RMSE of model:',rmse)\n",
        "mae = mean_absolute_error(y_test,pred)\n",
        "print('MAE of model:',mae)\n",
        "\n",
        "name = 'KNN'\n",
        "r2_val.append(r2)\n",
        "rmse_val.append(rmse)\n",
        "mae_val.append(mae)\n",
        "names.append(name)"
      ]
    },
    {
      "cell_type": "code",
      "execution_count": null,
      "metadata": {
        "colab": {
          "base_uri": "https://localhost:8080/"
        },
        "id": "JiD8vPG1fwz3",
        "outputId": "ec5a5955-ee92-468c-f78f-ef53ca0695b1"
      },
      "outputs": [
        {
          "name": "stdout",
          "output_type": "stream",
          "text": [
            "Linear Regression: 0.402205\n",
            "AdaBoost: 0.386557\n",
            "Decision Tree: -0.134446\n",
            "Random Forest: 0.443608\n",
            "Support Vector Machine: 0.505820\n",
            "KNN: 0.451190\n"
          ]
        }
      ],
      "source": [
        "for i in range(6):\n",
        "    print('%s: %f' % (names[i], r2_val[i]))"
      ]
    },
    {
      "cell_type": "code",
      "execution_count": null,
      "metadata": {
        "colab": {
          "base_uri": "https://localhost:8080/"
        },
        "id": "DoiFJ0bofwz3",
        "outputId": "aad7b553-13eb-4a80-c457-014053cb5fed"
      },
      "outputs": [
        {
          "name": "stdout",
          "output_type": "stream",
          "text": [
            "Linear Regression: 0.385895\n",
            "AdaBoost: 0.390913\n",
            "Decision Tree: 0.554576\n",
            "Random Forest: 0.372292\n",
            "Support Vector Machine: 0.350861\n",
            "KNN: 0.369746\n"
          ]
        }
      ],
      "source": [
        "for i in range(6):\n",
        "    print('%s: %f' % (names[i], rmse_val[i]))"
      ]
    },
    {
      "cell_type": "code",
      "execution_count": null,
      "metadata": {
        "colab": {
          "base_uri": "https://localhost:8080/"
        },
        "id": "Goh3_eEdfwz3",
        "outputId": "0377ca64-da0b-4c27-8a30-d44db121b420"
      },
      "outputs": [
        {
          "name": "stdout",
          "output_type": "stream",
          "text": [
            "Linear Regression: 0.281159\n",
            "AdaBoost: 0.303251\n",
            "Decision Tree: 0.332610\n",
            "Random Forest: 0.252716\n",
            "Support Vector Machine: 0.236843\n",
            "KNN: 0.251643\n"
          ]
        }
      ],
      "source": [
        "for i in range(6):\n",
        "    print('%s: %f' % (names[i], mae_val[i]))"
      ]
    },
    {
      "cell_type": "code",
      "execution_count": null,
      "metadata": {
        "id": "hPXRpJb7fwz3"
      },
      "outputs": [],
      "source": [
        "r2_val = list(np.around(np.array(r2_val),3))\n",
        "rmse_val = list(np.around(np.array(rmse_val),3))\n",
        "mae_val = list(np.around(np.array(mae_val),3))"
      ]
    },
    {
      "cell_type": "code",
      "execution_count": null,
      "metadata": {
        "colab": {
          "base_uri": "https://localhost:8080/"
        },
        "id": "2PgyXPmXfwz3",
        "outputId": "3c551022-1723-40a6-fbf8-8a12f9b35ee5"
      },
      "outputs": [
        {
          "name": "stdout",
          "output_type": "stream",
          "text": [
            "+-------------------------------------------------+\n",
            "|                        CO                       |\n",
            "+------------------------+--------+-------+-------+\n",
            "|    Regression Model    |  R^2   |  RMSE |  MAE  |\n",
            "+------------------------+--------+-------+-------+\n",
            "|   Linear Regression    | 0.402  | 0.386 | 0.281 |\n",
            "|        AdaBoost        | 0.387  | 0.391 | 0.303 |\n",
            "|     Decision Tree      | -0.134 | 0.555 | 0.333 |\n",
            "|     Random Forest      | 0.444  | 0.372 | 0.253 |\n",
            "| Support Vector Machine | 0.506  | 0.351 | 0.237 |\n",
            "|          KNN           | 0.451  |  0.37 | 0.252 |\n",
            "+------------------------+--------+-------+-------+\n"
          ]
        }
      ],
      "source": [
        "from prettytable import PrettyTable\n",
        "t = PrettyTable(['Regression Model','R^2', 'RMSE', 'MAE'])\n",
        "t.title = 'CO'\n",
        "for i in range(6):\n",
        "  t.add_row([names[i], r2_val[i], rmse_val[i], mae_val[i]])\n",
        "print(t)"
      ]
    },
    {
      "cell_type": "code",
      "execution_count": null,
      "metadata": {
        "colab": {
          "base_uri": "https://localhost:8080/",
          "height": 294
        },
        "id": "rNuiAQq_fwz3",
        "outputId": "91cc7cc6-8f9f-402f-a004-dffa31d90a26"
      },
      "outputs": [
        {
          "data": {
            "image/png": "[encoded data removed]",
            "text/plain": [
              "<Figure size 1584x288 with 2 Axes>"
            ]
          },
          "metadata": {},
          "output_type": "display_data"
        }
      ],
      "source": [
        "plt.figure(figsize=(22,4))\n",
        "plt.suptitle('CO')\n",
        "\n",
        "plt.subplot(1,2,1)\n",
        "plt.plot(names, rmse_val, marker='o', label='rmse')\n",
        "plt.plot(names, mae_val, marker='o', color='r', label='mae')\n",
        "plt.legend()\n",
        "\n",
        "plt.subplot(1,2,2)\n",
        "plt.plot(names, r2_val, marker='o', color='g', label='r2')\n",
        "plt.legend()\n",
        "plt.show()"
      ]
    },
    {
      "cell_type": "markdown",
      "metadata": {
        "id": "8UCuDE4UfyIY"
      },
      "source": [
        "#Ozone"
      ]
    },
    {
      "cell_type": "code",
      "execution_count": null,
      "metadata": {
        "colab": {
          "base_uri": "https://localhost:8080/"
        },
        "id": "lUs2yqewfyId",
        "outputId": "ff28fb88-b7bd-4a9e-f0dc-1e6f2d749a7a"
      },
      "outputs": [
        {
          "data": {
            "text/plain": [
              "Index(['Date', 'PM25', 'PM10', 'NO2', 'CO', 'Ozone'], dtype='object')"
            ]
          },
          "execution_count": 85,
          "metadata": {},
          "output_type": "execute_result"
        }
      ],
      "source": [
        "df.columns"
      ]
    },
    {
      "cell_type": "code",
      "execution_count": null,
      "metadata": {
        "id": "rkCR2WzafyId"
      },
      "outputs": [],
      "source": [
        "col_ = ['PM25', 'PM10', 'NO2', 'CO']"
      ]
    },
    {
      "cell_type": "code",
      "execution_count": null,
      "metadata": {
        "colab": {
          "base_uri": "https://localhost:8080/"
        },
        "id": "R6Kssy5kfyId",
        "outputId": "3bf630f7-1587-411f-8bee-470c5df91ca0"
      },
      "outputs": [
        {
          "data": {
            "text/plain": [
              "['PM25', 'PM10', 'NO2', 'CO']"
            ]
          },
          "execution_count": 87,
          "metadata": {},
          "output_type": "execute_result"
        }
      ],
      "source": [
        "col_"
      ]
    },
    {
      "cell_type": "code",
      "execution_count": null,
      "metadata": {
        "colab": {
          "base_uri": "https://localhost:8080/"
        },
        "id": "OtNnRklSfyId",
        "outputId": "3561cf8f-a6fd-48e1-9b92-3632eff14246"
      },
      "outputs": [
        {
          "name": "stdout",
          "output_type": "stream",
          "text": [
            "Training data size: (292, 4)\n",
            "Test data size: (73, 4)\n",
            "Training data size: (292,)\n",
            "Test data size: (73,)\n"
          ]
        }
      ],
      "source": [
        "#defining feature (X) and target (y)\n",
        "X = df[col_]    #X-input features\n",
        "y = df.iloc[:,5]  #y-input features\n",
        "\n",
        "#Normalize Feature variable\n",
        "ss = StandardScaler()\n",
        "X_std = ss.fit_transform(X)     #apply stardardisation\n",
        "\n",
        "#Train test split with test size 20% and train size as 80%\n",
        "X_train, X_test, y_train, y_test = train_test_split(X, y, test_size=0.2, random_state=1)\n",
        "\n",
        "print('Training data size:',X_train.shape)\n",
        "print('Test data size:',X_test.shape)\n",
        "print('Training data size:',y_train.shape)\n",
        "print('Test data size:',y_test.shape)"
      ]
    },
    {
      "cell_type": "code",
      "execution_count": null,
      "metadata": {
        "id": "VTUmywTyfyId"
      },
      "outputs": [],
      "source": [
        "names = []\n",
        "r2_val = []\n",
        "rmse_val = []\n",
        "mae_val = []"
      ]
    },
    {
      "cell_type": "code",
      "execution_count": null,
      "metadata": {
        "colab": {
          "base_uri": "https://localhost:8080/"
        },
        "id": "VJgl9BUlfyId",
        "outputId": "7d9ab052-a957-4d4e-e55c-0c613517e2b3"
      },
      "outputs": [
        {
          "name": "stdout",
          "output_type": "stream",
          "text": [
            "R^2 of model: 0.30183900685411214\n",
            "RMSE of model: 15.403302068595067\n",
            "MAE of model: 11.242776816426746\n"
          ]
        }
      ],
      "source": [
        "#Linear Regression\n",
        "\n",
        "lr = LinearRegression()\n",
        "lr_model = lr.fit(X_train,y_train)          #fit the linear model on train data\n",
        "\n",
        "LinearRegression(normalize=False)\n",
        "\n",
        "#Prediction\n",
        "y_pred = lr_model.predict(X_test)                   #predict using the model\n",
        "\n",
        "r2 = r2_score(y_test,y_pred)                        #calculate r2\n",
        "print('R^2 of model:',r2)\n",
        "rmse = np.sqrt(mean_squared_error(y_test,y_pred))   #calculate rmse\n",
        "print('RMSE of model:',rmse)\n",
        "mae = mean_absolute_error(y_test,y_pred)            #calculate mae\n",
        "print('MAE of model:',mae)\n",
        "\n",
        "name = 'Linear Regression'\n",
        "r2_val.append(r2)\n",
        "rmse_val.append(rmse)\n",
        "mae_val.append(mae)\n",
        "names.append(name)"
      ]
    },
    {
      "cell_type": "code",
      "execution_count": null,
      "metadata": {
        "colab": {
          "base_uri": "https://localhost:8080/"
        },
        "id": "6azwmgp_fyIe",
        "outputId": "a26c2f51-be5c-4f74-839e-011d0af9bf3f"
      },
      "outputs": [
        {
          "name": "stdout",
          "output_type": "stream",
          "text": [
            "R^2 of model: 0.300744421527541\n",
            "RMSE of model: 15.415372082064607\n",
            "MAE of model: 11.779231721660835\n"
          ]
        }
      ],
      "source": [
        "#Ada Boost Regressor\n",
        "\n",
        "abr = AdaBoostRegressor()\n",
        "abr_model = abr.fit(X_train,y_train)\n",
        "\n",
        "y_pred = abr_model.predict(X_test)\n",
        "r2 = r2_score(y_test,y_pred)\n",
        "print('R^2 of model:',r2)\n",
        "rmse = np.sqrt(mean_squared_error(y_test,y_pred))\n",
        "print('RMSE of model:',rmse)\n",
        "mae = mean_absolute_error(y_test,y_pred)\n",
        "print('MAE of model:',mae)\n",
        "\n",
        "name = 'AdaBoost'\n",
        "r2_val.append(r2)\n",
        "rmse_val.append(rmse)\n",
        "mae_val.append(mae)\n",
        "names.append(name)"
      ]
    },
    {
      "cell_type": "code",
      "execution_count": null,
      "metadata": {
        "colab": {
          "base_uri": "https://localhost:8080/"
        },
        "id": "6FhoolMbfyIe",
        "outputId": "2c27122e-e653-43fe-c42b-0f0f83d324cf"
      },
      "outputs": [
        {
          "name": "stdout",
          "output_type": "stream",
          "text": [
            "R^2 of model: 0.21759758258317463\n",
            "RMSE of model: 16.306138761012683\n",
            "MAE of model: 12.424802130913243\n"
          ]
        }
      ],
      "source": [
        "#Decision Tree Regression\n",
        "\n",
        "dt_one_reg = DecisionTreeRegressor()\n",
        "\n",
        "dt_model = dt_one_reg.fit(X_train,y_train)\n",
        "y_pred_dtone = dt_model.predict(X_test)\n",
        "r2 = r2_score(y_test,y_pred_dtone)\n",
        "print('R^2 of model:',r2)\n",
        "rmse = np.sqrt(mean_squared_error(y_test,y_pred_dtone))\n",
        "print('RMSE of model:',rmse)\n",
        "mae = mean_absolute_error(y_test,y_pred_dtone)\n",
        "print('MAE of model:',mae)\n",
        "\n",
        "name = 'Decision Tree'\n",
        "r2_val.append(r2)\n",
        "rmse_val.append(rmse)\n",
        "mae_val.append(mae)\n",
        "names.append(name)"
      ]
    },
    {
      "cell_type": "code",
      "execution_count": null,
      "metadata": {
        "colab": {
          "base_uri": "https://localhost:8080/"
        },
        "id": "SIRzOy0IfyIe",
        "outputId": "4ceada1d-491e-4a60-8707-02366d98dd9c"
      },
      "outputs": [
        {
          "name": "stdout",
          "output_type": "stream",
          "text": [
            "R^2 of model: 0.45415771483848844\n",
            "RMSE of model: 13.61976550058108\n",
            "MAE of model: 10.522380593626945\n"
          ]
        }
      ],
      "source": [
        "#Random Forest Regression\n",
        "\n",
        "rf_reg=RandomForestRegressor()\n",
        "\n",
        "#Fit the RF model and predict\n",
        "rf_model = rf_reg.fit(X_train,y_train)\n",
        "y_pred_rf = rf_model.predict(X_test)\n",
        "\n",
        "r2 = r2_score(y_test,y_pred_rf)\n",
        "print('R^2 of model:',r2)\n",
        "rmse = np.sqrt(mean_squared_error(y_test,y_pred_rf))\n",
        "print('RMSE of model:',rmse)\n",
        "mae = mean_absolute_error(y_test,y_pred_rf)\n",
        "print('MAE of model:',mae)\n",
        "\n",
        "name = 'Random Forest'\n",
        "r2_val.append(r2)\n",
        "rmse_val.append(rmse)\n",
        "mae_val.append(mae)\n",
        "names.append(name)"
      ]
    },
    {
      "cell_type": "code",
      "execution_count": null,
      "metadata": {
        "colab": {
          "base_uri": "https://localhost:8080/"
        },
        "id": "sxcR7zDwfyIe",
        "outputId": "f325791a-efd2-47ca-d18e-ad0abef8e47c"
      },
      "outputs": [
        {
          "name": "stdout",
          "output_type": "stream",
          "text": [
            "R^2 of model: 0.2868753558275068\n",
            "RMSE of model: 15.567496059025062\n",
            "MAE of model: 11.897652927046073\n"
          ]
        }
      ],
      "source": [
        "#Support Vector Machine\n",
        "\n",
        "sv_reg = SVR()\n",
        "sv_model = sv_reg.fit(X_train,y_train)\n",
        "\n",
        "y_pred_sv=sv_model.predict(X_test)\n",
        "\n",
        "r2 = r2_score(y_test,y_pred_sv)\n",
        "print('R^2 of model:',r2)\n",
        "rmse = np.sqrt(mean_squared_error(y_test,y_pred_sv))\n",
        "print('RMSE of model:',rmse)\n",
        "mae = mean_absolute_error(y_test,y_pred_sv)\n",
        "print('MAE of model:',mae)\n",
        "\n",
        "name = 'Support Vector Machine'\n",
        "r2_val.append(r2)\n",
        "rmse_val.append(rmse)\n",
        "mae_val.append(mae)\n",
        "names.append(name)"
      ]
    },
    {
      "cell_type": "code",
      "execution_count": null,
      "metadata": {
        "colab": {
          "base_uri": "https://localhost:8080/"
        },
        "id": "V0ZIXiQBfyIe",
        "outputId": "e020936e-106c-4e92-d546-6ea18dd2d6d4"
      },
      "outputs": [
        {
          "name": "stdout",
          "output_type": "stream",
          "text": [
            "R^2 of model: 0.33933207558862266\n",
            "RMSE of model: 14.983996158561775\n",
            "MAE of model: 11.281088280045664\n"
          ]
        }
      ],
      "source": [
        "#KNN REGRESSOR\n",
        "\n",
        "knn = KNeighborsRegressor(n_neighbors=1)\n",
        "knn.fit(X_train, y_train)\n",
        "pred = knn.predict(X_test)\n",
        "\n",
        "r2 = r2_score(y_test, pred)\n",
        "print('R^2 of model:',r2)\n",
        "rmse = np.sqrt(mean_squared_error(y_test, pred))\n",
        "print('RMSE of model:',rmse)\n",
        "mae = mean_absolute_error(y_test,pred)\n",
        "print('MAE of model:',mae)"
      ]
    },
    {
      "cell_type": "code",
      "execution_count": null,
      "metadata": {
        "colab": {
          "base_uri": "https://localhost:8080/"
        },
        "id": "jHCpjz05fyIe",
        "outputId": "e84b06ee-04d4-44aa-ac28-b96be75a184c"
      },
      "outputs": [
        {
          "name": "stdout",
          "output_type": "stream",
          "text": [
            "R^2 of model: 0.4127118263185168\n",
            "RMSE of model: 14.127381386693603\n",
            "MAE of model: 10.679024244422703\n"
          ]
        }
      ],
      "source": [
        "knn = KNeighborsRegressor(n_neighbors=7)\n",
        "knn.fit(X_train, y_train)\n",
        "pred = knn.predict(X_test)\n",
        "\n",
        "r2 = r2_score(y_test, pred)\n",
        "print('R^2 of model:',r2)\n",
        "rmse = np.sqrt(mean_squared_error(y_test, pred))\n",
        "print('RMSE of model:',rmse)\n",
        "mae = mean_absolute_error(y_test,pred)\n",
        "print('MAE of model:',mae)\n",
        "\n",
        "name = 'KNN'\n",
        "r2_val.append(r2)\n",
        "rmse_val.append(rmse)\n",
        "mae_val.append(mae)\n",
        "names.append(name)"
      ]
    },
    {
      "cell_type": "code",
      "execution_count": null,
      "metadata": {
        "colab": {
          "base_uri": "https://localhost:8080/"
        },
        "id": "WvxCM_wCfyIf",
        "outputId": "501fda31-9789-4a92-e896-d2b3bf728d51"
      },
      "outputs": [
        {
          "name": "stdout",
          "output_type": "stream",
          "text": [
            "Linear Regression: 0.301839\n",
            "AdaBoost: 0.300744\n",
            "Decision Tree: 0.217598\n",
            "Random Forest: 0.454158\n",
            "Support Vector Machine: 0.286875\n",
            "KNN: 0.412712\n"
          ]
        }
      ],
      "source": [
        "for i in range(6):\n",
        "    print('%s: %f' % (names[i], r2_val[i]))"
      ]
    },
    {
      "cell_type": "code",
      "execution_count": null,
      "metadata": {
        "colab": {
          "base_uri": "https://localhost:8080/"
        },
        "id": "FJ9Ye6j5fyIf",
        "outputId": "412b68a1-94da-4985-a0e1-708eb3d382dc"
      },
      "outputs": [
        {
          "name": "stdout",
          "output_type": "stream",
          "text": [
            "Linear Regression: 15.403302\n",
            "AdaBoost: 15.415372\n",
            "Decision Tree: 16.306139\n",
            "Random Forest: 13.619766\n",
            "Support Vector Machine: 15.567496\n",
            "KNN: 14.127381\n"
          ]
        }
      ],
      "source": [
        "for i in range(6):\n",
        "    print('%s: %f' % (names[i], rmse_val[i]))"
      ]
    },
    {
      "cell_type": "code",
      "execution_count": null,
      "metadata": {
        "colab": {
          "base_uri": "https://localhost:8080/"
        },
        "id": "JMtxm96_fyIf",
        "outputId": "b5172cf3-4914-465d-ffa8-e15c4d8b773a"
      },
      "outputs": [
        {
          "name": "stdout",
          "output_type": "stream",
          "text": [
            "Linear Regression: 11.242777\n",
            "AdaBoost: 11.779232\n",
            "Decision Tree: 12.424802\n",
            "Random Forest: 10.522381\n",
            "Support Vector Machine: 11.897653\n",
            "KNN: 10.679024\n"
          ]
        }
      ],
      "source": [
        "for i in range(6):\n",
        "    print('%s: %f' % (names[i], mae_val[i]))"
      ]
    },
    {
      "cell_type": "code",
      "execution_count": null,
      "metadata": {
        "id": "DiLIDf-KfyIf"
      },
      "outputs": [],
      "source": [
        "r2_val = list(np.around(np.array(r2_val),3))\n",
        "rmse_val = list(np.around(np.array(rmse_val),3))\n",
        "mae_val = list(np.around(np.array(mae_val),3))"
      ]
    },
    {
      "cell_type": "code",
      "execution_count": null,
      "metadata": {
        "colab": {
          "base_uri": "https://localhost:8080/"
        },
        "id": "eZ4twKISfyIf",
        "outputId": "6c348e26-764f-4bfd-bef9-eb72537bd5aa"
      },
      "outputs": [
        {
          "name": "stdout",
          "output_type": "stream",
          "text": [
            "+--------------------------------------------------+\n",
            "|                      Ozone                       |\n",
            "+------------------------+-------+--------+--------+\n",
            "|    Regression Model    |  R^2  |  RMSE  |  MAE   |\n",
            "+------------------------+-------+--------+--------+\n",
            "|   Linear Regression    | 0.302 | 15.403 | 11.243 |\n",
            "|        AdaBoost        | 0.301 | 15.415 | 11.779 |\n",
            "|     Decision Tree      | 0.218 | 16.306 | 12.425 |\n",
            "|     Random Forest      | 0.454 | 13.62  | 10.522 |\n",
            "| Support Vector Machine | 0.287 | 15.567 | 11.898 |\n",
            "|          KNN           | 0.413 | 14.127 | 10.679 |\n",
            "+------------------------+-------+--------+--------+\n"
          ]
        }
      ],
      "source": [
        "from prettytable import PrettyTable\n",
        "t = PrettyTable(['Regression Model','R^2', 'RMSE', 'MAE'])\n",
        "t.title = 'Ozone'\n",
        "for i in range(6):\n",
        "  t.add_row([names[i], r2_val[i], rmse_val[i], mae_val[i]])\n",
        "print(t)"
      ]
    },
    {
      "cell_type": "code",
      "execution_count": null,
      "metadata": {
        "colab": {
          "base_uri": "https://localhost:8080/",
          "height": 294
        },
        "id": "RonL3wqgfyIf",
        "outputId": "88c57214-79c4-423c-b16b-ae9f46e1bf48"
      },
      "outputs": [
        {
          "data": {
            "image/png": "[encoded data removed]",
            "text/plain": [
              "<Figure size 1584x288 with 2 Axes>"
            ]
          },
          "metadata": {},
          "output_type": "display_data"
        }
      ],
      "source": [
        "plt.figure(figsize=(22,4))\n",
        "plt.suptitle('Ozone')\n",
        "\n",
        "plt.subplot(1,2,1)\n",
        "plt.plot(names, rmse_val, marker='o', label='rmse')\n",
        "plt.plot(names, mae_val, marker='o', color='r', label='mae')\n",
        "plt.legend()\n",
        "\n",
        "plt.subplot(1,2,2)\n",
        "plt.plot(names, r2_val, marker='o', color='g', label='r2')\n",
        "plt.legend()\n",
        "plt.show()"
      ]
    }
  ],
  "metadata": {
    "colab": {
      "collapsed_sections": [
        "sFrkBIb7C88T",
        "Xvu7ARO9ftp3",
        "5ct1VnuCfvHN",
        "A77LKbp9fwzy",
        "8UCuDE4UfyIY"
      ],
      "name": "Pollutants Forecasting.ipynb",
      "provenance": [],
      "authorship_tag": "ABX9TyNCIpyd65y+ODHOFrNTNKil",
      "include_colab_link": true
    },
    "kernelspec": {
      "display_name": "Python 3",
      "name": "python3"
    },
    "language_info": {
      "name": "python"
    }
  },
  "nbformat": 4,
  "nbformat_minor": 0
}
